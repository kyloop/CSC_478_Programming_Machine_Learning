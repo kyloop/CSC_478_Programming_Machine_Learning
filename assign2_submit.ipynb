{
 "cells": [
  {
   "cell_type": "markdown",
   "metadata": {},
   "source": [
    "Name: Kai Chung, Ying\n",
    "\n",
    "Class: CSC 478 Assignment #2\n",
    "\n",
    "Date: 10/14/2017"
   ]
  },
  {
   "cell_type": "markdown",
   "metadata": {},
   "source": [
    "Q1. #Data Preparation"
   ]
  },
  {
   "cell_type": "code",
   "execution_count": 1,
   "metadata": {
    "collapsed": true
   },
   "outputs": [],
   "source": [
    "import numpy as np\n",
    "import pandas as pd\n",
    "import matplotlib.pyplot as plt\n",
    "%matplotlib inline"
   ]
  },
  {
   "cell_type": "code",
   "execution_count": 2,
   "metadata": {
    "collapsed": true
   },
   "outputs": [],
   "source": [
    "train=pd.read_csv(\"./newsgroups/trainMatrixModified.txt\",sep='\\t',header=None)\n",
    "train_class=pd.read_csv(\"./newsgroups/trainClasses.txt\",sep=\"\\t\",header=None)\n",
    "test=pd.read_csv(\"./newsgroups/testMatrixModified.txt\",sep='\\t',header=None)\n",
    "test_class=pd.read_csv(\"./newsgroups/testClasses.txt\",sep='\\t',header=None)\n",
    "voca=pd.read_csv(\"./newsgroups/modifiedterms.txt\",header=None)"
   ]
  },
  {
   "cell_type": "code",
   "execution_count": 3,
   "metadata": {},
   "outputs": [
    {
     "data": {
      "text/plain": [
       "(800, 2)"
      ]
     },
     "execution_count": 3,
     "metadata": {},
     "output_type": "execute_result"
    }
   ],
   "source": [
    "train_class.shape"
   ]
  },
  {
   "cell_type": "code",
   "execution_count": 4,
   "metadata": {},
   "outputs": [
    {
     "data": {
      "text/plain": [
       "(200, 2)"
      ]
     },
     "execution_count": 4,
     "metadata": {},
     "output_type": "execute_result"
    }
   ],
   "source": [
    "test_class.shape"
   ]
  },
  {
   "cell_type": "code",
   "execution_count": 5,
   "metadata": {},
   "outputs": [
    {
     "data": {
      "text/plain": [
       "(5500, 1)"
      ]
     },
     "execution_count": 5,
     "metadata": {},
     "output_type": "execute_result"
    }
   ],
   "source": [
    "voca.shape"
   ]
  },
  {
   "cell_type": "code",
   "execution_count": 6,
   "metadata": {
    "collapsed": true
   },
   "outputs": [],
   "source": [
    "#Make the Document in a row, and vocobulary in columns\n",
    "train=train.T\n",
    "test=test.T"
   ]
  },
  {
   "cell_type": "code",
   "execution_count": 7,
   "metadata": {},
   "outputs": [
    {
     "data": {
      "text/plain": [
       "(800, 5500)"
      ]
     },
     "execution_count": 7,
     "metadata": {},
     "output_type": "execute_result"
    }
   ],
   "source": [
    "train.shape"
   ]
  },
  {
   "cell_type": "code",
   "execution_count": 8,
   "metadata": {},
   "outputs": [
    {
     "data": {
      "text/plain": [
       "(200, 5500)"
      ]
     },
     "execution_count": 8,
     "metadata": {},
     "output_type": "execute_result"
    }
   ],
   "source": [
    "test.shape"
   ]
  },
  {
   "cell_type": "code",
   "execution_count": 9,
   "metadata": {},
   "outputs": [
    {
     "data": {
      "text/html": [
       "<div>\n",
       "<table border=\"1\" class=\"dataframe\">\n",
       "  <thead>\n",
       "    <tr style=\"text-align: right;\">\n",
       "      <th></th>\n",
       "      <th>0</th>\n",
       "      <th>1</th>\n",
       "      <th>2</th>\n",
       "      <th>3</th>\n",
       "      <th>4</th>\n",
       "      <th>5</th>\n",
       "      <th>6</th>\n",
       "      <th>7</th>\n",
       "      <th>8</th>\n",
       "      <th>9</th>\n",
       "      <th>...</th>\n",
       "      <th>5490</th>\n",
       "      <th>5491</th>\n",
       "      <th>5492</th>\n",
       "      <th>5493</th>\n",
       "      <th>5494</th>\n",
       "      <th>5495</th>\n",
       "      <th>5496</th>\n",
       "      <th>5497</th>\n",
       "      <th>5498</th>\n",
       "      <th>5499</th>\n",
       "    </tr>\n",
       "  </thead>\n",
       "  <tbody>\n",
       "    <tr>\n",
       "      <th>0</th>\n",
       "      <td>2.0</td>\n",
       "      <td>2.0</td>\n",
       "      <td>2.0</td>\n",
       "      <td>1.0</td>\n",
       "      <td>8.0</td>\n",
       "      <td>6.0</td>\n",
       "      <td>2.0</td>\n",
       "      <td>8.0</td>\n",
       "      <td>2.0</td>\n",
       "      <td>4.0</td>\n",
       "      <td>...</td>\n",
       "      <td>0.0</td>\n",
       "      <td>0.0</td>\n",
       "      <td>0.0</td>\n",
       "      <td>0.0</td>\n",
       "      <td>0.0</td>\n",
       "      <td>0.0</td>\n",
       "      <td>0.0</td>\n",
       "      <td>0.0</td>\n",
       "      <td>0.0</td>\n",
       "      <td>0.0</td>\n",
       "    </tr>\n",
       "    <tr>\n",
       "      <th>1</th>\n",
       "      <td>0.0</td>\n",
       "      <td>0.0</td>\n",
       "      <td>0.0</td>\n",
       "      <td>1.0</td>\n",
       "      <td>1.0</td>\n",
       "      <td>0.0</td>\n",
       "      <td>0.0</td>\n",
       "      <td>0.0</td>\n",
       "      <td>0.0</td>\n",
       "      <td>0.0</td>\n",
       "      <td>...</td>\n",
       "      <td>0.0</td>\n",
       "      <td>0.0</td>\n",
       "      <td>0.0</td>\n",
       "      <td>0.0</td>\n",
       "      <td>0.0</td>\n",
       "      <td>0.0</td>\n",
       "      <td>0.0</td>\n",
       "      <td>0.0</td>\n",
       "      <td>0.0</td>\n",
       "      <td>0.0</td>\n",
       "    </tr>\n",
       "    <tr>\n",
       "      <th>2</th>\n",
       "      <td>0.0</td>\n",
       "      <td>0.0</td>\n",
       "      <td>0.0</td>\n",
       "      <td>1.0</td>\n",
       "      <td>0.0</td>\n",
       "      <td>0.0</td>\n",
       "      <td>0.0</td>\n",
       "      <td>2.0</td>\n",
       "      <td>0.0</td>\n",
       "      <td>1.0</td>\n",
       "      <td>...</td>\n",
       "      <td>0.0</td>\n",
       "      <td>0.0</td>\n",
       "      <td>0.0</td>\n",
       "      <td>0.0</td>\n",
       "      <td>0.0</td>\n",
       "      <td>0.0</td>\n",
       "      <td>0.0</td>\n",
       "      <td>0.0</td>\n",
       "      <td>0.0</td>\n",
       "      <td>0.0</td>\n",
       "    </tr>\n",
       "    <tr>\n",
       "      <th>3</th>\n",
       "      <td>2.0</td>\n",
       "      <td>0.0</td>\n",
       "      <td>0.0</td>\n",
       "      <td>1.0</td>\n",
       "      <td>0.0</td>\n",
       "      <td>0.0</td>\n",
       "      <td>0.0</td>\n",
       "      <td>0.0</td>\n",
       "      <td>0.0</td>\n",
       "      <td>0.0</td>\n",
       "      <td>...</td>\n",
       "      <td>0.0</td>\n",
       "      <td>0.0</td>\n",
       "      <td>0.0</td>\n",
       "      <td>0.0</td>\n",
       "      <td>0.0</td>\n",
       "      <td>0.0</td>\n",
       "      <td>0.0</td>\n",
       "      <td>0.0</td>\n",
       "      <td>0.0</td>\n",
       "      <td>0.0</td>\n",
       "    </tr>\n",
       "    <tr>\n",
       "      <th>4</th>\n",
       "      <td>2.0</td>\n",
       "      <td>0.0</td>\n",
       "      <td>0.0</td>\n",
       "      <td>1.0</td>\n",
       "      <td>0.0</td>\n",
       "      <td>0.0</td>\n",
       "      <td>0.0</td>\n",
       "      <td>0.0</td>\n",
       "      <td>0.0</td>\n",
       "      <td>0.0</td>\n",
       "      <td>...</td>\n",
       "      <td>0.0</td>\n",
       "      <td>0.0</td>\n",
       "      <td>0.0</td>\n",
       "      <td>0.0</td>\n",
       "      <td>0.0</td>\n",
       "      <td>0.0</td>\n",
       "      <td>0.0</td>\n",
       "      <td>0.0</td>\n",
       "      <td>0.0</td>\n",
       "      <td>0.0</td>\n",
       "    </tr>\n",
       "  </tbody>\n",
       "</table>\n",
       "<p>5 rows × 5500 columns</p>\n",
       "</div>"
      ],
      "text/plain": [
       "   0     1     2     3     4     5     6     7     8     9     ...   5490  \\\n",
       "0   2.0   2.0   2.0   1.0   8.0   6.0   2.0   8.0   2.0   4.0  ...    0.0   \n",
       "1   0.0   0.0   0.0   1.0   1.0   0.0   0.0   0.0   0.0   0.0  ...    0.0   \n",
       "2   0.0   0.0   0.0   1.0   0.0   0.0   0.0   2.0   0.0   1.0  ...    0.0   \n",
       "3   2.0   0.0   0.0   1.0   0.0   0.0   0.0   0.0   0.0   0.0  ...    0.0   \n",
       "4   2.0   0.0   0.0   1.0   0.0   0.0   0.0   0.0   0.0   0.0  ...    0.0   \n",
       "\n",
       "   5491  5492  5493  5494  5495  5496  5497  5498  5499  \n",
       "0   0.0   0.0   0.0   0.0   0.0   0.0   0.0   0.0   0.0  \n",
       "1   0.0   0.0   0.0   0.0   0.0   0.0   0.0   0.0   0.0  \n",
       "2   0.0   0.0   0.0   0.0   0.0   0.0   0.0   0.0   0.0  \n",
       "3   0.0   0.0   0.0   0.0   0.0   0.0   0.0   0.0   0.0  \n",
       "4   0.0   0.0   0.0   0.0   0.0   0.0   0.0   0.0   0.0  \n",
       "\n",
       "[5 rows x 5500 columns]"
      ]
     },
     "execution_count": 9,
     "metadata": {},
     "output_type": "execute_result"
    }
   ],
   "source": [
    "train.head(5)"
   ]
  },
  {
   "cell_type": "code",
   "execution_count": 10,
   "metadata": {},
   "outputs": [
    {
     "data": {
      "text/html": [
       "<div>\n",
       "<table border=\"1\" class=\"dataframe\">\n",
       "  <thead>\n",
       "    <tr style=\"text-align: right;\">\n",
       "      <th></th>\n",
       "      <th>0</th>\n",
       "      <th>1</th>\n",
       "      <th>2</th>\n",
       "      <th>3</th>\n",
       "      <th>4</th>\n",
       "      <th>5</th>\n",
       "      <th>6</th>\n",
       "      <th>7</th>\n",
       "      <th>8</th>\n",
       "      <th>9</th>\n",
       "      <th>...</th>\n",
       "      <th>5490</th>\n",
       "      <th>5491</th>\n",
       "      <th>5492</th>\n",
       "      <th>5493</th>\n",
       "      <th>5494</th>\n",
       "      <th>5495</th>\n",
       "      <th>5496</th>\n",
       "      <th>5497</th>\n",
       "      <th>5498</th>\n",
       "      <th>5499</th>\n",
       "    </tr>\n",
       "  </thead>\n",
       "  <tbody>\n",
       "    <tr>\n",
       "      <th>0</th>\n",
       "      <td>0.0</td>\n",
       "      <td>0.0</td>\n",
       "      <td>0.0</td>\n",
       "      <td>1.0</td>\n",
       "      <td>0.0</td>\n",
       "      <td>0.0</td>\n",
       "      <td>0.0</td>\n",
       "      <td>0.0</td>\n",
       "      <td>0.0</td>\n",
       "      <td>1.0</td>\n",
       "      <td>...</td>\n",
       "      <td>0.0</td>\n",
       "      <td>0.0</td>\n",
       "      <td>0.0</td>\n",
       "      <td>0.0</td>\n",
       "      <td>0.0</td>\n",
       "      <td>0.0</td>\n",
       "      <td>0.0</td>\n",
       "      <td>0.0</td>\n",
       "      <td>0.0</td>\n",
       "      <td>0.0</td>\n",
       "    </tr>\n",
       "    <tr>\n",
       "      <th>1</th>\n",
       "      <td>0.0</td>\n",
       "      <td>0.0</td>\n",
       "      <td>0.0</td>\n",
       "      <td>1.0</td>\n",
       "      <td>0.0</td>\n",
       "      <td>0.0</td>\n",
       "      <td>0.0</td>\n",
       "      <td>0.0</td>\n",
       "      <td>0.0</td>\n",
       "      <td>0.0</td>\n",
       "      <td>...</td>\n",
       "      <td>0.0</td>\n",
       "      <td>0.0</td>\n",
       "      <td>0.0</td>\n",
       "      <td>0.0</td>\n",
       "      <td>0.0</td>\n",
       "      <td>0.0</td>\n",
       "      <td>0.0</td>\n",
       "      <td>0.0</td>\n",
       "      <td>0.0</td>\n",
       "      <td>0.0</td>\n",
       "    </tr>\n",
       "    <tr>\n",
       "      <th>2</th>\n",
       "      <td>1.0</td>\n",
       "      <td>0.0</td>\n",
       "      <td>0.0</td>\n",
       "      <td>1.0</td>\n",
       "      <td>0.0</td>\n",
       "      <td>0.0</td>\n",
       "      <td>0.0</td>\n",
       "      <td>0.0</td>\n",
       "      <td>0.0</td>\n",
       "      <td>0.0</td>\n",
       "      <td>...</td>\n",
       "      <td>0.0</td>\n",
       "      <td>0.0</td>\n",
       "      <td>0.0</td>\n",
       "      <td>0.0</td>\n",
       "      <td>0.0</td>\n",
       "      <td>0.0</td>\n",
       "      <td>0.0</td>\n",
       "      <td>0.0</td>\n",
       "      <td>0.0</td>\n",
       "      <td>0.0</td>\n",
       "    </tr>\n",
       "    <tr>\n",
       "      <th>3</th>\n",
       "      <td>0.0</td>\n",
       "      <td>0.0</td>\n",
       "      <td>0.0</td>\n",
       "      <td>1.0</td>\n",
       "      <td>0.0</td>\n",
       "      <td>0.0</td>\n",
       "      <td>0.0</td>\n",
       "      <td>0.0</td>\n",
       "      <td>0.0</td>\n",
       "      <td>0.0</td>\n",
       "      <td>...</td>\n",
       "      <td>0.0</td>\n",
       "      <td>0.0</td>\n",
       "      <td>0.0</td>\n",
       "      <td>0.0</td>\n",
       "      <td>0.0</td>\n",
       "      <td>0.0</td>\n",
       "      <td>0.0</td>\n",
       "      <td>0.0</td>\n",
       "      <td>0.0</td>\n",
       "      <td>0.0</td>\n",
       "    </tr>\n",
       "    <tr>\n",
       "      <th>4</th>\n",
       "      <td>0.0</td>\n",
       "      <td>0.0</td>\n",
       "      <td>0.0</td>\n",
       "      <td>1.0</td>\n",
       "      <td>0.0</td>\n",
       "      <td>0.0</td>\n",
       "      <td>0.0</td>\n",
       "      <td>0.0</td>\n",
       "      <td>0.0</td>\n",
       "      <td>1.0</td>\n",
       "      <td>...</td>\n",
       "      <td>0.0</td>\n",
       "      <td>0.0</td>\n",
       "      <td>0.0</td>\n",
       "      <td>0.0</td>\n",
       "      <td>0.0</td>\n",
       "      <td>0.0</td>\n",
       "      <td>0.0</td>\n",
       "      <td>0.0</td>\n",
       "      <td>0.0</td>\n",
       "      <td>0.0</td>\n",
       "    </tr>\n",
       "  </tbody>\n",
       "</table>\n",
       "<p>5 rows × 5500 columns</p>\n",
       "</div>"
      ],
      "text/plain": [
       "   0     1     2     3     4     5     6     7     8     9     ...   5490  \\\n",
       "0   0.0   0.0   0.0   1.0   0.0   0.0   0.0   0.0   0.0   1.0  ...    0.0   \n",
       "1   0.0   0.0   0.0   1.0   0.0   0.0   0.0   0.0   0.0   0.0  ...    0.0   \n",
       "2   1.0   0.0   0.0   1.0   0.0   0.0   0.0   0.0   0.0   0.0  ...    0.0   \n",
       "3   0.0   0.0   0.0   1.0   0.0   0.0   0.0   0.0   0.0   0.0  ...    0.0   \n",
       "4   0.0   0.0   0.0   1.0   0.0   0.0   0.0   0.0   0.0   1.0  ...    0.0   \n",
       "\n",
       "   5491  5492  5493  5494  5495  5496  5497  5498  5499  \n",
       "0   0.0   0.0   0.0   0.0   0.0   0.0   0.0   0.0   0.0  \n",
       "1   0.0   0.0   0.0   0.0   0.0   0.0   0.0   0.0   0.0  \n",
       "2   0.0   0.0   0.0   0.0   0.0   0.0   0.0   0.0   0.0  \n",
       "3   0.0   0.0   0.0   0.0   0.0   0.0   0.0   0.0   0.0  \n",
       "4   0.0   0.0   0.0   0.0   0.0   0.0   0.0   0.0   0.0  \n",
       "\n",
       "[5 rows x 5500 columns]"
      ]
     },
     "execution_count": 10,
     "metadata": {},
     "output_type": "execute_result"
    }
   ],
   "source": [
    "test.head(5)"
   ]
  },
  {
   "cell_type": "code",
   "execution_count": 11,
   "metadata": {},
   "outputs": [
    {
     "name": "stdout",
     "output_type": "stream",
     "text": [
      "Number of Vocabulary is  5500\n",
      "Number of Documents is  800\n"
     ]
    }
   ],
   "source": [
    "#Number of Vocabulary\n",
    "numVoca=train.shape[1] #Number of columns\n",
    "#Number of Documents\n",
    "numDoc=train.shape[0] #Number of Rows\n",
    "\n",
    "print('Number of Vocabulary is ', numVoca)\n",
    "print('Number of Documents is ', numDoc)"
   ]
  },
  {
   "cell_type": "code",
   "execution_count": 12,
   "metadata": {
    "collapsed": true
   },
   "outputs": [],
   "source": [
    "#Frequency of Voca\n",
    "freqVoca=train.sum(axis=0)\n",
    "#print(\"Freq of Vocabulary:\",freqVoca)"
   ]
  },
  {
   "cell_type": "code",
   "execution_count": 13,
   "metadata": {
    "collapsed": true
   },
   "outputs": [],
   "source": [
    "#Check the corresponding vocabulary and th Frequency\n",
    "dictVoca={}\n",
    "for i in range(len(voca)):\n",
    "    dictVoca[voca.iloc[i][0]]=freqVoca[i]\n",
    "#print(sorted(dictVoca.items()))\n",
    "#print(sorted(dictVoca.values))\n",
    "sortedFreqVoca=sorted(dictVoca.values(),reverse=True)"
   ]
  },
  {
   "cell_type": "code",
   "execution_count": 14,
   "metadata": {},
   "outputs": [
    {
     "data": {
      "image/png": "[encoded data removed]",
      "text/plain": [
       "<matplotlib.figure.Figure at 0x10ddc1c88>"
      ]
     },
     "metadata": {},
     "output_type": "display_data"
    }
   ],
   "source": [
    "plt.show(plt.plot(sortedFreqVoca))"
   ]
  },
  {
   "cell_type": "code",
   "execution_count": 15,
   "metadata": {},
   "outputs": [
    {
     "data": {
      "text/plain": [
       "(800, 5500)"
      ]
     },
     "execution_count": 15,
     "metadata": {},
     "output_type": "execute_result"
    }
   ],
   "source": [
    "train=np.array(train)\n",
    "train.shape"
   ]
  },
  {
   "cell_type": "markdown",
   "metadata": {},
   "source": [
    "#1a)Create your own KNN classifier function. Your classifier should allow as input the training data matrix, the training labels, the instance to be classified, the value of K, and should return the predicted class for the instance and the top K neighbors. Your classifier should work with Euclidean distance as well as Cosine Similarity. You may create two separate classifiers, or add this capability as a parameter for the classifier function."
   ]
  },
  {
   "cell_type": "code",
   "execution_count": 16,
   "metadata": {
    "collapsed": true
   },
   "outputs": [],
   "source": [
    "import math\n",
    "from collections import Counter\n",
    "# x = the instance to be classified\n",
    "# D = training data matrix\n",
    "# C = Class of neighbor of training data \n",
    "# K is the number of neigbor\n",
    "# measure is the method is used to calculation the similarity (0=Euclidean Dist, 0=Cosine)\n",
    "\n",
    "def knn_classifier(x,D,c,K,measure):\n",
    "    if measure == 0: \n",
    "        # euclidean distances from the other points\n",
    "        dists = np.sqrt(((D - x)**2).sum(axis=1))\n",
    "        \n",
    "        idx=np.argsort(dists)\n",
    "        dists=sorted(dists)\n",
    "        neighbor_class=c.ix[idx[:K]][1]\n",
    "        predict_class=Counter(neighbor_class).most_common(1)\n",
    "\n",
    "        return dists[:K],idx[:K],neighbor_class,predict_class[0][0]\n",
    "    \n",
    "    elif measure ==1:\n",
    "        dot_pro = np.dot(D,x)\n",
    "        x_norm = np.linalg.norm(x)\n",
    "        D_norm = np.array([np.linalg.norm(D[i]) for i in range(len(D))])\n",
    "\n",
    "        sims=dot_pro / (x_norm * D_norm)\n",
    "        dists=1-sims\n",
    "        \n",
    "        idx=np.argsort(dists)\n",
    "        dists=sorted(dists)\n",
    "        neighbor_class=c.ix[idx[:K]][1]\n",
    "        predict_class=Counter(neighbor_class).most_common(1)\n",
    "    \n",
    "        return dists[:K],idx[:K],neighbor_class,predict_class[0][0]\n",
    "    else:\n",
    "        #Return nothing if Input of Measure is NOT 0 or 1.\n",
    "        print(\"Measure must be 0 or 1\")\n",
    "        return \n",
    "\n",
    "        \n",
    "    \n",
    "   "
   ]
  },
  {
   "cell_type": "code",
   "execution_count": 17,
   "metadata": {},
   "outputs": [
    {
     "data": {
      "text/plain": [
       "(5500,)"
      ]
     },
     "execution_count": 17,
     "metadata": {},
     "output_type": "execute_result"
    }
   ],
   "source": [
    "#Use one record of the test set of data as instance\n",
    "instance=np.array(test.ix[0])\n",
    "instance.shape"
   ]
  },
  {
   "cell_type": "code",
   "execution_count": 18,
   "metadata": {
    "collapsed": true
   },
   "outputs": [],
   "source": [
    "#Call the classifier function and save the output values to different variables with K=5 and Euclidean dist \n",
    "dists,idx,neighbor_class,predict_class=knn_classifier(instance,train,train_class,5,0)"
   ]
  },
  {
   "cell_type": "code",
   "execution_count": 19,
   "metadata": {},
   "outputs": [
    {
     "data": {
      "text/plain": [
       "[13.341664064126334,\n",
       " 15.329709716755891,\n",
       " 15.394804318340652,\n",
       " 15.620499351813308,\n",
       " 15.652475842498529]"
      ]
     },
     "execution_count": 19,
     "metadata": {},
     "output_type": "execute_result"
    }
   ],
   "source": [
    "#Top 5 closes distance\n",
    "dists"
   ]
  },
  {
   "cell_type": "code",
   "execution_count": 20,
   "metadata": {},
   "outputs": [
    {
     "data": {
      "text/plain": [
       "array([685, 628, 703, 266, 510])"
      ]
     },
     "execution_count": 20,
     "metadata": {},
     "output_type": "execute_result"
    }
   ],
   "source": [
    "#Top 5 closest neighbors index\n",
    "idx"
   ]
  },
  {
   "cell_type": "code",
   "execution_count": 21,
   "metadata": {},
   "outputs": [
    {
     "data": {
      "text/plain": [
       "685    1\n",
       "628    1\n",
       "703    1\n",
       "266    1\n",
       "510    1\n",
       "Name: 1, dtype: int64"
      ]
     },
     "execution_count": 21,
     "metadata": {},
     "output_type": "execute_result"
    }
   ],
   "source": [
    "#Top 5 neighbor Class from the training set\n",
    "neighbor_class"
   ]
  },
  {
   "cell_type": "code",
   "execution_count": 22,
   "metadata": {},
   "outputs": [
    {
     "data": {
      "text/plain": [
       "1"
      ]
     },
     "execution_count": 22,
     "metadata": {},
     "output_type": "execute_result"
    }
   ],
   "source": [
    "#Predicted Class for the instance\n",
    "predict_class"
   ]
  },
  {
   "cell_type": "markdown",
   "metadata": {},
   "source": [
    "#1b)Create a function to compute the classification accuracy over the test data set (ratio of correct predictions to the number of test instances). This function will call the classifier function on all the test instances and in each case compares the actual test class label to the predicted class label."
   ]
  },
  {
   "cell_type": "code",
   "execution_count": 23,
   "metadata": {
    "collapsed": true
   },
   "outputs": [],
   "source": [
    "def accuracy(train,train_class,test,test_class,K,measure):\n",
    "    pre_class_array=np.array([])\n",
    "    for i in range(test.shape[0]):\n",
    "        instance=np.array(test.ix[i])\n",
    "        dists,idx,neighbor_class,predict_class=knn_classifier(instance,train,train_class,K,measure)\n",
    "        pre_class_array=np.append(pre_class_array,predict_class)\n",
    "    \n",
    "    if len(pre_class_array)==len(test_class):\n",
    "        acc_count=0\n",
    "        for i in range(len(pre_class_array)):\n",
    "            if pre_class_array[i]==test_class.ix[i][1]:\n",
    "                acc_count+=1\n",
    "        percent_acc=acc_count/len(test_class)\n",
    "    return pre_class_array,percent_acc\n",
    "\n",
    "        "
   ]
  },
  {
   "cell_type": "code",
   "execution_count": 24,
   "metadata": {},
   "outputs": [
    {
     "name": "stdout",
     "output_type": "stream",
     "text": [
      "Accuracy is  81.5 %\n"
     ]
    }
   ],
   "source": [
    "#Try to Run the Accuracy Function with K=5 and Measure=0 (Euclidean Distance)\n",
    "predict_class, percent_acc = accuracy(train,train_class,test,test_class,5,0)\n",
    "print(\"Accuracy is \", percent_acc*100,\"%\")"
   ]
  },
  {
   "cell_type": "code",
   "execution_count": 25,
   "metadata": {},
   "outputs": [
    {
     "name": "stdout",
     "output_type": "stream",
     "text": [
      "Accuracy is  97.0 %\n"
     ]
    }
   ],
   "source": [
    "#Try to Run the Accuracy Function with K=5 and Measure=1 (Cosine Distance)\n",
    "predict_class, percent_acc = accuracy(train,train_class,test,test_class,5,1)\n",
    "print(\"Accuracy is \", percent_acc*100,\"%\")"
   ]
  },
  {
   "cell_type": "markdown",
   "metadata": {},
   "source": [
    "#1c) Run your accuracy function on a range of values for K in order to compare accuracy values for different numbers of neighbors. Do this both using Euclidean Distance as well as Cosine similarity measure. [For example, you can try evaluating your classifiers on a range of values of K from 1 through 20 and present the results as a table or a graph].\n",
    "\n",
    "#Based on the following result, the cosine distance method seems more accurate than the Euclidean distance method in the case."
   ]
  },
  {
   "cell_type": "code",
   "execution_count": 26,
   "metadata": {
    "collapsed": true
   },
   "outputs": [],
   "source": [
    "#Call the Accuracy function and run with K=1-21  and measure=0 (Euclidean Distance)\n",
    "measure=0\n",
    "percent_acc_array=np.array([])\n",
    "percent_acc=0\n",
    "for K in range(1,21):\n",
    "    predict_class,percent_acc=accuracy(train,train_class,test,test_class,K,measure)\n",
    "    percent_acc_array=np.append(percent_acc_array,percent_acc)\n",
    "\n",
    "euc_acc=percent_acc_array"
   ]
  },
  {
   "cell_type": "code",
   "execution_count": 27,
   "metadata": {
    "collapsed": true
   },
   "outputs": [],
   "source": [
    "#Call the Accuracy function and run with K=1-21  and measure=1 (Cosine Distance)\n",
    "measure=1\n",
    "percent_acc_array=np.array([])\n",
    "percent_acc=0\n",
    "for K in range(1,21):\n",
    "    predict_class,percent_acc=accuracy(train,train_class,test,test_class,K,measure)\n",
    "    percent_acc_array=np.append(percent_acc_array,percent_acc)\n",
    "\n",
    "cos_acc=percent_acc_array"
   ]
  },
  {
   "cell_type": "code",
   "execution_count": 30,
   "metadata": {},
   "outputs": [
    {
     "data": {
      "text/plain": [
       "<matplotlib.legend.Legend at 0x10e4c48d0>"
      ]
     },
     "execution_count": 30,
     "metadata": {},
     "output_type": "execute_result"
    },
    {
     "data": {
      "image/png": "[encoded data removed]",
      "text/plain": [
       "<matplotlib.figure.Figure at 0x10e3cfe10>"
      ]
     },
     "metadata": {},
     "output_type": "display_data"
    }
   ],
   "source": [
    "#Plot the accuracy of Euclidean Distance with the corresponding K\n",
    "import matplotlib.ticker as ticker\n",
    "\n",
    "fig = plt.figure(figsize=(20, 10))\n",
    "ax1 = fig.add_subplot(111)\n",
    "ax1.set_xlabel('K Value',size=15)\n",
    "ax1.set_ylabel('Accuracy',size=15)\n",
    "ax1.tick_params(axis='x', labelsize=14)\n",
    "ax1.tick_params(axis='y', labelsize=14)\n",
    "ax1.xaxis.set_ticks(np.arange(0, 21, 1))\n",
    "ax1.set_title(\"Prediction Accuracy vs K Values\")\n",
    "plt.plot(range(1,1+len(euc_acc.tolist())), euc_acc, label='Euclidean')\n",
    "plt.plot(range(1,1+len(cos_acc.tolist())), cos_acc, label='Cosine')\n",
    "plt.legend(loc=7,fontsize=15)\n",
    "\n"
   ]
  },
  {
   "cell_type": "markdown",
   "metadata": {},
   "source": [
    "#1d)Using Python, modify the training and test data sets so that term weights are converted to TFxIDF weights (instead of raw term frequencies). [See class notes on Text Categorization]. Then, rerun your evaluation on the range of K values (as above) and compare the results to the results without using TFxIDF weights."
   ]
  },
  {
   "cell_type": "code",
   "execution_count": 161,
   "metadata": {
    "collapsed": true
   },
   "outputs": [],
   "source": [
    "#Reload the dataset from local file\n",
    "#train=pd.read_csv(\"./newsgroups/trainMatrixModified.txt\",sep='\\t',header=None)"
   ]
  },
  {
   "cell_type": "code",
   "execution_count": 31,
   "metadata": {},
   "outputs": [
    {
     "name": "stdout",
     "output_type": "stream",
     "text": [
      "Total Train Doc:  800\n"
     ]
    }
   ],
   "source": [
    "#Total Number of Document\n",
    "N_doc_train=train.shape[0]\n",
    "print('Total Train Doc: ',N_doc_train)"
   ]
  },
  {
   "cell_type": "code",
   "execution_count": 32,
   "metadata": {},
   "outputs": [
    {
     "name": "stdout",
     "output_type": "stream",
     "text": [
      "(800, 5500)\n",
      "(200, 5500)\n"
     ]
    }
   ],
   "source": [
    "print(np.shape(train))\n",
    "print(np.shape(test))"
   ]
  },
  {
   "cell_type": "code",
   "execution_count": 33,
   "metadata": {},
   "outputs": [
    {
     "data": {
      "text/plain": [
       "(800, 5500)"
      ]
     },
     "execution_count": 33,
     "metadata": {},
     "output_type": "execute_result"
    }
   ],
   "source": [
    "#Create a New Dataframe with the same size as the train data set\n",
    "N_matrix_train=np.ones(np.shape(train),dtype=float)*N_doc_train\n",
    "N_matrix_train.shape"
   ]
  },
  {
   "cell_type": "code",
   "execution_count": 34,
   "metadata": {},
   "outputs": [
    {
     "data": {
      "text/plain": [
       "(1, 5500)"
      ]
     },
     "execution_count": 34,
     "metadata": {},
     "output_type": "execute_result"
    }
   ],
   "source": [
    "#Total Number of Document contains every Vocabulary \n",
    "df_train=np.array([(train!=0).sum(0)])\n",
    "df_train.shape"
   ]
  },
  {
   "cell_type": "code",
   "execution_count": 35,
   "metadata": {},
   "outputs": [
    {
     "data": {
      "text/plain": [
       "0"
      ]
     },
     "execution_count": 35,
     "metadata": {},
     "output_type": "execute_result"
    }
   ],
   "source": [
    "#Double check if there is 0 appear on df array\n",
    "(df_train==0).sum() "
   ]
  },
  {
   "cell_type": "markdown",
   "metadata": {},
   "source": [
    "#There is ZERO on df array based on the above"
   ]
  },
  {
   "cell_type": "code",
   "execution_count": 36,
   "metadata": {},
   "outputs": [
    {
     "data": {
      "text/plain": [
       "(800, 5500)"
      ]
     },
     "execution_count": 36,
     "metadata": {},
     "output_type": "execute_result"
    }
   ],
   "source": [
    "#idf=log(N/nk)\n",
    "idf_train=np.log2(np.divide(N_matrix_train,df_train))\n",
    "idf_train.shape"
   ]
  },
  {
   "cell_type": "code",
   "execution_count": 37,
   "metadata": {},
   "outputs": [
    {
     "data": {
      "text/plain": [
       "(800, 5500)"
      ]
     },
     "execution_count": 37,
     "metadata": {},
     "output_type": "execute_result"
    }
   ],
   "source": [
    "#Calculate tf*idf for train data\n",
    "tf_idf_train=train*idf_train\n",
    "tf_idf_train.shape"
   ]
  },
  {
   "cell_type": "code",
   "execution_count": 38,
   "metadata": {},
   "outputs": [
    {
     "data": {
      "text/plain": [
       "(200, 5500)"
      ]
     },
     "execution_count": 38,
     "metadata": {},
     "output_type": "execute_result"
    }
   ],
   "source": [
    "#Reload the test dataset\n",
    "#test=pd.read_csv(\"./newsgroups/testMatrixModified.txt\",sep='\\t',header=None)\n",
    "test.shape"
   ]
  },
  {
   "cell_type": "code",
   "execution_count": 39,
   "metadata": {},
   "outputs": [
    {
     "data": {
      "text/plain": [
       "(200, 5500)"
      ]
     },
     "execution_count": 39,
     "metadata": {},
     "output_type": "execute_result"
    }
   ],
   "source": [
    "idf_train[0:200,:].shape"
   ]
  },
  {
   "cell_type": "code",
   "execution_count": 40,
   "metadata": {},
   "outputs": [
    {
     "data": {
      "text/plain": [
       "(200, 5500)"
      ]
     },
     "execution_count": 40,
     "metadata": {},
     "output_type": "execute_result"
    }
   ],
   "source": [
    "#Calculate tf*idf for test data\n",
    "tf_idf_test=test*idf_train[0:200,:]\n",
    "tf_idf_test.shape"
   ]
  },
  {
   "cell_type": "code",
   "execution_count": 41,
   "metadata": {},
   "outputs": [
    {
     "data": {
      "text/plain": [
       "(800, 5500)"
      ]
     },
     "execution_count": 41,
     "metadata": {},
     "output_type": "execute_result"
    }
   ],
   "source": [
    "tf_idf_train.shape"
   ]
  },
  {
   "cell_type": "code",
   "execution_count": 42,
   "metadata": {},
   "outputs": [
    {
     "data": {
      "text/plain": [
       "(200, 5500)"
      ]
     },
     "execution_count": 42,
     "metadata": {},
     "output_type": "execute_result"
    }
   ],
   "source": [
    "tf_idf_test.shape"
   ]
  },
  {
   "cell_type": "code",
   "execution_count": 43,
   "metadata": {
    "collapsed": true
   },
   "outputs": [],
   "source": [
    "tf_idf_train=np.array(tf_idf_train)"
   ]
  },
  {
   "cell_type": "code",
   "execution_count": 44,
   "metadata": {
    "collapsed": true
   },
   "outputs": [],
   "source": [
    "#Call the Accuracy function and run with K=1-21  and measure=0 (Euclidean Distance)\n",
    "measure=0\n",
    "percent_acc_array=np.array([])\n",
    "percent_acc=0\n",
    "for K in range(1,21):\n",
    "    predict_class,percent_acc=accuracy(tf_idf_train,train_class,tf_idf_test,test_class,K,measure)\n",
    "    percent_acc_array=np.append(percent_acc_array,percent_acc)\n",
    "\n",
    "euc_tfidf_acc=percent_acc_array"
   ]
  },
  {
   "cell_type": "code",
   "execution_count": 45,
   "metadata": {
    "collapsed": true
   },
   "outputs": [],
   "source": [
    "#Call the Accuracy function and run with K=1-21  and measure=1 (Cosine Distance)\n",
    "measure=1\n",
    "percent_acc_array=np.array([])\n",
    "percent_acc=0\n",
    "for K in range(1,21):\n",
    "    predict_class,percent_acc=accuracy(tf_idf_train,train_class,tf_idf_test,test_class,K,measure)\n",
    "    percent_acc_array=np.append(percent_acc_array,percent_acc)\n",
    "\n",
    "cos_tfidf_acc=percent_acc_array"
   ]
  },
  {
   "cell_type": "code",
   "execution_count": 46,
   "metadata": {},
   "outputs": [
    {
     "data": {
      "text/plain": [
       "<matplotlib.legend.Legend at 0x10f94ce80>"
      ]
     },
     "execution_count": 46,
     "metadata": {},
     "output_type": "execute_result"
    },
    {
     "data": {
      "image/png": "[encoded data removed]",
      "text/plain": [
       "<matplotlib.figure.Figure at 0x10e3cb390>"
      ]
     },
     "metadata": {},
     "output_type": "display_data"
    }
   ],
   "source": [
    "#Plot the accuracy of Euclidean Distance with the corresponding K\n",
    "import matplotlib.ticker as ticker\n",
    "\n",
    "euc=percent_acc_array\n",
    "\n",
    "fig = plt.figure(figsize=(20, 20))\n",
    "ax1 = fig.add_subplot(211)\n",
    "ax1.set_xlabel('K Value',size=15)\n",
    "ax1.set_ylabel('Accuracy',size=15)\n",
    "ax1.tick_params(axis='x', labelsize=14)\n",
    "ax1.tick_params(axis='y', labelsize=14)\n",
    "ax1.xaxis.set_ticks(np.arange(0, 21, 1))\n",
    "ax1.set_title(\"KNN Classifier Prediction Accuracy (by frequency) vs K Values\",size=25)\n",
    "ax1.plot(range(1,1+len(euc_acc.tolist())), euc_acc, label='Euclidean')\n",
    "ax1.plot(range(1,1+len(cos_acc.tolist())), cos_acc, label='Cosine')\n",
    "plt.legend(loc=7,fontsize=15)\n",
    "\n",
    "ax2 = fig.add_subplot(212)\n",
    "ax2.set_xlabel('K Value',size=15)\n",
    "ax2.set_ylabel('Accuracy',size=15)\n",
    "ax2.tick_params(axis='x', labelsize=14)\n",
    "ax2.tick_params(axis='y', labelsize=14)\n",
    "ax2.xaxis.set_ticks(np.arange(0, 21, 1))\n",
    "ax2.set_title(\"KNN Classifier Prediction Accuracy (by tf-idf) vs K Values\", size=25)\n",
    "ax2.plot(range(1,1+len(euc_tfidf_acc.tolist())), euc_tfidf_acc, label='Euclidean')\n",
    "ax2.plot(range(1,1+len(cos_tfidf_acc.tolist())), cos_tfidf_acc, label='Cosine')\n",
    "plt.legend(loc=7,fontsize=15)\n",
    "\n"
   ]
  },
  {
   "cell_type": "markdown",
   "metadata": {
    "collapsed": true
   },
   "source": [
    "#As we seen the above resutlt, we could observe that the Cosine Similarity measure is generally more accurate than the Euclidean measure.  By using the raw data frequency (top graph), the Cosine similarity measure perform very consistent ranging between 0.97-0.995 accuracy as K values increase. When we look at the Cosine Measure on tf-idf graph, we could observe that the accuracy continues to improve as K values increasing. \n",
    "\n",
    "#Now, when we look at the Euclidean measure, the accuracy reaches 85% with K=10. Beyond that, the accuracy falls as the K increases. The accuracy appoach of Euclidean measure by using tf-idf is very similar to by using raw frequency data, the accuracy reaches about 83% with K=6, then the accuracy falls back down as K increases. The lowest accuracy of tf-idf is about 62% which is even worse than the accuracy 73% by using the raw frequency data. \n",
    "\n",
    "#The overall performance of the above two models, the Cosine similarity measure accoplish much more than the Euclidean Measure."
   ]
  },
  {
   "cell_type": "markdown",
   "metadata": {
    "collapsed": true
   },
   "source": [
    "#1e)Create a classifier based on the Rocchio Method adapted for text categorization. The training part for the classifier can be implemented as a function that takes as input the training data matrix and the training labels, returning the prototype vectors for each class. The classification part can be implemented as another function that would take as input the prototypes returned from the training function and the instance to be classified. This function should measure Cosine similarity of the test instance to each prototype. Your output should indicate the predicted class for the test instance and the similarity values of the instance to each of the category prototypes. Finally, compute the classification accuracy using the test instances and compare your results to the best KNN approach you tried earlier.\n",
    "\n",
    "#Based on the above analysis result, the accuracy of Rocchio Method Classification with tf-idf reaches 98%. The result is very close to the Cosine Similarity with tf-idf, but in this particular case, the Cosine Sinilarity with tf-idf comes out a little better on the accuracy which reaches 99.5%."
   ]
  },
  {
   "cell_type": "code",
   "execution_count": 116,
   "metadata": {
    "collapsed": true
   },
   "outputs": [],
   "source": [
    "def Rocchio_prototype(train,train_class):\n",
    "    tf_idf_train=()\n",
    "    class_one_lst_sum=np.array([])\n",
    "    #Total Number of Document\n",
    "    N_doc_train=train.shape[1]\n",
    "    #Create a New Dataframe with the same size as the train data set\n",
    "    N_matrix_train=np.ones(np.shape(train),dtype=float)*N_doc_train\n",
    "    #Total Number of Document contains every Vocabulary \n",
    "    df_train=np.array([(train!=0).sum(0)])\n",
    "    #idf=log(N/nk)\n",
    "    idf_train=np.log2(np.divide(N_matrix_train,df_train))\n",
    "    #Calculate tf*idf for train data\n",
    "    tf_idf_train=train*idf_train\n",
    "    #Rotate the train sset direction\n",
    "    tf_idf_train=tf_idf_train\n",
    "    \n",
    "    #Divide the train data set by Classes (0 or 1)\n",
    "    class_lst=np.array(train_class.ix[:][1])\n",
    "    class_one_lst=[]\n",
    "    class_zero_lst=[]\n",
    "    class_one_count=0\n",
    "    class_zero_count=0\n",
    "    for i in range(len(class_lst)):\n",
    "        if class_lst[i] == 1:\n",
    "            class_one_lst.append(tf_idf_train[i])\n",
    "            class_one_count+=1\n",
    "        else:\n",
    "            class_zero_lst.append(tf_idf_train[i])\n",
    "            class_zero_count+=1\n",
    "    \n",
    "    class_one_lst_sum=np.array(class_one_lst).sum(0)\n",
    "    class_zero_lst_sum=np.array(class_zero_lst).sum(0)\n",
    "    \n",
    "    return class_one_lst_sum, class_zero_lst_sum\n",
    "    #return tf_idf_train.shape, np.array(class_one_lst), np.array(class_zero_lst), tf_idf_train"
   ]
  },
  {
   "cell_type": "code",
   "execution_count": 140,
   "metadata": {
    "collapsed": true
   },
   "outputs": [],
   "source": [
    "def Rocchio_Classifier(class_one_lst_sum, class_zero_lst_sum, instance):\n",
    "    class_one_norm = np.linalg.norm(class_one_lst_sum)\n",
    "    class_zero_norm = np.linalg.norm(class_zero_lst_sum)\n",
    "    instance_norm = np.linalg.norm(instance)\n",
    "    \n",
    "    dot_pro_one = np.dot(class_one_lst_sum,instance)\n",
    "    dot_pro_zero = np.dot(class_zero_lst_sum,instance)\n",
    "    \n",
    "    cos_one = dot_pro_one / (class_one_norm * instance_norm)\n",
    "    cos_zero = dot_pro_zero / (class_zero_norm * instance_norm)\n",
    "    \n",
    "    #Compare\n",
    "    if cos_zero >= cos_one:\n",
    "        return (0,float(cos_zero), float(cos_one))\n",
    "    else:\n",
    "        return (1,float(cos_zero), float(cos_one))"
   ]
  },
  {
   "cell_type": "code",
   "execution_count": 146,
   "metadata": {
    "collapsed": true
   },
   "outputs": [],
   "source": [
    "def accuracy(train,train_class, test, test_class):\n",
    "#def accuracy(train,train_class,class_one_lst, class_zero_lst, tf_idf_train,test, test_class):\n",
    "#def accuracy(train,train_class,test,test_class,K,measure):\n",
    "    pre_class_array=np.array([])\n",
    "    for i in range(test.shape[0]):\n",
    "        instance=np.array(test.ix[i])\n",
    "        class_one_lst_sum,class_zero_lst_sum=Rocchio_prototype(train,train_class)\n",
    "        out_class,cos_zero,cos_one=Rocchio_Classifier(class_one_lst_sum, class_zero_lst_sum, instance)\n",
    "        \n",
    "        \n",
    "        pre_class_array=np.append(pre_class_array,out_class)\n",
    "    \n",
    "    if len(pre_class_array)==len(test_class):\n",
    "        acc_count=0\n",
    "        for i in range(len(pre_class_array)):\n",
    "            if pre_class_array[i]==test_class.ix[i][1]:\n",
    "                acc_count+=1\n",
    "        percent_acc=acc_count/len(test_class)\n",
    "    return pre_class_array,percent_acc"
   ]
  },
  {
   "cell_type": "code",
   "execution_count": 150,
   "metadata": {
    "collapsed": true
   },
   "outputs": [],
   "source": [
    "pre_class_array,percent_acc=accuracy(train,train_class, test, test_class)"
   ]
  },
  {
   "cell_type": "code",
   "execution_count": 152,
   "metadata": {},
   "outputs": [
    {
     "name": "stdout",
     "output_type": "stream",
     "text": [
      "The Classification Accuracy of Rocchio Method is about  98.0 %\n"
     ]
    }
   ],
   "source": [
    "print(\"The Classification Accuracy of Rocchio Method is about \",percent_acc*100,\"%\" )"
   ]
  },
  {
   "cell_type": "markdown",
   "metadata": {
    "collapsed": true
   },
   "source": [
    "#2a.) Load and preprocess the data using Numpy or Pandas and the preprocessing functions from scikit-learn. Specifically, you need to separate the target attribute (\"pep\") from the portion of the data to be used for training and testing. You will need to convert the selected dataset into the Standard Spreadsheet format (scikit-learn functions generally assume that all attributes are in numeric form). Finally, you need to split the transformed data into training and test sets (using 80%-20% randomized split). [Review Ipython Notebook examples from Week 4 for different ways to perform these tasks.]"
   ]
  },
  {
   "cell_type": "code",
   "execution_count": 410,
   "metadata": {},
   "outputs": [
    {
     "name": "stderr",
     "output_type": "stream",
     "text": [
      "/Users/KevQuant/anaconda/lib/python3.6/site-packages/sklearn/cross_validation.py:44: DeprecationWarning: This module was deprecated in version 0.18 in favor of the model_selection module into which all the refactored classes and functions are moved. Also note that the interface of the new CV iterators are different from that of this module. This module will be removed in 0.20.\n",
      "  \"This module will be removed in 0.20.\", DeprecationWarning)\n"
     ]
    }
   ],
   "source": [
    "import pandas as pd\n",
    "import numpy as np\n",
    "import matplotlib.pyplot as plt\n",
    "%matplotlib inline\n",
    "from sklearn import preprocessing\n",
    "from sklearn.cross_validation import train_test_split"
   ]
  },
  {
   "cell_type": "code",
   "execution_count": 411,
   "metadata": {},
   "outputs": [
    {
     "data": {
      "text/plain": [
       "(600, 11)"
      ]
     },
     "execution_count": 411,
     "metadata": {},
     "output_type": "execute_result"
    }
   ],
   "source": [
    "bank=pd.read_csv('./bank_data.csv',index_col=0)\n",
    "bank.shape"
   ]
  },
  {
   "cell_type": "code",
   "execution_count": 5,
   "metadata": {
    "collapsed": true
   },
   "outputs": [],
   "source": [
    "#Permutate the table before splitting into Training and Testing Set\n",
    "#bank2=bank.reindex(np.random.permutation(bank.index))"
   ]
  },
  {
   "cell_type": "code",
   "execution_count": 412,
   "metadata": {},
   "outputs": [
    {
     "data": {
      "text/plain": [
       "(600,)"
      ]
     },
     "execution_count": 412,
     "metadata": {},
     "output_type": "execute_result"
    }
   ],
   "source": [
    "bank_target=bank.pep\n",
    "bank_target.shape"
   ]
  },
  {
   "cell_type": "code",
   "execution_count": 413,
   "metadata": {},
   "outputs": [
    {
     "data": {
      "text/plain": [
       "array(['age', 'income', 'children', 'gender', 'region', 'married', 'car',\n",
       "       'savings_acct', 'current_acct', 'mortgage', 'pep'], dtype=object)"
      ]
     },
     "execution_count": 413,
     "metadata": {},
     "output_type": "execute_result"
    }
   ],
   "source": [
    "#bank Table Attributes' Name\n",
    "bank_names=bank.columns.values\n",
    "bank_names"
   ]
  },
  {
   "cell_type": "code",
   "execution_count": 414,
   "metadata": {},
   "outputs": [
    {
     "data": {
      "text/plain": [
       "(600, 19)"
      ]
     },
     "execution_count": 414,
     "metadata": {},
     "output_type": "execute_result"
    }
   ],
   "source": [
    "#Convert to standard spreadsheet for the Bank Table\n",
    "bank_dummies=pd.get_dummies(bank[['age', 'income', 'children', 'gender', 'region', 'married', 'car',\n",
    "       'savings_acct', 'current_acct', 'mortgage']])\n",
    "bank_dummies.shape"
   ]
  },
  {
   "cell_type": "code",
   "execution_count": 415,
   "metadata": {
    "collapsed": true
   },
   "outputs": [],
   "source": [
    "#Split the train set, test set, train class, test class\n",
    "from sklearn.cross_validation import train_test_split\n",
    "bank_train,bank_test,bank_target_train,bank_target_test=train_test_split(bank_dummies,\n",
    "                                                                         bank_target,\n",
    "                                                                         test_size=0.2,\n",
    "                                                                         random_state=28)"
   ]
  },
  {
   "cell_type": "code",
   "execution_count": 416,
   "metadata": {},
   "outputs": [
    {
     "name": "stdout",
     "output_type": "stream",
     "text": [
      "(480, 19)\n"
     ]
    },
    {
     "data": {
      "text/html": [
       "<div>\n",
       "<table border=\"1\" class=\"dataframe\">\n",
       "  <thead>\n",
       "    <tr style=\"text-align: right;\">\n",
       "      <th></th>\n",
       "      <th>age</th>\n",
       "      <th>income</th>\n",
       "      <th>children</th>\n",
       "      <th>gender_FEMALE</th>\n",
       "      <th>gender_MALE</th>\n",
       "      <th>region_INNER_CITY</th>\n",
       "      <th>region_RURAL</th>\n",
       "      <th>region_SUBURBAN</th>\n",
       "      <th>region_TOWN</th>\n",
       "      <th>married_NO</th>\n",
       "      <th>married_YES</th>\n",
       "      <th>car_NO</th>\n",
       "      <th>car_YES</th>\n",
       "      <th>savings_acct_NO</th>\n",
       "      <th>savings_acct_YES</th>\n",
       "      <th>current_acct_NO</th>\n",
       "      <th>current_acct_YES</th>\n",
       "      <th>mortgage_NO</th>\n",
       "      <th>mortgage_YES</th>\n",
       "    </tr>\n",
       "    <tr>\n",
       "      <th>id</th>\n",
       "      <th></th>\n",
       "      <th></th>\n",
       "      <th></th>\n",
       "      <th></th>\n",
       "      <th></th>\n",
       "      <th></th>\n",
       "      <th></th>\n",
       "      <th></th>\n",
       "      <th></th>\n",
       "      <th></th>\n",
       "      <th></th>\n",
       "      <th></th>\n",
       "      <th></th>\n",
       "      <th></th>\n",
       "      <th></th>\n",
       "      <th></th>\n",
       "      <th></th>\n",
       "      <th></th>\n",
       "      <th></th>\n",
       "    </tr>\n",
       "  </thead>\n",
       "  <tbody>\n",
       "    <tr>\n",
       "      <th>ID12689</th>\n",
       "      <td>58</td>\n",
       "      <td>49673.6</td>\n",
       "      <td>0</td>\n",
       "      <td>0</td>\n",
       "      <td>1</td>\n",
       "      <td>0</td>\n",
       "      <td>1</td>\n",
       "      <td>0</td>\n",
       "      <td>0</td>\n",
       "      <td>0</td>\n",
       "      <td>1</td>\n",
       "      <td>1</td>\n",
       "      <td>0</td>\n",
       "      <td>0</td>\n",
       "      <td>1</td>\n",
       "      <td>0</td>\n",
       "      <td>1</td>\n",
       "      <td>1</td>\n",
       "      <td>0</td>\n",
       "    </tr>\n",
       "    <tr>\n",
       "      <th>ID12120</th>\n",
       "      <td>31</td>\n",
       "      <td>22522.8</td>\n",
       "      <td>0</td>\n",
       "      <td>0</td>\n",
       "      <td>1</td>\n",
       "      <td>0</td>\n",
       "      <td>0</td>\n",
       "      <td>0</td>\n",
       "      <td>1</td>\n",
       "      <td>0</td>\n",
       "      <td>1</td>\n",
       "      <td>0</td>\n",
       "      <td>1</td>\n",
       "      <td>0</td>\n",
       "      <td>1</td>\n",
       "      <td>0</td>\n",
       "      <td>1</td>\n",
       "      <td>1</td>\n",
       "      <td>0</td>\n",
       "    </tr>\n",
       "    <tr>\n",
       "      <th>ID12499</th>\n",
       "      <td>64</td>\n",
       "      <td>57444.5</td>\n",
       "      <td>1</td>\n",
       "      <td>1</td>\n",
       "      <td>0</td>\n",
       "      <td>1</td>\n",
       "      <td>0</td>\n",
       "      <td>0</td>\n",
       "      <td>0</td>\n",
       "      <td>1</td>\n",
       "      <td>0</td>\n",
       "      <td>1</td>\n",
       "      <td>0</td>\n",
       "      <td>0</td>\n",
       "      <td>1</td>\n",
       "      <td>0</td>\n",
       "      <td>1</td>\n",
       "      <td>1</td>\n",
       "      <td>0</td>\n",
       "    </tr>\n",
       "    <tr>\n",
       "      <th>ID12658</th>\n",
       "      <td>41</td>\n",
       "      <td>25132.9</td>\n",
       "      <td>0</td>\n",
       "      <td>0</td>\n",
       "      <td>1</td>\n",
       "      <td>0</td>\n",
       "      <td>1</td>\n",
       "      <td>0</td>\n",
       "      <td>0</td>\n",
       "      <td>0</td>\n",
       "      <td>1</td>\n",
       "      <td>1</td>\n",
       "      <td>0</td>\n",
       "      <td>1</td>\n",
       "      <td>0</td>\n",
       "      <td>0</td>\n",
       "      <td>1</td>\n",
       "      <td>1</td>\n",
       "      <td>0</td>\n",
       "    </tr>\n",
       "    <tr>\n",
       "      <th>ID12189</th>\n",
       "      <td>30</td>\n",
       "      <td>15848.7</td>\n",
       "      <td>0</td>\n",
       "      <td>0</td>\n",
       "      <td>1</td>\n",
       "      <td>0</td>\n",
       "      <td>0</td>\n",
       "      <td>1</td>\n",
       "      <td>0</td>\n",
       "      <td>0</td>\n",
       "      <td>1</td>\n",
       "      <td>0</td>\n",
       "      <td>1</td>\n",
       "      <td>0</td>\n",
       "      <td>1</td>\n",
       "      <td>1</td>\n",
       "      <td>0</td>\n",
       "      <td>0</td>\n",
       "      <td>1</td>\n",
       "    </tr>\n",
       "  </tbody>\n",
       "</table>\n",
       "</div>"
      ],
      "text/plain": [
       "         age   income  children  gender_FEMALE  gender_MALE  \\\n",
       "id                                                            \n",
       "ID12689   58  49673.6         0              0            1   \n",
       "ID12120   31  22522.8         0              0            1   \n",
       "ID12499   64  57444.5         1              1            0   \n",
       "ID12658   41  25132.9         0              0            1   \n",
       "ID12189   30  15848.7         0              0            1   \n",
       "\n",
       "         region_INNER_CITY  region_RURAL  region_SUBURBAN  region_TOWN  \\\n",
       "id                                                                       \n",
       "ID12689                  0             1                0            0   \n",
       "ID12120                  0             0                0            1   \n",
       "ID12499                  1             0                0            0   \n",
       "ID12658                  0             1                0            0   \n",
       "ID12189                  0             0                1            0   \n",
       "\n",
       "         married_NO  married_YES  car_NO  car_YES  savings_acct_NO  \\\n",
       "id                                                                   \n",
       "ID12689           0            1       1        0                0   \n",
       "ID12120           0            1       0        1                0   \n",
       "ID12499           1            0       1        0                0   \n",
       "ID12658           0            1       1        0                1   \n",
       "ID12189           0            1       0        1                0   \n",
       "\n",
       "         savings_acct_YES  current_acct_NO  current_acct_YES  mortgage_NO  \\\n",
       "id                                                                          \n",
       "ID12689                 1                0                 1            1   \n",
       "ID12120                 1                0                 1            1   \n",
       "ID12499                 1                0                 1            1   \n",
       "ID12658                 0                0                 1            1   \n",
       "ID12189                 1                1                 0            0   \n",
       "\n",
       "         mortgage_YES  \n",
       "id                     \n",
       "ID12689             0  \n",
       "ID12120             0  \n",
       "ID12499             0  \n",
       "ID12658             0  \n",
       "ID12189             1  "
      ]
     },
     "execution_count": 416,
     "metadata": {},
     "output_type": "execute_result"
    }
   ],
   "source": [
    "print(bank_train.shape)\n",
    "bank_train.head(5)"
   ]
  },
  {
   "cell_type": "code",
   "execution_count": 417,
   "metadata": {},
   "outputs": [
    {
     "name": "stdout",
     "output_type": "stream",
     "text": [
      "(480,)\n"
     ]
    },
    {
     "data": {
      "text/plain": [
       "id\n",
       "ID12689     NO\n",
       "ID12120     NO\n",
       "ID12499    YES\n",
       "ID12658     NO\n",
       "ID12189     NO\n",
       "Name: pep, dtype: object"
      ]
     },
     "execution_count": 417,
     "metadata": {},
     "output_type": "execute_result"
    }
   ],
   "source": [
    "print(bank_target_train.shape)\n",
    "bank_target_train.head(5)"
   ]
  },
  {
   "cell_type": "code",
   "execution_count": 418,
   "metadata": {},
   "outputs": [
    {
     "name": "stdout",
     "output_type": "stream",
     "text": [
      "(120, 19)\n"
     ]
    },
    {
     "data": {
      "text/html": [
       "<div>\n",
       "<table border=\"1\" class=\"dataframe\">\n",
       "  <thead>\n",
       "    <tr style=\"text-align: right;\">\n",
       "      <th></th>\n",
       "      <th>age</th>\n",
       "      <th>income</th>\n",
       "      <th>children</th>\n",
       "      <th>gender_FEMALE</th>\n",
       "      <th>gender_MALE</th>\n",
       "      <th>region_INNER_CITY</th>\n",
       "      <th>region_RURAL</th>\n",
       "      <th>region_SUBURBAN</th>\n",
       "      <th>region_TOWN</th>\n",
       "      <th>married_NO</th>\n",
       "      <th>married_YES</th>\n",
       "      <th>car_NO</th>\n",
       "      <th>car_YES</th>\n",
       "      <th>savings_acct_NO</th>\n",
       "      <th>savings_acct_YES</th>\n",
       "      <th>current_acct_NO</th>\n",
       "      <th>current_acct_YES</th>\n",
       "      <th>mortgage_NO</th>\n",
       "      <th>mortgage_YES</th>\n",
       "    </tr>\n",
       "    <tr>\n",
       "      <th>id</th>\n",
       "      <th></th>\n",
       "      <th></th>\n",
       "      <th></th>\n",
       "      <th></th>\n",
       "      <th></th>\n",
       "      <th></th>\n",
       "      <th></th>\n",
       "      <th></th>\n",
       "      <th></th>\n",
       "      <th></th>\n",
       "      <th></th>\n",
       "      <th></th>\n",
       "      <th></th>\n",
       "      <th></th>\n",
       "      <th></th>\n",
       "      <th></th>\n",
       "      <th></th>\n",
       "      <th></th>\n",
       "      <th></th>\n",
       "    </tr>\n",
       "  </thead>\n",
       "  <tbody>\n",
       "    <tr>\n",
       "      <th>ID12566</th>\n",
       "      <td>57</td>\n",
       "      <td>28421.7</td>\n",
       "      <td>2</td>\n",
       "      <td>1</td>\n",
       "      <td>0</td>\n",
       "      <td>0</td>\n",
       "      <td>0</td>\n",
       "      <td>0</td>\n",
       "      <td>1</td>\n",
       "      <td>0</td>\n",
       "      <td>1</td>\n",
       "      <td>0</td>\n",
       "      <td>1</td>\n",
       "      <td>0</td>\n",
       "      <td>1</td>\n",
       "      <td>0</td>\n",
       "      <td>1</td>\n",
       "      <td>0</td>\n",
       "      <td>1</td>\n",
       "    </tr>\n",
       "    <tr>\n",
       "      <th>ID12329</th>\n",
       "      <td>37</td>\n",
       "      <td>28021.6</td>\n",
       "      <td>0</td>\n",
       "      <td>0</td>\n",
       "      <td>1</td>\n",
       "      <td>0</td>\n",
       "      <td>1</td>\n",
       "      <td>0</td>\n",
       "      <td>0</td>\n",
       "      <td>1</td>\n",
       "      <td>0</td>\n",
       "      <td>0</td>\n",
       "      <td>1</td>\n",
       "      <td>1</td>\n",
       "      <td>0</td>\n",
       "      <td>0</td>\n",
       "      <td>1</td>\n",
       "      <td>0</td>\n",
       "      <td>1</td>\n",
       "    </tr>\n",
       "    <tr>\n",
       "      <th>ID12543</th>\n",
       "      <td>43</td>\n",
       "      <td>36281.0</td>\n",
       "      <td>0</td>\n",
       "      <td>1</td>\n",
       "      <td>0</td>\n",
       "      <td>0</td>\n",
       "      <td>1</td>\n",
       "      <td>0</td>\n",
       "      <td>0</td>\n",
       "      <td>0</td>\n",
       "      <td>1</td>\n",
       "      <td>0</td>\n",
       "      <td>1</td>\n",
       "      <td>0</td>\n",
       "      <td>1</td>\n",
       "      <td>0</td>\n",
       "      <td>1</td>\n",
       "      <td>1</td>\n",
       "      <td>0</td>\n",
       "    </tr>\n",
       "    <tr>\n",
       "      <th>ID12238</th>\n",
       "      <td>57</td>\n",
       "      <td>39205.3</td>\n",
       "      <td>0</td>\n",
       "      <td>1</td>\n",
       "      <td>0</td>\n",
       "      <td>1</td>\n",
       "      <td>0</td>\n",
       "      <td>0</td>\n",
       "      <td>0</td>\n",
       "      <td>1</td>\n",
       "      <td>0</td>\n",
       "      <td>1</td>\n",
       "      <td>0</td>\n",
       "      <td>0</td>\n",
       "      <td>1</td>\n",
       "      <td>0</td>\n",
       "      <td>1</td>\n",
       "      <td>1</td>\n",
       "      <td>0</td>\n",
       "    </tr>\n",
       "    <tr>\n",
       "      <th>ID12597</th>\n",
       "      <td>50</td>\n",
       "      <td>40972.9</td>\n",
       "      <td>2</td>\n",
       "      <td>0</td>\n",
       "      <td>1</td>\n",
       "      <td>0</td>\n",
       "      <td>0</td>\n",
       "      <td>0</td>\n",
       "      <td>1</td>\n",
       "      <td>1</td>\n",
       "      <td>0</td>\n",
       "      <td>0</td>\n",
       "      <td>1</td>\n",
       "      <td>0</td>\n",
       "      <td>1</td>\n",
       "      <td>0</td>\n",
       "      <td>1</td>\n",
       "      <td>0</td>\n",
       "      <td>1</td>\n",
       "    </tr>\n",
       "  </tbody>\n",
       "</table>\n",
       "</div>"
      ],
      "text/plain": [
       "         age   income  children  gender_FEMALE  gender_MALE  \\\n",
       "id                                                            \n",
       "ID12566   57  28421.7         2              1            0   \n",
       "ID12329   37  28021.6         0              0            1   \n",
       "ID12543   43  36281.0         0              1            0   \n",
       "ID12238   57  39205.3         0              1            0   \n",
       "ID12597   50  40972.9         2              0            1   \n",
       "\n",
       "         region_INNER_CITY  region_RURAL  region_SUBURBAN  region_TOWN  \\\n",
       "id                                                                       \n",
       "ID12566                  0             0                0            1   \n",
       "ID12329                  0             1                0            0   \n",
       "ID12543                  0             1                0            0   \n",
       "ID12238                  1             0                0            0   \n",
       "ID12597                  0             0                0            1   \n",
       "\n",
       "         married_NO  married_YES  car_NO  car_YES  savings_acct_NO  \\\n",
       "id                                                                   \n",
       "ID12566           0            1       0        1                0   \n",
       "ID12329           1            0       0        1                1   \n",
       "ID12543           0            1       0        1                0   \n",
       "ID12238           1            0       1        0                0   \n",
       "ID12597           1            0       0        1                0   \n",
       "\n",
       "         savings_acct_YES  current_acct_NO  current_acct_YES  mortgage_NO  \\\n",
       "id                                                                          \n",
       "ID12566                 1                0                 1            0   \n",
       "ID12329                 0                0                 1            0   \n",
       "ID12543                 1                0                 1            1   \n",
       "ID12238                 1                0                 1            1   \n",
       "ID12597                 1                0                 1            0   \n",
       "\n",
       "         mortgage_YES  \n",
       "id                     \n",
       "ID12566             1  \n",
       "ID12329             1  \n",
       "ID12543             0  \n",
       "ID12238             0  \n",
       "ID12597             1  "
      ]
     },
     "execution_count": 418,
     "metadata": {},
     "output_type": "execute_result"
    }
   ],
   "source": [
    "print(bank_test.shape)\n",
    "bank_test.head(5)"
   ]
  },
  {
   "cell_type": "code",
   "execution_count": 419,
   "metadata": {},
   "outputs": [
    {
     "name": "stdout",
     "output_type": "stream",
     "text": [
      "(120,)\n"
     ]
    },
    {
     "data": {
      "text/plain": [
       "id\n",
       "ID12566     NO\n",
       "ID12329    YES\n",
       "ID12543     NO\n",
       "ID12238    YES\n",
       "ID12597    YES\n",
       "Name: pep, dtype: object"
      ]
     },
     "execution_count": 419,
     "metadata": {},
     "output_type": "execute_result"
    }
   ],
   "source": [
    "print(bank_target_test.shape)\n",
    "bank_target_test.head(5)"
   ]
  },
  {
   "cell_type": "markdown",
   "metadata": {},
   "source": [
    "#2b) Run scikit-learn's KNN classifier on the test set. Note: in the case of KNN, you must first normalize the data so that all attributes are in the same scale (normalize so that the values are between 0 and 1). Generate the confusion matrix (visualize it using Matplotlib), as well as the classification report. Also, computing the average accuracy score. Experiment with different values of K and the weight parameter for KNN to see if you can improve accuracy (you do not need to provide the details of all of your experimentation, but provide a short discussion what parameters worked best).\n",
    "\n",
    "Based on the following result, the best K I would propose would be 7. The function runs the kNN classification from K=1 - 20. We could observe that the accuracy Score of the test set classification reaches 66.7% while the training set with 100% score. In terms of model simiplicity, this accuracy score with K=7 is the best among the rest. However, It still shows over-fitting (Low-Bias) for this Classifer for K=7 because the training accuracy is 100%, but the accuracy of test set data is still under 70%.\n"
   ]
  },
  {
   "cell_type": "code",
   "execution_count": 420,
   "metadata": {},
   "outputs": [
    {
     "name": "stdout",
     "output_type": "stream",
     "text": [
      "(480, 19)\n",
      "(120, 19)\n"
     ]
    }
   ],
   "source": [
    "#Nornalizeing the Training and Testing dataset\n",
    "np.set_printoptions(precision=2, linewidth=120, suppress=True)\n",
    "\n",
    "min_max_scaler = preprocessing.MinMaxScaler().fit(bank_train)\n",
    "bank_train_norm=min_max_scaler.transform(bank_train)\n",
    "bank_test_norm=min_max_scaler.transform(bank_test)\n",
    "print(bank_train_norm.shape)\n",
    "print(bank_test_norm.shape)"
   ]
  },
  {
   "cell_type": "code",
   "execution_count": 421,
   "metadata": {},
   "outputs": [
    {
     "data": {
      "text/plain": [
       "array([[ 0.82,  0.77,  0.  ,  0.  ,  1.  ,  0.  ,  1.  ,  0.  ,  0.  ,  0.  ,  1.  ,  1.  ,  0.  ,  0.  ,  1.  ,  0.  ,\n",
       "         1.  ,  1.  ,  0.  ],\n",
       "       [ 0.27,  0.3 ,  0.  ,  0.  ,  1.  ,  0.  ,  0.  ,  0.  ,  1.  ,  0.  ,  1.  ,  0.  ,  1.  ,  0.  ,  1.  ,  0.  ,\n",
       "         1.  ,  1.  ,  0.  ],\n",
       "       [ 0.94,  0.9 ,  0.33,  1.  ,  0.  ,  1.  ,  0.  ,  0.  ,  0.  ,  1.  ,  0.  ,  1.  ,  0.  ,  0.  ,  1.  ,  0.  ,\n",
       "         1.  ,  1.  ,  0.  ],\n",
       "       [ 0.47,  0.35,  0.  ,  0.  ,  1.  ,  0.  ,  1.  ,  0.  ,  0.  ,  0.  ,  1.  ,  1.  ,  0.  ,  1.  ,  0.  ,  0.  ,\n",
       "         1.  ,  1.  ,  0.  ],\n",
       "       [ 0.24,  0.19,  0.  ,  0.  ,  1.  ,  0.  ,  0.  ,  1.  ,  0.  ,  0.  ,  1.  ,  0.  ,  1.  ,  0.  ,  1.  ,  1.  ,\n",
       "         0.  ,  0.  ,  1.  ]])"
      ]
     },
     "execution_count": 421,
     "metadata": {},
     "output_type": "execute_result"
    }
   ],
   "source": [
    "#Check the Normalized train dataset\n",
    "bank_train_norm[:5,:]"
   ]
  },
  {
   "cell_type": "code",
   "execution_count": 422,
   "metadata": {},
   "outputs": [
    {
     "data": {
      "text/plain": [
       "array([[ 0.8 ,  0.4 ,  0.67,  1.  ,  0.  ,  0.  ,  0.  ,  0.  ,  1.  ,  0.  ,  1.  ,  0.  ,  1.  ,  0.  ,  1.  ,  0.  ,\n",
       "         1.  ,  0.  ,  1.  ],\n",
       "       [ 0.39,  0.4 ,  0.  ,  0.  ,  1.  ,  0.  ,  1.  ,  0.  ,  0.  ,  1.  ,  0.  ,  0.  ,  1.  ,  1.  ,  0.  ,  0.  ,\n",
       "         1.  ,  0.  ,  1.  ],\n",
       "       [ 0.51,  0.54,  0.  ,  1.  ,  0.  ,  0.  ,  1.  ,  0.  ,  0.  ,  0.  ,  1.  ,  0.  ,  1.  ,  0.  ,  1.  ,  0.  ,\n",
       "         1.  ,  1.  ,  0.  ],\n",
       "       [ 0.8 ,  0.59,  0.  ,  1.  ,  0.  ,  1.  ,  0.  ,  0.  ,  0.  ,  1.  ,  0.  ,  1.  ,  0.  ,  0.  ,  1.  ,  0.  ,\n",
       "         1.  ,  1.  ,  0.  ],\n",
       "       [ 0.65,  0.62,  0.67,  0.  ,  1.  ,  0.  ,  0.  ,  0.  ,  1.  ,  1.  ,  0.  ,  0.  ,  1.  ,  0.  ,  1.  ,  0.  ,\n",
       "         1.  ,  0.  ,  1.  ]])"
      ]
     },
     "execution_count": 422,
     "metadata": {},
     "output_type": "execute_result"
    }
   ],
   "source": [
    "#Check the Normalized test dataset\n",
    "bank_test_norm[:5,:]"
   ]
  },
  {
   "cell_type": "code",
   "execution_count": 423,
   "metadata": {
    "collapsed": true
   },
   "outputs": [],
   "source": [
    "#We will us KNN classifier \n",
    "from sklearn import neighbors, tree, naive_bayes"
   ]
  },
  {
   "cell_type": "code",
   "execution_count": 426,
   "metadata": {},
   "outputs": [
    {
     "data": {
      "text/plain": [
       "KNeighborsClassifier(algorithm='auto', leaf_size=30, metric='minkowski',\n",
       "           metric_params=None, n_jobs=1, n_neighbors=7, p=2,\n",
       "           weights='distance')"
      ]
     },
     "execution_count": 426,
     "metadata": {},
     "output_type": "execute_result"
    }
   ],
   "source": [
    "#Set the neigbhors and run the KNN Classifier \n",
    "n_neighbors=7\n",
    "knnclf = neighbors.KNeighborsClassifier(n_neighbors, weights='distance')\n",
    "knnclf.fit(bank_train_norm, bank_target_train)"
   ]
  },
  {
   "cell_type": "code",
   "execution_count": 427,
   "metadata": {
    "collapsed": true
   },
   "outputs": [],
   "source": [
    "#predict the test set data\n",
    "knnpreds_test = knnclf.predict(bank_test_norm)"
   ]
  },
  {
   "cell_type": "code",
   "execution_count": 428,
   "metadata": {},
   "outputs": [
    {
     "name": "stdout",
     "output_type": "stream",
     "text": [
      "             precision    recall  f1-score   support\n",
      "\n",
      "         NO       0.71      0.71      0.71        70\n",
      "        YES       0.60      0.60      0.60        50\n",
      "\n",
      "avg / total       0.67      0.67      0.67       120\n",
      "\n"
     ]
    }
   ],
   "source": [
    "#Generate the Classification Report\n",
    "#Generate the precision, recall, F1 score for each class\n",
    "from sklearn.metrics import classification_report\n",
    "print(classification_report(bank_target_test, knnpreds_test))"
   ]
  },
  {
   "cell_type": "code",
   "execution_count": 429,
   "metadata": {},
   "outputs": [
    {
     "name": "stdout",
     "output_type": "stream",
     "text": [
      "[[50 20]\n",
      " [20 30]]\n"
     ]
    }
   ],
   "source": [
    "#Generate confustion matrix \n",
    "#(true negatives is C_{0,0}, false negatives is C_{1,0}, \n",
    "# true positives is C_{1,1} and false positives is C_{0,1})\n",
    "from sklearn.metrics import confusion_matrix\n",
    "knncm = confusion_matrix(bank_target_test, knnpreds_test)\n",
    "print (knncm)"
   ]
  },
  {
   "cell_type": "code",
   "execution_count": 430,
   "metadata": {},
   "outputs": [
    {
     "name": "stdout",
     "output_type": "stream",
     "text": [
      "0.666666666667\n"
     ]
    }
   ],
   "source": [
    "#The average Accuracy score across the test instances\n",
    "print (knnclf.score(bank_test_norm, bank_target_test))"
   ]
  },
  {
   "cell_type": "code",
   "execution_count": 431,
   "metadata": {},
   "outputs": [
    {
     "name": "stdout",
     "output_type": "stream",
     "text": [
      "1.0\n"
     ]
    }
   ],
   "source": [
    "#The average accuracy score across the train instances to observe it is over-fit or under fit\n",
    "print (knnclf.score(bank_train_norm, bank_target_train))\n"
   ]
  },
  {
   "cell_type": "code",
   "execution_count": 432,
   "metadata": {},
   "outputs": [
    {
     "data": {
      "image/png": "[encoded data removed]",
      "text/plain": [
       "<matplotlib.figure.Figure at 0x1171c25c0>"
      ]
     },
     "metadata": {},
     "output_type": "display_data"
    }
   ],
   "source": [
    "import matplotlib.pyplot as plt\n",
    "%matplotlib inline\n",
    "#Generate the plot for confusion matrix\n",
    "plt.matshow(knncm)\n",
    "plt.colorbar()\n",
    "plt.title('KNN Confusion Matrix')\n",
    "plt.xlabel('Predict')\n",
    "plt.ylabel('Actual')\n",
    "\n",
    "plt.show()"
   ]
  },
  {
   "cell_type": "code",
   "execution_count": 433,
   "metadata": {
    "collapsed": true
   },
   "outputs": [],
   "source": [
    "def knn_func(K,bank_train_norm,bank_target_train,bank_test_norm,bank_target_test):\n",
    "    train_score_lst=[]\n",
    "    test_score_lst=[]\n",
    "    k_lst=[]\n",
    "    for i in range(1,K+1):\n",
    "        n_neighbors=i\n",
    "        knnclf = neighbors.KNeighborsClassifier(n_neighbors, weights='distance')\n",
    "        knnclf.fit(bank_train_norm, bank_target_train)\n",
    "        k_lst.append(i)\n",
    "        test_score_lst.append(knnclf.score(bank_test_norm, bank_target_test))\n",
    "        train_score_lst.append(knnclf.score(bank_train_norm, bank_target_train))\n",
    "        \n",
    "    score_df=pd.DataFrame({'train_score':train_score_lst,'test_score':test_score_lst,\"K\":k_lst})\n",
    "    score_df.plot(x='K',figsize=(10,5))\n",
    "    plt.title('Training and Testing Score')\n",
    "    plt.xlabel('K')\n",
    "    plt.ylabel('Score')\n",
    "    plt.xlim([0,20])\n",
    "    plt.show()\n",
    "    return"
   ]
  },
  {
   "cell_type": "code",
   "execution_count": 434,
   "metadata": {},
   "outputs": [
    {
     "data": {
      "image/png": "[encoded data removed]",
      "text/plain": [
       "<matplotlib.figure.Figure at 0x15b403b70>"
      ]
     },
     "metadata": {},
     "output_type": "display_data"
    }
   ],
   "source": [
    "knn_func(20,bank_train_norm,bank_target_train,bank_test_norm,bank_target_test)"
   ]
  },
  {
   "cell_type": "markdown",
   "metadata": {},
   "source": [
    "#2c) Repeat the classification using scikit-learn's decision tree classifier (using the default parameters) and the naive Bayes (Gaussian) classifier. As above, generate the confusion matrix, classification report, and average accuracy score for each classifier. For each model, compare the average accuracry scores on the test and the training data sets. What does the comparison tell you in terms of bias-variance trade-off?\n"
   ]
  },
  {
   "cell_type": "markdown",
   "metadata": {},
   "source": [
    "#Decision Tree Classifier (Using the Default Parameters)\n",
    "\n",
    "#Based on the following classfication score result, the overall accuracy score is not very high which is 70.8% on train data and 70% on test data. Although the accuracy scores are NOT very high, the scores among the test and train are very close, this implies that this model does NOT show any over-fitting / under-fitting and Variance tradeoff. However, I would suggest further analysis on the model parameters to search the optimal accuracy point (Balance of tradeoff) of the train and test data."
   ]
  },
  {
   "cell_type": "code",
   "execution_count": 435,
   "metadata": {
    "collapsed": true
   },
   "outputs": [],
   "source": [
    "#Set up Decision Tree classifier\n",
    "treeclf = tree.DecisionTreeClassifier()"
   ]
  },
  {
   "cell_type": "code",
   "execution_count": 436,
   "metadata": {
    "collapsed": true
   },
   "outputs": [],
   "source": [
    "#Plug in the train dataset with target class\n",
    "treeclf = treeclf.fit(bank_train, bank_target_train)"
   ]
  },
  {
   "cell_type": "code",
   "execution_count": 437,
   "metadata": {},
   "outputs": [
    {
     "name": "stdout",
     "output_type": "stream",
     "text": [
      "['NO' 'YES' 'NO' 'YES' 'NO' 'NO' 'NO' 'NO' 'NO' 'YES' 'NO' 'NO' 'NO' 'NO' 'NO' 'YES' 'NO' 'NO' 'NO' 'YES' 'NO' 'YES'\n",
      " 'NO' 'NO' 'YES' 'NO' 'NO' 'NO' 'NO' 'NO' 'NO' 'NO' 'NO' 'NO' 'NO' 'NO' 'NO' 'YES' 'NO' 'YES' 'NO' 'NO' 'NO' 'NO' 'YES'\n",
      " 'YES' 'NO' 'NO' 'NO' 'NO' 'NO' 'NO' 'NO' 'NO' 'NO' 'NO' 'NO' 'NO' 'NO' 'NO' 'NO' 'YES' 'NO' 'YES' 'NO' 'NO' 'YES' 'NO'\n",
      " 'NO' 'YES' 'NO' 'NO' 'NO' 'NO' 'YES' 'YES' 'NO' 'NO' 'NO' 'NO' 'NO' 'NO' 'NO' 'NO' 'NO' 'NO' 'NO' 'NO' 'NO' 'NO' 'NO'\n",
      " 'NO' 'NO' 'NO' 'NO' 'NO' 'NO' 'NO' 'NO' 'NO' 'NO' 'NO' 'NO' 'NO' 'NO' 'NO' 'NO' 'NO' 'NO' 'NO' 'YES' 'NO' 'NO' 'NO'\n",
      " 'YES' 'NO' 'NO' 'NO' 'YES' 'NO']\n"
     ]
    }
   ],
   "source": [
    "#Classify the Target Class\n",
    "treepreds_test = treeclf.predict(bank_test_norm)\n",
    "print (treepreds_test)"
   ]
  },
  {
   "cell_type": "code",
   "execution_count": 438,
   "metadata": {},
   "outputs": [
    {
     "name": "stdout",
     "output_type": "stream",
     "text": [
      "             precision    recall  f1-score   support\n",
      "\n",
      "         NO       0.67      0.96      0.79        70\n",
      "        YES       0.85      0.34      0.49        50\n",
      "\n",
      "avg / total       0.74      0.70      0.66       120\n",
      "\n"
     ]
    }
   ],
   "source": [
    "#Generate the Classification Report\n",
    "#Generate the precision, recall, F1 score for each class\n",
    "from sklearn.metrics import classification_report\n",
    "print(classification_report(bank_target_test, treepreds_test))"
   ]
  },
  {
   "cell_type": "code",
   "execution_count": 439,
   "metadata": {},
   "outputs": [
    {
     "name": "stdout",
     "output_type": "stream",
     "text": [
      "[[67  3]\n",
      " [33 17]]\n"
     ]
    }
   ],
   "source": [
    "#Generate confustion matrix \n",
    "#(true negatives is C_{0,0}, false negatives is C_{1,0}, \n",
    "# true positives is C_{1,1} and false positives is C_{0,1})\n",
    "from sklearn.metrics import confusion_matrix\n",
    "treecm = confusion_matrix(bank_target_test, treepreds_test)\n",
    "print (treecm)"
   ]
  },
  {
   "cell_type": "code",
   "execution_count": 440,
   "metadata": {},
   "outputs": [
    {
     "name": "stdout",
     "output_type": "stream",
     "text": [
      "0.7\n"
     ]
    }
   ],
   "source": [
    "#The average Accuracy score across the test instances\n",
    "print (treeclf.score(bank_test_norm, bank_target_test))"
   ]
  },
  {
   "cell_type": "code",
   "execution_count": 441,
   "metadata": {},
   "outputs": [
    {
     "name": "stdout",
     "output_type": "stream",
     "text": [
      "0.708333333333\n"
     ]
    }
   ],
   "source": [
    "#The average Accuracy score across the test instances\n",
    "print (treeclf.score(bank_train_norm, bank_target_train))"
   ]
  },
  {
   "cell_type": "code",
   "execution_count": 442,
   "metadata": {},
   "outputs": [
    {
     "data": {
      "image/png": "[encoded data removed]",
      "text/plain": [
       "<matplotlib.figure.Figure at 0x15b186390>"
      ]
     },
     "metadata": {},
     "output_type": "display_data"
    }
   ],
   "source": [
    "import matplotlib.pyplot as plt\n",
    "%matplotlib inline\n",
    "#Generate the plot for confusion matrix\n",
    "plt.matshow(treecm)\n",
    "plt.colorbar()\n",
    "plt.title('Decision Tree Confusion Matrix')\n",
    "plt.xlabel('Predict')\n",
    "plt.ylabel('Actual')\n",
    "\n",
    "plt.show()"
   ]
  },
  {
   "cell_type": "markdown",
   "metadata": {},
   "source": [
    "#Navie Bayes (Gaussian) Classifier (Using the Default Parameters)\n",
    "\n",
    "#Based on the following Navie Bayes classfication score result, the overall accuracy scores are not very high which is 67.3% on train data and 63.3% on test data. Although the accuracy scores are NOT very high, the scores among the test and train are still align, this implies that this model does NOT show any over-fitting / under-fitting and Variance tradeoff. However, I would suggest further adjust on the model parameter to search the optimal accuracy (Balance of tradeoff) of the train and test data."
   ]
  },
  {
   "cell_type": "code",
   "execution_count": 445,
   "metadata": {
    "collapsed": true
   },
   "outputs": [],
   "source": [
    "nbclf = naive_bayes.GaussianNB()\n",
    "nbclf=nbclf.fit(bank_train_norm,bank_target_train)"
   ]
  },
  {
   "cell_type": "code",
   "execution_count": 446,
   "metadata": {},
   "outputs": [
    {
     "name": "stdout",
     "output_type": "stream",
     "text": [
      "['NO' 'YES' 'NO' 'YES' 'YES' 'YES' 'YES' 'NO' 'NO' 'YES' 'NO' 'YES' 'YES' 'NO' 'NO' 'NO' 'YES' 'NO' 'YES' 'YES' 'NO'\n",
      " 'YES' 'NO' 'NO' 'YES' 'YES' 'NO' 'YES' 'NO' 'YES' 'NO' 'YES' 'NO' 'NO' 'YES' 'YES' 'NO' 'NO' 'NO' 'YES' 'NO' 'NO' 'NO'\n",
      " 'NO' 'YES' 'YES' 'NO' 'NO' 'NO' 'NO' 'NO' 'NO' 'NO' 'NO' 'YES' 'NO' 'YES' 'NO' 'NO' 'NO' 'NO' 'YES' 'NO' 'NO' 'NO'\n",
      " 'YES' 'YES' 'NO' 'NO' 'NO' 'YES' 'NO' 'YES' 'YES' 'YES' 'YES' 'YES' 'NO' 'YES' 'YES' 'NO' 'NO' 'NO' 'YES' 'NO' 'YES'\n",
      " 'NO' 'NO' 'NO' 'NO' 'YES' 'NO' 'NO' 'NO' 'YES' 'NO' 'NO' 'NO' 'YES' 'NO' 'NO' 'NO' 'YES' 'YES' 'NO' 'NO' 'NO' 'NO' 'NO'\n",
      " 'NO' 'YES' 'NO' 'NO' 'NO' 'NO' 'NO' 'NO' 'YES' 'YES' 'YES']\n"
     ]
    }
   ],
   "source": [
    "nbcpreds=nbclf.predict(bank_test_norm)\n",
    "print(nbcpreds)"
   ]
  },
  {
   "cell_type": "code",
   "execution_count": 447,
   "metadata": {},
   "outputs": [
    {
     "name": "stdout",
     "output_type": "stream",
     "text": [
      "             precision    recall  f1-score   support\n",
      "\n",
      "         NO       0.68      0.71      0.69        70\n",
      "        YES       0.57      0.52      0.54        50\n",
      "\n",
      "avg / total       0.63      0.63      0.63       120\n",
      "\n"
     ]
    }
   ],
   "source": [
    "#Generate Classification Report\n",
    "from  sklearn.metrics import classification_report\n",
    "print(classification_report(bank_target_test,nbcpreds))"
   ]
  },
  {
   "cell_type": "code",
   "execution_count": 448,
   "metadata": {},
   "outputs": [
    {
     "name": "stdout",
     "output_type": "stream",
     "text": [
      "[[50 20]\n",
      " [24 26]]\n"
     ]
    }
   ],
   "source": [
    "#Generate Confustion Matrix\n",
    "from sklearn.metrics import confusion_matrix\n",
    "nbccm=confusion_matrix(bank_target_test,nbcpreds)\n",
    "print(nbccm)"
   ]
  },
  {
   "cell_type": "code",
   "execution_count": 449,
   "metadata": {},
   "outputs": [
    {
     "data": {
      "text/plain": [
       "0.6333333333333333"
      ]
     },
     "execution_count": 449,
     "metadata": {},
     "output_type": "execute_result"
    }
   ],
   "source": [
    "#The average Accuracy score across the test instances\n",
    "nbclf.score(bank_test_norm,bank_target_test)"
   ]
  },
  {
   "cell_type": "code",
   "execution_count": 450,
   "metadata": {},
   "outputs": [
    {
     "data": {
      "text/plain": [
       "0.67291666666666672"
      ]
     },
     "execution_count": 450,
     "metadata": {},
     "output_type": "execute_result"
    }
   ],
   "source": [
    "#The average Accuracy score across the train instances\n",
    "nbclf.score(bank_train_norm, bank_target_train)"
   ]
  },
  {
   "cell_type": "code",
   "execution_count": 451,
   "metadata": {},
   "outputs": [
    {
     "data": {
      "image/png": "[encoded data removed]",
      "text/plain": [
       "<matplotlib.figure.Figure at 0x15b2377f0>"
      ]
     },
     "metadata": {},
     "output_type": "display_data"
    }
   ],
   "source": [
    "import matplotlib.pyplot as plt\n",
    "%matplotlib inline\n",
    "#Generate the plot for confusion matrix\n",
    "plt.matshow(nbccm)\n",
    "plt.colorbar()\n",
    "plt.title('Navie Bayes (Gaussian) Confusion Matrix')\n",
    "plt.xlabel('Predict')\n",
    "plt.ylabel('Actual')\n",
    "plt.figsize=(1000,1000)\n",
    "\n",
    "plt.show()"
   ]
  },
  {
   "cell_type": "markdown",
   "metadata": {},
   "source": [
    "#2d) Discuss your observations based on the above experiments.\n",
    "\n",
    "#According to above 3 classifers(KNN, Decision Tree, Naive Bayes), the result are very close. They accuracy score are ranged between 0.65-0.71. The best model for testing set data was by Decision Tree model, the accuracy sorce is about 70%. This model does NOT show a very high accuracy score, but it is NOT under-fitting / over-fitting or Variance tradeoff. So that I would propose the Tree classifier is the best model within the initial classification analysis. \n",
    "\n",
    "#For the KNN model, I would say that the current model is overfitting because the difference accuracy score between the train and test set are over 30%. The more complex model shows the higher variance(Low Bias). In this case, I would propose to use more training instances to train the model or make the model even simplier (Less feature) in order to solve the overfitting problem\n",
    "\n",
    "#For the Naive Bayes model, the accuracy score are very close between the train (67.3) and test data set(63.3). In this case, it is hard to say whether the model is acceptable or not. I would suggest that the further test or adjust parameters on the model is needed to determine if the model is accessible for the further analysis."
   ]
  },
  {
   "cell_type": "markdown",
   "metadata": {},
   "source": [
    "#3a)Preprocessing and data analysis:\n",
    "#Examine the data for missing values. In case of categorical attributes, remove instances with missing values. In the case of numeric attributes, impute and fill-in the missing values using the attribute mean.\n",
    " "
   ]
  },
  {
   "cell_type": "code",
   "execution_count": 1,
   "metadata": {
    "collapsed": true
   },
   "outputs": [],
   "source": [
    "import numpy as np\n",
    "import pandas as pd\n",
    "import matplotlib.pyplot as plt\n",
    "%matplotlib inline"
   ]
  },
  {
   "cell_type": "code",
   "execution_count": 2,
   "metadata": {},
   "outputs": [
    {
     "data": {
      "text/plain": [
       "(10000, 8)"
      ]
     },
     "execution_count": 2,
     "metadata": {},
     "output_type": "execute_result"
    }
   ],
   "source": [
    "actable=pd.read_csv('./adult-modified.csv',na_values=['?'])\n",
    "actable.shape"
   ]
  },
  {
   "cell_type": "code",
   "execution_count": 3,
   "metadata": {},
   "outputs": [
    {
     "data": {
      "text/html": [
       "<div>\n",
       "<table border=\"1\" class=\"dataframe\">\n",
       "  <thead>\n",
       "    <tr style=\"text-align: right;\">\n",
       "      <th></th>\n",
       "      <th>age</th>\n",
       "      <th>workclass</th>\n",
       "      <th>education</th>\n",
       "      <th>marital-status</th>\n",
       "      <th>race</th>\n",
       "      <th>sex</th>\n",
       "      <th>hours-per-week</th>\n",
       "      <th>income</th>\n",
       "    </tr>\n",
       "  </thead>\n",
       "  <tbody>\n",
       "    <tr>\n",
       "      <th>0</th>\n",
       "      <td>39.0</td>\n",
       "      <td>Public</td>\n",
       "      <td>13</td>\n",
       "      <td>Single</td>\n",
       "      <td>White</td>\n",
       "      <td>Male</td>\n",
       "      <td>40</td>\n",
       "      <td>&lt;=50K</td>\n",
       "    </tr>\n",
       "    <tr>\n",
       "      <th>1</th>\n",
       "      <td>50.0</td>\n",
       "      <td>Self-emp</td>\n",
       "      <td>13</td>\n",
       "      <td>Married</td>\n",
       "      <td>White</td>\n",
       "      <td>Male</td>\n",
       "      <td>13</td>\n",
       "      <td>&lt;=50K</td>\n",
       "    </tr>\n",
       "    <tr>\n",
       "      <th>2</th>\n",
       "      <td>38.0</td>\n",
       "      <td>Private</td>\n",
       "      <td>9</td>\n",
       "      <td>Single</td>\n",
       "      <td>White</td>\n",
       "      <td>Male</td>\n",
       "      <td>40</td>\n",
       "      <td>&lt;=50K</td>\n",
       "    </tr>\n",
       "    <tr>\n",
       "      <th>3</th>\n",
       "      <td>53.0</td>\n",
       "      <td>Private</td>\n",
       "      <td>7</td>\n",
       "      <td>Married</td>\n",
       "      <td>Black</td>\n",
       "      <td>Male</td>\n",
       "      <td>40</td>\n",
       "      <td>&lt;=50K</td>\n",
       "    </tr>\n",
       "    <tr>\n",
       "      <th>4</th>\n",
       "      <td>28.0</td>\n",
       "      <td>Private</td>\n",
       "      <td>13</td>\n",
       "      <td>Married</td>\n",
       "      <td>Black</td>\n",
       "      <td>Female</td>\n",
       "      <td>40</td>\n",
       "      <td>&lt;=50K</td>\n",
       "    </tr>\n",
       "  </tbody>\n",
       "</table>\n",
       "</div>"
      ],
      "text/plain": [
       "    age workclass  education marital-status   race     sex  hours-per-week  \\\n",
       "0  39.0    Public         13         Single  White    Male              40   \n",
       "1  50.0  Self-emp         13        Married  White    Male              13   \n",
       "2  38.0   Private          9         Single  White    Male              40   \n",
       "3  53.0   Private          7        Married  Black    Male              40   \n",
       "4  28.0   Private         13        Married  Black  Female              40   \n",
       "\n",
       "  income  \n",
       "0  <=50K  \n",
       "1  <=50K  \n",
       "2  <=50K  \n",
       "3  <=50K  \n",
       "4  <=50K  "
      ]
     },
     "execution_count": 3,
     "metadata": {},
     "output_type": "execute_result"
    }
   ],
   "source": [
    "actable.head(5)"
   ]
  },
  {
   "cell_type": "code",
   "execution_count": 4,
   "metadata": {},
   "outputs": [
    {
     "data": {
      "text/plain": [
       "Index(['age', 'workclass', 'education', 'marital-status', 'race', 'sex',\n",
       "       'hours-per-week', 'income'],\n",
       "      dtype='object')"
      ]
     },
     "execution_count": 4,
     "metadata": {},
     "output_type": "execute_result"
    }
   ],
   "source": [
    "actable.columns"
   ]
  },
  {
   "cell_type": "code",
   "execution_count": 5,
   "metadata": {},
   "outputs": [
    {
     "data": {
      "text/plain": [
       "(9412, 8)"
      ]
     },
     "execution_count": 5,
     "metadata": {},
     "output_type": "execute_result"
    }
   ],
   "source": [
    "#Remove instance if workclass values is missing\n",
    "actable.drop(actable[actable.workclass.isnull()].index,axis=0, inplace=True)\n",
    "actable.shape"
   ]
  },
  {
   "cell_type": "code",
   "execution_count": 6,
   "metadata": {},
   "outputs": [
    {
     "data": {
      "text/plain": [
       "(9412, 8)"
      ]
     },
     "execution_count": 6,
     "metadata": {},
     "output_type": "execute_result"
    }
   ],
   "source": [
    "#Remove instance if marital-status values is missing\n",
    "actable.drop(actable[actable['marital-status'].isnull()].index,axis=0,inplace=True)\n",
    "actable.shape"
   ]
  },
  {
   "cell_type": "code",
   "execution_count": 7,
   "metadata": {},
   "outputs": [
    {
     "data": {
      "text/plain": [
       "(9412, 8)"
      ]
     },
     "execution_count": 7,
     "metadata": {},
     "output_type": "execute_result"
    }
   ],
   "source": [
    "#Remove instance if race values is missing\n",
    "actable.drop(actable[actable.race.isnull()].index,axis=0, inplace=True)\n",
    "actable.shape"
   ]
  },
  {
   "cell_type": "code",
   "execution_count": 8,
   "metadata": {},
   "outputs": [
    {
     "data": {
      "text/plain": [
       "(9412, 8)"
      ]
     },
     "execution_count": 8,
     "metadata": {},
     "output_type": "execute_result"
    }
   ],
   "source": [
    "#Remove instance if sex values is missing\n",
    "actable.drop(actable[actable.sex.isnull()].index,axis=0,inplace=True)\n",
    "actable.shape"
   ]
  },
  {
   "cell_type": "code",
   "execution_count": 9,
   "metadata": {
    "collapsed": true
   },
   "outputs": [],
   "source": [
    "#Fill in  absolute value with mean values\n",
    "actable.age.fillna(actable.age.mean(),axis=0,inplace=True)\n",
    "actable.education.fillna(actable.education.mean(),axis=0,inplace=True)\n",
    "actable['hours-per-week'].fillna(actable['hours-per-week'].mean(),axis=0,inplace=True)"
   ]
  },
  {
   "cell_type": "code",
   "execution_count": 10,
   "metadata": {},
   "outputs": [
    {
     "data": {
      "text/plain": [
       "(9412, 8)"
      ]
     },
     "execution_count": 10,
     "metadata": {},
     "output_type": "execute_result"
    }
   ],
   "source": [
    "#Recheck the size of the table\n",
    "actable.shape"
   ]
  },
  {
   "cell_type": "markdown",
   "metadata": {
    "collapsed": true
   },
   "source": [
    "#3a) Preprocessing and data analysis:\n",
    "#Examine the characteristics of the attributes, including relevant statistics for each attribute, histograms illustrating the distribtions of numeric attributes, bar graphs showing value counts for categorical attributes, etc."
   ]
  },
  {
   "cell_type": "code",
   "execution_count": 11,
   "metadata": {},
   "outputs": [
    {
     "data": {
      "text/html": [
       "<div>\n",
       "<table border=\"1\" class=\"dataframe\">\n",
       "  <thead>\n",
       "    <tr style=\"text-align: right;\">\n",
       "      <th></th>\n",
       "      <th>age</th>\n",
       "      <th>workclass</th>\n",
       "      <th>education</th>\n",
       "      <th>marital-status</th>\n",
       "      <th>race</th>\n",
       "      <th>sex</th>\n",
       "      <th>hours-per-week</th>\n",
       "      <th>income</th>\n",
       "    </tr>\n",
       "  </thead>\n",
       "  <tbody>\n",
       "    <tr>\n",
       "      <th>count</th>\n",
       "      <td>9412.000000</td>\n",
       "      <td>9412</td>\n",
       "      <td>9412.000000</td>\n",
       "      <td>9412</td>\n",
       "      <td>9412</td>\n",
       "      <td>9412</td>\n",
       "      <td>9412.000000</td>\n",
       "      <td>9412</td>\n",
       "    </tr>\n",
       "    <tr>\n",
       "      <th>unique</th>\n",
       "      <td>NaN</td>\n",
       "      <td>3</td>\n",
       "      <td>NaN</td>\n",
       "      <td>2</td>\n",
       "      <td>5</td>\n",
       "      <td>2</td>\n",
       "      <td>NaN</td>\n",
       "      <td>2</td>\n",
       "    </tr>\n",
       "    <tr>\n",
       "      <th>top</th>\n",
       "      <td>NaN</td>\n",
       "      <td>Private</td>\n",
       "      <td>NaN</td>\n",
       "      <td>Married</td>\n",
       "      <td>White</td>\n",
       "      <td>Male</td>\n",
       "      <td>NaN</td>\n",
       "      <td>&lt;=50K</td>\n",
       "    </tr>\n",
       "    <tr>\n",
       "      <th>freq</th>\n",
       "      <td>NaN</td>\n",
       "      <td>6947</td>\n",
       "      <td>NaN</td>\n",
       "      <td>4737</td>\n",
       "      <td>8062</td>\n",
       "      <td>6383</td>\n",
       "      <td>NaN</td>\n",
       "      <td>7093</td>\n",
       "    </tr>\n",
       "    <tr>\n",
       "      <th>mean</th>\n",
       "      <td>38.364632</td>\n",
       "      <td>NaN</td>\n",
       "      <td>10.125266</td>\n",
       "      <td>NaN</td>\n",
       "      <td>NaN</td>\n",
       "      <td>NaN</td>\n",
       "      <td>41.080217</td>\n",
       "      <td>NaN</td>\n",
       "    </tr>\n",
       "    <tr>\n",
       "      <th>std</th>\n",
       "      <td>12.962034</td>\n",
       "      <td>NaN</td>\n",
       "      <td>2.542118</td>\n",
       "      <td>NaN</td>\n",
       "      <td>NaN</td>\n",
       "      <td>NaN</td>\n",
       "      <td>11.884590</td>\n",
       "      <td>NaN</td>\n",
       "    </tr>\n",
       "    <tr>\n",
       "      <th>min</th>\n",
       "      <td>17.000000</td>\n",
       "      <td>NaN</td>\n",
       "      <td>1.000000</td>\n",
       "      <td>NaN</td>\n",
       "      <td>NaN</td>\n",
       "      <td>NaN</td>\n",
       "      <td>1.000000</td>\n",
       "      <td>NaN</td>\n",
       "    </tr>\n",
       "    <tr>\n",
       "      <th>25%</th>\n",
       "      <td>28.000000</td>\n",
       "      <td>NaN</td>\n",
       "      <td>9.000000</td>\n",
       "      <td>NaN</td>\n",
       "      <td>NaN</td>\n",
       "      <td>NaN</td>\n",
       "      <td>40.000000</td>\n",
       "      <td>NaN</td>\n",
       "    </tr>\n",
       "    <tr>\n",
       "      <th>50%</th>\n",
       "      <td>37.000000</td>\n",
       "      <td>NaN</td>\n",
       "      <td>10.000000</td>\n",
       "      <td>NaN</td>\n",
       "      <td>NaN</td>\n",
       "      <td>NaN</td>\n",
       "      <td>40.000000</td>\n",
       "      <td>NaN</td>\n",
       "    </tr>\n",
       "    <tr>\n",
       "      <th>75%</th>\n",
       "      <td>47.000000</td>\n",
       "      <td>NaN</td>\n",
       "      <td>13.000000</td>\n",
       "      <td>NaN</td>\n",
       "      <td>NaN</td>\n",
       "      <td>NaN</td>\n",
       "      <td>45.000000</td>\n",
       "      <td>NaN</td>\n",
       "    </tr>\n",
       "    <tr>\n",
       "      <th>max</th>\n",
       "      <td>90.000000</td>\n",
       "      <td>NaN</td>\n",
       "      <td>16.000000</td>\n",
       "      <td>NaN</td>\n",
       "      <td>NaN</td>\n",
       "      <td>NaN</td>\n",
       "      <td>99.000000</td>\n",
       "      <td>NaN</td>\n",
       "    </tr>\n",
       "  </tbody>\n",
       "</table>\n",
       "</div>"
      ],
      "text/plain": [
       "                age workclass    education marital-status   race   sex  \\\n",
       "count   9412.000000      9412  9412.000000           9412   9412  9412   \n",
       "unique          NaN         3          NaN              2      5     2   \n",
       "top             NaN   Private          NaN        Married  White  Male   \n",
       "freq            NaN      6947          NaN           4737   8062  6383   \n",
       "mean      38.364632       NaN    10.125266            NaN    NaN   NaN   \n",
       "std       12.962034       NaN     2.542118            NaN    NaN   NaN   \n",
       "min       17.000000       NaN     1.000000            NaN    NaN   NaN   \n",
       "25%       28.000000       NaN     9.000000            NaN    NaN   NaN   \n",
       "50%       37.000000       NaN    10.000000            NaN    NaN   NaN   \n",
       "75%       47.000000       NaN    13.000000            NaN    NaN   NaN   \n",
       "max       90.000000       NaN    16.000000            NaN    NaN   NaN   \n",
       "\n",
       "        hours-per-week income  \n",
       "count      9412.000000   9412  \n",
       "unique             NaN      2  \n",
       "top                NaN  <=50K  \n",
       "freq               NaN   7093  \n",
       "mean         41.080217    NaN  \n",
       "std          11.884590    NaN  \n",
       "min           1.000000    NaN  \n",
       "25%          40.000000    NaN  \n",
       "50%          40.000000    NaN  \n",
       "75%          45.000000    NaN  \n",
       "max          99.000000    NaN  "
      ]
     },
     "execution_count": 11,
     "metadata": {},
     "output_type": "execute_result"
    }
   ],
   "source": [
    "actable.describe(include='all')"
   ]
  },
  {
   "cell_type": "code",
   "execution_count": 12,
   "metadata": {},
   "outputs": [
    {
     "data": {
      "text/plain": [
       "Index(['age', 'workclass', 'education', 'marital-status', 'race', 'sex',\n",
       "       'hours-per-week', 'income'],\n",
       "      dtype='object')"
      ]
     },
     "execution_count": 12,
     "metadata": {},
     "output_type": "execute_result"
    }
   ],
   "source": [
    "actable.columns"
   ]
  },
  {
   "cell_type": "code",
   "execution_count": 13,
   "metadata": {},
   "outputs": [
    {
     "data": {
      "image/png": "[encoded data removed]",
      "text/plain": [
       "<matplotlib.figure.Figure at 0x113f4ddd8>"
      ]
     },
     "metadata": {},
     "output_type": "display_data"
    }
   ],
   "source": [
    "#Explore the character of Categorical features \n",
    "\n",
    "fig = plt.figure(figsize=(20, 120))\n",
    "\n",
    "ax1 = fig.add_subplot(8,2,1) # one row, two column, first plot\n",
    "actable['workclass'].value_counts().plot(kind='bar')\n",
    "ax1.set_title(\"workclass Distribution Plot\", size=20)\n",
    "ax1.set_xlabel(\"workclass\", size=15)\n",
    "ax1.set_ylabel(\"Count\", size=15)\n",
    "ax1.tick_params(axis='x', labelsize=14)\n",
    "ax1.tick_params(axis='y', labelsize=14)\n",
    "\n",
    "\n",
    "ax2 = fig.add_subplot(8,2,2) # one row, two column, second plot\n",
    "actable['marital-status'].value_counts().plot(kind='bar')\n",
    "ax2.set_title(\"marital-status Distribution Plot\", size=20)\n",
    "ax2.set_xlabel(\"marital-status\", size=15)\n",
    "ax2.set_ylabel(\"Count\", size=15)\n",
    "ax2.tick_params(axis='x', labelsize=14)\n",
    "ax2.tick_params(axis='y', labelsize=14)\n",
    "\n",
    "ax3 = fig.add_subplot(8,2,3) # one row, two column, third plot\n",
    "actable['race'].value_counts().plot(kind='bar')\n",
    "ax3.set_title(\"race Distribution Plot\", size=20)\n",
    "ax3.set_xlabel(\"race\", size=15)\n",
    "ax3.set_ylabel(\"Count\", size=15)\n",
    "ax3.tick_params(axis='x', labelsize=14)\n",
    "ax3.tick_params(axis='y', labelsize=14)\n",
    "\n",
    "ax4 = fig.add_subplot(8,2,4) # one row, two column, fourth plot\n",
    "actable['sex'].value_counts().plot(kind='bar')\n",
    "ax4.set_title(\"sex Distribution Plot\", size=20)\n",
    "ax4.set_xlabel(\"sex\", size=15)\n",
    "ax4.set_ylabel(\"Count\", size=15)\n",
    "ax4.tick_params(axis='x', labelsize=14)\n",
    "ax4.tick_params(axis='y', labelsize=14)\n",
    "\n",
    "ax5 = fig.add_subplot(8,2,5) # one row, two column, fifth plot\n",
    "actable['income'].value_counts().plot(kind='bar')\n",
    "ax5.set_title(\"income Distribution Plot\", size=20)\n",
    "ax5.set_xlabel(\"income\", size=15)\n",
    "ax5.set_ylabel(\"Count\", size=15)\n",
    "ax5.tick_params(axis='x', labelsize=14)\n",
    "ax5.tick_params(axis='y', labelsize=14)"
   ]
  },
  {
   "cell_type": "code",
   "execution_count": 14,
   "metadata": {},
   "outputs": [
    {
     "data": {
      "text/html": [
       "<div>\n",
       "<table border=\"1\" class=\"dataframe\">\n",
       "  <thead>\n",
       "    <tr style=\"text-align: right;\">\n",
       "      <th></th>\n",
       "      <th></th>\n",
       "      <th>age</th>\n",
       "      <th>education</th>\n",
       "      <th>hours-per-week</th>\n",
       "    </tr>\n",
       "    <tr>\n",
       "      <th>workclass</th>\n",
       "      <th></th>\n",
       "      <th></th>\n",
       "      <th></th>\n",
       "      <th></th>\n",
       "    </tr>\n",
       "  </thead>\n",
       "  <tbody>\n",
       "    <tr>\n",
       "      <th rowspan=\"8\" valign=\"top\">Private</th>\n",
       "      <th>count</th>\n",
       "      <td>6947.000000</td>\n",
       "      <td>6947.000000</td>\n",
       "      <td>6947.000000</td>\n",
       "    </tr>\n",
       "    <tr>\n",
       "      <th>mean</th>\n",
       "      <td>36.796739</td>\n",
       "      <td>9.890600</td>\n",
       "      <td>40.388225</td>\n",
       "    </tr>\n",
       "    <tr>\n",
       "      <th>std</th>\n",
       "      <td>12.749788</td>\n",
       "      <td>2.477740</td>\n",
       "      <td>11.172276</td>\n",
       "    </tr>\n",
       "    <tr>\n",
       "      <th>min</th>\n",
       "      <td>17.000000</td>\n",
       "      <td>1.000000</td>\n",
       "      <td>2.000000</td>\n",
       "    </tr>\n",
       "    <tr>\n",
       "      <th>25%</th>\n",
       "      <td>26.000000</td>\n",
       "      <td>9.000000</td>\n",
       "      <td>40.000000</td>\n",
       "    </tr>\n",
       "    <tr>\n",
       "      <th>50%</th>\n",
       "      <td>35.000000</td>\n",
       "      <td>10.000000</td>\n",
       "      <td>40.000000</td>\n",
       "    </tr>\n",
       "    <tr>\n",
       "      <th>75%</th>\n",
       "      <td>45.000000</td>\n",
       "      <td>11.000000</td>\n",
       "      <td>45.000000</td>\n",
       "    </tr>\n",
       "    <tr>\n",
       "      <th>max</th>\n",
       "      <td>90.000000</td>\n",
       "      <td>16.000000</td>\n",
       "      <td>99.000000</td>\n",
       "    </tr>\n",
       "    <tr>\n",
       "      <th rowspan=\"8\" valign=\"top\">Public</th>\n",
       "      <th>count</th>\n",
       "      <td>1317.000000</td>\n",
       "      <td>1317.000000</td>\n",
       "      <td>1317.000000</td>\n",
       "    </tr>\n",
       "    <tr>\n",
       "      <th>mean</th>\n",
       "      <td>40.944802</td>\n",
       "      <td>11.098709</td>\n",
       "      <td>40.449506</td>\n",
       "    </tr>\n",
       "    <tr>\n",
       "      <th>std</th>\n",
       "      <td>11.898005</td>\n",
       "      <td>2.471289</td>\n",
       "      <td>10.227722</td>\n",
       "    </tr>\n",
       "    <tr>\n",
       "      <th>min</th>\n",
       "      <td>17.000000</td>\n",
       "      <td>1.000000</td>\n",
       "      <td>1.000000</td>\n",
       "    </tr>\n",
       "    <tr>\n",
       "      <th>25%</th>\n",
       "      <td>32.000000</td>\n",
       "      <td>9.000000</td>\n",
       "      <td>40.000000</td>\n",
       "    </tr>\n",
       "    <tr>\n",
       "      <th>50%</th>\n",
       "      <td>41.000000</td>\n",
       "      <td>10.000000</td>\n",
       "      <td>40.000000</td>\n",
       "    </tr>\n",
       "    <tr>\n",
       "      <th>75%</th>\n",
       "      <td>49.000000</td>\n",
       "      <td>13.000000</td>\n",
       "      <td>40.000000</td>\n",
       "    </tr>\n",
       "    <tr>\n",
       "      <th>max</th>\n",
       "      <td>90.000000</td>\n",
       "      <td>16.000000</td>\n",
       "      <td>97.000000</td>\n",
       "    </tr>\n",
       "    <tr>\n",
       "      <th rowspan=\"8\" valign=\"top\">Self-emp</th>\n",
       "      <th>count</th>\n",
       "      <td>1148.000000</td>\n",
       "      <td>1148.000000</td>\n",
       "      <td>1148.000000</td>\n",
       "    </tr>\n",
       "    <tr>\n",
       "      <th>mean</th>\n",
       "      <td>44.892568</td>\n",
       "      <td>10.428571</td>\n",
       "      <td>45.991289</td>\n",
       "    </tr>\n",
       "    <tr>\n",
       "      <th>std</th>\n",
       "      <td>12.904270</td>\n",
       "      <td>2.706372</td>\n",
       "      <td>15.983970</td>\n",
       "    </tr>\n",
       "    <tr>\n",
       "      <th>min</th>\n",
       "      <td>17.000000</td>\n",
       "      <td>2.000000</td>\n",
       "      <td>1.000000</td>\n",
       "    </tr>\n",
       "    <tr>\n",
       "      <th>25%</th>\n",
       "      <td>36.000000</td>\n",
       "      <td>9.000000</td>\n",
       "      <td>40.000000</td>\n",
       "    </tr>\n",
       "    <tr>\n",
       "      <th>50%</th>\n",
       "      <td>44.000000</td>\n",
       "      <td>10.000000</td>\n",
       "      <td>45.000000</td>\n",
       "    </tr>\n",
       "    <tr>\n",
       "      <th>75%</th>\n",
       "      <td>54.000000</td>\n",
       "      <td>13.000000</td>\n",
       "      <td>55.000000</td>\n",
       "    </tr>\n",
       "    <tr>\n",
       "      <th>max</th>\n",
       "      <td>90.000000</td>\n",
       "      <td>16.000000</td>\n",
       "      <td>99.000000</td>\n",
       "    </tr>\n",
       "  </tbody>\n",
       "</table>\n",
       "</div>"
      ],
      "text/plain": [
       "                         age    education  hours-per-week\n",
       "workclass                                                \n",
       "Private   count  6947.000000  6947.000000     6947.000000\n",
       "          mean     36.796739     9.890600       40.388225\n",
       "          std      12.749788     2.477740       11.172276\n",
       "          min      17.000000     1.000000        2.000000\n",
       "          25%      26.000000     9.000000       40.000000\n",
       "          50%      35.000000    10.000000       40.000000\n",
       "          75%      45.000000    11.000000       45.000000\n",
       "          max      90.000000    16.000000       99.000000\n",
       "Public    count  1317.000000  1317.000000     1317.000000\n",
       "          mean     40.944802    11.098709       40.449506\n",
       "          std      11.898005     2.471289       10.227722\n",
       "          min      17.000000     1.000000        1.000000\n",
       "          25%      32.000000     9.000000       40.000000\n",
       "          50%      41.000000    10.000000       40.000000\n",
       "          75%      49.000000    13.000000       40.000000\n",
       "          max      90.000000    16.000000       97.000000\n",
       "Self-emp  count  1148.000000  1148.000000     1148.000000\n",
       "          mean     44.892568    10.428571       45.991289\n",
       "          std      12.904270     2.706372       15.983970\n",
       "          min      17.000000     2.000000        1.000000\n",
       "          25%      36.000000     9.000000       40.000000\n",
       "          50%      44.000000    10.000000       45.000000\n",
       "          75%      54.000000    13.000000       55.000000\n",
       "          max      90.000000    16.000000       99.000000"
      ]
     },
     "execution_count": 14,
     "metadata": {},
     "output_type": "execute_result"
    }
   ],
   "source": [
    "#Showing the workclass feature against all the numeric attributes\n",
    "actable.groupby('workclass').describe()"
   ]
  },
  {
   "cell_type": "code",
   "execution_count": 15,
   "metadata": {},
   "outputs": [
    {
     "data": {
      "text/html": [
       "<div>\n",
       "<table border=\"1\" class=\"dataframe\">\n",
       "  <thead>\n",
       "    <tr style=\"text-align: right;\">\n",
       "      <th></th>\n",
       "      <th></th>\n",
       "      <th>age</th>\n",
       "      <th>education</th>\n",
       "      <th>hours-per-week</th>\n",
       "    </tr>\n",
       "    <tr>\n",
       "      <th>marital-status</th>\n",
       "      <th></th>\n",
       "      <th></th>\n",
       "      <th></th>\n",
       "      <th></th>\n",
       "    </tr>\n",
       "  </thead>\n",
       "  <tbody>\n",
       "    <tr>\n",
       "      <th rowspan=\"8\" valign=\"top\">Married</th>\n",
       "      <th>count</th>\n",
       "      <td>4737.000000</td>\n",
       "      <td>4737.000000</td>\n",
       "      <td>4737.000000</td>\n",
       "    </tr>\n",
       "    <tr>\n",
       "      <th>mean</th>\n",
       "      <td>43.273440</td>\n",
       "      <td>10.253114</td>\n",
       "      <td>43.251847</td>\n",
       "    </tr>\n",
       "    <tr>\n",
       "      <th>std</th>\n",
       "      <td>11.983307</td>\n",
       "      <td>2.720958</td>\n",
       "      <td>11.843437</td>\n",
       "    </tr>\n",
       "    <tr>\n",
       "      <th>min</th>\n",
       "      <td>17.000000</td>\n",
       "      <td>1.000000</td>\n",
       "      <td>1.000000</td>\n",
       "    </tr>\n",
       "    <tr>\n",
       "      <th>25%</th>\n",
       "      <td>34.000000</td>\n",
       "      <td>9.000000</td>\n",
       "      <td>40.000000</td>\n",
       "    </tr>\n",
       "    <tr>\n",
       "      <th>50%</th>\n",
       "      <td>42.000000</td>\n",
       "      <td>10.000000</td>\n",
       "      <td>40.000000</td>\n",
       "    </tr>\n",
       "    <tr>\n",
       "      <th>75%</th>\n",
       "      <td>51.000000</td>\n",
       "      <td>13.000000</td>\n",
       "      <td>50.000000</td>\n",
       "    </tr>\n",
       "    <tr>\n",
       "      <th>max</th>\n",
       "      <td>90.000000</td>\n",
       "      <td>16.000000</td>\n",
       "      <td>99.000000</td>\n",
       "    </tr>\n",
       "    <tr>\n",
       "      <th rowspan=\"8\" valign=\"top\">Single</th>\n",
       "      <th>count</th>\n",
       "      <td>4675.000000</td>\n",
       "      <td>4675.000000</td>\n",
       "      <td>4675.000000</td>\n",
       "    </tr>\n",
       "    <tr>\n",
       "      <th>mean</th>\n",
       "      <td>33.390723</td>\n",
       "      <td>9.995722</td>\n",
       "      <td>38.879786</td>\n",
       "    </tr>\n",
       "    <tr>\n",
       "      <th>std</th>\n",
       "      <td>11.984262</td>\n",
       "      <td>2.340227</td>\n",
       "      <td>11.516973</td>\n",
       "    </tr>\n",
       "    <tr>\n",
       "      <th>min</th>\n",
       "      <td>17.000000</td>\n",
       "      <td>1.000000</td>\n",
       "      <td>2.000000</td>\n",
       "    </tr>\n",
       "    <tr>\n",
       "      <th>25%</th>\n",
       "      <td>24.000000</td>\n",
       "      <td>9.000000</td>\n",
       "      <td>35.000000</td>\n",
       "    </tr>\n",
       "    <tr>\n",
       "      <th>50%</th>\n",
       "      <td>31.000000</td>\n",
       "      <td>10.000000</td>\n",
       "      <td>40.000000</td>\n",
       "    </tr>\n",
       "    <tr>\n",
       "      <th>75%</th>\n",
       "      <td>41.000000</td>\n",
       "      <td>11.000000</td>\n",
       "      <td>40.000000</td>\n",
       "    </tr>\n",
       "    <tr>\n",
       "      <th>max</th>\n",
       "      <td>90.000000</td>\n",
       "      <td>16.000000</td>\n",
       "      <td>99.000000</td>\n",
       "    </tr>\n",
       "  </tbody>\n",
       "</table>\n",
       "</div>"
      ],
      "text/plain": [
       "                              age    education  hours-per-week\n",
       "marital-status                                                \n",
       "Married        count  4737.000000  4737.000000     4737.000000\n",
       "               mean     43.273440    10.253114       43.251847\n",
       "               std      11.983307     2.720958       11.843437\n",
       "               min      17.000000     1.000000        1.000000\n",
       "               25%      34.000000     9.000000       40.000000\n",
       "               50%      42.000000    10.000000       40.000000\n",
       "               75%      51.000000    13.000000       50.000000\n",
       "               max      90.000000    16.000000       99.000000\n",
       "Single         count  4675.000000  4675.000000     4675.000000\n",
       "               mean     33.390723     9.995722       38.879786\n",
       "               std      11.984262     2.340227       11.516973\n",
       "               min      17.000000     1.000000        2.000000\n",
       "               25%      24.000000     9.000000       35.000000\n",
       "               50%      31.000000    10.000000       40.000000\n",
       "               75%      41.000000    11.000000       40.000000\n",
       "               max      90.000000    16.000000       99.000000"
      ]
     },
     "execution_count": 15,
     "metadata": {},
     "output_type": "execute_result"
    }
   ],
   "source": [
    "#Showing the marital-status feature against all the numeric attributes\n",
    "actable.groupby('marital-status').describe()"
   ]
  },
  {
   "cell_type": "code",
   "execution_count": 16,
   "metadata": {},
   "outputs": [
    {
     "data": {
      "text/html": [
       "<div>\n",
       "<table border=\"1\" class=\"dataframe\">\n",
       "  <thead>\n",
       "    <tr style=\"text-align: right;\">\n",
       "      <th></th>\n",
       "      <th></th>\n",
       "      <th>age</th>\n",
       "      <th>education</th>\n",
       "      <th>hours-per-week</th>\n",
       "    </tr>\n",
       "    <tr>\n",
       "      <th>race</th>\n",
       "      <th></th>\n",
       "      <th></th>\n",
       "      <th></th>\n",
       "      <th></th>\n",
       "    </tr>\n",
       "  </thead>\n",
       "  <tbody>\n",
       "    <tr>\n",
       "      <th rowspan=\"8\" valign=\"top\">Amer-Indian</th>\n",
       "      <th>count</th>\n",
       "      <td>92.000000</td>\n",
       "      <td>92.000000</td>\n",
       "      <td>92.000000</td>\n",
       "    </tr>\n",
       "    <tr>\n",
       "      <th>mean</th>\n",
       "      <td>36.946673</td>\n",
       "      <td>9.119565</td>\n",
       "      <td>41.434783</td>\n",
       "    </tr>\n",
       "    <tr>\n",
       "      <th>std</th>\n",
       "      <td>11.232960</td>\n",
       "      <td>2.026432</td>\n",
       "      <td>12.276400</td>\n",
       "    </tr>\n",
       "    <tr>\n",
       "      <th>min</th>\n",
       "      <td>17.000000</td>\n",
       "      <td>4.000000</td>\n",
       "      <td>8.000000</td>\n",
       "    </tr>\n",
       "    <tr>\n",
       "      <th>25%</th>\n",
       "      <td>28.000000</td>\n",
       "      <td>9.000000</td>\n",
       "      <td>40.000000</td>\n",
       "    </tr>\n",
       "    <tr>\n",
       "      <th>50%</th>\n",
       "      <td>36.500000</td>\n",
       "      <td>9.000000</td>\n",
       "      <td>40.000000</td>\n",
       "    </tr>\n",
       "    <tr>\n",
       "      <th>75%</th>\n",
       "      <td>44.000000</td>\n",
       "      <td>10.000000</td>\n",
       "      <td>45.000000</td>\n",
       "    </tr>\n",
       "    <tr>\n",
       "      <th>max</th>\n",
       "      <td>67.000000</td>\n",
       "      <td>13.000000</td>\n",
       "      <td>84.000000</td>\n",
       "    </tr>\n",
       "    <tr>\n",
       "      <th rowspan=\"8\" valign=\"top\">Asian</th>\n",
       "      <th>count</th>\n",
       "      <td>291.000000</td>\n",
       "      <td>291.000000</td>\n",
       "      <td>291.000000</td>\n",
       "    </tr>\n",
       "    <tr>\n",
       "      <th>mean</th>\n",
       "      <td>37.777278</td>\n",
       "      <td>10.941581</td>\n",
       "      <td>41.116838</td>\n",
       "    </tr>\n",
       "    <tr>\n",
       "      <th>std</th>\n",
       "      <td>12.688491</td>\n",
       "      <td>2.712682</td>\n",
       "      <td>11.820792</td>\n",
       "    </tr>\n",
       "    <tr>\n",
       "      <th>min</th>\n",
       "      <td>17.000000</td>\n",
       "      <td>2.000000</td>\n",
       "      <td>8.000000</td>\n",
       "    </tr>\n",
       "    <tr>\n",
       "      <th>25%</th>\n",
       "      <td>28.000000</td>\n",
       "      <td>9.000000</td>\n",
       "      <td>40.000000</td>\n",
       "    </tr>\n",
       "    <tr>\n",
       "      <th>50%</th>\n",
       "      <td>37.000000</td>\n",
       "      <td>10.000000</td>\n",
       "      <td>40.000000</td>\n",
       "    </tr>\n",
       "    <tr>\n",
       "      <th>75%</th>\n",
       "      <td>45.000000</td>\n",
       "      <td>13.000000</td>\n",
       "      <td>40.000000</td>\n",
       "    </tr>\n",
       "    <tr>\n",
       "      <th>max</th>\n",
       "      <td>90.000000</td>\n",
       "      <td>16.000000</td>\n",
       "      <td>99.000000</td>\n",
       "    </tr>\n",
       "    <tr>\n",
       "      <th rowspan=\"8\" valign=\"top\">Black</th>\n",
       "      <th>count</th>\n",
       "      <td>892.000000</td>\n",
       "      <td>892.000000</td>\n",
       "      <td>892.000000</td>\n",
       "    </tr>\n",
       "    <tr>\n",
       "      <th>mean</th>\n",
       "      <td>38.017039</td>\n",
       "      <td>9.582960</td>\n",
       "      <td>38.456278</td>\n",
       "    </tr>\n",
       "    <tr>\n",
       "      <th>std</th>\n",
       "      <td>12.418760</td>\n",
       "      <td>2.226476</td>\n",
       "      <td>10.199431</td>\n",
       "    </tr>\n",
       "    <tr>\n",
       "      <th>min</th>\n",
       "      <td>17.000000</td>\n",
       "      <td>1.000000</td>\n",
       "      <td>2.000000</td>\n",
       "    </tr>\n",
       "    <tr>\n",
       "      <th>25%</th>\n",
       "      <td>28.000000</td>\n",
       "      <td>9.000000</td>\n",
       "      <td>37.750000</td>\n",
       "    </tr>\n",
       "    <tr>\n",
       "      <th>50%</th>\n",
       "      <td>37.000000</td>\n",
       "      <td>9.000000</td>\n",
       "      <td>40.000000</td>\n",
       "    </tr>\n",
       "    <tr>\n",
       "      <th>75%</th>\n",
       "      <td>47.000000</td>\n",
       "      <td>10.000000</td>\n",
       "      <td>40.000000</td>\n",
       "    </tr>\n",
       "    <tr>\n",
       "      <th>max</th>\n",
       "      <td>90.000000</td>\n",
       "      <td>16.000000</td>\n",
       "      <td>99.000000</td>\n",
       "    </tr>\n",
       "    <tr>\n",
       "      <th rowspan=\"8\" valign=\"top\">Hispanic</th>\n",
       "      <th>count</th>\n",
       "      <td>75.000000</td>\n",
       "      <td>75.000000</td>\n",
       "      <td>75.000000</td>\n",
       "    </tr>\n",
       "    <tr>\n",
       "      <th>mean</th>\n",
       "      <td>33.738195</td>\n",
       "      <td>8.853333</td>\n",
       "      <td>42.666667</td>\n",
       "    </tr>\n",
       "    <tr>\n",
       "      <th>std</th>\n",
       "      <td>10.458353</td>\n",
       "      <td>3.069877</td>\n",
       "      <td>9.124267</td>\n",
       "    </tr>\n",
       "    <tr>\n",
       "      <th>min</th>\n",
       "      <td>18.000000</td>\n",
       "      <td>2.000000</td>\n",
       "      <td>20.000000</td>\n",
       "    </tr>\n",
       "    <tr>\n",
       "      <th>25%</th>\n",
       "      <td>26.000000</td>\n",
       "      <td>7.000000</td>\n",
       "      <td>40.000000</td>\n",
       "    </tr>\n",
       "    <tr>\n",
       "      <th>50%</th>\n",
       "      <td>31.000000</td>\n",
       "      <td>9.000000</td>\n",
       "      <td>40.000000</td>\n",
       "    </tr>\n",
       "    <tr>\n",
       "      <th>75%</th>\n",
       "      <td>41.000000</td>\n",
       "      <td>10.000000</td>\n",
       "      <td>45.500000</td>\n",
       "    </tr>\n",
       "    <tr>\n",
       "      <th>max</th>\n",
       "      <td>65.000000</td>\n",
       "      <td>15.000000</td>\n",
       "      <td>84.000000</td>\n",
       "    </tr>\n",
       "    <tr>\n",
       "      <th rowspan=\"8\" valign=\"top\">White</th>\n",
       "      <th>count</th>\n",
       "      <td>8062.000000</td>\n",
       "      <td>8062.000000</td>\n",
       "      <td>8062.000000</td>\n",
       "    </tr>\n",
       "    <tr>\n",
       "      <th>mean</th>\n",
       "      <td>38.483512</td>\n",
       "      <td>10.179112</td>\n",
       "      <td>41.350409</td>\n",
       "    </tr>\n",
       "    <tr>\n",
       "      <th>std</th>\n",
       "      <td>13.062263</td>\n",
       "      <td>2.552060</td>\n",
       "      <td>12.043552</td>\n",
       "    </tr>\n",
       "    <tr>\n",
       "      <th>min</th>\n",
       "      <td>17.000000</td>\n",
       "      <td>1.000000</td>\n",
       "      <td>1.000000</td>\n",
       "    </tr>\n",
       "    <tr>\n",
       "      <th>25%</th>\n",
       "      <td>28.000000</td>\n",
       "      <td>9.000000</td>\n",
       "      <td>40.000000</td>\n",
       "    </tr>\n",
       "    <tr>\n",
       "      <th>50%</th>\n",
       "      <td>37.000000</td>\n",
       "      <td>10.000000</td>\n",
       "      <td>40.000000</td>\n",
       "    </tr>\n",
       "    <tr>\n",
       "      <th>75%</th>\n",
       "      <td>47.000000</td>\n",
       "      <td>13.000000</td>\n",
       "      <td>45.000000</td>\n",
       "    </tr>\n",
       "    <tr>\n",
       "      <th>max</th>\n",
       "      <td>90.000000</td>\n",
       "      <td>16.000000</td>\n",
       "      <td>99.000000</td>\n",
       "    </tr>\n",
       "  </tbody>\n",
       "</table>\n",
       "</div>"
      ],
      "text/plain": [
       "                           age    education  hours-per-week\n",
       "race                                                       \n",
       "Amer-Indian count    92.000000    92.000000       92.000000\n",
       "            mean     36.946673     9.119565       41.434783\n",
       "            std      11.232960     2.026432       12.276400\n",
       "            min      17.000000     4.000000        8.000000\n",
       "            25%      28.000000     9.000000       40.000000\n",
       "            50%      36.500000     9.000000       40.000000\n",
       "            75%      44.000000    10.000000       45.000000\n",
       "            max      67.000000    13.000000       84.000000\n",
       "Asian       count   291.000000   291.000000      291.000000\n",
       "            mean     37.777278    10.941581       41.116838\n",
       "            std      12.688491     2.712682       11.820792\n",
       "            min      17.000000     2.000000        8.000000\n",
       "            25%      28.000000     9.000000       40.000000\n",
       "            50%      37.000000    10.000000       40.000000\n",
       "            75%      45.000000    13.000000       40.000000\n",
       "            max      90.000000    16.000000       99.000000\n",
       "Black       count   892.000000   892.000000      892.000000\n",
       "            mean     38.017039     9.582960       38.456278\n",
       "            std      12.418760     2.226476       10.199431\n",
       "            min      17.000000     1.000000        2.000000\n",
       "            25%      28.000000     9.000000       37.750000\n",
       "            50%      37.000000     9.000000       40.000000\n",
       "            75%      47.000000    10.000000       40.000000\n",
       "            max      90.000000    16.000000       99.000000\n",
       "Hispanic    count    75.000000    75.000000       75.000000\n",
       "            mean     33.738195     8.853333       42.666667\n",
       "            std      10.458353     3.069877        9.124267\n",
       "            min      18.000000     2.000000       20.000000\n",
       "            25%      26.000000     7.000000       40.000000\n",
       "            50%      31.000000     9.000000       40.000000\n",
       "            75%      41.000000    10.000000       45.500000\n",
       "            max      65.000000    15.000000       84.000000\n",
       "White       count  8062.000000  8062.000000     8062.000000\n",
       "            mean     38.483512    10.179112       41.350409\n",
       "            std      13.062263     2.552060       12.043552\n",
       "            min      17.000000     1.000000        1.000000\n",
       "            25%      28.000000     9.000000       40.000000\n",
       "            50%      37.000000    10.000000       40.000000\n",
       "            75%      47.000000    13.000000       45.000000\n",
       "            max      90.000000    16.000000       99.000000"
      ]
     },
     "execution_count": 16,
     "metadata": {},
     "output_type": "execute_result"
    }
   ],
   "source": [
    "#Showing the race feature against all the numeric attributes\n",
    "actable.groupby('race').describe()"
   ]
  },
  {
   "cell_type": "code",
   "execution_count": 17,
   "metadata": {},
   "outputs": [
    {
     "data": {
      "text/html": [
       "<div>\n",
       "<table border=\"1\" class=\"dataframe\">\n",
       "  <thead>\n",
       "    <tr style=\"text-align: right;\">\n",
       "      <th></th>\n",
       "      <th></th>\n",
       "      <th>age</th>\n",
       "      <th>education</th>\n",
       "      <th>hours-per-week</th>\n",
       "    </tr>\n",
       "    <tr>\n",
       "      <th>sex</th>\n",
       "      <th></th>\n",
       "      <th></th>\n",
       "      <th></th>\n",
       "      <th></th>\n",
       "    </tr>\n",
       "  </thead>\n",
       "  <tbody>\n",
       "    <tr>\n",
       "      <th rowspan=\"8\" valign=\"top\">Female</th>\n",
       "      <th>count</th>\n",
       "      <td>3029.000000</td>\n",
       "      <td>3029.000000</td>\n",
       "      <td>3029.000000</td>\n",
       "    </tr>\n",
       "    <tr>\n",
       "      <th>mean</th>\n",
       "      <td>37.012171</td>\n",
       "      <td>10.095081</td>\n",
       "      <td>37.257511</td>\n",
       "    </tr>\n",
       "    <tr>\n",
       "      <th>std</th>\n",
       "      <td>13.352487</td>\n",
       "      <td>2.302332</td>\n",
       "      <td>11.086026</td>\n",
       "    </tr>\n",
       "    <tr>\n",
       "      <th>min</th>\n",
       "      <td>17.000000</td>\n",
       "      <td>1.000000</td>\n",
       "      <td>2.000000</td>\n",
       "    </tr>\n",
       "    <tr>\n",
       "      <th>25%</th>\n",
       "      <td>26.000000</td>\n",
       "      <td>9.000000</td>\n",
       "      <td>35.000000</td>\n",
       "    </tr>\n",
       "    <tr>\n",
       "      <th>50%</th>\n",
       "      <td>36.000000</td>\n",
       "      <td>10.000000</td>\n",
       "      <td>40.000000</td>\n",
       "    </tr>\n",
       "    <tr>\n",
       "      <th>75%</th>\n",
       "      <td>46.000000</td>\n",
       "      <td>12.000000</td>\n",
       "      <td>40.000000</td>\n",
       "    </tr>\n",
       "    <tr>\n",
       "      <th>max</th>\n",
       "      <td>90.000000</td>\n",
       "      <td>16.000000</td>\n",
       "      <td>99.000000</td>\n",
       "    </tr>\n",
       "    <tr>\n",
       "      <th rowspan=\"8\" valign=\"top\">Male</th>\n",
       "      <th>count</th>\n",
       "      <td>6383.000000</td>\n",
       "      <td>6383.000000</td>\n",
       "      <td>6383.000000</td>\n",
       "    </tr>\n",
       "    <tr>\n",
       "      <th>mean</th>\n",
       "      <td>39.006431</td>\n",
       "      <td>10.139590</td>\n",
       "      <td>42.894250</td>\n",
       "    </tr>\n",
       "    <tr>\n",
       "      <th>std</th>\n",
       "      <td>12.723429</td>\n",
       "      <td>2.648374</td>\n",
       "      <td>11.821253</td>\n",
       "    </tr>\n",
       "    <tr>\n",
       "      <th>min</th>\n",
       "      <td>17.000000</td>\n",
       "      <td>1.000000</td>\n",
       "      <td>1.000000</td>\n",
       "    </tr>\n",
       "    <tr>\n",
       "      <th>25%</th>\n",
       "      <td>29.000000</td>\n",
       "      <td>9.000000</td>\n",
       "      <td>40.000000</td>\n",
       "    </tr>\n",
       "    <tr>\n",
       "      <th>50%</th>\n",
       "      <td>38.000000</td>\n",
       "      <td>10.000000</td>\n",
       "      <td>40.000000</td>\n",
       "    </tr>\n",
       "    <tr>\n",
       "      <th>75%</th>\n",
       "      <td>47.000000</td>\n",
       "      <td>13.000000</td>\n",
       "      <td>50.000000</td>\n",
       "    </tr>\n",
       "    <tr>\n",
       "      <th>max</th>\n",
       "      <td>90.000000</td>\n",
       "      <td>16.000000</td>\n",
       "      <td>99.000000</td>\n",
       "    </tr>\n",
       "  </tbody>\n",
       "</table>\n",
       "</div>"
      ],
      "text/plain": [
       "                      age    education  hours-per-week\n",
       "sex                                                   \n",
       "Female count  3029.000000  3029.000000     3029.000000\n",
       "       mean     37.012171    10.095081       37.257511\n",
       "       std      13.352487     2.302332       11.086026\n",
       "       min      17.000000     1.000000        2.000000\n",
       "       25%      26.000000     9.000000       35.000000\n",
       "       50%      36.000000    10.000000       40.000000\n",
       "       75%      46.000000    12.000000       40.000000\n",
       "       max      90.000000    16.000000       99.000000\n",
       "Male   count  6383.000000  6383.000000     6383.000000\n",
       "       mean     39.006431    10.139590       42.894250\n",
       "       std      12.723429     2.648374       11.821253\n",
       "       min      17.000000     1.000000        1.000000\n",
       "       25%      29.000000     9.000000       40.000000\n",
       "       50%      38.000000    10.000000       40.000000\n",
       "       75%      47.000000    13.000000       50.000000\n",
       "       max      90.000000    16.000000       99.000000"
      ]
     },
     "execution_count": 17,
     "metadata": {},
     "output_type": "execute_result"
    }
   ],
   "source": [
    "#Showing the sex feature against all the numeric attributes\n",
    "actable.groupby('sex').describe()"
   ]
  },
  {
   "cell_type": "code",
   "execution_count": 18,
   "metadata": {},
   "outputs": [
    {
     "data": {
      "text/html": [
       "<div>\n",
       "<table border=\"1\" class=\"dataframe\">\n",
       "  <thead>\n",
       "    <tr style=\"text-align: right;\">\n",
       "      <th></th>\n",
       "      <th></th>\n",
       "      <th>age</th>\n",
       "      <th>education</th>\n",
       "      <th>hours-per-week</th>\n",
       "    </tr>\n",
       "    <tr>\n",
       "      <th>income</th>\n",
       "      <th></th>\n",
       "      <th></th>\n",
       "      <th></th>\n",
       "      <th></th>\n",
       "    </tr>\n",
       "  </thead>\n",
       "  <tbody>\n",
       "    <tr>\n",
       "      <th rowspan=\"8\" valign=\"top\">&lt;=50K</th>\n",
       "      <th>count</th>\n",
       "      <td>7093.000000</td>\n",
       "      <td>7093.000000</td>\n",
       "      <td>7093.000000</td>\n",
       "    </tr>\n",
       "    <tr>\n",
       "      <th>mean</th>\n",
       "      <td>36.642971</td>\n",
       "      <td>9.646976</td>\n",
       "      <td>39.567038</td>\n",
       "    </tr>\n",
       "    <tr>\n",
       "      <th>std</th>\n",
       "      <td>13.339926</td>\n",
       "      <td>2.397358</td>\n",
       "      <td>11.868506</td>\n",
       "    </tr>\n",
       "    <tr>\n",
       "      <th>min</th>\n",
       "      <td>17.000000</td>\n",
       "      <td>1.000000</td>\n",
       "      <td>1.000000</td>\n",
       "    </tr>\n",
       "    <tr>\n",
       "      <th>25%</th>\n",
       "      <td>26.000000</td>\n",
       "      <td>9.000000</td>\n",
       "      <td>38.000000</td>\n",
       "    </tr>\n",
       "    <tr>\n",
       "      <th>50%</th>\n",
       "      <td>35.000000</td>\n",
       "      <td>9.000000</td>\n",
       "      <td>40.000000</td>\n",
       "    </tr>\n",
       "    <tr>\n",
       "      <th>75%</th>\n",
       "      <td>45.000000</td>\n",
       "      <td>10.000000</td>\n",
       "      <td>40.000000</td>\n",
       "    </tr>\n",
       "    <tr>\n",
       "      <th>max</th>\n",
       "      <td>90.000000</td>\n",
       "      <td>16.000000</td>\n",
       "      <td>99.000000</td>\n",
       "    </tr>\n",
       "    <tr>\n",
       "      <th rowspan=\"8\" valign=\"top\">&gt;50K</th>\n",
       "      <th>count</th>\n",
       "      <td>2319.000000</td>\n",
       "      <td>2319.000000</td>\n",
       "      <td>2319.000000</td>\n",
       "    </tr>\n",
       "    <tr>\n",
       "      <th>mean</th>\n",
       "      <td>43.630585</td>\n",
       "      <td>11.588185</td>\n",
       "      <td>45.708495</td>\n",
       "    </tr>\n",
       "    <tr>\n",
       "      <th>std</th>\n",
       "      <td>10.043148</td>\n",
       "      <td>2.410764</td>\n",
       "      <td>10.678794</td>\n",
       "    </tr>\n",
       "    <tr>\n",
       "      <th>min</th>\n",
       "      <td>19.000000</td>\n",
       "      <td>2.000000</td>\n",
       "      <td>1.000000</td>\n",
       "    </tr>\n",
       "    <tr>\n",
       "      <th>25%</th>\n",
       "      <td>36.000000</td>\n",
       "      <td>9.000000</td>\n",
       "      <td>40.000000</td>\n",
       "    </tr>\n",
       "    <tr>\n",
       "      <th>50%</th>\n",
       "      <td>43.000000</td>\n",
       "      <td>12.000000</td>\n",
       "      <td>40.000000</td>\n",
       "    </tr>\n",
       "    <tr>\n",
       "      <th>75%</th>\n",
       "      <td>50.000000</td>\n",
       "      <td>13.000000</td>\n",
       "      <td>50.000000</td>\n",
       "    </tr>\n",
       "    <tr>\n",
       "      <th>max</th>\n",
       "      <td>90.000000</td>\n",
       "      <td>16.000000</td>\n",
       "      <td>99.000000</td>\n",
       "    </tr>\n",
       "  </tbody>\n",
       "</table>\n",
       "</div>"
      ],
      "text/plain": [
       "                      age    education  hours-per-week\n",
       "income                                                \n",
       "<=50K  count  7093.000000  7093.000000     7093.000000\n",
       "       mean     36.642971     9.646976       39.567038\n",
       "       std      13.339926     2.397358       11.868506\n",
       "       min      17.000000     1.000000        1.000000\n",
       "       25%      26.000000     9.000000       38.000000\n",
       "       50%      35.000000     9.000000       40.000000\n",
       "       75%      45.000000    10.000000       40.000000\n",
       "       max      90.000000    16.000000       99.000000\n",
       ">50K   count  2319.000000  2319.000000     2319.000000\n",
       "       mean     43.630585    11.588185       45.708495\n",
       "       std      10.043148     2.410764       10.678794\n",
       "       min      19.000000     2.000000        1.000000\n",
       "       25%      36.000000     9.000000       40.000000\n",
       "       50%      43.000000    12.000000       40.000000\n",
       "       75%      50.000000    13.000000       50.000000\n",
       "       max      90.000000    16.000000       99.000000"
      ]
     },
     "execution_count": 18,
     "metadata": {},
     "output_type": "execute_result"
    }
   ],
   "source": [
    "#Showing the income feature against all the numeric attributes\n",
    "actable.groupby('income').describe()"
   ]
  },
  {
   "cell_type": "code",
   "execution_count": 19,
   "metadata": {},
   "outputs": [
    {
     "data": {
      "text/plain": [
       "Index(['age', 'workclass', 'education', 'marital-status', 'race', 'sex',\n",
       "       'hours-per-week', 'income'],\n",
       "      dtype='object')"
      ]
     },
     "execution_count": 19,
     "metadata": {},
     "output_type": "execute_result"
    }
   ],
   "source": [
    "actable.columns"
   ]
  },
  {
   "cell_type": "code",
   "execution_count": 20,
   "metadata": {},
   "outputs": [
    {
     "data": {
      "image/png": "[encoded data removed]",
      "text/plain": [
       "<matplotlib.figure.Figure at 0x10a6f0ba8>"
      ]
     },
     "metadata": {},
     "output_type": "display_data"
    }
   ],
   "source": [
    "#Histogram of age attribute\n",
    "actable.age.plot(kind='hist',bins=11,title='age Histogram',color='orange', edgecolor='black')\n",
    "plt.show()"
   ]
  },
  {
   "cell_type": "code",
   "execution_count": 21,
   "metadata": {},
   "outputs": [
    {
     "data": {
      "image/png": "[encoded data removed]",
      "text/plain": [
       "<matplotlib.figure.Figure at 0x1137ddb00>"
      ]
     },
     "metadata": {},
     "output_type": "display_data"
    }
   ],
   "source": [
    "#Histogram of education attribute\n",
    "actable.education.plot(kind='hist',bins=10,title='education Histogram',color='red', edgecolor='black')\n",
    "plt.show()"
   ]
  },
  {
   "cell_type": "code",
   "execution_count": 22,
   "metadata": {},
   "outputs": [
    {
     "data": {
      "image/png": "[encoded data removed]",
      "text/plain": [
       "<matplotlib.figure.Figure at 0x113f77550>"
      ]
     },
     "metadata": {},
     "output_type": "display_data"
    }
   ],
   "source": [
    "#Histogram of hours-per-week attribute\n",
    "actable['hours-per-week'].plot(kind='hist',bins=10,title='hours-per-week Histogram',color='blue', edgecolor='black')\n",
    "plt.show()"
   ]
  },
  {
   "cell_type": "markdown",
   "metadata": {
    "collapsed": true
   },
   "source": [
    "#3a) Preprocessing and data analysis:\n",
    "\n",
    "Perform the following cross-tabulations (including generating bar charts): education+race, work-class+income, work-class+race, and race+income. In the latter case (race+income) also create a table or chart showing percentages of each race category that fall in the low-income group. Discuss your observations from this analysis.\n",
    "\n",
    "#According to the following analysis between education and race, we could observe that the White race donminate on all level of education levels, especially on grade 9,10 and 13.I would think that the reason behind this might be related to population. Further research might be needed to find out the true reason.\n",
    "\n",
    "#For the analysis between workclass and income, we could observe that Low income (<=50k) dominate all the workclass. The majority of low income counts in the Private Section. I would believe that the true reason behind this would be very complicated because this might related to geographical, industris among workclass, age of workforce etc. So that I also think that further research is needed for finding out the reason.\n",
    "\n",
    "#For the analysis between race and workclass, the result shows very similar pattern as the previous analysis(education and race), the White race dominates among all workclass. As I mentioned, further research is needed to investgate to find out the reason behind that, I would guess that might related to the factors of population, geographical, cultura etc.\n",
    "\n",
    "#For the final observation between race and income, the result is very typical which the lower income (<=50k) category dominate among all the race, this stats is reasonable because I would think that this income pattern exist in a lot of countries. Lower income population is basically the working force for a country has to be majority of the population. Similar to the above findings, the count of the white race dominate the lower income category. However, the largest contrast between the Low and High income group is the Hispanic group which is 92(Low):8(High), the second big contrast group is Amer-Indian 91(Low):9(High). Other than that, the rest of race group proportion is very similar.  "
   ]
  },
  {
   "cell_type": "code",
   "execution_count": 23,
   "metadata": {},
   "outputs": [
    {
     "name": "stdout",
     "output_type": "stream",
     "text": [
      "race       Amer-Indian  Asian  Black  Hispanic  White\n",
      "education                                            \n",
      "1                    0      0      1         0     11\n",
      "2                    0      1      4         3     38\n",
      "3                    0      4      5         1     71\n",
      "4                    5      5     14         6    150\n",
      "5                    0      3     19         2    118\n",
      "6                    8      3     30         4    223\n",
      "7                    4      6     49         4    261\n",
      "8                    0      2     17         3     78\n",
      "9                   35     67    350        23   2590\n",
      "10                  26     64    206        11   1818\n",
      "11                   5     10     33         4    337\n",
      "12                   4      5     33         3    259\n",
      "13                   5     75    102         8   1387\n",
      "14                   0     27     20         1    467\n",
      "15                   0     11      5         2    153\n",
      "16                   0      8      4         0    101\n"
     ]
    },
    {
     "data": {
      "image/png": "[encoded data removed]",
      "text/plain": [
       "<matplotlib.figure.Figure at 0x1137769e8>"
      ]
     },
     "metadata": {},
     "output_type": "display_data"
    }
   ],
   "source": [
    "#Cross Tabulations between education and race attributes\n",
    "ct_ed_ra=pd.crosstab(actable.education,actable.race)\n",
    "print(ct_ed_ra)\n",
    "ct_ed_ra.plot(kind='bar',figsize=(15,10))\n",
    "plt.show()"
   ]
  },
  {
   "cell_type": "code",
   "execution_count": 24,
   "metadata": {},
   "outputs": [
    {
     "name": "stdout",
     "output_type": "stream",
     "text": [
      "income     <=50K  >50K\n",
      "workclass             \n",
      "Private     5443  1504\n",
      "Public       925   392\n",
      "Self-emp     725   423\n"
     ]
    },
    {
     "data": {
      "image/png": "[encoded data removed]",
      "text/plain": [
       "<matplotlib.figure.Figure at 0x10feee5f8>"
      ]
     },
     "metadata": {},
     "output_type": "display_data"
    }
   ],
   "source": [
    "ct_wc_in=pd.crosstab(actable.workclass,actable.income)\n",
    "print(ct_wc_in)\n",
    "ct_wc_in.plot(kind='bar',figsize=(15,10))\n",
    "plt.show()"
   ]
  },
  {
   "cell_type": "code",
   "execution_count": 25,
   "metadata": {},
   "outputs": [
    {
     "name": "stdout",
     "output_type": "stream",
     "text": [
      "race       Amer-Indian  Asian  Black  Hispanic  White\n",
      "workclass                                            \n",
      "Private             65    204    664        64   5950\n",
      "Public              20     48    192         5   1052\n",
      "Self-emp             7     39     36         6   1060\n"
     ]
    },
    {
     "data": {
      "image/png": "[encoded data removed]",
      "text/plain": [
       "<matplotlib.figure.Figure at 0x1104d4908>"
      ]
     },
     "metadata": {},
     "output_type": "display_data"
    }
   ],
   "source": [
    "ct_wc_ra=pd.crosstab(actable.workclass,actable.race)\n",
    "print(ct_wc_ra)\n",
    "ct_wc_ra.plot(kind='bar',figsize=(15,10))\n",
    "plt.show()"
   ]
  },
  {
   "cell_type": "code",
   "execution_count": 26,
   "metadata": {},
   "outputs": [
    {
     "name": "stdout",
     "output_type": "stream",
     "text": [
      "income       <=50K  >50K\n",
      "race                    \n",
      "Amer-Indian     83     9\n",
      "Asian          224    67\n",
      "Black          773   119\n",
      "Hispanic        69     6\n",
      "White         5944  2118\n"
     ]
    },
    {
     "data": {
      "image/png": "[encoded data removed]",
      "text/plain": [
       "<matplotlib.figure.Figure at 0x10cee8470>"
      ]
     },
     "metadata": {},
     "output_type": "display_data"
    }
   ],
   "source": [
    "ct_ra_in=pd.crosstab(actable.race,actable.income)\n",
    "print(ct_ra_in)\n",
    "ct_ra_in.plot(kind='bar',figsize=(15,10))\n",
    "plt.show()"
   ]
  },
  {
   "cell_type": "code",
   "execution_count": 27,
   "metadata": {},
   "outputs": [
    {
     "name": "stdout",
     "output_type": "stream",
     "text": [
      "race         income\n",
      "Amer-Indian  <=50K     90.217391\n",
      "             >50K       9.782609\n",
      "Asian        <=50K     76.975945\n",
      "             >50K      23.024055\n",
      "Black        <=50K     86.659193\n",
      "             >50K      13.340807\n",
      "Hispanic     <=50K     92.000000\n",
      "             >50K       8.000000\n",
      "White        <=50K     73.728603\n",
      "             >50K      26.271397\n",
      "Name: income, dtype: float64\n"
     ]
    }
   ],
   "source": [
    "t1=actable.groupby(['race','income'])['income'].count().groupby(level='race').apply(lambda x: 100*x/float(x.sum()))\n",
    "print(t1)"
   ]
  },
  {
   "cell_type": "markdown",
   "metadata": {},
   "source": [
    "#3 Preprocessing and data analysis:\n",
    "\n",
    "#Compare and contrast the characteristics of the low-income and high-income categories across the different attributes. "
   ]
  },
  {
   "cell_type": "code",
   "execution_count": 28,
   "metadata": {},
   "outputs": [
    {
     "name": "stdout",
     "output_type": "stream",
     "text": [
      "income       <=50K  >50K\n",
      "race                    \n",
      "Amer-Indian     83     9\n",
      "Asian          224    67\n",
      "Black          773   119\n",
      "Hispanic        69     6\n",
      "White         5944  2118\n"
     ]
    },
    {
     "data": {
      "image/png": "[encoded data removed]",
      "text/plain": [
       "<matplotlib.figure.Figure at 0x11049ddd8>"
      ]
     },
     "metadata": {},
     "output_type": "display_data"
    }
   ],
   "source": [
    "ct_ra_in=pd.crosstab(actable.race,actable.income)\n",
    "print(ct_ra_in)\n",
    "ct_ra_in.plot(kind='bar',figsize=(15,10))\n",
    "plt.show()"
   ]
  },
  {
   "cell_type": "markdown",
   "metadata": {},
   "source": [
    "#For the observation from last part, between race and income, the result is very typical which the lower income (<=50k) category dominate among all the race, this stats is reasonable because I would think that this income pattern exist in a lot of countries. Lower income population is basically the working force for a country has to be majority of the population. Similar to the above findings, the count of the white race dominate the lower income category. However, the largest contrast between the Low and High income group is the Hispanic group which is 92(Low):8(High), the second big contrast group is Amer-Indian 91(Low):9(High). Other than that, the rest of race group proportion is very similar."
   ]
  },
  {
   "cell_type": "code",
   "execution_count": 29,
   "metadata": {},
   "outputs": [
    {
     "name": "stdout",
     "output_type": "stream",
     "text": [
      "income   <=50K  >50K\n",
      "age                 \n",
      "young     2988   237\n",
      "mid-age   2119   981\n",
      "old       1986  1101\n"
     ]
    },
    {
     "data": {
      "image/png": "[encoded data removed]",
      "text/plain": [
       "<matplotlib.figure.Figure at 0x10d6526d8>"
      ]
     },
     "metadata": {},
     "output_type": "display_data"
    }
   ],
   "source": [
    "#Categorized the age group \n",
    "age_cat=actable.age\n",
    "age_cat=pd.qcut(age_cat,[0,0.33,0.66,1],['young','mid-age','old'])\n",
    "#Age vs income\n",
    "ct_ag_in=pd.crosstab(age_cat,actable.income)\n",
    "print(ct_ag_in)\n",
    "ct_ag_in.plot(kind='bar',figsize=(15,10))\n",
    "plt.show()"
   ]
  },
  {
   "cell_type": "markdown",
   "metadata": {},
   "source": [
    "#For the above analysis between age and income, the age group was first categorized to 2 groups (young, mid-age, old). we could observe that the low income group (<=50k) dominates all the age group. Especially the most contrast happened in the young age group. I would say that this finding is reasonable because the income shoud correlate to the working experience and skill set. So that young age group should have a large portion of low income group. "
   ]
  },
  {
   "cell_type": "code",
   "execution_count": 30,
   "metadata": {},
   "outputs": [
    {
     "name": "stdout",
     "output_type": "stream",
     "text": [
      "income     <=50K  >50K\n",
      "education             \n",
      "Low         3619   599\n",
      "Mid         1737   388\n",
      "Advanced    1737  1332\n"
     ]
    },
    {
     "data": {
      "image/png": "[encoded data removed]",
      "text/plain": [
       "<matplotlib.figure.Figure at 0x10d2fb7b8>"
      ]
     },
     "metadata": {},
     "output_type": "display_data"
    }
   ],
   "source": [
    "#Categorized the education group\n",
    "ed_cat=actable.education\n",
    "ed_cat=pd.qcut(ed_cat,[0,0.33,0.66,1],['Low','Mid','Advanced'])\n",
    "#Education vs income\n",
    "ct_ed_in=pd.crosstab(ed_cat,actable.income)\n",
    "print(ct_ed_in)\n",
    "ct_ed_in.plot(kind='bar',figsize=(15,10))\n",
    "plt.show()"
   ]
  },
  {
   "cell_type": "markdown",
   "metadata": {},
   "source": [
    "For the analysis between education and income,the education feature is first categroized into 3 groups (Low, Mid, Advanced). We could obsviously obseve that the low income group dominate among all the education groups. The biggest contrast between low and high income is the low-educated group. The low income group is about 6 times more than the high income group, The second big contrast group is the mid-educated group. The least contrast is the Advanced-educated group. This finding is very reasonable,I believe this circumstance really happening in majority of cities / countries, the higher education level group is more capable to get a higher income. However, the low-income group always exist no matter what because I believe low-inocme is the main working class in the country."
   ]
  },
  {
   "cell_type": "code",
   "execution_count": 31,
   "metadata": {},
   "outputs": [
    {
     "name": "stdout",
     "output_type": "stream",
     "text": [
      "income          <=50K  >50K\n",
      "hours-per-week             \n",
      "Part-Time        6416  1872\n",
      "Full-Time         677   447\n"
     ]
    },
    {
     "data": {
      "image/png": "[encoded data removed]",
      "text/plain": [
       "<matplotlib.figure.Figure at 0x10d16c470>"
      ]
     },
     "metadata": {},
     "output_type": "display_data"
    }
   ],
   "source": [
    "#Categorized the education group\n",
    "hr_cat=actable['hours-per-week']\n",
    "hr_cat=pd.qcut(hr_cat,[0,0.8,1],['Part-Time','Full-Time'])\n",
    "#Education vs income\n",
    "ct_hr_in=pd.crosstab(hr_cat,actable.income)\n",
    "print(ct_hr_in)\n",
    "ct_hr_in.plot(kind='bar',figsize=(15,10))\n",
    "plt.show()"
   ]
  },
  {
   "cell_type": "markdown",
   "metadata": {},
   "source": [
    "#For the above analysis between hours-per-week and income, the hous-per-week attribute is first categorized into 2 level (Part-time , Full-time). The full-time does not means working hours is 40, but it just mean working hours is at the highest quartile of the hours-per-week group. As we can see, the low-income group dominate both part-time and full-time category, especially on the part-time category, the finding is very usual, working less than 40 hours a week mostly get lower pay, but certainly it depends on the type of job and location of work. More research is needed to explore the reasons. "
   ]
  },
  {
   "cell_type": "code",
   "execution_count": 32,
   "metadata": {},
   "outputs": [
    {
     "name": "stdout",
     "output_type": "stream",
     "text": [
      "income     <=50K  >50K\n",
      "workclass             \n",
      "Private     5443  1504\n",
      "Public       925   392\n",
      "Self-emp     725   423\n"
     ]
    },
    {
     "data": {
      "image/png": "[encoded data removed]",
      "text/plain": [
       "<matplotlib.figure.Figure at 0x10d332f60>"
      ]
     },
     "metadata": {},
     "output_type": "display_data"
    }
   ],
   "source": [
    "#Education vs income\n",
    "ct_wc_in=pd.crosstab(actable.workclass,actable.income)\n",
    "print(ct_wc_in)\n",
    "ct_wc_in.plot(kind='bar',figsize=(15,10))\n",
    "plt.show()"
   ]
  },
  {
   "cell_type": "markdown",
   "metadata": {},
   "source": [
    "#From the analysis from the previous part between workclass and income, we could observe that Low income (<=50k) dominate all the workclass. The majority of low income counts in the Private Section. I would guess that one reason would be private sector provide the most jobs placements in the communities, so that the working group appears on the prviate sector. Also, I would believe that the true reason behind this would be very complicated because this might related to geographical, industris among workclass, age of workforce etc. So that I also think that further research is needed for finding out the reason. "
   ]
  },
  {
   "cell_type": "code",
   "execution_count": 33,
   "metadata": {},
   "outputs": [
    {
     "name": "stdout",
     "output_type": "stream",
     "text": [
      "income          <=50K  >50K\n",
      "marital-status             \n",
      "Married          2730  2007\n",
      "Single           4363   312\n"
     ]
    },
    {
     "data": {
      "image/png": "[encoded data removed]",
      "text/plain": [
       "<matplotlib.figure.Figure at 0x10d165c88>"
      ]
     },
     "metadata": {},
     "output_type": "display_data"
    }
   ],
   "source": [
    "#marital-status vs income\n",
    "ct_ms_in=pd.crosstab(actable['marital-status'],actable.income)\n",
    "print(ct_ms_in)\n",
    "ct_ms_in.plot(kind='bar',figsize=(15,10))\n",
    "plt.show()"
   ]
  },
  {
   "cell_type": "markdown",
   "metadata": {},
   "source": [
    "#The above data shows some very interesting result, the Single group shows much bigger contrast than the Married group. The Low-income group at least 13 times more more than the high-income group. On the contrary, both income group shows very similar within the Married group. Also, the high-income group from Married is about 6 times more than the single group. This finding is very interesting, it is very difficult to say the reason behind this. It would be some factors e.g. working attitude or education related to this. Definitely further research is necessary to prove this findings. "
   ]
  },
  {
   "cell_type": "code",
   "execution_count": 34,
   "metadata": {},
   "outputs": [
    {
     "name": "stdout",
     "output_type": "stream",
     "text": [
      "income       <=50K  >50K\n",
      "race                    \n",
      "Amer-Indian     83     9\n",
      "Asian          224    67\n",
      "Black          773   119\n",
      "Hispanic        69     6\n",
      "White         5944  2118\n"
     ]
    },
    {
     "data": {
      "image/png": "[encoded data removed]",
      "text/plain": [
       "<matplotlib.figure.Figure at 0x10d240358>"
      ]
     },
     "metadata": {},
     "output_type": "display_data"
    }
   ],
   "source": [
    "#race vs income\n",
    "ct_ra_in=pd.crosstab(actable.race,actable.income)\n",
    "print(ct_ra_in)\n",
    "ct_ra_in.plot(kind='bar',figsize=(15,10))\n",
    "plt.show()"
   ]
  },
  {
   "cell_type": "markdown",
   "metadata": {},
   "source": [
    "#From the previous observation between race and income, the result is very typical which the lower income (<=50k) category dominate among all the race, this stats is reasonable because I would think that this income pattern exist in a lot of countries. Lower income population is basically the working force for a country has to be majority of the population. Similar to the above findings, the count of the white race dominate the lower income category. However, the largest contrast between the Low and High income group is the Hispanic group which is 92(Low):8(High), the second big contrast group is Amer-Indian 91(Low):9(High). Other than that, the rest of race group proportion is very similar."
   ]
  },
  {
   "cell_type": "code",
   "execution_count": 35,
   "metadata": {},
   "outputs": [
    {
     "name": "stdout",
     "output_type": "stream",
     "text": [
      "income  <=50K  >50K\n",
      "sex                \n",
      "Female   2669   360\n",
      "Male     4424  1959\n"
     ]
    },
    {
     "data": {
      "image/png": "[encoded data removed]",
      "text/plain": [
       "<matplotlib.figure.Figure at 0x10d5de860>"
      ]
     },
     "metadata": {},
     "output_type": "display_data"
    }
   ],
   "source": [
    "#sex vs income\n",
    "ct_sex_in=pd.crosstab(actable.sex,actable.income)\n",
    "print(ct_sex_in)\n",
    "ct_sex_in.plot(kind='bar',figsize=(15,10))\n",
    "plt.show()"
   ]
  },
  {
   "cell_type": "markdown",
   "metadata": {},
   "source": [
    "#The above analysis between sex and income, the male group dominate the most of 2/3 counts of data. Similar to the above, the count of low-income group (<=50k) is much much more than the high-income group. Although the male group dominates the overall count, the contrast on the Female group is much larger. The low-income group is about 6 times more than the high-income group in the Female group. On the contrary, the low-income group is ONLY double of the high-income group within the male group. This is always a major topic in the society, the male group always being said dominate the high-paying job or position. Sot that I would say that further research is necessary."
   ]
  },
  {
   "cell_type": "markdown",
   "metadata": {},
   "source": [
    "#3b)Predictive Modeling and Model Evaluation:\n",
    "\n",
    "#Using either Pandas or Scikit-learn, create dummy variables for the categorical attributes. Then separate the target attribute (\"income_>50K\") from the attributes used for training. [Note: you need to drop \"income_<=50K\" which is also created as a dummy variable in earlier steps)."
   ]
  },
  {
   "cell_type": "code",
   "execution_count": 24,
   "metadata": {},
   "outputs": [
    {
     "data": {
      "text/plain": [
       "(9412, 17)"
      ]
     },
     "execution_count": 24,
     "metadata": {},
     "output_type": "execute_result"
    }
   ],
   "source": [
    "#Convert to Standard Spreadsheet format (get Dummies)\n",
    "actable_dummies=pd.get_dummies(actable[['age', 'workclass', 'education', 'marital-status', 'race', 'sex',\n",
    "       'hours-per-week', 'income']])\n",
    "actable_dummies.shape"
   ]
  },
  {
   "cell_type": "code",
   "execution_count": 25,
   "metadata": {},
   "outputs": [
    {
     "data": {
      "text/html": [
       "<div>\n",
       "<table border=\"1\" class=\"dataframe\">\n",
       "  <thead>\n",
       "    <tr style=\"text-align: right;\">\n",
       "      <th></th>\n",
       "      <th>age</th>\n",
       "      <th>education</th>\n",
       "      <th>hours-per-week</th>\n",
       "      <th>workclass_Private</th>\n",
       "      <th>workclass_Public</th>\n",
       "      <th>workclass_Self-emp</th>\n",
       "      <th>marital-status_Married</th>\n",
       "      <th>marital-status_Single</th>\n",
       "      <th>race_Amer-Indian</th>\n",
       "      <th>race_Asian</th>\n",
       "      <th>race_Black</th>\n",
       "      <th>race_Hispanic</th>\n",
       "      <th>race_White</th>\n",
       "      <th>sex_Female</th>\n",
       "      <th>sex_Male</th>\n",
       "      <th>income_&lt;=50K</th>\n",
       "      <th>income_&gt;50K</th>\n",
       "    </tr>\n",
       "  </thead>\n",
       "  <tbody>\n",
       "    <tr>\n",
       "      <th>0</th>\n",
       "      <td>39.0</td>\n",
       "      <td>13</td>\n",
       "      <td>40</td>\n",
       "      <td>0</td>\n",
       "      <td>1</td>\n",
       "      <td>0</td>\n",
       "      <td>0</td>\n",
       "      <td>1</td>\n",
       "      <td>0</td>\n",
       "      <td>0</td>\n",
       "      <td>0</td>\n",
       "      <td>0</td>\n",
       "      <td>1</td>\n",
       "      <td>0</td>\n",
       "      <td>1</td>\n",
       "      <td>1</td>\n",
       "      <td>0</td>\n",
       "    </tr>\n",
       "    <tr>\n",
       "      <th>1</th>\n",
       "      <td>50.0</td>\n",
       "      <td>13</td>\n",
       "      <td>13</td>\n",
       "      <td>0</td>\n",
       "      <td>0</td>\n",
       "      <td>1</td>\n",
       "      <td>1</td>\n",
       "      <td>0</td>\n",
       "      <td>0</td>\n",
       "      <td>0</td>\n",
       "      <td>0</td>\n",
       "      <td>0</td>\n",
       "      <td>1</td>\n",
       "      <td>0</td>\n",
       "      <td>1</td>\n",
       "      <td>1</td>\n",
       "      <td>0</td>\n",
       "    </tr>\n",
       "    <tr>\n",
       "      <th>2</th>\n",
       "      <td>38.0</td>\n",
       "      <td>9</td>\n",
       "      <td>40</td>\n",
       "      <td>1</td>\n",
       "      <td>0</td>\n",
       "      <td>0</td>\n",
       "      <td>0</td>\n",
       "      <td>1</td>\n",
       "      <td>0</td>\n",
       "      <td>0</td>\n",
       "      <td>0</td>\n",
       "      <td>0</td>\n",
       "      <td>1</td>\n",
       "      <td>0</td>\n",
       "      <td>1</td>\n",
       "      <td>1</td>\n",
       "      <td>0</td>\n",
       "    </tr>\n",
       "    <tr>\n",
       "      <th>3</th>\n",
       "      <td>53.0</td>\n",
       "      <td>7</td>\n",
       "      <td>40</td>\n",
       "      <td>1</td>\n",
       "      <td>0</td>\n",
       "      <td>0</td>\n",
       "      <td>1</td>\n",
       "      <td>0</td>\n",
       "      <td>0</td>\n",
       "      <td>0</td>\n",
       "      <td>1</td>\n",
       "      <td>0</td>\n",
       "      <td>0</td>\n",
       "      <td>0</td>\n",
       "      <td>1</td>\n",
       "      <td>1</td>\n",
       "      <td>0</td>\n",
       "    </tr>\n",
       "    <tr>\n",
       "      <th>4</th>\n",
       "      <td>28.0</td>\n",
       "      <td>13</td>\n",
       "      <td>40</td>\n",
       "      <td>1</td>\n",
       "      <td>0</td>\n",
       "      <td>0</td>\n",
       "      <td>1</td>\n",
       "      <td>0</td>\n",
       "      <td>0</td>\n",
       "      <td>0</td>\n",
       "      <td>1</td>\n",
       "      <td>0</td>\n",
       "      <td>0</td>\n",
       "      <td>1</td>\n",
       "      <td>0</td>\n",
       "      <td>1</td>\n",
       "      <td>0</td>\n",
       "    </tr>\n",
       "  </tbody>\n",
       "</table>\n",
       "</div>"
      ],
      "text/plain": [
       "    age  education  hours-per-week  workclass_Private  workclass_Public  \\\n",
       "0  39.0         13              40                  0                 1   \n",
       "1  50.0         13              13                  0                 0   \n",
       "2  38.0          9              40                  1                 0   \n",
       "3  53.0          7              40                  1                 0   \n",
       "4  28.0         13              40                  1                 0   \n",
       "\n",
       "   workclass_Self-emp  marital-status_Married  marital-status_Single  \\\n",
       "0                   0                       0                      1   \n",
       "1                   1                       1                      0   \n",
       "2                   0                       0                      1   \n",
       "3                   0                       1                      0   \n",
       "4                   0                       1                      0   \n",
       "\n",
       "   race_Amer-Indian  race_Asian  race_Black  race_Hispanic  race_White  \\\n",
       "0                 0           0           0              0           1   \n",
       "1                 0           0           0              0           1   \n",
       "2                 0           0           0              0           1   \n",
       "3                 0           0           1              0           0   \n",
       "4                 0           0           1              0           0   \n",
       "\n",
       "   sex_Female  sex_Male  income_<=50K  income_>50K  \n",
       "0           0         1             1            0  \n",
       "1           0         1             1            0  \n",
       "2           0         1             1            0  \n",
       "3           0         1             1            0  \n",
       "4           1         0             1            0  "
      ]
     },
     "execution_count": 25,
     "metadata": {},
     "output_type": "execute_result"
    }
   ],
   "source": [
    "actable_dummies.head(5)"
   ]
  },
  {
   "cell_type": "code",
   "execution_count": 26,
   "metadata": {},
   "outputs": [
    {
     "data": {
      "text/plain": [
       "(9412, 16)"
      ]
     },
     "execution_count": 26,
     "metadata": {},
     "output_type": "execute_result"
    }
   ],
   "source": [
    "#Drop out all the 'income_<=50K' column\n",
    "actable_dummies_50=actable_dummies.drop('income_<=50K',axis=1)\n",
    "actable_dummies_50.shape"
   ]
  },
  {
   "cell_type": "code",
   "execution_count": 27,
   "metadata": {},
   "outputs": [
    {
     "data": {
      "text/html": [
       "<div>\n",
       "<table border=\"1\" class=\"dataframe\">\n",
       "  <thead>\n",
       "    <tr style=\"text-align: right;\">\n",
       "      <th></th>\n",
       "      <th>age</th>\n",
       "      <th>education</th>\n",
       "      <th>hours-per-week</th>\n",
       "      <th>workclass_Private</th>\n",
       "      <th>workclass_Public</th>\n",
       "      <th>workclass_Self-emp</th>\n",
       "      <th>marital-status_Married</th>\n",
       "      <th>marital-status_Single</th>\n",
       "      <th>race_Amer-Indian</th>\n",
       "      <th>race_Asian</th>\n",
       "      <th>race_Black</th>\n",
       "      <th>race_Hispanic</th>\n",
       "      <th>race_White</th>\n",
       "      <th>sex_Female</th>\n",
       "      <th>sex_Male</th>\n",
       "      <th>income_&gt;50K</th>\n",
       "    </tr>\n",
       "  </thead>\n",
       "  <tbody>\n",
       "    <tr>\n",
       "      <th>0</th>\n",
       "      <td>39.0</td>\n",
       "      <td>13</td>\n",
       "      <td>40</td>\n",
       "      <td>0</td>\n",
       "      <td>1</td>\n",
       "      <td>0</td>\n",
       "      <td>0</td>\n",
       "      <td>1</td>\n",
       "      <td>0</td>\n",
       "      <td>0</td>\n",
       "      <td>0</td>\n",
       "      <td>0</td>\n",
       "      <td>1</td>\n",
       "      <td>0</td>\n",
       "      <td>1</td>\n",
       "      <td>0</td>\n",
       "    </tr>\n",
       "    <tr>\n",
       "      <th>1</th>\n",
       "      <td>50.0</td>\n",
       "      <td>13</td>\n",
       "      <td>13</td>\n",
       "      <td>0</td>\n",
       "      <td>0</td>\n",
       "      <td>1</td>\n",
       "      <td>1</td>\n",
       "      <td>0</td>\n",
       "      <td>0</td>\n",
       "      <td>0</td>\n",
       "      <td>0</td>\n",
       "      <td>0</td>\n",
       "      <td>1</td>\n",
       "      <td>0</td>\n",
       "      <td>1</td>\n",
       "      <td>0</td>\n",
       "    </tr>\n",
       "    <tr>\n",
       "      <th>2</th>\n",
       "      <td>38.0</td>\n",
       "      <td>9</td>\n",
       "      <td>40</td>\n",
       "      <td>1</td>\n",
       "      <td>0</td>\n",
       "      <td>0</td>\n",
       "      <td>0</td>\n",
       "      <td>1</td>\n",
       "      <td>0</td>\n",
       "      <td>0</td>\n",
       "      <td>0</td>\n",
       "      <td>0</td>\n",
       "      <td>1</td>\n",
       "      <td>0</td>\n",
       "      <td>1</td>\n",
       "      <td>0</td>\n",
       "    </tr>\n",
       "    <tr>\n",
       "      <th>3</th>\n",
       "      <td>53.0</td>\n",
       "      <td>7</td>\n",
       "      <td>40</td>\n",
       "      <td>1</td>\n",
       "      <td>0</td>\n",
       "      <td>0</td>\n",
       "      <td>1</td>\n",
       "      <td>0</td>\n",
       "      <td>0</td>\n",
       "      <td>0</td>\n",
       "      <td>1</td>\n",
       "      <td>0</td>\n",
       "      <td>0</td>\n",
       "      <td>0</td>\n",
       "      <td>1</td>\n",
       "      <td>0</td>\n",
       "    </tr>\n",
       "    <tr>\n",
       "      <th>4</th>\n",
       "      <td>28.0</td>\n",
       "      <td>13</td>\n",
       "      <td>40</td>\n",
       "      <td>1</td>\n",
       "      <td>0</td>\n",
       "      <td>0</td>\n",
       "      <td>1</td>\n",
       "      <td>0</td>\n",
       "      <td>0</td>\n",
       "      <td>0</td>\n",
       "      <td>1</td>\n",
       "      <td>0</td>\n",
       "      <td>0</td>\n",
       "      <td>1</td>\n",
       "      <td>0</td>\n",
       "      <td>0</td>\n",
       "    </tr>\n",
       "  </tbody>\n",
       "</table>\n",
       "</div>"
      ],
      "text/plain": [
       "    age  education  hours-per-week  workclass_Private  workclass_Public  \\\n",
       "0  39.0         13              40                  0                 1   \n",
       "1  50.0         13              13                  0                 0   \n",
       "2  38.0          9              40                  1                 0   \n",
       "3  53.0          7              40                  1                 0   \n",
       "4  28.0         13              40                  1                 0   \n",
       "\n",
       "   workclass_Self-emp  marital-status_Married  marital-status_Single  \\\n",
       "0                   0                       0                      1   \n",
       "1                   1                       1                      0   \n",
       "2                   0                       0                      1   \n",
       "3                   0                       1                      0   \n",
       "4                   0                       1                      0   \n",
       "\n",
       "   race_Amer-Indian  race_Asian  race_Black  race_Hispanic  race_White  \\\n",
       "0                 0           0           0              0           1   \n",
       "1                 0           0           0              0           1   \n",
       "2                 0           0           0              0           1   \n",
       "3                 0           0           1              0           0   \n",
       "4                 0           0           1              0           0   \n",
       "\n",
       "   sex_Female  sex_Male  income_>50K  \n",
       "0           0         1            0  \n",
       "1           0         1            0  \n",
       "2           0         1            0  \n",
       "3           0         1            0  \n",
       "4           1         0            0  "
      ]
     },
     "execution_count": 27,
     "metadata": {},
     "output_type": "execute_result"
    }
   ],
   "source": [
    "actable_dummies_50.head(5)"
   ]
  },
  {
   "cell_type": "code",
   "execution_count": 28,
   "metadata": {},
   "outputs": [
    {
     "data": {
      "text/plain": [
       "(9412,)"
      ]
     },
     "execution_count": 28,
     "metadata": {},
     "output_type": "execute_result"
    }
   ],
   "source": [
    "#Extract the Class / target column from the main table\n",
    "actable_target=actable_dummies_50['income_>50K']\n",
    "actable_target.shape"
   ]
  },
  {
   "cell_type": "markdown",
   "metadata": {},
   "source": [
    "#3b)Predictive Modeling and Model Evaluation:\n",
    "\n",
    "#Use scikit-learn to build classifiers uisng Naive Bayes (Gaussian), decision tree (using \"entropy\" as selection criteria), and linear discriminant analysis (LDA). For each of these perform 10-fold cross-validation (using cross-validation module in scikit-learn) and report the overall average accuracy."
   ]
  },
  {
   "cell_type": "code",
   "execution_count": 29,
   "metadata": {},
   "outputs": [
    {
     "data": {
      "text/plain": [
       "(9412, 15)"
      ]
     },
     "execution_count": 29,
     "metadata": {},
     "output_type": "execute_result"
    }
   ],
   "source": [
    "#Drop the target column'income_>50K' from the table\n",
    "actable_dummies_50.drop('income_>50K',axis=1,inplace=True)\n",
    "actable_dummies_50.shape"
   ]
  },
  {
   "cell_type": "code",
   "execution_count": 30,
   "metadata": {},
   "outputs": [
    {
     "data": {
      "text/html": [
       "<div>\n",
       "<table border=\"1\" class=\"dataframe\">\n",
       "  <thead>\n",
       "    <tr style=\"text-align: right;\">\n",
       "      <th></th>\n",
       "      <th>age</th>\n",
       "      <th>education</th>\n",
       "      <th>hours-per-week</th>\n",
       "      <th>workclass_Private</th>\n",
       "      <th>workclass_Public</th>\n",
       "      <th>workclass_Self-emp</th>\n",
       "      <th>marital-status_Married</th>\n",
       "      <th>marital-status_Single</th>\n",
       "      <th>race_Amer-Indian</th>\n",
       "      <th>race_Asian</th>\n",
       "      <th>race_Black</th>\n",
       "      <th>race_Hispanic</th>\n",
       "      <th>race_White</th>\n",
       "      <th>sex_Female</th>\n",
       "      <th>sex_Male</th>\n",
       "    </tr>\n",
       "  </thead>\n",
       "  <tbody>\n",
       "    <tr>\n",
       "      <th>0</th>\n",
       "      <td>39.0</td>\n",
       "      <td>13</td>\n",
       "      <td>40</td>\n",
       "      <td>0</td>\n",
       "      <td>1</td>\n",
       "      <td>0</td>\n",
       "      <td>0</td>\n",
       "      <td>1</td>\n",
       "      <td>0</td>\n",
       "      <td>0</td>\n",
       "      <td>0</td>\n",
       "      <td>0</td>\n",
       "      <td>1</td>\n",
       "      <td>0</td>\n",
       "      <td>1</td>\n",
       "    </tr>\n",
       "    <tr>\n",
       "      <th>1</th>\n",
       "      <td>50.0</td>\n",
       "      <td>13</td>\n",
       "      <td>13</td>\n",
       "      <td>0</td>\n",
       "      <td>0</td>\n",
       "      <td>1</td>\n",
       "      <td>1</td>\n",
       "      <td>0</td>\n",
       "      <td>0</td>\n",
       "      <td>0</td>\n",
       "      <td>0</td>\n",
       "      <td>0</td>\n",
       "      <td>1</td>\n",
       "      <td>0</td>\n",
       "      <td>1</td>\n",
       "    </tr>\n",
       "    <tr>\n",
       "      <th>2</th>\n",
       "      <td>38.0</td>\n",
       "      <td>9</td>\n",
       "      <td>40</td>\n",
       "      <td>1</td>\n",
       "      <td>0</td>\n",
       "      <td>0</td>\n",
       "      <td>0</td>\n",
       "      <td>1</td>\n",
       "      <td>0</td>\n",
       "      <td>0</td>\n",
       "      <td>0</td>\n",
       "      <td>0</td>\n",
       "      <td>1</td>\n",
       "      <td>0</td>\n",
       "      <td>1</td>\n",
       "    </tr>\n",
       "    <tr>\n",
       "      <th>3</th>\n",
       "      <td>53.0</td>\n",
       "      <td>7</td>\n",
       "      <td>40</td>\n",
       "      <td>1</td>\n",
       "      <td>0</td>\n",
       "      <td>0</td>\n",
       "      <td>1</td>\n",
       "      <td>0</td>\n",
       "      <td>0</td>\n",
       "      <td>0</td>\n",
       "      <td>1</td>\n",
       "      <td>0</td>\n",
       "      <td>0</td>\n",
       "      <td>0</td>\n",
       "      <td>1</td>\n",
       "    </tr>\n",
       "    <tr>\n",
       "      <th>4</th>\n",
       "      <td>28.0</td>\n",
       "      <td>13</td>\n",
       "      <td>40</td>\n",
       "      <td>1</td>\n",
       "      <td>0</td>\n",
       "      <td>0</td>\n",
       "      <td>1</td>\n",
       "      <td>0</td>\n",
       "      <td>0</td>\n",
       "      <td>0</td>\n",
       "      <td>1</td>\n",
       "      <td>0</td>\n",
       "      <td>0</td>\n",
       "      <td>1</td>\n",
       "      <td>0</td>\n",
       "    </tr>\n",
       "  </tbody>\n",
       "</table>\n",
       "</div>"
      ],
      "text/plain": [
       "    age  education  hours-per-week  workclass_Private  workclass_Public  \\\n",
       "0  39.0         13              40                  0                 1   \n",
       "1  50.0         13              13                  0                 0   \n",
       "2  38.0          9              40                  1                 0   \n",
       "3  53.0          7              40                  1                 0   \n",
       "4  28.0         13              40                  1                 0   \n",
       "\n",
       "   workclass_Self-emp  marital-status_Married  marital-status_Single  \\\n",
       "0                   0                       0                      1   \n",
       "1                   1                       1                      0   \n",
       "2                   0                       0                      1   \n",
       "3                   0                       1                      0   \n",
       "4                   0                       1                      0   \n",
       "\n",
       "   race_Amer-Indian  race_Asian  race_Black  race_Hispanic  race_White  \\\n",
       "0                 0           0           0              0           1   \n",
       "1                 0           0           0              0           1   \n",
       "2                 0           0           0              0           1   \n",
       "3                 0           0           1              0           0   \n",
       "4                 0           0           1              0           0   \n",
       "\n",
       "   sex_Female  sex_Male  \n",
       "0           0         1  \n",
       "1           0         1  \n",
       "2           0         1  \n",
       "3           0         1  \n",
       "4           1         0  "
      ]
     },
     "execution_count": 30,
     "metadata": {},
     "output_type": "execute_result"
    }
   ],
   "source": [
    "actable_dummies_50.head(5)"
   ]
  },
  {
   "cell_type": "code",
   "execution_count": 31,
   "metadata": {},
   "outputs": [
    {
     "name": "stderr",
     "output_type": "stream",
     "text": [
      "/Users/KevQuant/anaconda/lib/python3.6/site-packages/sklearn/cross_validation.py:44: DeprecationWarning: This module was deprecated in version 0.18 in favor of the model_selection module into which all the refactored classes and functions are moved. Also note that the interface of the new CV iterators are different from that of this module. This module will be removed in 0.20.\n",
      "  \"This module will be removed in 0.20.\", DeprecationWarning)\n"
     ]
    }
   ],
   "source": [
    "#Split the train set, test set, train class, test class\n",
    "from sklearn.cross_validation import train_test_split\n",
    "actable_train,actable_test,actable_target_train,actable_target_test=train_test_split(actable_dummies_50,\n",
    "                                                                         actable_target,\n",
    "                                                                         test_size=0.2,\n",
    "                                                                         random_state=10)"
   ]
  },
  {
   "cell_type": "code",
   "execution_count": 32,
   "metadata": {},
   "outputs": [
    {
     "data": {
      "text/plain": [
       "(7529, 15)"
      ]
     },
     "execution_count": 32,
     "metadata": {},
     "output_type": "execute_result"
    }
   ],
   "source": [
    "actable_train.shape"
   ]
  },
  {
   "cell_type": "code",
   "execution_count": 33,
   "metadata": {},
   "outputs": [
    {
     "data": {
      "text/plain": [
       "(7529,)"
      ]
     },
     "execution_count": 33,
     "metadata": {},
     "output_type": "execute_result"
    }
   ],
   "source": [
    "actable_target_train.shape"
   ]
  },
  {
   "cell_type": "code",
   "execution_count": 34,
   "metadata": {},
   "outputs": [
    {
     "data": {
      "text/plain": [
       "(1883, 15)"
      ]
     },
     "execution_count": 34,
     "metadata": {},
     "output_type": "execute_result"
    }
   ],
   "source": [
    "actable_test.shape"
   ]
  },
  {
   "cell_type": "code",
   "execution_count": 35,
   "metadata": {},
   "outputs": [
    {
     "data": {
      "text/plain": [
       "(1883,)"
      ]
     },
     "execution_count": 35,
     "metadata": {},
     "output_type": "execute_result"
    }
   ],
   "source": [
    "actable_target_test.shape"
   ]
  },
  {
   "cell_type": "code",
   "execution_count": 36,
   "metadata": {
    "collapsed": true
   },
   "outputs": [],
   "source": [
    "from sklearn import neighbors, tree, naive_bayes"
   ]
  },
  {
   "cell_type": "markdown",
   "metadata": {},
   "source": [
    "#Navie Bayes (Gaussian)"
   ]
  },
  {
   "cell_type": "code",
   "execution_count": 37,
   "metadata": {},
   "outputs": [
    {
     "name": "stdout",
     "output_type": "stream",
     "text": [
      "Score on Training:  0.723734891752\n",
      "Score on Test:  0.698353690919\n"
     ]
    }
   ],
   "source": [
    "nbclf = naive_bayes.GaussianNB()\n",
    "nbclf = nbclf.fit(actable_train, actable_target_train)\n",
    "print (\"Score on Training: \", nbclf.score(actable_train, actable_target_train))\n",
    "print (\"Score on Test: \", nbclf.score(actable_test, actable_target_test))"
   ]
  },
  {
   "cell_type": "code",
   "execution_count": 38,
   "metadata": {},
   "outputs": [
    {
     "name": "stdout",
     "output_type": "stream",
     "text": [
      "Overall Average accuracy: 0.717805 +/- 0.011479\n"
     ]
    }
   ],
   "source": [
    "#10-fold Cross Validation\n",
    "from sklearn import cross_validation\n",
    "cv_scores = cross_validation.cross_val_score(nbclf, actable_dummies_50, actable_target, cv=10)\n",
    "print('Overall Average accuracy: %f +/- %f'%(cv_scores.mean(),cv_scores.std()))"
   ]
  },
  {
   "cell_type": "markdown",
   "metadata": {},
   "source": [
    "#Decision Tree using 'entropy'"
   ]
  },
  {
   "cell_type": "code",
   "execution_count": 39,
   "metadata": {},
   "outputs": [
    {
     "name": "stdout",
     "output_type": "stream",
     "text": [
      "Training Score :  0.944481338823\n",
      "Testing Score :  0.761550716941\n"
     ]
    }
   ],
   "source": [
    "treeclf = tree.DecisionTreeClassifier(criterion='entropy')\n",
    "treeclf = treeclf.fit(actable_train, actable_target_train)\n",
    "print('Training Score : ',treeclf.score(actable_train, actable_target_train))\n",
    "print('Testing Score : ',treeclf.score(actable_test, actable_target_test))"
   ]
  },
  {
   "cell_type": "code",
   "execution_count": 40,
   "metadata": {},
   "outputs": [
    {
     "name": "stdout",
     "output_type": "stream",
     "text": [
      "Overall Average accuracy: 0.764981 +/- 0.013119\n"
     ]
    }
   ],
   "source": [
    "#10-fold Cross-Validation \n",
    "cv_scores = cross_validation.cross_val_score(treeclf, actable_dummies_50, actable_target, cv=10)\n",
    "print('Overall Average accuracy: %f +/- %f'%(cv_scores.mean(),cv_scores.std()))"
   ]
  },
  {
   "cell_type": "markdown",
   "metadata": {
    "collapsed": true
   },
   "source": [
    "#Linear Discriminant Analysis (LDA)"
   ]
  },
  {
   "cell_type": "code",
   "execution_count": 41,
   "metadata": {
    "collapsed": true
   },
   "outputs": [],
   "source": [
    "from sklearn.discriminant_analysis import LinearDiscriminantAnalysis"
   ]
  },
  {
   "cell_type": "code",
   "execution_count": 42,
   "metadata": {},
   "outputs": [
    {
     "name": "stdout",
     "output_type": "stream",
     "text": [
      "Score on Training:  0.807278523044\n",
      "Score on Test:  0.808815719596\n"
     ]
    },
    {
     "name": "stderr",
     "output_type": "stream",
     "text": [
      "/Users/KevQuant/anaconda/lib/python3.6/site-packages/sklearn/discriminant_analysis.py:387: UserWarning: Variables are collinear.\n",
      "  warnings.warn(\"Variables are collinear.\")\n"
     ]
    }
   ],
   "source": [
    "ldclf = LinearDiscriminantAnalysis()\n",
    "ldclf = ldclf.fit(actable_train, actable_target_train)\n",
    "print (\"Score on Training: \", ldclf.score(actable_train, actable_target_train))\n",
    "print (\"Score on Test: \", ldclf.score(actable_test, actable_target_test))"
   ]
  },
  {
   "cell_type": "code",
   "execution_count": 43,
   "metadata": {},
   "outputs": [
    {
     "name": "stdout",
     "output_type": "stream",
     "text": [
      "Overall Average accuracy: 0.807588 +/- 0.010092\n"
     ]
    },
    {
     "name": "stderr",
     "output_type": "stream",
     "text": [
      "/Users/KevQuant/anaconda/lib/python3.6/site-packages/sklearn/discriminant_analysis.py:387: UserWarning: Variables are collinear.\n",
      "  warnings.warn(\"Variables are collinear.\")\n",
      "/Users/KevQuant/anaconda/lib/python3.6/site-packages/sklearn/discriminant_analysis.py:387: UserWarning: Variables are collinear.\n",
      "  warnings.warn(\"Variables are collinear.\")\n",
      "/Users/KevQuant/anaconda/lib/python3.6/site-packages/sklearn/discriminant_analysis.py:387: UserWarning: Variables are collinear.\n",
      "  warnings.warn(\"Variables are collinear.\")\n",
      "/Users/KevQuant/anaconda/lib/python3.6/site-packages/sklearn/discriminant_analysis.py:387: UserWarning: Variables are collinear.\n",
      "  warnings.warn(\"Variables are collinear.\")\n",
      "/Users/KevQuant/anaconda/lib/python3.6/site-packages/sklearn/discriminant_analysis.py:387: UserWarning: Variables are collinear.\n",
      "  warnings.warn(\"Variables are collinear.\")\n",
      "/Users/KevQuant/anaconda/lib/python3.6/site-packages/sklearn/discriminant_analysis.py:387: UserWarning: Variables are collinear.\n",
      "  warnings.warn(\"Variables are collinear.\")\n",
      "/Users/KevQuant/anaconda/lib/python3.6/site-packages/sklearn/discriminant_analysis.py:387: UserWarning: Variables are collinear.\n",
      "  warnings.warn(\"Variables are collinear.\")\n",
      "/Users/KevQuant/anaconda/lib/python3.6/site-packages/sklearn/discriminant_analysis.py:387: UserWarning: Variables are collinear.\n",
      "  warnings.warn(\"Variables are collinear.\")\n",
      "/Users/KevQuant/anaconda/lib/python3.6/site-packages/sklearn/discriminant_analysis.py:387: UserWarning: Variables are collinear.\n",
      "  warnings.warn(\"Variables are collinear.\")\n",
      "/Users/KevQuant/anaconda/lib/python3.6/site-packages/sklearn/discriminant_analysis.py:387: UserWarning: Variables are collinear.\n",
      "  warnings.warn(\"Variables are collinear.\")\n"
     ]
    }
   ],
   "source": [
    "#10-fold Cross-Validation\n",
    "cv_scores = cross_validation.cross_val_score(ldclf, actable_dummies_50, actable_target, cv=10)\n",
    "print('Overall Average accuracy: %f +/- %f'%(cv_scores.mean(),cv_scores.std()))"
   ]
  },
  {
   "cell_type": "code",
   "execution_count": 49,
   "metadata": {
    "collapsed": true
   },
   "outputs": [],
   "source": [
    "from sklearn.tree import export_graphviz\n",
    "export_graphviz(treeclf,out_file='dtree.dot', feature_names=actable_train.columns)"
   ]
  },
  {
   "cell_type": "code",
   "execution_count": 46,
   "metadata": {},
   "outputs": [
    {
     "name": "stderr",
     "output_type": "stream",
     "text": [
      "IOPub data rate exceeded.\n",
      "The notebook server will temporarily stop sending output\n",
      "to the client in order to avoid crashing it.\n",
      "To change this limit, set the config variable\n",
      "`--NotebookApp.iopub_data_rate_limit`.\n"
     ]
    }
   ],
   "source": [
    "import graphviz\n",
    "from graphviz import Source\n",
    "\n",
    "with open(\"dtree.dot\") as f:\n",
    "    dot_graph = f.read()\n",
    "graphviz.Source(dot_graph)"
   ]
  },
  {
   "cell_type": "code",
   "execution_count": 52,
   "metadata": {},
   "outputs": [
    {
     "data": {
      "text/plain": [
       "0"
      ]
     },
     "execution_count": 52,
     "metadata": {},
     "output_type": "execute_result"
    }
   ],
   "source": [
    "from os import system\n",
    "system('dot -Tpng dtree.dot -o dtree.png')"
   ]
  },
  {
   "cell_type": "code",
   "execution_count": 53,
   "metadata": {},
   "outputs": [
    {
     "name": "stderr",
     "output_type": "stream",
     "text": [
      "IOPub data rate exceeded.\n",
      "The notebook server will temporarily stop sending output\n",
      "to the client in order to avoid crashing it.\n",
      "To change this limit, set the config variable\n",
      "`--NotebookApp.iopub_data_rate_limit`.\n"
     ]
    }
   ],
   "source": [
    "from IPython.display import Image\n",
    "Image(filename='dtree.png', width=800)"
   ]
  },
  {
   "cell_type": "markdown",
   "metadata": {
    "collapsed": true
   },
   "source": [
    "#Based on the above proceed result, the figue is exceed the browser limit, so that it is unable to display. The Tree.dot file was able to be genertated. However, the generated png is also unable to show the clear tree diagram. "
   ]
  }
 ],
 "metadata": {
  "kernelspec": {
   "display_name": "Python 3",
   "language": "python",
   "name": "python3"
  },
  "language_info": {
   "codemirror_mode": {
    "name": "ipython",
    "version": 3
   },
   "file_extension": ".py",
   "mimetype": "text/x-python",
   "name": "python",
   "nbconvert_exporter": "python",
   "pygments_lexer": "ipython3",
   "version": "3.6.0"
  }
 },
 "nbformat": 4,
 "nbformat_minor": 2
}
