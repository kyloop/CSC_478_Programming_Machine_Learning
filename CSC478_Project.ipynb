{
 "cells": [
  {
   "cell_type": "markdown",
   "metadata": {},
   "source": [
    "####CSC 478 Project Proposal (Autumn 2017)\n",
    "\n",
    "####Name: \n",
    "Kevin Kai Chung Ying\n",
    "\n",
    "####Date:\n",
    "Oct/21/2017\n",
    "\n",
    "####Application:\n",
    "Recommendation System\n",
    "\n",
    "####Brief description of dataset:\n",
    "The Datasets were donated by KKBox through Kaggle.com. There are 5 different datasets are provided including 1 train, 1 test, 1 songs , 1 songs extra info, members dataset. The song list includes about 2.6 mil of songs track with songs’s length, gene_id, artist_name, composer, lyricist, language. KKBox is an Asia’s leading music streaming service holds about 30 million song track Asia-pop music library. The purpose of particular dataset donation aims to look for a better recommendation system for music engine for their new customers. The potential analysis target is to predict which songs would be users’ favorite and chance to repetitively listen the SAME song within a month. The provided dataset also includes a member info table which contains members’ location, gender, register channel, register date and expiration date.\n",
    "\n",
    "####Classification Target\n",
    "•\tTarget=1 means user is repetitively listening SAME event(s) triggered within a month after the very first observable listening event. \n",
    "•\tTarget=0 means otherwise.\n",
    "\n",
    "####Attributes from Training and Testing Set\n",
    "•\t6 Attributes in the Dataset\n",
    "o\tuser_id (Char), song_id (Char),  source_system_tab(char, 2 variations), source_screen_name (char, 2 variations), source_type(char, 2 variations)\n",
    "•\t7377418 rows of Records on the Training dataset\n",
    "•\tThe aggregation of tables will be necessary for the analysis.\n",
    "\n",
    "####Algorithm still not confirmed, will depends on the accuracy.\n",
    "•\tKNN (User-based / Item-based / Content Based Collaborative System)\n",
    "•\tCorrelation between users\n",
    "•\tCosine Similarity\n",
    "•\tMAE or RMSE Evaluation\n",
    "\n",
    "\n",
    "\n"
   ]
  },
  {
   "cell_type": "code",
   "execution_count": null,
   "metadata": {
    "collapsed": true
   },
   "outputs": [],
   "source": [
    "import numpy as np\n",
    "import pandas as pd\n",
    "import urllib, time, json, sqlite3"
   ]
  },
  {
   "cell_type": "code",
   "execution_count": null,
   "metadata": {
    "collapsed": true
   },
   "outputs": [],
   "source": [
    "music_train = music_train.reindex(np.random.permutation(music_train.index))\n"
   ]
  },
  {
   "cell_type": "markdown",
   "metadata": {},
   "source": [
    "#Prepare and aggregate Dataset"
   ]
  },
  {
   "cell_type": "code",
   "execution_count": null,
   "metadata": {
    "collapsed": true
   },
   "outputs": [],
   "source": [
    "import sqlite3\n",
    "from sqlite3 import OperationalError\n",
    "import urllib, time, json, sqlite3"
   ]
  },
  {
   "cell_type": "code",
   "execution_count": null,
   "metadata": {
    "collapsed": true
   },
   "outputs": [],
   "source": [
    "train='''Create Table Train(\n",
    "    customer_id VARCHAR(100),\n",
    "    song_id VARCHAR(100),\n",
    "    source_system_tab VARCHAR(20),\n",
    "    source_screen_name VARCHAR(30),\n",
    "    source_type VARCHAR(30),\n",
    "    Target integer(2),\n",
    "    \n",
    "    CONSTRAINT Train_PK Primary Key (customer_id, song_id)\n",
    "\n",
    ")\n",
    "'''\n",
    "\n",
    "mem='''Create Table Members(\n",
    "\n",
    "    customer_id VARCHAR(100),\n",
    "    city INTEGER(5),\n",
    "    age INTEGER(5),\n",
    "    gender VARCHAR(2),\n",
    "    registered_via integer(10),\n",
    "    reg_time VARCHAR(2),\n",
    "    exp_date VARCHAR(2),\n",
    " \n",
    "    CONSTRAINT Members_PK PRIMARY KEY (customer_id)\n",
    ")\n",
    "'''\n",
    "\n",
    "songs='''Create Table Songs(\n",
    "    \n",
    "    song_id VARCHAR(100),\n",
    "    song_length INTEGER(20),\n",
    "    genre_ids INTEGER(20),\n",
    "    artist_name VARCHAR(100),\n",
    "    composer VARCHAR(100),\n",
    "    lyricist VARCHAR(100),\n",
    "    language INTEGER(10),\n",
    "    \n",
    "    CONSTRAINT Songs_PK PRIMARY KEY (song_id)\n",
    ")\n",
    "'''"
   ]
  },
  {
   "cell_type": "code",
   "execution_count": null,
   "metadata": {
    "collapsed": true
   },
   "outputs": [],
   "source": [
    "conn=sqlite3.connect('project.db')\n",
    "c=conn.cursor()\n",
    "\n",
    "c.execute('Drop Table  if exists Train;')\n",
    "c.execute(train)\n",
    "\n",
    "c.execute('Drop Table  if exists Members;')\n",
    "c.execute(mem)\n",
    "\n",
    "c.execute('Drop Table  if exists Songs;')\n",
    "c.execute(songs)\n",
    "\n",
    "conn.commit()\n",
    "conn.close()\n"
   ]
  },
  {
   "cell_type": "code",
   "execution_count": null,
   "metadata": {
    "collapsed": true
   },
   "outputs": [],
   "source": [
    "start=time.time()\n",
    "count=0\n",
    "source=open ('./Data/Music/train.csv')\n",
    "train_lst=[]\n",
    "\n",
    "content=source.read()\n",
    "lines=content.strip().split('\\n')\n",
    "\n",
    "for line in lines:\n",
    "    line=line.strip().split(',')\n",
    "    train_lst.append(line)\n",
    "    count+=1\n",
    "\n",
    "train_lst=train_lst[1:] #Skip the first row(attributes)    \n",
    "end=time.time()\n",
    "end-start"
   ]
  },
  {
   "cell_type": "code",
   "execution_count": null,
   "metadata": {
    "collapsed": true
   },
   "outputs": [],
   "source": [
    "len(train_lst)"
   ]
  },
  {
   "cell_type": "code",
   "execution_count": null,
   "metadata": {
    "collapsed": true
   },
   "outputs": [],
   "source": [
    "start=time.time()\n",
    "count=0\n",
    "source=open ('./Data/Music/members.csv')\n",
    "members_lst=[]\n",
    "\n",
    "content=source.read()\n",
    "lines=content.strip().split('\\n')\n",
    "\n",
    "for line in lines:\n",
    "    line=line.strip().split(',')\n",
    "    members_lst.append(line)\n",
    "    count+=1\n",
    "\n",
    "members_lst=members_lst[1:] #Skip the first row(attributes)    \n",
    "end=time.time()\n",
    "end-start"
   ]
  },
  {
   "cell_type": "code",
   "execution_count": null,
   "metadata": {
    "collapsed": true
   },
   "outputs": [],
   "source": [
    "len(members_lst)"
   ]
  },
  {
   "cell_type": "code",
   "execution_count": null,
   "metadata": {
    "collapsed": true
   },
   "outputs": [],
   "source": [
    "start=time.time()\n",
    "count=0\n",
    "source=open ('./Data/Music/songs.csv')\n",
    "songs_lst=[]\n",
    "\n",
    "content=source.read()\n",
    "lines=content.strip().split('\\n')\n",
    "\n",
    "for line in lines:\n",
    "    line=line.strip().split(',')\n",
    "    songs_lst.append(line)\n",
    "    count+=1\n",
    "\n",
    "songs_lst=songs_lst[1:] #Skip the first row(attributes)    \n",
    "end=time.time()\n",
    "end-start"
   ]
  },
  {
   "cell_type": "code",
   "execution_count": null,
   "metadata": {
    "collapsed": true
   },
   "outputs": [],
   "source": [
    "songs_lst[0:50]"
   ]
  },
  {
   "cell_type": "code",
   "execution_count": null,
   "metadata": {
    "collapsed": true
   },
   "outputs": [],
   "source": [
    "start=time.time()\n",
    "mem_name_lst=[]\n",
    "song_name_lst=[]\n",
    "for i in range(len(members_lst)):\n",
    "    mem_name_lst.append(members_lst[i][0])\n",
    "    \n",
    "for i in range(len(songs_lst)):\n",
    "    song_name_lst.append(songs_lst[i][0])\n",
    "\n",
    "mem_name_lst=np.array(mem_name_lst)\n",
    "song_name_lst=np.array(song_name_lst)\n",
    "\n",
    "cust_songs_tbl=pd.DataFrame(0,index=mem_name_lst,columns=song_name_lst)\n",
    "cust_songs_tbl.shape\n",
    "\n",
    "end=time.time()\n",
    "end-start"
   ]
  },
  {
   "cell_type": "code",
   "execution_count": null,
   "metadata": {
    "collapsed": true
   },
   "outputs": [],
   "source": [
    "songs_lst[0:5]"
   ]
  },
  {
   "cell_type": "code",
   "execution_count": null,
   "metadata": {
    "collapsed": true,
    "scrolled": true
   },
   "outputs": [],
   "source": [
    "try:\n",
    "cust_songs_tbl.ix[train_lst[i][0]][train_lst[i][1]]=\n",
    "cust_songs_tbl\n",
    "train_lst[0][0]"
   ]
  },
  {
   "cell_type": "code",
   "execution_count": null,
   "metadata": {
    "collapsed": true
   },
   "outputs": [],
   "source": [
    "start=time.time()\n",
    "conn=sqlite3.connect('project.db')\n",
    "c=conn.cursor()\n",
    "c.executemany('INSERT OR IGNORE INTO Members VALUES (?,?,?,?,?,?,?);', members_lst)        \n",
    "conn.commit()\n",
    "end=time.time()\n",
    "end-start"
   ]
  },
  {
   "cell_type": "code",
   "execution_count": null,
   "metadata": {
    "collapsed": true
   },
   "outputs": [],
   "source": [
    "count=0\n",
    "for line in songs_lst:\n",
    "    try:\n",
    "        c.execute('INSERT OR IGNORE INTO Songs VALUES (?,?,?,?,?,?,?);', line)\n",
    "        count+=1\n",
    "    except:\n",
    "        print(count)\n",
    "conn.commit()"
   ]
  },
  {
   "cell_type": "code",
   "execution_count": null,
   "metadata": {
    "collapsed": true
   },
   "outputs": [],
   "source": [
    "c.executemany('INSERT OR IGNORE INTO Train VALUES (?,?,?,?,?,?);', train_lst)\n",
    "conn.commit()\n"
   ]
  },
  {
   "cell_type": "code",
   "execution_count": null,
   "metadata": {
    "collapsed": true
   },
   "outputs": [],
   "source": [
    "songs_lst[605199]"
   ]
  },
  {
   "cell_type": "code",
   "execution_count": 261,
   "metadata": {},
   "outputs": [
    {
     "data": {
      "text/plain": [
       "-576.3770248889923"
      ]
     },
     "execution_count": 261,
     "metadata": {},
     "output_type": "execute_result"
    }
   ],
   "source": [
    "start=time.time()\n",
    "query1='''select T.customer_id, T.Song_id, T.source_system_tab,T.source_screen_name, T.source_type,\n",
    "M.city, M.age, M.gender,M.registered_via, M.reg_time, exp_date,\n",
    "s.genre_ids,s.song_length,s.language,s.artist_name,s.composer, s.lyricist, T.target\n",
    "from Train T \n",
    "left Join Members M on T.customer_id=M.customer_id\n",
    "Left join songs s on s.song_id=t.song_id;\n",
    "'''\n",
    "\n",
    "que_train='''Select * from Train'''\n",
    "\n",
    "que_songs='''select * from songs'''\n",
    "que_members='''Select * from Members'''\n",
    "\n",
    "pd.read_sql_query(que_train, conn).to_csv('que_train.csv', index=True)\n",
    "end=time.time()\n",
    "start-end"
   ]
  },
  {
   "cell_type": "markdown",
   "metadata": {},
   "source": [
    "###Aggregate the tables from Train, Songs, Members and Load into the 'query1.csv'"
   ]
  },
  {
   "cell_type": "code",
   "execution_count": 18,
   "metadata": {},
   "outputs": [
    {
     "name": "stdout",
     "output_type": "stream",
     "text": [
      "(7377418, 19)\n"
     ]
    },
    {
     "data": {
      "text/html": [
       "<div>\n",
       "<table border=\"1\" class=\"dataframe\">\n",
       "  <thead>\n",
       "    <tr style=\"text-align: right;\">\n",
       "      <th></th>\n",
       "      <th>Unnamed: 0</th>\n",
       "      <th>customer_id</th>\n",
       "      <th>song_id</th>\n",
       "      <th>source_system_tab</th>\n",
       "      <th>source_screen_name</th>\n",
       "      <th>source_type</th>\n",
       "      <th>city</th>\n",
       "      <th>age</th>\n",
       "      <th>gender</th>\n",
       "      <th>registered_via</th>\n",
       "      <th>reg_time</th>\n",
       "      <th>exp_date</th>\n",
       "      <th>genre_ids</th>\n",
       "      <th>song_length</th>\n",
       "      <th>language</th>\n",
       "      <th>artist_name</th>\n",
       "      <th>composer</th>\n",
       "      <th>lyricist</th>\n",
       "      <th>Target</th>\n",
       "    </tr>\n",
       "  </thead>\n",
       "  <tbody>\n",
       "    <tr>\n",
       "      <th>0</th>\n",
       "      <td>0</td>\n",
       "      <td>FGtllVqz18RPiwJj/edr2gV78zirAiY/9SmYvia+kCg=</td>\n",
       "      <td>BBzumQNXUHKdEBOB7mAJuzok+IJA1c2Ryg/yzTF6tik=</td>\n",
       "      <td>explore</td>\n",
       "      <td>Explore</td>\n",
       "      <td>online-playlist</td>\n",
       "      <td>1</td>\n",
       "      <td>0</td>\n",
       "      <td>NaN</td>\n",
       "      <td>7</td>\n",
       "      <td>20120102</td>\n",
       "      <td>20171005</td>\n",
       "      <td>359</td>\n",
       "      <td>206471.0</td>\n",
       "      <td>52.0</td>\n",
       "      <td>Bastille</td>\n",
       "      <td>Dan Smith| Mark Crew</td>\n",
       "      <td>NaN</td>\n",
       "      <td>1</td>\n",
       "    </tr>\n",
       "    <tr>\n",
       "      <th>1</th>\n",
       "      <td>1</td>\n",
       "      <td>Xumu+NIjS6QYVxDS4/t3SawvJ7viT9hPKXmf0RtLNx8=</td>\n",
       "      <td>bhp/MpSNoqoxOIB+/l8WPqu6jldth4DIpCm3ayXnJqM=</td>\n",
       "      <td>my library</td>\n",
       "      <td>Local playlist more</td>\n",
       "      <td>local-playlist</td>\n",
       "      <td>13</td>\n",
       "      <td>24</td>\n",
       "      <td>female</td>\n",
       "      <td>9</td>\n",
       "      <td>20110525</td>\n",
       "      <td>20170911</td>\n",
       "      <td>1259</td>\n",
       "      <td>284584.0</td>\n",
       "      <td>52.0</td>\n",
       "      <td>Various Artists</td>\n",
       "      <td>NaN</td>\n",
       "      <td>NaN</td>\n",
       "      <td>1</td>\n",
       "    </tr>\n",
       "    <tr>\n",
       "      <th>2</th>\n",
       "      <td>2</td>\n",
       "      <td>Xumu+NIjS6QYVxDS4/t3SawvJ7viT9hPKXmf0RtLNx8=</td>\n",
       "      <td>JNWfrrC7zNN7BdMpsISKa4Mw+xVJYNnxXh3/Epw7QgY=</td>\n",
       "      <td>my library</td>\n",
       "      <td>Local playlist more</td>\n",
       "      <td>local-playlist</td>\n",
       "      <td>13</td>\n",
       "      <td>24</td>\n",
       "      <td>female</td>\n",
       "      <td>9</td>\n",
       "      <td>20110525</td>\n",
       "      <td>20170911</td>\n",
       "      <td>1259</td>\n",
       "      <td>225396.0</td>\n",
       "      <td>52.0</td>\n",
       "      <td>Nas</td>\n",
       "      <td>N. Jones、W. Adams、J. Lordan、D. Ingle</td>\n",
       "      <td>NaN</td>\n",
       "      <td>1</td>\n",
       "    </tr>\n",
       "  </tbody>\n",
       "</table>\n",
       "</div>"
      ],
      "text/plain": [
       "   Unnamed: 0                                   customer_id  \\\n",
       "0           0  FGtllVqz18RPiwJj/edr2gV78zirAiY/9SmYvia+kCg=   \n",
       "1           1  Xumu+NIjS6QYVxDS4/t3SawvJ7viT9hPKXmf0RtLNx8=   \n",
       "2           2  Xumu+NIjS6QYVxDS4/t3SawvJ7viT9hPKXmf0RtLNx8=   \n",
       "\n",
       "                                        song_id source_system_tab  \\\n",
       "0  BBzumQNXUHKdEBOB7mAJuzok+IJA1c2Ryg/yzTF6tik=           explore   \n",
       "1  bhp/MpSNoqoxOIB+/l8WPqu6jldth4DIpCm3ayXnJqM=        my library   \n",
       "2  JNWfrrC7zNN7BdMpsISKa4Mw+xVJYNnxXh3/Epw7QgY=        my library   \n",
       "\n",
       "    source_screen_name      source_type  city  age  gender  registered_via  \\\n",
       "0              Explore  online-playlist     1    0     NaN               7   \n",
       "1  Local playlist more   local-playlist    13   24  female               9   \n",
       "2  Local playlist more   local-playlist    13   24  female               9   \n",
       "\n",
       "   reg_time  exp_date genre_ids  song_length  language      artist_name  \\\n",
       "0  20120102  20171005       359     206471.0      52.0         Bastille   \n",
       "1  20110525  20170911      1259     284584.0      52.0  Various Artists   \n",
       "2  20110525  20170911      1259     225396.0      52.0              Nas   \n",
       "\n",
       "                               composer lyricist  Target  \n",
       "0                  Dan Smith| Mark Crew      NaN       1  \n",
       "1                                   NaN      NaN       1  \n",
       "2  N. Jones、W. Adams、J. Lordan、D. Ingle      NaN       1  "
      ]
     },
     "execution_count": 18,
     "metadata": {},
     "output_type": "execute_result"
    }
   ],
   "source": [
    "import pandas as pd\n",
    "import numpy as np\n",
    "original_tbl=pd.read_csv('''query1.csv''', na_values=[\"?\"])\n",
    "print(original_tbl.shape)\n",
    "original_tbl.head(3)"
   ]
  },
  {
   "cell_type": "markdown",
   "metadata": {},
   "source": [
    "#Basic Data Analysis"
   ]
  },
  {
   "cell_type": "code",
   "execution_count": 20,
   "metadata": {},
   "outputs": [
    {
     "name": "stdout",
     "output_type": "stream",
     "text": [
      "(7377418, 19)\n"
     ]
    },
    {
     "data": {
      "text/html": [
       "<div>\n",
       "<table border=\"1\" class=\"dataframe\">\n",
       "  <thead>\n",
       "    <tr style=\"text-align: right;\">\n",
       "      <th></th>\n",
       "      <th>Unnamed: 0</th>\n",
       "      <th>customer_id</th>\n",
       "      <th>song_id</th>\n",
       "      <th>source_system_tab</th>\n",
       "      <th>source_screen_name</th>\n",
       "      <th>source_type</th>\n",
       "      <th>city</th>\n",
       "      <th>age</th>\n",
       "      <th>gender</th>\n",
       "      <th>registered_via</th>\n",
       "      <th>reg_time</th>\n",
       "      <th>exp_date</th>\n",
       "      <th>genre_ids</th>\n",
       "      <th>song_length</th>\n",
       "      <th>language</th>\n",
       "      <th>artist_name</th>\n",
       "      <th>composer</th>\n",
       "      <th>lyricist</th>\n",
       "      <th>Target</th>\n",
       "    </tr>\n",
       "  </thead>\n",
       "  <tbody>\n",
       "    <tr>\n",
       "      <th>0</th>\n",
       "      <td>0</td>\n",
       "      <td>FGtllVqz18RPiwJj/edr2gV78zirAiY/9SmYvia+kCg=</td>\n",
       "      <td>BBzumQNXUHKdEBOB7mAJuzok+IJA1c2Ryg/yzTF6tik=</td>\n",
       "      <td>explore</td>\n",
       "      <td>Explore</td>\n",
       "      <td>online-playlist</td>\n",
       "      <td>1</td>\n",
       "      <td>0</td>\n",
       "      <td>NaN</td>\n",
       "      <td>7</td>\n",
       "      <td>20120102</td>\n",
       "      <td>20171005</td>\n",
       "      <td>359</td>\n",
       "      <td>206471.0</td>\n",
       "      <td>52.0</td>\n",
       "      <td>Bastille</td>\n",
       "      <td>Dan Smith| Mark Crew</td>\n",
       "      <td>NaN</td>\n",
       "      <td>1</td>\n",
       "    </tr>\n",
       "    <tr>\n",
       "      <th>1</th>\n",
       "      <td>1</td>\n",
       "      <td>Xumu+NIjS6QYVxDS4/t3SawvJ7viT9hPKXmf0RtLNx8=</td>\n",
       "      <td>bhp/MpSNoqoxOIB+/l8WPqu6jldth4DIpCm3ayXnJqM=</td>\n",
       "      <td>my library</td>\n",
       "      <td>Local playlist more</td>\n",
       "      <td>local-playlist</td>\n",
       "      <td>13</td>\n",
       "      <td>24</td>\n",
       "      <td>female</td>\n",
       "      <td>9</td>\n",
       "      <td>20110525</td>\n",
       "      <td>20170911</td>\n",
       "      <td>1259</td>\n",
       "      <td>284584.0</td>\n",
       "      <td>52.0</td>\n",
       "      <td>Various Artists</td>\n",
       "      <td>NaN</td>\n",
       "      <td>NaN</td>\n",
       "      <td>1</td>\n",
       "    </tr>\n",
       "    <tr>\n",
       "      <th>2</th>\n",
       "      <td>2</td>\n",
       "      <td>Xumu+NIjS6QYVxDS4/t3SawvJ7viT9hPKXmf0RtLNx8=</td>\n",
       "      <td>JNWfrrC7zNN7BdMpsISKa4Mw+xVJYNnxXh3/Epw7QgY=</td>\n",
       "      <td>my library</td>\n",
       "      <td>Local playlist more</td>\n",
       "      <td>local-playlist</td>\n",
       "      <td>13</td>\n",
       "      <td>24</td>\n",
       "      <td>female</td>\n",
       "      <td>9</td>\n",
       "      <td>20110525</td>\n",
       "      <td>20170911</td>\n",
       "      <td>1259</td>\n",
       "      <td>225396.0</td>\n",
       "      <td>52.0</td>\n",
       "      <td>Nas</td>\n",
       "      <td>N. Jones、W. Adams、J. Lordan、D. Ingle</td>\n",
       "      <td>NaN</td>\n",
       "      <td>1</td>\n",
       "    </tr>\n",
       "  </tbody>\n",
       "</table>\n",
       "</div>"
      ],
      "text/plain": [
       "   Unnamed: 0                                   customer_id  \\\n",
       "0           0  FGtllVqz18RPiwJj/edr2gV78zirAiY/9SmYvia+kCg=   \n",
       "1           1  Xumu+NIjS6QYVxDS4/t3SawvJ7viT9hPKXmf0RtLNx8=   \n",
       "2           2  Xumu+NIjS6QYVxDS4/t3SawvJ7viT9hPKXmf0RtLNx8=   \n",
       "\n",
       "                                        song_id source_system_tab  \\\n",
       "0  BBzumQNXUHKdEBOB7mAJuzok+IJA1c2Ryg/yzTF6tik=           explore   \n",
       "1  bhp/MpSNoqoxOIB+/l8WPqu6jldth4DIpCm3ayXnJqM=        my library   \n",
       "2  JNWfrrC7zNN7BdMpsISKa4Mw+xVJYNnxXh3/Epw7QgY=        my library   \n",
       "\n",
       "    source_screen_name      source_type  city  age  gender  registered_via  \\\n",
       "0              Explore  online-playlist     1    0     NaN               7   \n",
       "1  Local playlist more   local-playlist    13   24  female               9   \n",
       "2  Local playlist more   local-playlist    13   24  female               9   \n",
       "\n",
       "   reg_time  exp_date genre_ids  song_length  language      artist_name  \\\n",
       "0  20120102  20171005       359     206471.0      52.0         Bastille   \n",
       "1  20110525  20170911      1259     284584.0      52.0  Various Artists   \n",
       "2  20110525  20170911      1259     225396.0      52.0              Nas   \n",
       "\n",
       "                               composer lyricist  Target  \n",
       "0                  Dan Smith| Mark Crew      NaN       1  \n",
       "1                                   NaN      NaN       1  \n",
       "2  N. Jones、W. Adams、J. Lordan、D. Ingle      NaN       1  "
      ]
     },
     "execution_count": 20,
     "metadata": {},
     "output_type": "execute_result"
    }
   ],
   "source": [
    "#Copy the original dataset to aother variable to avoid any changes to the original dataset\n",
    "music_tbl=original_tbl.copy()\n",
    "print(music_tbl.shape)\n",
    "music_tbl.head(3)"
   ]
  },
  {
   "cell_type": "code",
   "execution_count": 7,
   "metadata": {
    "collapsed": true
   },
   "outputs": [],
   "source": [
    "music_tbl.drop('Unnamed: 0',axis=1,inplace=True)"
   ]
  },
  {
   "cell_type": "code",
   "execution_count": 8,
   "metadata": {
    "scrolled": true
   },
   "outputs": [
    {
     "data": {
      "text/html": [
       "<div>\n",
       "<table border=\"1\" class=\"dataframe\">\n",
       "  <thead>\n",
       "    <tr style=\"text-align: right;\">\n",
       "      <th></th>\n",
       "      <th>customer_id</th>\n",
       "      <th>song_id</th>\n",
       "      <th>source_system_tab</th>\n",
       "      <th>source_screen_name</th>\n",
       "      <th>source_type</th>\n",
       "      <th>city</th>\n",
       "      <th>age</th>\n",
       "      <th>gender</th>\n",
       "      <th>registered_via</th>\n",
       "      <th>reg_time</th>\n",
       "      <th>exp_date</th>\n",
       "      <th>genre_ids</th>\n",
       "      <th>song_length</th>\n",
       "      <th>language</th>\n",
       "      <th>artist_name</th>\n",
       "      <th>composer</th>\n",
       "      <th>lyricist</th>\n",
       "      <th>Target</th>\n",
       "    </tr>\n",
       "  </thead>\n",
       "  <tbody>\n",
       "    <tr>\n",
       "      <th>count</th>\n",
       "      <td>7377418</td>\n",
       "      <td>7377418</td>\n",
       "      <td>7359047</td>\n",
       "      <td>6962614</td>\n",
       "      <td>7355879</td>\n",
       "      <td>7.377418e+06</td>\n",
       "      <td>7.377418e+06</td>\n",
       "      <td>4415939</td>\n",
       "      <td>7.377418e+06</td>\n",
       "      <td>7.377418e+06</td>\n",
       "      <td>7.377418e+06</td>\n",
       "      <td>7259039</td>\n",
       "      <td>7.377380e+06</td>\n",
       "      <td>7.377380e+06</td>\n",
       "      <td>7377380</td>\n",
       "      <td>5701740</td>\n",
       "      <td>4198611</td>\n",
       "      <td>7.377418e+06</td>\n",
       "    </tr>\n",
       "    <tr>\n",
       "      <th>unique</th>\n",
       "      <td>30755</td>\n",
       "      <td>359966</td>\n",
       "      <td>9</td>\n",
       "      <td>20</td>\n",
       "      <td>12</td>\n",
       "      <td>NaN</td>\n",
       "      <td>NaN</td>\n",
       "      <td>2</td>\n",
       "      <td>NaN</td>\n",
       "      <td>NaN</td>\n",
       "      <td>NaN</td>\n",
       "      <td>572</td>\n",
       "      <td>NaN</td>\n",
       "      <td>NaN</td>\n",
       "      <td>40586</td>\n",
       "      <td>76070</td>\n",
       "      <td>33893</td>\n",
       "      <td>NaN</td>\n",
       "    </tr>\n",
       "    <tr>\n",
       "      <th>top</th>\n",
       "      <td>MXIMDXO0j3UpaT7FvOSGW6Y5zfhlh+xYjTqGoUdMzEE=</td>\n",
       "      <td>reXuGcEWDDCnL0K3Th//3DFG4S1ACSpJMzA+CFipo1g=</td>\n",
       "      <td>my library</td>\n",
       "      <td>Local playlist more</td>\n",
       "      <td>local-library</td>\n",
       "      <td>NaN</td>\n",
       "      <td>NaN</td>\n",
       "      <td>male</td>\n",
       "      <td>NaN</td>\n",
       "      <td>NaN</td>\n",
       "      <td>NaN</td>\n",
       "      <td>465</td>\n",
       "      <td>NaN</td>\n",
       "      <td>NaN</td>\n",
       "      <td>Various Artists</td>\n",
       "      <td>周杰倫</td>\n",
       "      <td>阿信</td>\n",
       "      <td>NaN</td>\n",
       "    </tr>\n",
       "    <tr>\n",
       "      <th>freq</th>\n",
       "      <td>5819</td>\n",
       "      <td>13973</td>\n",
       "      <td>3684730</td>\n",
       "      <td>3228202</td>\n",
       "      <td>2261399</td>\n",
       "      <td>NaN</td>\n",
       "      <td>NaN</td>\n",
       "      <td>2297623</td>\n",
       "      <td>NaN</td>\n",
       "      <td>NaN</td>\n",
       "      <td>NaN</td>\n",
       "      <td>3717730</td>\n",
       "      <td>NaN</td>\n",
       "      <td>NaN</td>\n",
       "      <td>303617</td>\n",
       "      <td>201910</td>\n",
       "      <td>151301</td>\n",
       "      <td>NaN</td>\n",
       "    </tr>\n",
       "    <tr>\n",
       "      <th>mean</th>\n",
       "      <td>NaN</td>\n",
       "      <td>NaN</td>\n",
       "      <td>NaN</td>\n",
       "      <td>NaN</td>\n",
       "      <td>NaN</td>\n",
       "      <td>7.511399e+00</td>\n",
       "      <td>1.753927e+01</td>\n",
       "      <td>NaN</td>\n",
       "      <td>6.794068e+00</td>\n",
       "      <td>2.012810e+07</td>\n",
       "      <td>2.017157e+07</td>\n",
       "      <td>NaN</td>\n",
       "      <td>2.451213e+05</td>\n",
       "      <td>1.860954e+01</td>\n",
       "      <td>NaN</td>\n",
       "      <td>NaN</td>\n",
       "      <td>NaN</td>\n",
       "      <td>5.035171e-01</td>\n",
       "    </tr>\n",
       "    <tr>\n",
       "      <th>std</th>\n",
       "      <td>NaN</td>\n",
       "      <td>NaN</td>\n",
       "      <td>NaN</td>\n",
       "      <td>NaN</td>\n",
       "      <td>NaN</td>\n",
       "      <td>6.641625e+00</td>\n",
       "      <td>2.155447e+01</td>\n",
       "      <td>NaN</td>\n",
       "      <td>2.275774e+00</td>\n",
       "      <td>3.017281e+04</td>\n",
       "      <td>3.869831e+03</td>\n",
       "      <td>NaN</td>\n",
       "      <td>6.734489e+04</td>\n",
       "      <td>2.117690e+01</td>\n",
       "      <td>NaN</td>\n",
       "      <td>NaN</td>\n",
       "      <td>NaN</td>\n",
       "      <td>4.999877e-01</td>\n",
       "    </tr>\n",
       "    <tr>\n",
       "      <th>min</th>\n",
       "      <td>NaN</td>\n",
       "      <td>NaN</td>\n",
       "      <td>NaN</td>\n",
       "      <td>NaN</td>\n",
       "      <td>NaN</td>\n",
       "      <td>1.000000e+00</td>\n",
       "      <td>-4.300000e+01</td>\n",
       "      <td>NaN</td>\n",
       "      <td>3.000000e+00</td>\n",
       "      <td>2.004033e+07</td>\n",
       "      <td>1.970010e+07</td>\n",
       "      <td>NaN</td>\n",
       "      <td>1.393000e+03</td>\n",
       "      <td>-1.000000e+00</td>\n",
       "      <td>NaN</td>\n",
       "      <td>NaN</td>\n",
       "      <td>NaN</td>\n",
       "      <td>0.000000e+00</td>\n",
       "    </tr>\n",
       "    <tr>\n",
       "      <th>25%</th>\n",
       "      <td>NaN</td>\n",
       "      <td>NaN</td>\n",
       "      <td>NaN</td>\n",
       "      <td>NaN</td>\n",
       "      <td>NaN</td>\n",
       "      <td>1.000000e+00</td>\n",
       "      <td>0.000000e+00</td>\n",
       "      <td>NaN</td>\n",
       "      <td>4.000000e+00</td>\n",
       "      <td>2.011070e+07</td>\n",
       "      <td>2.017091e+07</td>\n",
       "      <td>NaN</td>\n",
       "      <td>2.147260e+05</td>\n",
       "      <td>3.000000e+00</td>\n",
       "      <td>NaN</td>\n",
       "      <td>NaN</td>\n",
       "      <td>NaN</td>\n",
       "      <td>0.000000e+00</td>\n",
       "    </tr>\n",
       "    <tr>\n",
       "      <th>50%</th>\n",
       "      <td>NaN</td>\n",
       "      <td>NaN</td>\n",
       "      <td>NaN</td>\n",
       "      <td>NaN</td>\n",
       "      <td>NaN</td>\n",
       "      <td>5.000000e+00</td>\n",
       "      <td>2.100000e+01</td>\n",
       "      <td>NaN</td>\n",
       "      <td>7.000000e+00</td>\n",
       "      <td>2.013102e+07</td>\n",
       "      <td>2.017093e+07</td>\n",
       "      <td>NaN</td>\n",
       "      <td>2.418120e+05</td>\n",
       "      <td>3.000000e+00</td>\n",
       "      <td>NaN</td>\n",
       "      <td>NaN</td>\n",
       "      <td>NaN</td>\n",
       "      <td>1.000000e+00</td>\n",
       "    </tr>\n",
       "    <tr>\n",
       "      <th>75%</th>\n",
       "      <td>NaN</td>\n",
       "      <td>NaN</td>\n",
       "      <td>NaN</td>\n",
       "      <td>NaN</td>\n",
       "      <td>NaN</td>\n",
       "      <td>1.300000e+01</td>\n",
       "      <td>2.900000e+01</td>\n",
       "      <td>NaN</td>\n",
       "      <td>9.000000e+00</td>\n",
       "      <td>2.015102e+07</td>\n",
       "      <td>2.017101e+07</td>\n",
       "      <td>NaN</td>\n",
       "      <td>2.721600e+05</td>\n",
       "      <td>5.200000e+01</td>\n",
       "      <td>NaN</td>\n",
       "      <td>NaN</td>\n",
       "      <td>NaN</td>\n",
       "      <td>1.000000e+00</td>\n",
       "    </tr>\n",
       "    <tr>\n",
       "      <th>max</th>\n",
       "      <td>NaN</td>\n",
       "      <td>NaN</td>\n",
       "      <td>NaN</td>\n",
       "      <td>NaN</td>\n",
       "      <td>NaN</td>\n",
       "      <td>2.200000e+01</td>\n",
       "      <td>1.051000e+03</td>\n",
       "      <td>NaN</td>\n",
       "      <td>1.300000e+01</td>\n",
       "      <td>2.017013e+07</td>\n",
       "      <td>2.020102e+07</td>\n",
       "      <td>NaN</td>\n",
       "      <td>1.085171e+07</td>\n",
       "      <td>5.900000e+01</td>\n",
       "      <td>NaN</td>\n",
       "      <td>NaN</td>\n",
       "      <td>NaN</td>\n",
       "      <td>1.000000e+00</td>\n",
       "    </tr>\n",
       "  </tbody>\n",
       "</table>\n",
       "</div>"
      ],
      "text/plain": [
       "                                         customer_id  \\\n",
       "count                                        7377418   \n",
       "unique                                         30755   \n",
       "top     MXIMDXO0j3UpaT7FvOSGW6Y5zfhlh+xYjTqGoUdMzEE=   \n",
       "freq                                            5819   \n",
       "mean                                             NaN   \n",
       "std                                              NaN   \n",
       "min                                              NaN   \n",
       "25%                                              NaN   \n",
       "50%                                              NaN   \n",
       "75%                                              NaN   \n",
       "max                                              NaN   \n",
       "\n",
       "                                             song_id source_system_tab  \\\n",
       "count                                        7377418           7359047   \n",
       "unique                                        359966                 9   \n",
       "top     reXuGcEWDDCnL0K3Th//3DFG4S1ACSpJMzA+CFipo1g=        my library   \n",
       "freq                                           13973           3684730   \n",
       "mean                                             NaN               NaN   \n",
       "std                                              NaN               NaN   \n",
       "min                                              NaN               NaN   \n",
       "25%                                              NaN               NaN   \n",
       "50%                                              NaN               NaN   \n",
       "75%                                              NaN               NaN   \n",
       "max                                              NaN               NaN   \n",
       "\n",
       "         source_screen_name    source_type          city           age  \\\n",
       "count               6962614        7355879  7.377418e+06  7.377418e+06   \n",
       "unique                   20             12           NaN           NaN   \n",
       "top     Local playlist more  local-library           NaN           NaN   \n",
       "freq                3228202        2261399           NaN           NaN   \n",
       "mean                    NaN            NaN  7.511399e+00  1.753927e+01   \n",
       "std                     NaN            NaN  6.641625e+00  2.155447e+01   \n",
       "min                     NaN            NaN  1.000000e+00 -4.300000e+01   \n",
       "25%                     NaN            NaN  1.000000e+00  0.000000e+00   \n",
       "50%                     NaN            NaN  5.000000e+00  2.100000e+01   \n",
       "75%                     NaN            NaN  1.300000e+01  2.900000e+01   \n",
       "max                     NaN            NaN  2.200000e+01  1.051000e+03   \n",
       "\n",
       "         gender  registered_via      reg_time      exp_date genre_ids  \\\n",
       "count   4415939    7.377418e+06  7.377418e+06  7.377418e+06   7259039   \n",
       "unique        2             NaN           NaN           NaN       572   \n",
       "top        male             NaN           NaN           NaN       465   \n",
       "freq    2297623             NaN           NaN           NaN   3717730   \n",
       "mean        NaN    6.794068e+00  2.012810e+07  2.017157e+07       NaN   \n",
       "std         NaN    2.275774e+00  3.017281e+04  3.869831e+03       NaN   \n",
       "min         NaN    3.000000e+00  2.004033e+07  1.970010e+07       NaN   \n",
       "25%         NaN    4.000000e+00  2.011070e+07  2.017091e+07       NaN   \n",
       "50%         NaN    7.000000e+00  2.013102e+07  2.017093e+07       NaN   \n",
       "75%         NaN    9.000000e+00  2.015102e+07  2.017101e+07       NaN   \n",
       "max         NaN    1.300000e+01  2.017013e+07  2.020102e+07       NaN   \n",
       "\n",
       "         song_length      language      artist_name composer lyricist  \\\n",
       "count   7.377380e+06  7.377380e+06          7377380  5701740  4198611   \n",
       "unique           NaN           NaN            40586    76070    33893   \n",
       "top              NaN           NaN  Various Artists      周杰倫       阿信   \n",
       "freq             NaN           NaN           303617   201910   151301   \n",
       "mean    2.451213e+05  1.860954e+01              NaN      NaN      NaN   \n",
       "std     6.734489e+04  2.117690e+01              NaN      NaN      NaN   \n",
       "min     1.393000e+03 -1.000000e+00              NaN      NaN      NaN   \n",
       "25%     2.147260e+05  3.000000e+00              NaN      NaN      NaN   \n",
       "50%     2.418120e+05  3.000000e+00              NaN      NaN      NaN   \n",
       "75%     2.721600e+05  5.200000e+01              NaN      NaN      NaN   \n",
       "max     1.085171e+07  5.900000e+01              NaN      NaN      NaN   \n",
       "\n",
       "              Target  \n",
       "count   7.377418e+06  \n",
       "unique           NaN  \n",
       "top              NaN  \n",
       "freq             NaN  \n",
       "mean    5.035171e-01  \n",
       "std     4.999877e-01  \n",
       "min     0.000000e+00  \n",
       "25%     0.000000e+00  \n",
       "50%     1.000000e+00  \n",
       "75%     1.000000e+00  \n",
       "max     1.000000e+00  "
      ]
     },
     "execution_count": 8,
     "metadata": {},
     "output_type": "execute_result"
    }
   ],
   "source": [
    "music_tbl.describe(include='all')"
   ]
  },
  {
   "cell_type": "code",
   "execution_count": 24,
   "metadata": {},
   "outputs": [],
   "source": [
    "#set(music_tbl['age'])\n",
    "music_tbl.drop(music_tbl[music_tbl['age']<=0].index,axis=0,inplace=True)\n",
    "music_tbl.drop(music_tbl[music_tbl['age']>144].index,axis=0,inplace=True)"
   ]
  },
  {
   "cell_type": "code",
   "execution_count": 27,
   "metadata": {
    "collapsed": true
   },
   "outputs": [],
   "source": [
    "#Categorized the 'Age' attributes values to 4 category\n",
    "music_tbl['age']=pd.qcut(music_tbl.age,[0, .1, .21,0.31, .45, 1.0],['0-15','16-30','31-45','46-65','>65']) \n",
    "#Categorized the \"Song_Length\" attributes values to 4 category\n",
    "music_tbl['song_length']=pd.qcut(music_tbl.song_length,[0, .25, .5, .75, 1.],['short','med_short','mid_long','long'])"
   ]
  },
  {
   "cell_type": "code",
   "execution_count": 30,
   "metadata": {},
   "outputs": [
    {
     "data": {
      "image/png": "[encoded data removed]",
      "text/plain": [
       "<matplotlib.figure.Figure at 0x116f2f0b8>"
      ]
     },
     "metadata": {},
     "output_type": "display_data"
    }
   ],
   "source": [
    "import matplotlib.pyplot as plt\n",
    "%matplotlib inline\n",
    "fig = plt.figure(figsize=(20, 180))\n",
    "# Create an Axes object.\n",
    "\n",
    "ax1 = fig.add_subplot(9,2,1) # one row, two column, first plot\n",
    "# Plot the data.\n",
    "music_tbl['source_system_tab'].value_counts().plot(kind='bar')\n",
    "ax1.set_title(\"source_system_tab Distribution Plot\", size=20)\n",
    "ax1.set_xlabel(\"source_system_tab\", size=15)\n",
    "ax1.set_ylabel(\"Count\", size=15)\n",
    "ax1.tick_params(axis='x', labelsize=14)\n",
    "ax1.tick_params(axis='y', labelsize=14)\n",
    "\n",
    "ax2 = fig.add_subplot(9,2,2)\n",
    "music_tbl['source_screen_name'].value_counts().plot(kind='bar')\n",
    "ax2.set_title(\"source_screen_name Distribution Plot\", size=20)\n",
    "ax2.set_xlabel(\"source_screen_name\", size=15)\n",
    "ax2.set_ylabel(\"Count\", size=15)\n",
    "ax2.tick_params(axis='x', labelsize=14)\n",
    "ax2.tick_params(axis='y', labelsize=14)\n",
    "\n",
    "ax3 = fig.add_subplot(9,2,3)\n",
    "music_tbl['source_type'].value_counts().plot(kind='bar')\n",
    "ax3.set_title(\"source_type Distribution Plot\", size=20)\n",
    "ax3.set_xlabel(\"source_type\", size=15)\n",
    "ax3.set_ylabel(\"Count\", size=15)\n",
    "ax3.tick_params(axis='x', labelsize=14)\n",
    "ax3.tick_params(axis='y', labelsize=14)\n",
    "\n",
    "\n",
    "ax4 = fig.add_subplot(9,2,4)\n",
    "music_tbl['city'].value_counts().plot(kind='bar')\n",
    "ax4.set_title(\"city Distribution Plot\", size=20)\n",
    "ax4.set_xlabel(\"city\", size=15)\n",
    "ax4.set_ylabel(\"Count\", size=15)\n",
    "ax4.tick_params(axis='x', labelsize=14)\n",
    "ax4.tick_params(axis='y', labelsize=14)\n",
    "\n",
    "ax5 = fig.add_subplot(9,2,5)\n",
    "music_tbl['gender'].value_counts().plot(kind='bar')\n",
    "ax5.set_title(\"gender Distribution Plot\", size=20)\n",
    "ax5.set_xlabel(\"gender\", size=15)\n",
    "ax5.set_ylabel(\"Count\", size=15)\n",
    "ax5.tick_params(axis='x', labelsize=14)\n",
    "ax5.tick_params(axis='y', labelsize=14)\n",
    "\n",
    "ax6 = fig.add_subplot(9,2,6)\n",
    "music_tbl['registered_via'].value_counts().plot(kind='bar')\n",
    "ax6.set_title(\"registered_via Distribution Plot\", size=20)\n",
    "ax6.set_xlabel(\"registered_via\", size=15)\n",
    "ax6.set_ylabel(\"Count\", size=15)\n",
    "ax6.tick_params(axis='x', labelsize=14)\n",
    "ax6.tick_params(axis='y', labelsize=14)\n",
    "\n",
    "ax7 = fig.add_subplot(9,2,7)\n",
    "music_tbl['language'].value_counts().plot(kind='bar')\n",
    "ax7.set_title(\"language Distribution Plot\", size=20)\n",
    "ax7.set_xlabel(\"language\", size=15)\n",
    "ax7.set_ylabel(\"Count\", size=15)\n",
    "ax7.tick_params(axis='x', labelsize=14)\n",
    "ax7.tick_params(axis='y', labelsize=14)\n",
    "\n",
    "ax8 = fig.add_subplot(9,2,8)\n",
    "music_tbl['age'].value_counts().plot(kind='bar')\n",
    "ax8.set_title(\"Age Distribution Plot\", size=20)\n",
    "ax8.set_xlabel(\"Age\", size=15)\n",
    "ax8.set_ylabel(\"Count\", size=15)\n",
    "ax8.tick_params(axis='x', labelsize=14)\n",
    "ax8.tick_params(axis='y', labelsize=14)\n",
    "\n",
    "ax9 = fig.add_subplot(9,2,9)\n",
    "music_tbl['song_length'].value_counts().plot(kind='bar')\n",
    "ax9.set_title(\"Song_length Distribution Plot\", size=20)\n",
    "ax9.set_xlabel(\"Song Length\", size=15)\n",
    "ax9.set_ylabel(\"Count\", size=15)\n",
    "ax9.tick_params(axis='x', labelsize=14)\n",
    "ax9.tick_params(axis='y', labelsize=14)"
   ]
  },
  {
   "cell_type": "code",
   "execution_count": 83,
   "metadata": {},
   "outputs": [
    {
     "data": {
      "image/png": "[encoded data removed]",
      "text/plain": [
       "<matplotlib.figure.Figure at 0x11616a198>"
      ]
     },
     "metadata": {},
     "output_type": "display_data"
    }
   ],
   "source": [
    "i_lst=[]\n",
    "cnt_lst=[]\n",
    "val_lst=[]\n",
    "for i ,(val, cnt) in enumerate(music_tbl['genre_ids'].value_counts().iteritems()):\n",
    "    i_lst.append(i)\n",
    "    cnt_lst.append(cnt)\n",
    "    val_lst.append(val)\n",
    "i_lst=np.array(i_lst)\n",
    "cnt_lst=np.array(cnt_lst)\n",
    "val_lst=np.array(val_lst)\n",
    "\n",
    "idx=np.argsort(cnt_lst)[::-1]\n",
    "type(val_lst)\n",
    "type(cnt_lst)\n",
    "aa=pd.DataFrame({'count':cnt_lst[idx].tolist(),'genre_ids':val_lst[idx].tolist()})\n",
    "\n",
    "#Display Genre_ids which is count is higher than 5000.\n",
    "aa[aa['count']>5000].set_index('genre_ids').plot.bar(figsize=(15,10)\n",
    "                                                     ,title='Genre_ids Count'\n",
    "                                                     , fontsize=14)\n",
    "plt.xticks(rotation=90)\n",
    "\n",
    "plt.show()"
   ]
  },
  {
   "cell_type": "code",
   "execution_count": 74,
   "metadata": {},
   "outputs": [
    {
     "data": {
      "image/png": "[encoded data removed]",
      "text/plain": [
       "<matplotlib.figure.Figure at 0x1161df400>"
      ]
     },
     "metadata": {},
     "output_type": "display_data"
    }
   ],
   "source": [
    "i_lst=[]\n",
    "cnt_lst=[]\n",
    "val_lst=[]\n",
    "for i ,(val, cnt) in enumerate(music_tbl['artist_name'].value_counts().iteritems()):\n",
    "    i_lst.append(i)\n",
    "    cnt_lst.append(cnt)\n",
    "    val_lst.append(val)\n",
    "i_lst=np.array(i_lst)\n",
    "cnt_lst=np.array(cnt_lst)\n",
    "val_lst=np.array(val_lst)\n",
    "\n",
    "idx=np.argsort(cnt_lst)[::-1]\n",
    "type(val_lst)\n",
    "type(cnt_lst)\n",
    "aa=pd.DataFrame({'count':cnt_lst[idx].tolist(),'artist_name':val_lst[idx].tolist()})\n",
    "\n",
    "#Display Genre_ids which is count is higher than 10000.\n",
    "aa[aa['count']>10000].set_index('artist_name').plot.bar(figsize=(15,10)\n",
    "                                                        ,title='artist_name Count'\n",
    "                                                        ,fontsize=13)\n",
    "plt.xticks(rotation=90)\n",
    "plt.show()"
   ]
  },
  {
   "cell_type": "code",
   "execution_count": 57,
   "metadata": {},
   "outputs": [
    {
     "data": {
      "image/png": "[encoded data removed]",
      "text/plain": [
       "<matplotlib.figure.Figure at 0x115bdd630>"
      ]
     },
     "metadata": {},
     "output_type": "display_data"
    },
    {
     "data": {
      "text/html": [
       "<div>\n",
       "<table border=\"1\" class=\"dataframe\">\n",
       "  <thead>\n",
       "    <tr style=\"text-align: right;\">\n",
       "      <th>source_system_tab</th>\n",
       "      <th>discover</th>\n",
       "      <th>explore</th>\n",
       "      <th>listen with</th>\n",
       "      <th>my library</th>\n",
       "      <th>notification</th>\n",
       "      <th>null</th>\n",
       "      <th>radio</th>\n",
       "      <th>search</th>\n",
       "      <th>settings</th>\n",
       "    </tr>\n",
       "    <tr>\n",
       "      <th>Target</th>\n",
       "      <th></th>\n",
       "      <th></th>\n",
       "      <th></th>\n",
       "      <th></th>\n",
       "      <th></th>\n",
       "      <th></th>\n",
       "      <th></th>\n",
       "      <th></th>\n",
       "      <th></th>\n",
       "    </tr>\n",
       "  </thead>\n",
       "  <tbody>\n",
       "    <tr>\n",
       "      <th>0</th>\n",
       "      <td>694336</td>\n",
       "      <td>55173</td>\n",
       "      <td>98083</td>\n",
       "      <td>884619</td>\n",
       "      <td>2467</td>\n",
       "      <td>2654</td>\n",
       "      <td>217752</td>\n",
       "      <td>210600</td>\n",
       "      <td>708</td>\n",
       "    </tr>\n",
       "    <tr>\n",
       "      <th>1</th>\n",
       "      <td>520595</td>\n",
       "      <td>44875</td>\n",
       "      <td>49906</td>\n",
       "      <td>1418450</td>\n",
       "      <td>1470</td>\n",
       "      <td>1866</td>\n",
       "      <td>64868</td>\n",
       "      <td>153338</td>\n",
       "      <td>1039</td>\n",
       "    </tr>\n",
       "  </tbody>\n",
       "</table>\n",
       "</div>"
      ],
      "text/plain": [
       "source_system_tab  discover  explore  listen with  my library  notification  \\\n",
       "Target                                                                        \n",
       "0                    694336    55173        98083      884619          2467   \n",
       "1                    520595    44875        49906     1418450          1470   \n",
       "\n",
       "source_system_tab  null   radio  search  settings  \n",
       "Target                                             \n",
       "0                  2654  217752  210600       708  \n",
       "1                  1866   64868  153338      1039  "
      ]
     },
     "execution_count": 57,
     "metadata": {},
     "output_type": "execute_result"
    }
   ],
   "source": [
    "np.set_printoptions(precision=2, linewidth=200, suppress=False)\n",
    "cro_tar_sst=pd.crosstab(music_tbl['Target'],music_tbl['source_system_tab'])\n",
    "cro_tar_sst.plot.bar(figsize=(15,6),fontsize=14)\n",
    "plt.show()\n",
    "cro_tar_sst"
   ]
  },
  {
   "cell_type": "code",
   "execution_count": 60,
   "metadata": {},
   "outputs": [
    {
     "data": {
      "image/png": "[encoded data removed]",
      "text/plain": [
       "<matplotlib.figure.Figure at 0x116b5e2b0>"
      ]
     },
     "metadata": {},
     "output_type": "display_data"
    },
    {
     "data": {
      "text/html": [
       "<div>\n",
       "<table border=\"1\" class=\"dataframe\">\n",
       "  <thead>\n",
       "    <tr style=\"text-align: right;\">\n",
       "      <th>source_type</th>\n",
       "      <th>album</th>\n",
       "      <th>artist</th>\n",
       "      <th>listen-with</th>\n",
       "      <th>local-library</th>\n",
       "      <th>local-playlist</th>\n",
       "      <th>my-daily-playlist</th>\n",
       "      <th>online-playlist</th>\n",
       "      <th>radio</th>\n",
       "      <th>song</th>\n",
       "      <th>song-based-playlist</th>\n",
       "      <th>top-hits-for-artist</th>\n",
       "      <th>topic-article-playlist</th>\n",
       "    </tr>\n",
       "    <tr>\n",
       "      <th>Target</th>\n",
       "      <th></th>\n",
       "      <th></th>\n",
       "      <th></th>\n",
       "      <th></th>\n",
       "      <th></th>\n",
       "      <th></th>\n",
       "      <th></th>\n",
       "      <th></th>\n",
       "      <th></th>\n",
       "      <th></th>\n",
       "      <th></th>\n",
       "      <th></th>\n",
       "    </tr>\n",
       "  </thead>\n",
       "  <tbody>\n",
       "    <tr>\n",
       "      <th>0</th>\n",
       "      <td>161283</td>\n",
       "      <td>710</td>\n",
       "      <td>90806</td>\n",
       "      <td>508902</td>\n",
       "      <td>263848</td>\n",
       "      <td>98</td>\n",
       "      <td>625402</td>\n",
       "      <td>221655</td>\n",
       "      <td>75096</td>\n",
       "      <td>71902</td>\n",
       "      <td>142273</td>\n",
       "      <td>3712</td>\n",
       "    </tr>\n",
       "    <tr>\n",
       "      <th>1</th>\n",
       "      <td>103986</td>\n",
       "      <td>1007</td>\n",
       "      <td>45219</td>\n",
       "      <td>846266</td>\n",
       "      <td>496251</td>\n",
       "      <td>68</td>\n",
       "      <td>487468</td>\n",
       "      <td>64709</td>\n",
       "      <td>59149</td>\n",
       "      <td>44746</td>\n",
       "      <td>102706</td>\n",
       "      <td>4110</td>\n",
       "    </tr>\n",
       "  </tbody>\n",
       "</table>\n",
       "</div>"
      ],
      "text/plain": [
       "source_type   album  artist  listen-with  local-library  local-playlist  \\\n",
       "Target                                                                    \n",
       "0            161283     710        90806         508902          263848   \n",
       "1            103986    1007        45219         846266          496251   \n",
       "\n",
       "source_type  my-daily-playlist  online-playlist   radio   song  \\\n",
       "Target                                                           \n",
       "0                           98           625402  221655  75096   \n",
       "1                           68           487468   64709  59149   \n",
       "\n",
       "source_type  song-based-playlist  top-hits-for-artist  topic-article-playlist  \n",
       "Target                                                                         \n",
       "0                          71902               142273                    3712  \n",
       "1                          44746               102706                    4110  "
      ]
     },
     "execution_count": 60,
     "metadata": {},
     "output_type": "execute_result"
    }
   ],
   "source": [
    "cro_tar_st=pd.crosstab(music_tbl['Target'],music_tbl['source_type'])\n",
    "cro_tar_st.plot.bar(figsize=(15,6),fontsize=14)\n",
    "plt.show()\n",
    "cro_tar_st"
   ]
  },
  {
   "cell_type": "code",
   "execution_count": 61,
   "metadata": {},
   "outputs": [
    {
     "data": {
      "image/png": "[encoded data removed]",
      "text/plain": [
       "<matplotlib.figure.Figure at 0x116fb4128>"
      ]
     },
     "metadata": {},
     "output_type": "display_data"
    },
    {
     "data": {
      "text/html": [
       "<div>\n",
       "<table border=\"1\" class=\"dataframe\">\n",
       "  <thead>\n",
       "    <tr style=\"text-align: right;\">\n",
       "      <th>city</th>\n",
       "      <th>1</th>\n",
       "      <th>3</th>\n",
       "      <th>4</th>\n",
       "      <th>5</th>\n",
       "      <th>6</th>\n",
       "      <th>7</th>\n",
       "      <th>8</th>\n",
       "      <th>9</th>\n",
       "      <th>10</th>\n",
       "      <th>11</th>\n",
       "      <th>...</th>\n",
       "      <th>13</th>\n",
       "      <th>14</th>\n",
       "      <th>15</th>\n",
       "      <th>16</th>\n",
       "      <th>17</th>\n",
       "      <th>18</th>\n",
       "      <th>19</th>\n",
       "      <th>20</th>\n",
       "      <th>21</th>\n",
       "      <th>22</th>\n",
       "    </tr>\n",
       "    <tr>\n",
       "      <th>Target</th>\n",
       "      <th></th>\n",
       "      <th></th>\n",
       "      <th></th>\n",
       "      <th></th>\n",
       "      <th></th>\n",
       "      <th></th>\n",
       "      <th></th>\n",
       "      <th></th>\n",
       "      <th></th>\n",
       "      <th></th>\n",
       "      <th></th>\n",
       "      <th></th>\n",
       "      <th></th>\n",
       "      <th></th>\n",
       "      <th></th>\n",
       "      <th></th>\n",
       "      <th></th>\n",
       "      <th></th>\n",
       "      <th></th>\n",
       "      <th></th>\n",
       "      <th></th>\n",
       "    </tr>\n",
       "  </thead>\n",
       "  <tbody>\n",
       "    <tr>\n",
       "      <th>0</th>\n",
       "      <td>71144</td>\n",
       "      <td>27052</td>\n",
       "      <td>243958</td>\n",
       "      <td>367432</td>\n",
       "      <td>125832</td>\n",
       "      <td>13083</td>\n",
       "      <td>38962</td>\n",
       "      <td>40080</td>\n",
       "      <td>29357</td>\n",
       "      <td>32411</td>\n",
       "      <td>...</td>\n",
       "      <td>490631</td>\n",
       "      <td>99770</td>\n",
       "      <td>216789</td>\n",
       "      <td>3539</td>\n",
       "      <td>19973</td>\n",
       "      <td>39956</td>\n",
       "      <td>3706</td>\n",
       "      <td>2544</td>\n",
       "      <td>28905</td>\n",
       "      <td>212001</td>\n",
       "    </tr>\n",
       "    <tr>\n",
       "      <th>1</th>\n",
       "      <td>68979</td>\n",
       "      <td>28661</td>\n",
       "      <td>248840</td>\n",
       "      <td>388104</td>\n",
       "      <td>123751</td>\n",
       "      <td>13146</td>\n",
       "      <td>38228</td>\n",
       "      <td>45713</td>\n",
       "      <td>34248</td>\n",
       "      <td>30725</td>\n",
       "      <td>...</td>\n",
       "      <td>539564</td>\n",
       "      <td>104366</td>\n",
       "      <td>227238</td>\n",
       "      <td>3298</td>\n",
       "      <td>20909</td>\n",
       "      <td>37386</td>\n",
       "      <td>2823</td>\n",
       "      <td>3351</td>\n",
       "      <td>29802</td>\n",
       "      <td>205892</td>\n",
       "    </tr>\n",
       "  </tbody>\n",
       "</table>\n",
       "<p>2 rows × 21 columns</p>\n",
       "</div>"
      ],
      "text/plain": [
       "city       1      3       4       5       6      7      8      9      10  \\\n",
       "Target                                                                     \n",
       "0       71144  27052  243958  367432  125832  13083  38962  40080  29357   \n",
       "1       68979  28661  248840  388104  123751  13146  38228  45713  34248   \n",
       "\n",
       "city       11   ...        13      14      15    16     17     18    19    20  \\\n",
       "Target          ...                                                             \n",
       "0       32411   ...    490631   99770  216789  3539  19973  39956  3706  2544   \n",
       "1       30725   ...    539564  104366  227238  3298  20909  37386  2823  3351   \n",
       "\n",
       "city       21      22  \n",
       "Target                 \n",
       "0       28905  212001  \n",
       "1       29802  205892  \n",
       "\n",
       "[2 rows x 21 columns]"
      ]
     },
     "execution_count": 61,
     "metadata": {},
     "output_type": "execute_result"
    }
   ],
   "source": [
    "cro_tar_city=pd.crosstab(music_tbl['Target'],music_tbl['city'])\n",
    "cro_tar_city.plot.bar(figsize=(15,6),fontsize=14)\n",
    "plt.show()\n",
    "cro_tar_city"
   ]
  },
  {
   "cell_type": "code",
   "execution_count": 62,
   "metadata": {},
   "outputs": [
    {
     "data": {
      "image/png": "[encoded data removed]",
      "text/plain": [
       "<matplotlib.figure.Figure at 0x1156b7a20>"
      ]
     },
     "metadata": {},
     "output_type": "display_data"
    },
    {
     "data": {
      "text/html": [
       "<div>\n",
       "<table border=\"1\" class=\"dataframe\">\n",
       "  <thead>\n",
       "    <tr style=\"text-align: right;\">\n",
       "      <th>gender</th>\n",
       "      <th>female</th>\n",
       "      <th>male</th>\n",
       "    </tr>\n",
       "    <tr>\n",
       "      <th>Target</th>\n",
       "      <th></th>\n",
       "      <th></th>\n",
       "    </tr>\n",
       "  </thead>\n",
       "  <tbody>\n",
       "    <tr>\n",
       "      <th>0</th>\n",
       "      <td>1007449</td>\n",
       "      <td>1089721</td>\n",
       "    </tr>\n",
       "    <tr>\n",
       "      <th>1</th>\n",
       "      <td>1035957</td>\n",
       "      <td>1153738</td>\n",
       "    </tr>\n",
       "  </tbody>\n",
       "</table>\n",
       "</div>"
      ],
      "text/plain": [
       "gender   female     male\n",
       "Target                  \n",
       "0       1007449  1089721\n",
       "1       1035957  1153738"
      ]
     },
     "execution_count": 62,
     "metadata": {},
     "output_type": "execute_result"
    }
   ],
   "source": [
    "cro_tar_gender=pd.crosstab(music_tbl['Target'],music_tbl['gender'])\n",
    "cro_tar_gender.plot.bar(figsize=(15,6),fontsize=14)\n",
    "plt.show()\n",
    "cro_tar_gender"
   ]
  },
  {
   "cell_type": "code",
   "execution_count": 63,
   "metadata": {},
   "outputs": [
    {
     "data": {
      "image/png": "[encoded data removed]",
      "text/plain": [
       "<matplotlib.figure.Figure at 0x1154523c8>"
      ]
     },
     "metadata": {},
     "output_type": "display_data"
    },
    {
     "data": {
      "text/html": [
       "<div>\n",
       "<table border=\"1\" class=\"dataframe\">\n",
       "  <thead>\n",
       "    <tr style=\"text-align: right;\">\n",
       "      <th>registered_via</th>\n",
       "      <th>3</th>\n",
       "      <th>4</th>\n",
       "      <th>7</th>\n",
       "      <th>9</th>\n",
       "      <th>13</th>\n",
       "    </tr>\n",
       "    <tr>\n",
       "      <th>Target</th>\n",
       "      <th></th>\n",
       "      <th></th>\n",
       "      <th></th>\n",
       "      <th></th>\n",
       "      <th></th>\n",
       "    </tr>\n",
       "  </thead>\n",
       "  <tbody>\n",
       "    <tr>\n",
       "      <th>0</th>\n",
       "      <td>518301</td>\n",
       "      <td>142592</td>\n",
       "      <td>319658</td>\n",
       "      <td>1189406</td>\n",
       "      <td>1870</td>\n",
       "    </tr>\n",
       "    <tr>\n",
       "      <th>1</th>\n",
       "      <td>543131</td>\n",
       "      <td>154674</td>\n",
       "      <td>333220</td>\n",
       "      <td>1230124</td>\n",
       "      <td>2144</td>\n",
       "    </tr>\n",
       "  </tbody>\n",
       "</table>\n",
       "</div>"
      ],
      "text/plain": [
       "registered_via      3       4       7        9     13\n",
       "Target                                               \n",
       "0               518301  142592  319658  1189406  1870\n",
       "1               543131  154674  333220  1230124  2144"
      ]
     },
     "execution_count": 63,
     "metadata": {},
     "output_type": "execute_result"
    }
   ],
   "source": [
    "cro_tar_rv=pd.crosstab(music_tbl['Target'],music_tbl['registered_via'])\n",
    "cro_tar_rv.plot.bar(figsize=(15,6),fontsize=14)\n",
    "plt.show()\n",
    "cro_tar_rv"
   ]
  },
  {
   "cell_type": "code",
   "execution_count": 64,
   "metadata": {},
   "outputs": [
    {
     "data": {
      "image/png": "[encoded data removed]",
      "text/plain": [
       "<matplotlib.figure.Figure at 0x115b91ef0>"
      ]
     },
     "metadata": {},
     "output_type": "display_data"
    },
    {
     "data": {
      "text/html": [
       "<div>\n",
       "<table border=\"1\" class=\"dataframe\">\n",
       "  <thead>\n",
       "    <tr style=\"text-align: right;\">\n",
       "      <th>song_length</th>\n",
       "      <th>short</th>\n",
       "      <th>med_short</th>\n",
       "      <th>mid_long</th>\n",
       "      <th>long</th>\n",
       "    </tr>\n",
       "    <tr>\n",
       "      <th>Target</th>\n",
       "      <th></th>\n",
       "      <th></th>\n",
       "      <th></th>\n",
       "      <th></th>\n",
       "    </tr>\n",
       "  </thead>\n",
       "  <tbody>\n",
       "    <tr>\n",
       "      <th>0</th>\n",
       "      <td>561897</td>\n",
       "      <td>529579</td>\n",
       "      <td>536734</td>\n",
       "      <td>543608</td>\n",
       "    </tr>\n",
       "    <tr>\n",
       "      <th>1</th>\n",
       "      <td>551183</td>\n",
       "      <td>576363</td>\n",
       "      <td>572535</td>\n",
       "      <td>563196</td>\n",
       "    </tr>\n",
       "  </tbody>\n",
       "</table>\n",
       "</div>"
      ],
      "text/plain": [
       "song_length   short  med_short  mid_long    long\n",
       "Target                                          \n",
       "0            561897     529579    536734  543608\n",
       "1            551183     576363    572535  563196"
      ]
     },
     "execution_count": 64,
     "metadata": {},
     "output_type": "execute_result"
    }
   ],
   "source": [
    "cro_tar_sl=pd.crosstab(music_tbl['Target'],music_tbl['song_length'])\n",
    "cro_tar_sl.plot.bar(figsize=(15,6),fontsize=14)\n",
    "plt.show()\n",
    "cro_tar_sl"
   ]
  },
  {
   "cell_type": "code",
   "execution_count": 65,
   "metadata": {},
   "outputs": [
    {
     "data": {
      "image/png": "[encoded data removed]",
      "text/plain": [
       "<matplotlib.figure.Figure at 0x115db4240>"
      ]
     },
     "metadata": {},
     "output_type": "display_data"
    },
    {
     "data": {
      "text/html": [
       "<div>\n",
       "<table border=\"1\" class=\"dataframe\">\n",
       "  <thead>\n",
       "    <tr style=\"text-align: right;\">\n",
       "      <th>language</th>\n",
       "      <th>-1.0</th>\n",
       "      <th>3.0</th>\n",
       "      <th>10.0</th>\n",
       "      <th>17.0</th>\n",
       "      <th>24.0</th>\n",
       "      <th>31.0</th>\n",
       "      <th>38.0</th>\n",
       "      <th>45.0</th>\n",
       "      <th>52.0</th>\n",
       "      <th>59.0</th>\n",
       "    </tr>\n",
       "    <tr>\n",
       "      <th>Target</th>\n",
       "      <th></th>\n",
       "      <th></th>\n",
       "      <th></th>\n",
       "      <th></th>\n",
       "      <th></th>\n",
       "      <th></th>\n",
       "      <th></th>\n",
       "      <th></th>\n",
       "      <th></th>\n",
       "      <th></th>\n",
       "    </tr>\n",
       "  </thead>\n",
       "  <tbody>\n",
       "    <tr>\n",
       "      <th>0</th>\n",
       "      <td>101484</td>\n",
       "      <td>1159752</td>\n",
       "      <td>48082</td>\n",
       "      <td>81746</td>\n",
       "      <td>25327</td>\n",
       "      <td>181822</td>\n",
       "      <td>61</td>\n",
       "      <td>668</td>\n",
       "      <td>571757</td>\n",
       "      <td>1119</td>\n",
       "    </tr>\n",
       "    <tr>\n",
       "      <th>1</th>\n",
       "      <td>74164</td>\n",
       "      <td>1328398</td>\n",
       "      <td>41155</td>\n",
       "      <td>56694</td>\n",
       "      <td>21890</td>\n",
       "      <td>199638</td>\n",
       "      <td>53</td>\n",
       "      <td>422</td>\n",
       "      <td>539676</td>\n",
       "      <td>1187</td>\n",
       "    </tr>\n",
       "  </tbody>\n",
       "</table>\n",
       "</div>"
      ],
      "text/plain": [
       "language   -1.0      3.0    10.0   17.0   24.0    31.0   38.0   45.0    52.0  \\\n",
       "Target                                                                         \n",
       "0         101484  1159752  48082  81746  25327  181822     61    668  571757   \n",
       "1          74164  1328398  41155  56694  21890  199638     53    422  539676   \n",
       "\n",
       "language   59.0  \n",
       "Target           \n",
       "0          1119  \n",
       "1          1187  "
      ]
     },
     "execution_count": 65,
     "metadata": {},
     "output_type": "execute_result"
    }
   ],
   "source": [
    "cro_tar_language=pd.crosstab(music_tbl['Target'],music_tbl['language'])\n",
    "cro_tar_language.plot.bar(figsize=(15,6),fontsize=14)\n",
    "plt.show()\n",
    "cro_tar_language"
   ]
  },
  {
   "cell_type": "code",
   "execution_count": 138,
   "metadata": {},
   "outputs": [
    {
     "data": {
      "text/html": [
       "<div>\n",
       "<table border=\"1\" class=\"dataframe\">\n",
       "  <thead>\n",
       "    <tr style=\"text-align: right;\">\n",
       "      <th></th>\n",
       "      <th></th>\n",
       "      <th>age</th>\n",
       "      <th>city</th>\n",
       "      <th>exp_date</th>\n",
       "      <th>language</th>\n",
       "      <th>reg_time</th>\n",
       "      <th>registered_via</th>\n",
       "      <th>song_length</th>\n",
       "    </tr>\n",
       "    <tr>\n",
       "      <th>Target</th>\n",
       "      <th></th>\n",
       "      <th></th>\n",
       "      <th></th>\n",
       "      <th></th>\n",
       "      <th></th>\n",
       "      <th></th>\n",
       "      <th></th>\n",
       "      <th></th>\n",
       "    </tr>\n",
       "  </thead>\n",
       "  <tbody>\n",
       "    <tr>\n",
       "      <th rowspan=\"8\" valign=\"top\">0</th>\n",
       "      <th>count</th>\n",
       "      <td>3.662762e+06</td>\n",
       "      <td>3.662762e+06</td>\n",
       "      <td>3.662762e+06</td>\n",
       "      <td>3.662744e+06</td>\n",
       "      <td>3.662762e+06</td>\n",
       "      <td>3.662762e+06</td>\n",
       "      <td>3.662744e+06</td>\n",
       "    </tr>\n",
       "    <tr>\n",
       "      <th>mean</th>\n",
       "      <td>1.755013e+01</td>\n",
       "      <td>7.430372e+00</td>\n",
       "      <td>2.017139e+07</td>\n",
       "      <td>1.919697e+01</td>\n",
       "      <td>2.012817e+07</td>\n",
       "      <td>6.771395e+00</td>\n",
       "      <td>2.452441e+05</td>\n",
       "    </tr>\n",
       "    <tr>\n",
       "      <th>std</th>\n",
       "      <td>2.276344e+01</td>\n",
       "      <td>6.673605e+00</td>\n",
       "      <td>4.159684e+03</td>\n",
       "      <td>2.137405e+01</td>\n",
       "      <td>3.036962e+04</td>\n",
       "      <td>2.276317e+00</td>\n",
       "      <td>7.273728e+04</td>\n",
       "    </tr>\n",
       "    <tr>\n",
       "      <th>min</th>\n",
       "      <td>-4.300000e+01</td>\n",
       "      <td>1.000000e+00</td>\n",
       "      <td>1.970010e+07</td>\n",
       "      <td>-1.000000e+00</td>\n",
       "      <td>2.004033e+07</td>\n",
       "      <td>3.000000e+00</td>\n",
       "      <td>1.950000e+03</td>\n",
       "    </tr>\n",
       "    <tr>\n",
       "      <th>25%</th>\n",
       "      <td>0.000000e+00</td>\n",
       "      <td>1.000000e+00</td>\n",
       "      <td>2.017091e+07</td>\n",
       "      <td>3.000000e+00</td>\n",
       "      <td>2.011070e+07</td>\n",
       "      <td>4.000000e+00</td>\n",
       "      <td>2.135770e+05</td>\n",
       "    </tr>\n",
       "    <tr>\n",
       "      <th>50%</th>\n",
       "      <td>2.100000e+01</td>\n",
       "      <td>5.000000e+00</td>\n",
       "      <td>2.017092e+07</td>\n",
       "      <td>3.000000e+00</td>\n",
       "      <td>2.013102e+07</td>\n",
       "      <td>7.000000e+00</td>\n",
       "      <td>2.415800e+05</td>\n",
       "    </tr>\n",
       "    <tr>\n",
       "      <th>75%</th>\n",
       "      <td>2.900000e+01</td>\n",
       "      <td>1.300000e+01</td>\n",
       "      <td>2.017101e+07</td>\n",
       "      <td>5.200000e+01</td>\n",
       "      <td>2.015110e+07</td>\n",
       "      <td>9.000000e+00</td>\n",
       "      <td>2.723700e+05</td>\n",
       "    </tr>\n",
       "    <tr>\n",
       "      <th>max</th>\n",
       "      <td>1.051000e+03</td>\n",
       "      <td>2.200000e+01</td>\n",
       "      <td>2.020102e+07</td>\n",
       "      <td>5.900000e+01</td>\n",
       "      <td>2.017013e+07</td>\n",
       "      <td>1.300000e+01</td>\n",
       "      <td>7.621067e+06</td>\n",
       "    </tr>\n",
       "    <tr>\n",
       "      <th rowspan=\"8\" valign=\"top\">1</th>\n",
       "      <th>count</th>\n",
       "      <td>3.714656e+06</td>\n",
       "      <td>3.714656e+06</td>\n",
       "      <td>3.714656e+06</td>\n",
       "      <td>3.714636e+06</td>\n",
       "      <td>3.714656e+06</td>\n",
       "      <td>3.714656e+06</td>\n",
       "      <td>3.714636e+06</td>\n",
       "    </tr>\n",
       "    <tr>\n",
       "      <th>mean</th>\n",
       "      <td>1.752856e+01</td>\n",
       "      <td>7.591295e+00</td>\n",
       "      <td>2.017174e+07</td>\n",
       "      <td>1.803031e+01</td>\n",
       "      <td>2.012804e+07</td>\n",
       "      <td>6.816424e+00</td>\n",
       "      <td>2.450003e+05</td>\n",
       "    </tr>\n",
       "    <tr>\n",
       "      <th>std</th>\n",
       "      <td>2.029198e+01</td>\n",
       "      <td>6.608967e+00</td>\n",
       "      <td>3.552815e+03</td>\n",
       "      <td>2.096459e+01</td>\n",
       "      <td>2.997736e+04</td>\n",
       "      <td>2.275018e+00</td>\n",
       "      <td>6.156687e+04</td>\n",
       "    </tr>\n",
       "    <tr>\n",
       "      <th>min</th>\n",
       "      <td>-4.300000e+01</td>\n",
       "      <td>1.000000e+00</td>\n",
       "      <td>2.004102e+07</td>\n",
       "      <td>-1.000000e+00</td>\n",
       "      <td>2.004033e+07</td>\n",
       "      <td>3.000000e+00</td>\n",
       "      <td>1.393000e+03</td>\n",
       "    </tr>\n",
       "    <tr>\n",
       "      <th>25%</th>\n",
       "      <td>0.000000e+00</td>\n",
       "      <td>1.000000e+00</td>\n",
       "      <td>2.017091e+07</td>\n",
       "      <td>3.000000e+00</td>\n",
       "      <td>2.011071e+07</td>\n",
       "      <td>4.000000e+00</td>\n",
       "      <td>2.154570e+05</td>\n",
       "    </tr>\n",
       "    <tr>\n",
       "      <th>50%</th>\n",
       "      <td>2.100000e+01</td>\n",
       "      <td>5.000000e+00</td>\n",
       "      <td>2.017093e+07</td>\n",
       "      <td>3.000000e+00</td>\n",
       "      <td>2.013102e+07</td>\n",
       "      <td>7.000000e+00</td>\n",
       "      <td>2.420810e+05</td>\n",
       "    </tr>\n",
       "    <tr>\n",
       "      <th>75%</th>\n",
       "      <td>2.800000e+01</td>\n",
       "      <td>1.300000e+01</td>\n",
       "      <td>2.017101e+07</td>\n",
       "      <td>3.100000e+01</td>\n",
       "      <td>2.015101e+07</td>\n",
       "      <td>9.000000e+00</td>\n",
       "      <td>2.717770e+05</td>\n",
       "    </tr>\n",
       "    <tr>\n",
       "      <th>max</th>\n",
       "      <td>1.030000e+03</td>\n",
       "      <td>2.200000e+01</td>\n",
       "      <td>2.020102e+07</td>\n",
       "      <td>5.900000e+01</td>\n",
       "      <td>2.017013e+07</td>\n",
       "      <td>1.300000e+01</td>\n",
       "      <td>1.085171e+07</td>\n",
       "    </tr>\n",
       "  </tbody>\n",
       "</table>\n",
       "</div>"
      ],
      "text/plain": [
       "                       age          city      exp_date      language  \\\n",
       "Target                                                                 \n",
       "0      count  3.662762e+06  3.662762e+06  3.662762e+06  3.662744e+06   \n",
       "       mean   1.755013e+01  7.430372e+00  2.017139e+07  1.919697e+01   \n",
       "       std    2.276344e+01  6.673605e+00  4.159684e+03  2.137405e+01   \n",
       "       min   -4.300000e+01  1.000000e+00  1.970010e+07 -1.000000e+00   \n",
       "       25%    0.000000e+00  1.000000e+00  2.017091e+07  3.000000e+00   \n",
       "       50%    2.100000e+01  5.000000e+00  2.017092e+07  3.000000e+00   \n",
       "       75%    2.900000e+01  1.300000e+01  2.017101e+07  5.200000e+01   \n",
       "       max    1.051000e+03  2.200000e+01  2.020102e+07  5.900000e+01   \n",
       "1      count  3.714656e+06  3.714656e+06  3.714656e+06  3.714636e+06   \n",
       "       mean   1.752856e+01  7.591295e+00  2.017174e+07  1.803031e+01   \n",
       "       std    2.029198e+01  6.608967e+00  3.552815e+03  2.096459e+01   \n",
       "       min   -4.300000e+01  1.000000e+00  2.004102e+07 -1.000000e+00   \n",
       "       25%    0.000000e+00  1.000000e+00  2.017091e+07  3.000000e+00   \n",
       "       50%    2.100000e+01  5.000000e+00  2.017093e+07  3.000000e+00   \n",
       "       75%    2.800000e+01  1.300000e+01  2.017101e+07  3.100000e+01   \n",
       "       max    1.030000e+03  2.200000e+01  2.020102e+07  5.900000e+01   \n",
       "\n",
       "                  reg_time  registered_via   song_length  \n",
       "Target                                                    \n",
       "0      count  3.662762e+06    3.662762e+06  3.662744e+06  \n",
       "       mean   2.012817e+07    6.771395e+00  2.452441e+05  \n",
       "       std    3.036962e+04    2.276317e+00  7.273728e+04  \n",
       "       min    2.004033e+07    3.000000e+00  1.950000e+03  \n",
       "       25%    2.011070e+07    4.000000e+00  2.135770e+05  \n",
       "       50%    2.013102e+07    7.000000e+00  2.415800e+05  \n",
       "       75%    2.015110e+07    9.000000e+00  2.723700e+05  \n",
       "       max    2.017013e+07    1.300000e+01  7.621067e+06  \n",
       "1      count  3.714656e+06    3.714656e+06  3.714636e+06  \n",
       "       mean   2.012804e+07    6.816424e+00  2.450003e+05  \n",
       "       std    2.997736e+04    2.275018e+00  6.156687e+04  \n",
       "       min    2.004033e+07    3.000000e+00  1.393000e+03  \n",
       "       25%    2.011071e+07    4.000000e+00  2.154570e+05  \n",
       "       50%    2.013102e+07    7.000000e+00  2.420810e+05  \n",
       "       75%    2.015101e+07    9.000000e+00  2.717770e+05  \n",
       "       max    2.017013e+07    1.300000e+01  1.085171e+07  "
      ]
     },
     "execution_count": 138,
     "metadata": {},
     "output_type": "execute_result"
    }
   ],
   "source": [
    "np.set_printoptions(precision=2, linewidth=120, suppress=True)\n",
    "\n",
    "music_tbl.groupby('Target').describe()"
   ]
  },
  {
   "cell_type": "code",
   "execution_count": 86,
   "metadata": {},
   "outputs": [
    {
     "data": {
      "text/html": [
       "<div>\n",
       "<table border=\"1\" class=\"dataframe\">\n",
       "  <thead>\n",
       "    <tr style=\"text-align: right;\">\n",
       "      <th></th>\n",
       "      <th>Unnamed: 0</th>\n",
       "      <th>customer_id</th>\n",
       "      <th>song_id</th>\n",
       "      <th>source_system_tab</th>\n",
       "      <th>source_screen_name</th>\n",
       "      <th>source_type</th>\n",
       "      <th>city</th>\n",
       "      <th>age</th>\n",
       "      <th>gender</th>\n",
       "      <th>registered_via</th>\n",
       "      <th>reg_time</th>\n",
       "      <th>exp_date</th>\n",
       "      <th>genre_ids</th>\n",
       "      <th>song_length</th>\n",
       "      <th>language</th>\n",
       "      <th>artist_name</th>\n",
       "      <th>composer</th>\n",
       "      <th>lyricist</th>\n",
       "      <th>Target</th>\n",
       "    </tr>\n",
       "  </thead>\n",
       "  <tbody>\n",
       "    <tr>\n",
       "      <th>1</th>\n",
       "      <td>1</td>\n",
       "      <td>Xumu+NIjS6QYVxDS4/t3SawvJ7viT9hPKXmf0RtLNx8=</td>\n",
       "      <td>bhp/MpSNoqoxOIB+/l8WPqu6jldth4DIpCm3ayXnJqM=</td>\n",
       "      <td>my library</td>\n",
       "      <td>Local playlist more</td>\n",
       "      <td>local-playlist</td>\n",
       "      <td>13</td>\n",
       "      <td>31-45</td>\n",
       "      <td>female</td>\n",
       "      <td>9</td>\n",
       "      <td>20110525</td>\n",
       "      <td>20170911</td>\n",
       "      <td>1259</td>\n",
       "      <td>long</td>\n",
       "      <td>52.0</td>\n",
       "      <td>Various Artists</td>\n",
       "      <td>NaN</td>\n",
       "      <td>NaN</td>\n",
       "      <td>1</td>\n",
       "    </tr>\n",
       "    <tr>\n",
       "      <th>2</th>\n",
       "      <td>2</td>\n",
       "      <td>Xumu+NIjS6QYVxDS4/t3SawvJ7viT9hPKXmf0RtLNx8=</td>\n",
       "      <td>JNWfrrC7zNN7BdMpsISKa4Mw+xVJYNnxXh3/Epw7QgY=</td>\n",
       "      <td>my library</td>\n",
       "      <td>Local playlist more</td>\n",
       "      <td>local-playlist</td>\n",
       "      <td>13</td>\n",
       "      <td>31-45</td>\n",
       "      <td>female</td>\n",
       "      <td>9</td>\n",
       "      <td>20110525</td>\n",
       "      <td>20170911</td>\n",
       "      <td>1259</td>\n",
       "      <td>med_short</td>\n",
       "      <td>52.0</td>\n",
       "      <td>Nas</td>\n",
       "      <td>N. Jones、W. Adams、J. Lordan、D. Ingle</td>\n",
       "      <td>NaN</td>\n",
       "      <td>1</td>\n",
       "    </tr>\n",
       "    <tr>\n",
       "      <th>3</th>\n",
       "      <td>3</td>\n",
       "      <td>Xumu+NIjS6QYVxDS4/t3SawvJ7viT9hPKXmf0RtLNx8=</td>\n",
       "      <td>2A87tzfnJTSWqD7gIZHisolhe4DMdzkbd6LzO1KHjNs=</td>\n",
       "      <td>my library</td>\n",
       "      <td>Local playlist more</td>\n",
       "      <td>local-playlist</td>\n",
       "      <td>13</td>\n",
       "      <td>31-45</td>\n",
       "      <td>female</td>\n",
       "      <td>9</td>\n",
       "      <td>20110525</td>\n",
       "      <td>20170911</td>\n",
       "      <td>1019</td>\n",
       "      <td>mid_long</td>\n",
       "      <td>-1.0</td>\n",
       "      <td>Soundway</td>\n",
       "      <td>Kwadwo Donkoh</td>\n",
       "      <td>NaN</td>\n",
       "      <td>1</td>\n",
       "    </tr>\n",
       "  </tbody>\n",
       "</table>\n",
       "</div>"
      ],
      "text/plain": [
       "   Unnamed: 0                                   customer_id  \\\n",
       "1           1  Xumu+NIjS6QYVxDS4/t3SawvJ7viT9hPKXmf0RtLNx8=   \n",
       "2           2  Xumu+NIjS6QYVxDS4/t3SawvJ7viT9hPKXmf0RtLNx8=   \n",
       "3           3  Xumu+NIjS6QYVxDS4/t3SawvJ7viT9hPKXmf0RtLNx8=   \n",
       "\n",
       "                                        song_id source_system_tab  \\\n",
       "1  bhp/MpSNoqoxOIB+/l8WPqu6jldth4DIpCm3ayXnJqM=        my library   \n",
       "2  JNWfrrC7zNN7BdMpsISKa4Mw+xVJYNnxXh3/Epw7QgY=        my library   \n",
       "3  2A87tzfnJTSWqD7gIZHisolhe4DMdzkbd6LzO1KHjNs=        my library   \n",
       "\n",
       "    source_screen_name     source_type  city    age  gender  registered_via  \\\n",
       "1  Local playlist more  local-playlist    13  31-45  female               9   \n",
       "2  Local playlist more  local-playlist    13  31-45  female               9   \n",
       "3  Local playlist more  local-playlist    13  31-45  female               9   \n",
       "\n",
       "   reg_time  exp_date genre_ids song_length  language      artist_name  \\\n",
       "1  20110525  20170911      1259        long      52.0  Various Artists   \n",
       "2  20110525  20170911      1259   med_short      52.0              Nas   \n",
       "3  20110525  20170911      1019    mid_long      -1.0         Soundway   \n",
       "\n",
       "                               composer lyricist  Target  \n",
       "1                                   NaN      NaN       1  \n",
       "2  N. Jones、W. Adams、J. Lordan、D. Ingle      NaN       1  \n",
       "3                         Kwadwo Donkoh      NaN       1  "
      ]
     },
     "execution_count": 86,
     "metadata": {},
     "output_type": "execute_result"
    }
   ],
   "source": [
    "music_tbl.head(3)"
   ]
  },
  {
   "cell_type": "code",
   "execution_count": null,
   "metadata": {
    "collapsed": true
   },
   "outputs": [],
   "source": []
  },
  {
   "cell_type": "code",
   "execution_count": null,
   "metadata": {
    "collapsed": true
   },
   "outputs": [],
   "source": []
  },
  {
   "cell_type": "code",
   "execution_count": null,
   "metadata": {
    "collapsed": true
   },
   "outputs": [],
   "source": []
  },
  {
   "cell_type": "code",
   "execution_count": null,
   "metadata": {
    "collapsed": true
   },
   "outputs": [],
   "source": []
  },
  {
   "cell_type": "markdown",
   "metadata": {},
   "source": [
    "#Dataset Cleaning"
   ]
  },
  {
   "cell_type": "code",
   "execution_count": 87,
   "metadata": {},
   "outputs": [
    {
     "name": "stdout",
     "output_type": "stream",
     "text": [
      "(7377418, 19)\n"
     ]
    },
    {
     "data": {
      "text/html": [
       "<div>\n",
       "<table border=\"1\" class=\"dataframe\">\n",
       "  <thead>\n",
       "    <tr style=\"text-align: right;\">\n",
       "      <th></th>\n",
       "      <th>Unnamed: 0</th>\n",
       "      <th>customer_id</th>\n",
       "      <th>song_id</th>\n",
       "      <th>source_system_tab</th>\n",
       "      <th>source_screen_name</th>\n",
       "      <th>source_type</th>\n",
       "      <th>city</th>\n",
       "      <th>age</th>\n",
       "      <th>gender</th>\n",
       "      <th>registered_via</th>\n",
       "      <th>reg_time</th>\n",
       "      <th>exp_date</th>\n",
       "      <th>genre_ids</th>\n",
       "      <th>song_length</th>\n",
       "      <th>language</th>\n",
       "      <th>artist_name</th>\n",
       "      <th>composer</th>\n",
       "      <th>lyricist</th>\n",
       "      <th>Target</th>\n",
       "    </tr>\n",
       "  </thead>\n",
       "  <tbody>\n",
       "    <tr>\n",
       "      <th>0</th>\n",
       "      <td>0</td>\n",
       "      <td>FGtllVqz18RPiwJj/edr2gV78zirAiY/9SmYvia+kCg=</td>\n",
       "      <td>BBzumQNXUHKdEBOB7mAJuzok+IJA1c2Ryg/yzTF6tik=</td>\n",
       "      <td>explore</td>\n",
       "      <td>Explore</td>\n",
       "      <td>online-playlist</td>\n",
       "      <td>1</td>\n",
       "      <td>0</td>\n",
       "      <td>NaN</td>\n",
       "      <td>7</td>\n",
       "      <td>20120102</td>\n",
       "      <td>20171005</td>\n",
       "      <td>359</td>\n",
       "      <td>206471.0</td>\n",
       "      <td>52.0</td>\n",
       "      <td>Bastille</td>\n",
       "      <td>Dan Smith| Mark Crew</td>\n",
       "      <td>NaN</td>\n",
       "      <td>1</td>\n",
       "    </tr>\n",
       "    <tr>\n",
       "      <th>1</th>\n",
       "      <td>1</td>\n",
       "      <td>Xumu+NIjS6QYVxDS4/t3SawvJ7viT9hPKXmf0RtLNx8=</td>\n",
       "      <td>bhp/MpSNoqoxOIB+/l8WPqu6jldth4DIpCm3ayXnJqM=</td>\n",
       "      <td>my library</td>\n",
       "      <td>Local playlist more</td>\n",
       "      <td>local-playlist</td>\n",
       "      <td>13</td>\n",
       "      <td>24</td>\n",
       "      <td>female</td>\n",
       "      <td>9</td>\n",
       "      <td>20110525</td>\n",
       "      <td>20170911</td>\n",
       "      <td>1259</td>\n",
       "      <td>284584.0</td>\n",
       "      <td>52.0</td>\n",
       "      <td>Various Artists</td>\n",
       "      <td>NaN</td>\n",
       "      <td>NaN</td>\n",
       "      <td>1</td>\n",
       "    </tr>\n",
       "    <tr>\n",
       "      <th>2</th>\n",
       "      <td>2</td>\n",
       "      <td>Xumu+NIjS6QYVxDS4/t3SawvJ7viT9hPKXmf0RtLNx8=</td>\n",
       "      <td>JNWfrrC7zNN7BdMpsISKa4Mw+xVJYNnxXh3/Epw7QgY=</td>\n",
       "      <td>my library</td>\n",
       "      <td>Local playlist more</td>\n",
       "      <td>local-playlist</td>\n",
       "      <td>13</td>\n",
       "      <td>24</td>\n",
       "      <td>female</td>\n",
       "      <td>9</td>\n",
       "      <td>20110525</td>\n",
       "      <td>20170911</td>\n",
       "      <td>1259</td>\n",
       "      <td>225396.0</td>\n",
       "      <td>52.0</td>\n",
       "      <td>Nas</td>\n",
       "      <td>N. Jones、W. Adams、J. Lordan、D. Ingle</td>\n",
       "      <td>NaN</td>\n",
       "      <td>1</td>\n",
       "    </tr>\n",
       "  </tbody>\n",
       "</table>\n",
       "</div>"
      ],
      "text/plain": [
       "   Unnamed: 0                                   customer_id  \\\n",
       "0           0  FGtllVqz18RPiwJj/edr2gV78zirAiY/9SmYvia+kCg=   \n",
       "1           1  Xumu+NIjS6QYVxDS4/t3SawvJ7viT9hPKXmf0RtLNx8=   \n",
       "2           2  Xumu+NIjS6QYVxDS4/t3SawvJ7viT9hPKXmf0RtLNx8=   \n",
       "\n",
       "                                        song_id source_system_tab  \\\n",
       "0  BBzumQNXUHKdEBOB7mAJuzok+IJA1c2Ryg/yzTF6tik=           explore   \n",
       "1  bhp/MpSNoqoxOIB+/l8WPqu6jldth4DIpCm3ayXnJqM=        my library   \n",
       "2  JNWfrrC7zNN7BdMpsISKa4Mw+xVJYNnxXh3/Epw7QgY=        my library   \n",
       "\n",
       "    source_screen_name      source_type  city  age  gender  registered_via  \\\n",
       "0              Explore  online-playlist     1    0     NaN               7   \n",
       "1  Local playlist more   local-playlist    13   24  female               9   \n",
       "2  Local playlist more   local-playlist    13   24  female               9   \n",
       "\n",
       "   reg_time  exp_date genre_ids  song_length  language      artist_name  \\\n",
       "0  20120102  20171005       359     206471.0      52.0         Bastille   \n",
       "1  20110525  20170911      1259     284584.0      52.0  Various Artists   \n",
       "2  20110525  20170911      1259     225396.0      52.0              Nas   \n",
       "\n",
       "                               composer lyricist  Target  \n",
       "0                  Dan Smith| Mark Crew      NaN       1  \n",
       "1                                   NaN      NaN       1  \n",
       "2  N. Jones、W. Adams、J. Lordan、D. Ingle      NaN       1  "
      ]
     },
     "execution_count": 87,
     "metadata": {},
     "output_type": "execute_result"
    }
   ],
   "source": [
    "#Copy the original dataset to aother variable to avoid any changes to the original dataset\n",
    "tbl=original_tbl.copy()\n",
    "print(tbl.shape)\n",
    "tbl.head(3)"
   ]
  },
  {
   "cell_type": "code",
   "execution_count": 88,
   "metadata": {
    "collapsed": true
   },
   "outputs": [],
   "source": [
    "#Drop all the null values\n",
    "tbl.drop(tbl[tbl['genre_ids'].isnull()].index,axis=0,inplace=True)\n",
    "tbl.drop(tbl[tbl['gender'].isnull()].index,axis=0,inplace=True)\n",
    "tbl.drop(tbl[tbl['age']==0].index,axis=0,inplace=True)\n",
    "tbl.drop(tbl[tbl['age']>144].index,axis=0,inplace=True)\n",
    "#Categorized the 'Age' attributes values to 4 category\n",
    "tbl['age']=pd.qcut(tbl.age,[0, .25, .5, .75, 1.],['child','young','mid-age','old']) \n",
    "#Categorized the \"Song_Length\" attributes values to 4 category\n",
    "tbl['song_length']=pd.qcut(tbl.song_length,[0, .25, .5, .75, 1.],['short','med_short','mid_long','long'])"
   ]
  },
  {
   "cell_type": "code",
   "execution_count": 89,
   "metadata": {},
   "outputs": [
    {
     "name": "stdout",
     "output_type": "stream",
     "text": [
      "(4218192,)\n"
     ]
    },
    {
     "data": {
      "text/plain": [
       "1    1\n",
       "2    1\n",
       "3    1\n",
       "Name: Target, dtype: int64"
      ]
     },
     "execution_count": 89,
     "metadata": {},
     "output_type": "execute_result"
    }
   ],
   "source": [
    "#Extract the 'Target' Class column \n",
    "tbl_target=tbl['Target']\n",
    "print(tbl_target.shape)\n",
    "tbl_target.head(3)"
   ]
  },
  {
   "cell_type": "code",
   "execution_count": 90,
   "metadata": {
    "collapsed": true
   },
   "outputs": [],
   "source": [
    "#drop some of the attributes for now. \n",
    "tbl.drop('Unnamed: 0',axis=1,inplace=True)\n",
    "tbl.drop('customer_id',axis=1,inplace=True)\n",
    "tbl.drop('song_id',axis=1,inplace=True)\n",
    "tbl.drop('reg_time',axis=1,inplace=True)\n",
    "tbl.drop('exp_date',axis=1,inplace=True)\n",
    "tbl.drop('genre_ids',axis=1,inplace=True)\n",
    "tbl.drop('artist_name',axis=1,inplace=True)\n",
    "tbl.drop('composer',axis=1,inplace=True)\n",
    "tbl.drop('lyricist',axis=1,inplace=True)\n",
    "tbl.drop('Target',axis=1,inplace=True)"
   ]
  },
  {
   "cell_type": "code",
   "execution_count": 91,
   "metadata": {},
   "outputs": [
    {
     "name": "stdout",
     "output_type": "stream",
     "text": [
      "(4218192, 9)\n"
     ]
    },
    {
     "data": {
      "text/html": [
       "<div>\n",
       "<table border=\"1\" class=\"dataframe\">\n",
       "  <thead>\n",
       "    <tr style=\"text-align: right;\">\n",
       "      <th></th>\n",
       "      <th>source_system_tab</th>\n",
       "      <th>source_screen_name</th>\n",
       "      <th>source_type</th>\n",
       "      <th>city</th>\n",
       "      <th>age</th>\n",
       "      <th>gender</th>\n",
       "      <th>registered_via</th>\n",
       "      <th>song_length</th>\n",
       "      <th>language</th>\n",
       "    </tr>\n",
       "  </thead>\n",
       "  <tbody>\n",
       "    <tr>\n",
       "      <th>1</th>\n",
       "      <td>my library</td>\n",
       "      <td>Local playlist more</td>\n",
       "      <td>local-playlist</td>\n",
       "      <td>13</td>\n",
       "      <td>young</td>\n",
       "      <td>female</td>\n",
       "      <td>9</td>\n",
       "      <td>long</td>\n",
       "      <td>52.0</td>\n",
       "    </tr>\n",
       "    <tr>\n",
       "      <th>2</th>\n",
       "      <td>my library</td>\n",
       "      <td>Local playlist more</td>\n",
       "      <td>local-playlist</td>\n",
       "      <td>13</td>\n",
       "      <td>young</td>\n",
       "      <td>female</td>\n",
       "      <td>9</td>\n",
       "      <td>med_short</td>\n",
       "      <td>52.0</td>\n",
       "    </tr>\n",
       "    <tr>\n",
       "      <th>3</th>\n",
       "      <td>my library</td>\n",
       "      <td>Local playlist more</td>\n",
       "      <td>local-playlist</td>\n",
       "      <td>13</td>\n",
       "      <td>young</td>\n",
       "      <td>female</td>\n",
       "      <td>9</td>\n",
       "      <td>mid_long</td>\n",
       "      <td>-1.0</td>\n",
       "    </tr>\n",
       "  </tbody>\n",
       "</table>\n",
       "</div>"
      ],
      "text/plain": [
       "  source_system_tab   source_screen_name     source_type  city    age  gender  \\\n",
       "1        my library  Local playlist more  local-playlist    13  young  female   \n",
       "2        my library  Local playlist more  local-playlist    13  young  female   \n",
       "3        my library  Local playlist more  local-playlist    13  young  female   \n",
       "\n",
       "   registered_via song_length  language  \n",
       "1               9        long      52.0  \n",
       "2               9   med_short      52.0  \n",
       "3               9    mid_long      -1.0  "
      ]
     },
     "execution_count": 91,
     "metadata": {},
     "output_type": "execute_result"
    }
   ],
   "source": [
    "print(tbl.shape)\n",
    "tbl.head(3)"
   ]
  },
  {
   "cell_type": "code",
   "execution_count": 92,
   "metadata": {
    "collapsed": true
   },
   "outputs": [],
   "source": [
    "#Turn 2 attributes into string before assigning dummy valuables\n",
    "tbl.registered_via=list(map(str, tbl.registered_via))\n",
    "tbl.language=list(map(str, tbl.language))"
   ]
  },
  {
   "cell_type": "code",
   "execution_count": 93,
   "metadata": {},
   "outputs": [
    {
     "name": "stdout",
     "output_type": "stream",
     "text": [
      "(4218192, 67)\n"
     ]
    },
    {
     "data": {
      "text/html": [
       "<div>\n",
       "<table border=\"1\" class=\"dataframe\">\n",
       "  <thead>\n",
       "    <tr style=\"text-align: right;\">\n",
       "      <th></th>\n",
       "      <th>city</th>\n",
       "      <th>source_system_tab_discover</th>\n",
       "      <th>source_system_tab_explore</th>\n",
       "      <th>source_system_tab_listen with</th>\n",
       "      <th>source_system_tab_my library</th>\n",
       "      <th>source_system_tab_notification</th>\n",
       "      <th>source_system_tab_null</th>\n",
       "      <th>source_system_tab_radio</th>\n",
       "      <th>source_system_tab_search</th>\n",
       "      <th>source_system_tab_settings</th>\n",
       "      <th>...</th>\n",
       "      <th>language_-1.0</th>\n",
       "      <th>language_10.0</th>\n",
       "      <th>language_17.0</th>\n",
       "      <th>language_24.0</th>\n",
       "      <th>language_3.0</th>\n",
       "      <th>language_31.0</th>\n",
       "      <th>language_38.0</th>\n",
       "      <th>language_45.0</th>\n",
       "      <th>language_52.0</th>\n",
       "      <th>language_59.0</th>\n",
       "    </tr>\n",
       "  </thead>\n",
       "  <tbody>\n",
       "    <tr>\n",
       "      <th>1</th>\n",
       "      <td>13</td>\n",
       "      <td>0</td>\n",
       "      <td>0</td>\n",
       "      <td>0</td>\n",
       "      <td>1</td>\n",
       "      <td>0</td>\n",
       "      <td>0</td>\n",
       "      <td>0</td>\n",
       "      <td>0</td>\n",
       "      <td>0</td>\n",
       "      <td>...</td>\n",
       "      <td>0</td>\n",
       "      <td>0</td>\n",
       "      <td>0</td>\n",
       "      <td>0</td>\n",
       "      <td>0</td>\n",
       "      <td>0</td>\n",
       "      <td>0</td>\n",
       "      <td>0</td>\n",
       "      <td>1</td>\n",
       "      <td>0</td>\n",
       "    </tr>\n",
       "    <tr>\n",
       "      <th>2</th>\n",
       "      <td>13</td>\n",
       "      <td>0</td>\n",
       "      <td>0</td>\n",
       "      <td>0</td>\n",
       "      <td>1</td>\n",
       "      <td>0</td>\n",
       "      <td>0</td>\n",
       "      <td>0</td>\n",
       "      <td>0</td>\n",
       "      <td>0</td>\n",
       "      <td>...</td>\n",
       "      <td>0</td>\n",
       "      <td>0</td>\n",
       "      <td>0</td>\n",
       "      <td>0</td>\n",
       "      <td>0</td>\n",
       "      <td>0</td>\n",
       "      <td>0</td>\n",
       "      <td>0</td>\n",
       "      <td>1</td>\n",
       "      <td>0</td>\n",
       "    </tr>\n",
       "    <tr>\n",
       "      <th>3</th>\n",
       "      <td>13</td>\n",
       "      <td>0</td>\n",
       "      <td>0</td>\n",
       "      <td>0</td>\n",
       "      <td>1</td>\n",
       "      <td>0</td>\n",
       "      <td>0</td>\n",
       "      <td>0</td>\n",
       "      <td>0</td>\n",
       "      <td>0</td>\n",
       "      <td>...</td>\n",
       "      <td>1</td>\n",
       "      <td>0</td>\n",
       "      <td>0</td>\n",
       "      <td>0</td>\n",
       "      <td>0</td>\n",
       "      <td>0</td>\n",
       "      <td>0</td>\n",
       "      <td>0</td>\n",
       "      <td>0</td>\n",
       "      <td>0</td>\n",
       "    </tr>\n",
       "    <tr>\n",
       "      <th>6</th>\n",
       "      <td>13</td>\n",
       "      <td>0</td>\n",
       "      <td>0</td>\n",
       "      <td>0</td>\n",
       "      <td>1</td>\n",
       "      <td>0</td>\n",
       "      <td>0</td>\n",
       "      <td>0</td>\n",
       "      <td>0</td>\n",
       "      <td>0</td>\n",
       "      <td>...</td>\n",
       "      <td>0</td>\n",
       "      <td>0</td>\n",
       "      <td>0</td>\n",
       "      <td>0</td>\n",
       "      <td>0</td>\n",
       "      <td>1</td>\n",
       "      <td>0</td>\n",
       "      <td>0</td>\n",
       "      <td>0</td>\n",
       "      <td>0</td>\n",
       "    </tr>\n",
       "    <tr>\n",
       "      <th>8</th>\n",
       "      <td>15</td>\n",
       "      <td>0</td>\n",
       "      <td>0</td>\n",
       "      <td>0</td>\n",
       "      <td>1</td>\n",
       "      <td>0</td>\n",
       "      <td>0</td>\n",
       "      <td>0</td>\n",
       "      <td>0</td>\n",
       "      <td>0</td>\n",
       "      <td>...</td>\n",
       "      <td>0</td>\n",
       "      <td>0</td>\n",
       "      <td>0</td>\n",
       "      <td>0</td>\n",
       "      <td>0</td>\n",
       "      <td>0</td>\n",
       "      <td>0</td>\n",
       "      <td>0</td>\n",
       "      <td>1</td>\n",
       "      <td>0</td>\n",
       "    </tr>\n",
       "  </tbody>\n",
       "</table>\n",
       "<p>5 rows × 67 columns</p>\n",
       "</div>"
      ],
      "text/plain": [
       "   city  source_system_tab_discover  source_system_tab_explore  \\\n",
       "1    13                           0                          0   \n",
       "2    13                           0                          0   \n",
       "3    13                           0                          0   \n",
       "6    13                           0                          0   \n",
       "8    15                           0                          0   \n",
       "\n",
       "   source_system_tab_listen with  source_system_tab_my library  \\\n",
       "1                              0                             1   \n",
       "2                              0                             1   \n",
       "3                              0                             1   \n",
       "6                              0                             1   \n",
       "8                              0                             1   \n",
       "\n",
       "   source_system_tab_notification  source_system_tab_null  \\\n",
       "1                               0                       0   \n",
       "2                               0                       0   \n",
       "3                               0                       0   \n",
       "6                               0                       0   \n",
       "8                               0                       0   \n",
       "\n",
       "   source_system_tab_radio  source_system_tab_search  \\\n",
       "1                        0                         0   \n",
       "2                        0                         0   \n",
       "3                        0                         0   \n",
       "6                        0                         0   \n",
       "8                        0                         0   \n",
       "\n",
       "   source_system_tab_settings      ...        language_-1.0  language_10.0  \\\n",
       "1                           0      ...                    0              0   \n",
       "2                           0      ...                    0              0   \n",
       "3                           0      ...                    1              0   \n",
       "6                           0      ...                    0              0   \n",
       "8                           0      ...                    0              0   \n",
       "\n",
       "   language_17.0  language_24.0  language_3.0  language_31.0  language_38.0  \\\n",
       "1              0              0             0              0              0   \n",
       "2              0              0             0              0              0   \n",
       "3              0              0             0              0              0   \n",
       "6              0              0             0              1              0   \n",
       "8              0              0             0              0              0   \n",
       "\n",
       "   language_45.0  language_52.0  language_59.0  \n",
       "1              0              1              0  \n",
       "2              0              1              0  \n",
       "3              0              0              0  \n",
       "6              0              0              0  \n",
       "8              0              1              0  \n",
       "\n",
       "[5 rows x 67 columns]"
      ]
     },
     "execution_count": 93,
     "metadata": {},
     "output_type": "execute_result"
    }
   ],
   "source": [
    "#turn all the categical variables into dummies valuables\n",
    "tbl_dummies=pd.get_dummies(tbl[['source_system_tab'\n",
    "                                ,'source_screen_name'\n",
    "                                ,'source_type'\n",
    "                                ,'city'\n",
    "                                ,'age'\n",
    "                                ,'gender'\n",
    "                                ,'registered_via'\n",
    "                                ,'song_length'\n",
    "                                ,'language']])\n",
    "print(tbl_dummies.shape)\n",
    "tbl_dummies.head(5)"
   ]
  },
  {
   "cell_type": "code",
   "execution_count": 104,
   "metadata": {},
   "outputs": [
    {
     "data": {
      "text/html": [
       "<div>\n",
       "<table border=\"1\" class=\"dataframe\">\n",
       "  <thead>\n",
       "    <tr style=\"text-align: right;\">\n",
       "      <th></th>\n",
       "      <th>city</th>\n",
       "      <th>source_system_tab_discover</th>\n",
       "      <th>source_system_tab_explore</th>\n",
       "      <th>source_system_tab_listen with</th>\n",
       "      <th>source_system_tab_my library</th>\n",
       "      <th>source_system_tab_notification</th>\n",
       "      <th>source_system_tab_null</th>\n",
       "      <th>source_system_tab_radio</th>\n",
       "      <th>source_system_tab_search</th>\n",
       "      <th>source_system_tab_settings</th>\n",
       "      <th>...</th>\n",
       "      <th>language_-1.0</th>\n",
       "      <th>language_10.0</th>\n",
       "      <th>language_17.0</th>\n",
       "      <th>language_24.0</th>\n",
       "      <th>language_3.0</th>\n",
       "      <th>language_31.0</th>\n",
       "      <th>language_38.0</th>\n",
       "      <th>language_45.0</th>\n",
       "      <th>language_52.0</th>\n",
       "      <th>language_59.0</th>\n",
       "    </tr>\n",
       "  </thead>\n",
       "  <tbody>\n",
       "    <tr>\n",
       "      <th>1</th>\n",
       "      <td>0.571429</td>\n",
       "      <td>0</td>\n",
       "      <td>0</td>\n",
       "      <td>0</td>\n",
       "      <td>1</td>\n",
       "      <td>0</td>\n",
       "      <td>0</td>\n",
       "      <td>0</td>\n",
       "      <td>0</td>\n",
       "      <td>0</td>\n",
       "      <td>...</td>\n",
       "      <td>0</td>\n",
       "      <td>0</td>\n",
       "      <td>0</td>\n",
       "      <td>0</td>\n",
       "      <td>0</td>\n",
       "      <td>0</td>\n",
       "      <td>0</td>\n",
       "      <td>0</td>\n",
       "      <td>1</td>\n",
       "      <td>0</td>\n",
       "    </tr>\n",
       "    <tr>\n",
       "      <th>2</th>\n",
       "      <td>0.571429</td>\n",
       "      <td>0</td>\n",
       "      <td>0</td>\n",
       "      <td>0</td>\n",
       "      <td>1</td>\n",
       "      <td>0</td>\n",
       "      <td>0</td>\n",
       "      <td>0</td>\n",
       "      <td>0</td>\n",
       "      <td>0</td>\n",
       "      <td>...</td>\n",
       "      <td>0</td>\n",
       "      <td>0</td>\n",
       "      <td>0</td>\n",
       "      <td>0</td>\n",
       "      <td>0</td>\n",
       "      <td>0</td>\n",
       "      <td>0</td>\n",
       "      <td>0</td>\n",
       "      <td>1</td>\n",
       "      <td>0</td>\n",
       "    </tr>\n",
       "    <tr>\n",
       "      <th>3</th>\n",
       "      <td>0.571429</td>\n",
       "      <td>0</td>\n",
       "      <td>0</td>\n",
       "      <td>0</td>\n",
       "      <td>1</td>\n",
       "      <td>0</td>\n",
       "      <td>0</td>\n",
       "      <td>0</td>\n",
       "      <td>0</td>\n",
       "      <td>0</td>\n",
       "      <td>...</td>\n",
       "      <td>1</td>\n",
       "      <td>0</td>\n",
       "      <td>0</td>\n",
       "      <td>0</td>\n",
       "      <td>0</td>\n",
       "      <td>0</td>\n",
       "      <td>0</td>\n",
       "      <td>0</td>\n",
       "      <td>0</td>\n",
       "      <td>0</td>\n",
       "    </tr>\n",
       "    <tr>\n",
       "      <th>6</th>\n",
       "      <td>0.571429</td>\n",
       "      <td>0</td>\n",
       "      <td>0</td>\n",
       "      <td>0</td>\n",
       "      <td>1</td>\n",
       "      <td>0</td>\n",
       "      <td>0</td>\n",
       "      <td>0</td>\n",
       "      <td>0</td>\n",
       "      <td>0</td>\n",
       "      <td>...</td>\n",
       "      <td>0</td>\n",
       "      <td>0</td>\n",
       "      <td>0</td>\n",
       "      <td>0</td>\n",
       "      <td>0</td>\n",
       "      <td>1</td>\n",
       "      <td>0</td>\n",
       "      <td>0</td>\n",
       "      <td>0</td>\n",
       "      <td>0</td>\n",
       "    </tr>\n",
       "    <tr>\n",
       "      <th>8</th>\n",
       "      <td>0.666667</td>\n",
       "      <td>0</td>\n",
       "      <td>0</td>\n",
       "      <td>0</td>\n",
       "      <td>1</td>\n",
       "      <td>0</td>\n",
       "      <td>0</td>\n",
       "      <td>0</td>\n",
       "      <td>0</td>\n",
       "      <td>0</td>\n",
       "      <td>...</td>\n",
       "      <td>0</td>\n",
       "      <td>0</td>\n",
       "      <td>0</td>\n",
       "      <td>0</td>\n",
       "      <td>0</td>\n",
       "      <td>0</td>\n",
       "      <td>0</td>\n",
       "      <td>0</td>\n",
       "      <td>1</td>\n",
       "      <td>0</td>\n",
       "    </tr>\n",
       "  </tbody>\n",
       "</table>\n",
       "<p>5 rows × 67 columns</p>\n",
       "</div>"
      ],
      "text/plain": [
       "       city  source_system_tab_discover  source_system_tab_explore  \\\n",
       "1  0.571429                           0                          0   \n",
       "2  0.571429                           0                          0   \n",
       "3  0.571429                           0                          0   \n",
       "6  0.571429                           0                          0   \n",
       "8  0.666667                           0                          0   \n",
       "\n",
       "   source_system_tab_listen with  source_system_tab_my library  \\\n",
       "1                              0                             1   \n",
       "2                              0                             1   \n",
       "3                              0                             1   \n",
       "6                              0                             1   \n",
       "8                              0                             1   \n",
       "\n",
       "   source_system_tab_notification  source_system_tab_null  \\\n",
       "1                               0                       0   \n",
       "2                               0                       0   \n",
       "3                               0                       0   \n",
       "6                               0                       0   \n",
       "8                               0                       0   \n",
       "\n",
       "   source_system_tab_radio  source_system_tab_search  \\\n",
       "1                        0                         0   \n",
       "2                        0                         0   \n",
       "3                        0                         0   \n",
       "6                        0                         0   \n",
       "8                        0                         0   \n",
       "\n",
       "   source_system_tab_settings      ...        language_-1.0  language_10.0  \\\n",
       "1                           0      ...                    0              0   \n",
       "2                           0      ...                    0              0   \n",
       "3                           0      ...                    1              0   \n",
       "6                           0      ...                    0              0   \n",
       "8                           0      ...                    0              0   \n",
       "\n",
       "   language_17.0  language_24.0  language_3.0  language_31.0  language_38.0  \\\n",
       "1              0              0             0              0              0   \n",
       "2              0              0             0              0              0   \n",
       "3              0              0             0              0              0   \n",
       "6              0              0             0              1              0   \n",
       "8              0              0             0              0              0   \n",
       "\n",
       "   language_45.0  language_52.0  language_59.0  \n",
       "1              0              1              0  \n",
       "2              0              1              0  \n",
       "3              0              0              0  \n",
       "6              0              0              0  \n",
       "8              0              1              0  \n",
       "\n",
       "[5 rows x 67 columns]"
      ]
     },
     "execution_count": 104,
     "metadata": {},
     "output_type": "execute_result"
    }
   ],
   "source": [
    "#Normalizing the entire dataset.\n",
    "min_max_norm = lambda x: ((x-x.min()) / (x.max()-x.min())) if (x.dtypes==float or x.dtypes == int) else x\n",
    "tbl_dummies_norm = tbl_dummies.copy()\n",
    "tbl_dummies_norm = tbl_dummies_norm.apply(min_max_norm)\n",
    "tbl_dummies_norm.head(5)\n",
    "\n"
   ]
  },
  {
   "cell_type": "code",
   "execution_count": 125,
   "metadata": {},
   "outputs": [],
   "source": [
    "#Find the correlation between attributes\n",
    "corr_tbl=tbl_dummies_norm.corr()"
   ]
  },
  {
   "cell_type": "code",
   "execution_count": 141,
   "metadata": {},
   "outputs": [
    {
     "data": {
      "text/html": [
       "<div>\n",
       "<table border=\"1\" class=\"dataframe\">\n",
       "  <thead>\n",
       "    <tr style=\"text-align: right;\">\n",
       "      <th></th>\n",
       "      <th>city</th>\n",
       "      <th>source_system_tab_discover</th>\n",
       "      <th>source_system_tab_explore</th>\n",
       "      <th>source_system_tab_listen with</th>\n",
       "      <th>source_system_tab_my library</th>\n",
       "      <th>source_system_tab_notification</th>\n",
       "      <th>source_system_tab_null</th>\n",
       "      <th>source_system_tab_radio</th>\n",
       "      <th>source_system_tab_search</th>\n",
       "      <th>source_system_tab_settings</th>\n",
       "      <th>...</th>\n",
       "      <th>language_-1.0</th>\n",
       "      <th>language_10.0</th>\n",
       "      <th>language_17.0</th>\n",
       "      <th>language_24.0</th>\n",
       "      <th>language_3.0</th>\n",
       "      <th>language_31.0</th>\n",
       "      <th>language_38.0</th>\n",
       "      <th>language_45.0</th>\n",
       "      <th>language_52.0</th>\n",
       "      <th>language_59.0</th>\n",
       "    </tr>\n",
       "  </thead>\n",
       "  <tbody>\n",
       "    <tr>\n",
       "      <th>city</th>\n",
       "      <td>1.000000</td>\n",
       "      <td>0.002440</td>\n",
       "      <td>-0.017590</td>\n",
       "      <td>0.017315</td>\n",
       "      <td>0.007737</td>\n",
       "      <td>0.002375</td>\n",
       "      <td>0.024592</td>\n",
       "      <td>-0.015546</td>\n",
       "      <td>-0.009031</td>\n",
       "      <td>-0.008077</td>\n",
       "      <td>...</td>\n",
       "      <td>-0.019011</td>\n",
       "      <td>0.007361</td>\n",
       "      <td>-0.004622</td>\n",
       "      <td>-0.000149</td>\n",
       "      <td>0.022600</td>\n",
       "      <td>0.000640</td>\n",
       "      <td>-0.000848</td>\n",
       "      <td>0.000098</td>\n",
       "      <td>-0.018312</td>\n",
       "      <td>0.002437</td>\n",
       "    </tr>\n",
       "    <tr>\n",
       "      <th>source_system_tab_discover</th>\n",
       "      <td>0.002440</td>\n",
       "      <td>1.000000</td>\n",
       "      <td>-0.091324</td>\n",
       "      <td>-0.114277</td>\n",
       "      <td>-0.638304</td>\n",
       "      <td>-0.018028</td>\n",
       "      <td>-0.019731</td>\n",
       "      <td>-0.160193</td>\n",
       "      <td>-0.182569</td>\n",
       "      <td>-0.012192</td>\n",
       "      <td>...</td>\n",
       "      <td>-0.034978</td>\n",
       "      <td>0.008017</td>\n",
       "      <td>0.014030</td>\n",
       "      <td>-0.011088</td>\n",
       "      <td>-0.064986</td>\n",
       "      <td>0.050001</td>\n",
       "      <td>-0.001065</td>\n",
       "      <td>0.008694</td>\n",
       "      <td>0.051858</td>\n",
       "      <td>-0.003238</td>\n",
       "    </tr>\n",
       "    <tr>\n",
       "      <th>source_system_tab_explore</th>\n",
       "      <td>-0.017590</td>\n",
       "      <td>-0.091324</td>\n",
       "      <td>1.000000</td>\n",
       "      <td>-0.027872</td>\n",
       "      <td>-0.155681</td>\n",
       "      <td>-0.004397</td>\n",
       "      <td>-0.004812</td>\n",
       "      <td>-0.039071</td>\n",
       "      <td>-0.044528</td>\n",
       "      <td>-0.002974</td>\n",
       "      <td>...</td>\n",
       "      <td>0.006710</td>\n",
       "      <td>0.001229</td>\n",
       "      <td>0.018714</td>\n",
       "      <td>-0.002790</td>\n",
       "      <td>-0.029398</td>\n",
       "      <td>0.019262</td>\n",
       "      <td>-0.000629</td>\n",
       "      <td>-0.001483</td>\n",
       "      <td>0.010094</td>\n",
       "      <td>0.015586</td>\n",
       "    </tr>\n",
       "    <tr>\n",
       "      <th>source_system_tab_listen with</th>\n",
       "      <td>0.017315</td>\n",
       "      <td>-0.114277</td>\n",
       "      <td>-0.027872</td>\n",
       "      <td>1.000000</td>\n",
       "      <td>-0.194809</td>\n",
       "      <td>-0.005502</td>\n",
       "      <td>-0.006022</td>\n",
       "      <td>-0.048890</td>\n",
       "      <td>-0.055719</td>\n",
       "      <td>-0.003721</td>\n",
       "      <td>...</td>\n",
       "      <td>-0.026925</td>\n",
       "      <td>-0.023046</td>\n",
       "      <td>-0.030800</td>\n",
       "      <td>-0.011289</td>\n",
       "      <td>0.100729</td>\n",
       "      <td>-0.049241</td>\n",
       "      <td>-0.000787</td>\n",
       "      <td>-0.002371</td>\n",
       "      <td>-0.048395</td>\n",
       "      <td>-0.004063</td>\n",
       "    </tr>\n",
       "    <tr>\n",
       "      <th>source_system_tab_my library</th>\n",
       "      <td>0.007737</td>\n",
       "      <td>-0.638304</td>\n",
       "      <td>-0.155681</td>\n",
       "      <td>-0.194809</td>\n",
       "      <td>1.000000</td>\n",
       "      <td>-0.030732</td>\n",
       "      <td>-0.033635</td>\n",
       "      <td>-0.273081</td>\n",
       "      <td>-0.311226</td>\n",
       "      <td>-0.020784</td>\n",
       "      <td>...</td>\n",
       "      <td>-0.026698</td>\n",
       "      <td>-0.004990</td>\n",
       "      <td>-0.017368</td>\n",
       "      <td>0.008464</td>\n",
       "      <td>0.038317</td>\n",
       "      <td>-0.011211</td>\n",
       "      <td>-0.000459</td>\n",
       "      <td>-0.004470</td>\n",
       "      <td>-0.017805</td>\n",
       "      <td>-0.000713</td>\n",
       "    </tr>\n",
       "    <tr>\n",
       "      <th>source_system_tab_notification</th>\n",
       "      <td>0.002375</td>\n",
       "      <td>-0.018028</td>\n",
       "      <td>-0.004397</td>\n",
       "      <td>-0.005502</td>\n",
       "      <td>-0.030732</td>\n",
       "      <td>1.000000</td>\n",
       "      <td>-0.000950</td>\n",
       "      <td>-0.007713</td>\n",
       "      <td>-0.008790</td>\n",
       "      <td>-0.000587</td>\n",
       "      <td>...</td>\n",
       "      <td>-0.001342</td>\n",
       "      <td>0.000525</td>\n",
       "      <td>0.002970</td>\n",
       "      <td>-0.001886</td>\n",
       "      <td>-0.006918</td>\n",
       "      <td>0.001449</td>\n",
       "      <td>-0.000124</td>\n",
       "      <td>-0.000390</td>\n",
       "      <td>0.006681</td>\n",
       "      <td>-0.000327</td>\n",
       "    </tr>\n",
       "    <tr>\n",
       "      <th>source_system_tab_null</th>\n",
       "      <td>0.024592</td>\n",
       "      <td>-0.019731</td>\n",
       "      <td>-0.004812</td>\n",
       "      <td>-0.006022</td>\n",
       "      <td>-0.033635</td>\n",
       "      <td>-0.000950</td>\n",
       "      <td>1.000000</td>\n",
       "      <td>-0.008441</td>\n",
       "      <td>-0.009620</td>\n",
       "      <td>-0.000642</td>\n",
       "      <td>...</td>\n",
       "      <td>-0.002607</td>\n",
       "      <td>-0.001753</td>\n",
       "      <td>0.002390</td>\n",
       "      <td>-0.000916</td>\n",
       "      <td>-0.004874</td>\n",
       "      <td>0.006560</td>\n",
       "      <td>-0.000136</td>\n",
       "      <td>-0.000427</td>\n",
       "      <td>0.002363</td>\n",
       "      <td>-0.000741</td>\n",
       "    </tr>\n",
       "    <tr>\n",
       "      <th>source_system_tab_radio</th>\n",
       "      <td>-0.015546</td>\n",
       "      <td>-0.160193</td>\n",
       "      <td>-0.039071</td>\n",
       "      <td>-0.048890</td>\n",
       "      <td>-0.273081</td>\n",
       "      <td>-0.007713</td>\n",
       "      <td>-0.008441</td>\n",
       "      <td>1.000000</td>\n",
       "      <td>-0.078107</td>\n",
       "      <td>-0.005216</td>\n",
       "      <td>...</td>\n",
       "      <td>0.095125</td>\n",
       "      <td>0.008457</td>\n",
       "      <td>0.018845</td>\n",
       "      <td>-0.000589</td>\n",
       "      <td>-0.028188</td>\n",
       "      <td>-0.030604</td>\n",
       "      <td>0.000732</td>\n",
       "      <td>-0.003463</td>\n",
       "      <td>-0.000328</td>\n",
       "      <td>-0.005764</td>\n",
       "    </tr>\n",
       "    <tr>\n",
       "      <th>source_system_tab_search</th>\n",
       "      <td>-0.009031</td>\n",
       "      <td>-0.182569</td>\n",
       "      <td>-0.044528</td>\n",
       "      <td>-0.055719</td>\n",
       "      <td>-0.311226</td>\n",
       "      <td>-0.008790</td>\n",
       "      <td>-0.009620</td>\n",
       "      <td>-0.078107</td>\n",
       "      <td>1.000000</td>\n",
       "      <td>-0.005945</td>\n",
       "      <td>...</td>\n",
       "      <td>0.035921</td>\n",
       "      <td>0.002897</td>\n",
       "      <td>0.002138</td>\n",
       "      <td>0.012294</td>\n",
       "      <td>0.010417</td>\n",
       "      <td>-0.011823</td>\n",
       "      <td>0.002846</td>\n",
       "      <td>-0.000283</td>\n",
       "      <td>-0.025385</td>\n",
       "      <td>0.006440</td>\n",
       "    </tr>\n",
       "    <tr>\n",
       "      <th>source_system_tab_settings</th>\n",
       "      <td>-0.008077</td>\n",
       "      <td>-0.012192</td>\n",
       "      <td>-0.002974</td>\n",
       "      <td>-0.003721</td>\n",
       "      <td>-0.020784</td>\n",
       "      <td>-0.000587</td>\n",
       "      <td>-0.000642</td>\n",
       "      <td>-0.005216</td>\n",
       "      <td>-0.005945</td>\n",
       "      <td>1.000000</td>\n",
       "      <td>...</td>\n",
       "      <td>0.001644</td>\n",
       "      <td>0.006358</td>\n",
       "      <td>0.001059</td>\n",
       "      <td>0.001404</td>\n",
       "      <td>-0.001290</td>\n",
       "      <td>-0.004281</td>\n",
       "      <td>-0.000084</td>\n",
       "      <td>-0.000264</td>\n",
       "      <td>0.000742</td>\n",
       "      <td>-0.000458</td>\n",
       "    </tr>\n",
       "  </tbody>\n",
       "</table>\n",
       "<p>10 rows × 67 columns</p>\n",
       "</div>"
      ],
      "text/plain": [
       "                                    city  source_system_tab_discover  \\\n",
       "city                            1.000000                    0.002440   \n",
       "source_system_tab_discover      0.002440                    1.000000   \n",
       "source_system_tab_explore      -0.017590                   -0.091324   \n",
       "source_system_tab_listen with   0.017315                   -0.114277   \n",
       "source_system_tab_my library    0.007737                   -0.638304   \n",
       "source_system_tab_notification  0.002375                   -0.018028   \n",
       "source_system_tab_null          0.024592                   -0.019731   \n",
       "source_system_tab_radio        -0.015546                   -0.160193   \n",
       "source_system_tab_search       -0.009031                   -0.182569   \n",
       "source_system_tab_settings     -0.008077                   -0.012192   \n",
       "\n",
       "                                source_system_tab_explore  \\\n",
       "city                                            -0.017590   \n",
       "source_system_tab_discover                      -0.091324   \n",
       "source_system_tab_explore                        1.000000   \n",
       "source_system_tab_listen with                   -0.027872   \n",
       "source_system_tab_my library                    -0.155681   \n",
       "source_system_tab_notification                  -0.004397   \n",
       "source_system_tab_null                          -0.004812   \n",
       "source_system_tab_radio                         -0.039071   \n",
       "source_system_tab_search                        -0.044528   \n",
       "source_system_tab_settings                      -0.002974   \n",
       "\n",
       "                                source_system_tab_listen with  \\\n",
       "city                                                 0.017315   \n",
       "source_system_tab_discover                          -0.114277   \n",
       "source_system_tab_explore                           -0.027872   \n",
       "source_system_tab_listen with                        1.000000   \n",
       "source_system_tab_my library                        -0.194809   \n",
       "source_system_tab_notification                      -0.005502   \n",
       "source_system_tab_null                              -0.006022   \n",
       "source_system_tab_radio                             -0.048890   \n",
       "source_system_tab_search                            -0.055719   \n",
       "source_system_tab_settings                          -0.003721   \n",
       "\n",
       "                                source_system_tab_my library  \\\n",
       "city                                                0.007737   \n",
       "source_system_tab_discover                         -0.638304   \n",
       "source_system_tab_explore                          -0.155681   \n",
       "source_system_tab_listen with                      -0.194809   \n",
       "source_system_tab_my library                        1.000000   \n",
       "source_system_tab_notification                     -0.030732   \n",
       "source_system_tab_null                             -0.033635   \n",
       "source_system_tab_radio                            -0.273081   \n",
       "source_system_tab_search                           -0.311226   \n",
       "source_system_tab_settings                         -0.020784   \n",
       "\n",
       "                                source_system_tab_notification  \\\n",
       "city                                                  0.002375   \n",
       "source_system_tab_discover                           -0.018028   \n",
       "source_system_tab_explore                            -0.004397   \n",
       "source_system_tab_listen with                        -0.005502   \n",
       "source_system_tab_my library                         -0.030732   \n",
       "source_system_tab_notification                        1.000000   \n",
       "source_system_tab_null                               -0.000950   \n",
       "source_system_tab_radio                              -0.007713   \n",
       "source_system_tab_search                             -0.008790   \n",
       "source_system_tab_settings                           -0.000587   \n",
       "\n",
       "                                source_system_tab_null  \\\n",
       "city                                          0.024592   \n",
       "source_system_tab_discover                   -0.019731   \n",
       "source_system_tab_explore                    -0.004812   \n",
       "source_system_tab_listen with                -0.006022   \n",
       "source_system_tab_my library                 -0.033635   \n",
       "source_system_tab_notification               -0.000950   \n",
       "source_system_tab_null                        1.000000   \n",
       "source_system_tab_radio                      -0.008441   \n",
       "source_system_tab_search                     -0.009620   \n",
       "source_system_tab_settings                   -0.000642   \n",
       "\n",
       "                                source_system_tab_radio  \\\n",
       "city                                          -0.015546   \n",
       "source_system_tab_discover                    -0.160193   \n",
       "source_system_tab_explore                     -0.039071   \n",
       "source_system_tab_listen with                 -0.048890   \n",
       "source_system_tab_my library                  -0.273081   \n",
       "source_system_tab_notification                -0.007713   \n",
       "source_system_tab_null                        -0.008441   \n",
       "source_system_tab_radio                        1.000000   \n",
       "source_system_tab_search                      -0.078107   \n",
       "source_system_tab_settings                    -0.005216   \n",
       "\n",
       "                                source_system_tab_search  \\\n",
       "city                                           -0.009031   \n",
       "source_system_tab_discover                     -0.182569   \n",
       "source_system_tab_explore                      -0.044528   \n",
       "source_system_tab_listen with                  -0.055719   \n",
       "source_system_tab_my library                   -0.311226   \n",
       "source_system_tab_notification                 -0.008790   \n",
       "source_system_tab_null                         -0.009620   \n",
       "source_system_tab_radio                        -0.078107   \n",
       "source_system_tab_search                        1.000000   \n",
       "source_system_tab_settings                     -0.005945   \n",
       "\n",
       "                                source_system_tab_settings      ...        \\\n",
       "city                                             -0.008077      ...         \n",
       "source_system_tab_discover                       -0.012192      ...         \n",
       "source_system_tab_explore                        -0.002974      ...         \n",
       "source_system_tab_listen with                    -0.003721      ...         \n",
       "source_system_tab_my library                     -0.020784      ...         \n",
       "source_system_tab_notification                   -0.000587      ...         \n",
       "source_system_tab_null                           -0.000642      ...         \n",
       "source_system_tab_radio                          -0.005216      ...         \n",
       "source_system_tab_search                         -0.005945      ...         \n",
       "source_system_tab_settings                        1.000000      ...         \n",
       "\n",
       "                                language_-1.0  language_10.0  language_17.0  \\\n",
       "city                                -0.019011       0.007361      -0.004622   \n",
       "source_system_tab_discover          -0.034978       0.008017       0.014030   \n",
       "source_system_tab_explore            0.006710       0.001229       0.018714   \n",
       "source_system_tab_listen with       -0.026925      -0.023046      -0.030800   \n",
       "source_system_tab_my library        -0.026698      -0.004990      -0.017368   \n",
       "source_system_tab_notification      -0.001342       0.000525       0.002970   \n",
       "source_system_tab_null              -0.002607      -0.001753       0.002390   \n",
       "source_system_tab_radio              0.095125       0.008457       0.018845   \n",
       "source_system_tab_search             0.035921       0.002897       0.002138   \n",
       "source_system_tab_settings           0.001644       0.006358       0.001059   \n",
       "\n",
       "                                language_24.0  language_3.0  language_31.0  \\\n",
       "city                                -0.000149      0.022600       0.000640   \n",
       "source_system_tab_discover          -0.011088     -0.064986       0.050001   \n",
       "source_system_tab_explore           -0.002790     -0.029398       0.019262   \n",
       "source_system_tab_listen with       -0.011289      0.100729      -0.049241   \n",
       "source_system_tab_my library         0.008464      0.038317      -0.011211   \n",
       "source_system_tab_notification      -0.001886     -0.006918       0.001449   \n",
       "source_system_tab_null              -0.000916     -0.004874       0.006560   \n",
       "source_system_tab_radio             -0.000589     -0.028188      -0.030604   \n",
       "source_system_tab_search             0.012294      0.010417      -0.011823   \n",
       "source_system_tab_settings           0.001404     -0.001290      -0.004281   \n",
       "\n",
       "                                language_38.0  language_45.0  language_52.0  \\\n",
       "city                                -0.000848       0.000098      -0.018312   \n",
       "source_system_tab_discover          -0.001065       0.008694       0.051858   \n",
       "source_system_tab_explore           -0.000629      -0.001483       0.010094   \n",
       "source_system_tab_listen with       -0.000787      -0.002371      -0.048395   \n",
       "source_system_tab_my library        -0.000459      -0.004470      -0.017805   \n",
       "source_system_tab_notification      -0.000124      -0.000390       0.006681   \n",
       "source_system_tab_null              -0.000136      -0.000427       0.002363   \n",
       "source_system_tab_radio              0.000732      -0.003463      -0.000328   \n",
       "source_system_tab_search             0.002846      -0.000283      -0.025385   \n",
       "source_system_tab_settings          -0.000084      -0.000264       0.000742   \n",
       "\n",
       "                                language_59.0  \n",
       "city                                 0.002437  \n",
       "source_system_tab_discover          -0.003238  \n",
       "source_system_tab_explore            0.015586  \n",
       "source_system_tab_listen with       -0.004063  \n",
       "source_system_tab_my library        -0.000713  \n",
       "source_system_tab_notification      -0.000327  \n",
       "source_system_tab_null              -0.000741  \n",
       "source_system_tab_radio             -0.005764  \n",
       "source_system_tab_search             0.006440  \n",
       "source_system_tab_settings          -0.000458  \n",
       "\n",
       "[10 rows x 67 columns]"
      ]
     },
     "execution_count": 141,
     "metadata": {},
     "output_type": "execute_result"
    }
   ],
   "source": [
    "corr_tbl.ix[0:10][0:10]"
   ]
  },
  {
   "cell_type": "markdown",
   "metadata": {},
   "source": [
    "####Based on the above, there are Variables are highly correlated"
   ]
  },
  {
   "cell_type": "code",
   "execution_count": 262,
   "metadata": {},
   "outputs": [],
   "source": [
    "#Split the train set, test set, train class, test class\n",
    "from sklearn.cross_validation import train_test_split\n",
    "tbl_train,tbl_test,tbl_train_target,tbl_test_target=train_test_split(tbl_dummies\n",
    "                                                                     ,tbl_target\n",
    "                                                                     ,test_size=0.2\n",
    "                                                                     ,random_state=28)"
   ]
  },
  {
   "cell_type": "code",
   "execution_count": 143,
   "metadata": {},
   "outputs": [
    {
     "name": "stdout",
     "output_type": "stream",
     "text": [
      "(3374553, 67)\n",
      "(3374553,)\n"
     ]
    }
   ],
   "source": [
    "#Double check the Training dataset\n",
    "print(tbl_train.shape)\n",
    "print(tbl_train_target.shape)"
   ]
  },
  {
   "cell_type": "code",
   "execution_count": 144,
   "metadata": {},
   "outputs": [
    {
     "name": "stdout",
     "output_type": "stream",
     "text": [
      "(843639, 67)\n",
      "(843639,)\n"
     ]
    }
   ],
   "source": [
    "#Double check the Testing dataset\n",
    "print(tbl_test.shape)\n",
    "print(tbl_test_target.shape)"
   ]
  },
  {
   "cell_type": "code",
   "execution_count": 145,
   "metadata": {},
   "outputs": [
    {
     "name": "stdout",
     "output_type": "stream",
     "text": [
      "(3374553, 67)\n",
      "(843639, 67)\n"
     ]
    }
   ],
   "source": [
    "#Nornalizeing the Training and Testing dataset\n",
    "from sklearn import preprocessing\n",
    "np.set_printoptions(precision=2, linewidth=120, suppress=True)\n",
    "\n",
    "min_max_scaler = preprocessing.MinMaxScaler().fit(tbl_train)\n",
    "tbl_train_norm=min_max_scaler.transform(tbl_train)\n",
    "tbl_test_norm=min_max_scaler.transform(tbl_test)\n",
    "print(tbl_train_norm.shape)\n",
    "print(tbl_test_norm.shape)"
   ]
  },
  {
   "cell_type": "code",
   "execution_count": 146,
   "metadata": {},
   "outputs": [
    {
     "data": {
      "text/plain": [
       "array([ 0.57,  0.  ,  0.  ,  0.  ,  1.  ,  0.  ,  0.  ,  0.  ,  0.  ,  0.  ,  0.  ,  0.  ,  0.  ,  0.  ,  0.  ,  0.  ,\n",
       "        0.  ,  0.  ,  1.  ,  0.  ,  0.  ,  0.  ,  0.  ,  0.  ,  0.  ,  0.  ,  0.  ,  0.  ,  0.  ,  0.  ,  0.  ,  0.  ,\n",
       "        0.  ,  1.  ,  0.  ,  0.  ,  0.  ,  0.  ,  0.  ,  0.  ,  0.  ,  0.  ,  0.  ,  1.  ,  0.  ,  0.  ,  0.  ,  1.  ,\n",
       "        0.  ,  0.  ,  0.  ,  0.  ,  1.  ,  0.  ,  1.  ,  0.  ,  0.  ,  0.  ,  0.  ,  0.  ,  0.  ,  1.  ,  0.  ,  0.  ,\n",
       "        0.  ,  0.  ,  0.  ])"
      ]
     },
     "execution_count": 146,
     "metadata": {},
     "output_type": "execute_result"
    }
   ],
   "source": [
    "tbl_train_norm[0]"
   ]
  },
  {
   "cell_type": "code",
   "execution_count": 147,
   "metadata": {},
   "outputs": [
    {
     "data": {
      "text/plain": [
       "array([ 1.,  0.,  0.,  0.,  1.,  0.,  0.,  0.,  0.,  0.,  0.,  0.,  0.,  0.,  0.,  0.,  0.,  0.,  1.,  0.,  0.,  0.,\n",
       "        0.,  0.,  0.,  0.,  0.,  0.,  0.,  0.,  0.,  0.,  0.,  1.,  0.,  0.,  0.,  0.,  0.,  0.,  0.,  0.,  0.,  1.,\n",
       "        0.,  0.,  0.,  1.,  0.,  1.,  0.,  0.,  0.,  0.,  0.,  1.,  0.,  0.,  0.,  0.,  0.,  1.,  0.,  0.,  0.,  0.,  0.])"
      ]
     },
     "execution_count": 147,
     "metadata": {},
     "output_type": "execute_result"
    }
   ],
   "source": [
    "tbl_test_norm[0]"
   ]
  },
  {
   "cell_type": "code",
   "execution_count": 100,
   "metadata": {},
   "outputs": [
    {
     "data": {
      "text/plain": [
       "646174     1\n",
       "6937017    0\n",
       "2629608    1\n",
       "3227976    0\n",
       "5443148    1\n",
       "Name: Target, dtype: int64"
      ]
     },
     "execution_count": 100,
     "metadata": {},
     "output_type": "execute_result"
    }
   ],
   "source": [
    "tbl_train_target[0:5]"
   ]
  },
  {
   "cell_type": "code",
   "execution_count": 101,
   "metadata": {},
   "outputs": [
    {
     "data": {
      "text/plain": [
       "3549611    1\n",
       "4792767    1\n",
       "3363281    1\n",
       "4477299    0\n",
       "1466151    1\n",
       "Name: Target, dtype: int64"
      ]
     },
     "execution_count": 101,
     "metadata": {},
     "output_type": "execute_result"
    }
   ],
   "source": [
    "tbl_test_target[0:5]"
   ]
  },
  {
   "cell_type": "code",
   "execution_count": null,
   "metadata": {
    "collapsed": true
   },
   "outputs": [],
   "source": []
  },
  {
   "cell_type": "markdown",
   "metadata": {},
   "source": [
    "#Classification"
   ]
  },
  {
   "cell_type": "code",
   "execution_count": 72,
   "metadata": {
    "collapsed": true
   },
   "outputs": [],
   "source": [
    "###KNN Classifier (Using the Default Parameters)"
   ]
  },
  {
   "cell_type": "code",
   "execution_count": 17,
   "metadata": {
    "collapsed": true
   },
   "outputs": [],
   "source": [
    "#Import KNN classifier \n",
    "from sklearn import neighbors, tree, naive_bayes\n",
    "import time"
   ]
  },
  {
   "cell_type": "code",
   "execution_count": null,
   "metadata": {
    "collapsed": true
   },
   "outputs": [],
   "source": [
    "knnclf = neighbors.KNeighborsClassifier(n_neighbors=10, weights='distance')\n",
    "knnclf.fit(tbl_train_norm, tbl_train_target)"
   ]
  },
  {
   "cell_type": "code",
   "execution_count": 43,
   "metadata": {
    "collapsed": true
   },
   "outputs": [],
   "source": [
    "#This is the KNN Function for iterating the best K model\n",
    "import matplotlib.pyplot as plt\n",
    "def knn_func(K,tbl_train_norm,tbl_train_target,tbl_test_norm,tbl_test_target):\n",
    "    train_score_lst=[]\n",
    "    test_score_lst=[]\n",
    "    k_lst=[]\n",
    "    \n",
    "    for i in range(10,K+1):\n",
    "        n_neighbors=i\n",
    "        knnclf = neighbors.KNeighborsClassifier(n_neighbors, weights='distance')\n",
    "        knnclf.fit(tbl_train_norm, tbl_train_target)\n",
    "        k_lst.append(i)\n",
    "        test_score_lst.append(knnclf.score(tbl_test_norm, tbl_test_target))\n",
    "        train_score_lst.append(knnclf.score(tbl_train_norm, tbl_train_target))\n",
    "        \n",
    "        \n",
    "    score_df=pd.DataFrame({'train_score':train_score_lst,'test_score':test_score_lst,\"K\":k_lst})\n",
    "    score_df.plot(x='K',figsize=(10,5))\n",
    "    plt.title('Training and Testing Score')\n",
    "    plt.xlabel('K')\n",
    "    plt.ylabel('Score')\n",
    "    plt.xlim([0,K+1])\n",
    "    plt.show()\n",
    "    \n",
    "    print ('Max Test score is ',max(test_score_lst),'with K = ',k_lst[test_score_lst.index(max(test_score_lst))])\n",
    "    print ('Max Train score is ',max(train_score_lst))\n",
    "    return"
   ]
  },
  {
   "cell_type": "code",
   "execution_count": 44,
   "metadata": {},
   "outputs": [
    {
     "data": {
      "image/png": "[encoded data removed]",
      "text/plain": [
       "<matplotlib.figure.Figure at 0x146d2be10>"
      ]
     },
     "metadata": {},
     "output_type": "display_data"
    },
    {
     "name": "stdout",
     "output_type": "stream",
     "text": [
      "Max Test score is  0.573333333333 with K =  37\n",
      "Max Train score is  0.919714285714\n"
     ]
    }
   ],
   "source": [
    "knn_func(50,tbl_train_norm[10000:17000],tbl_train_target[10000:17000],tbl_test_norm[1500:3000],tbl_test_target[1500:3000])"
   ]
  },
  {
   "cell_type": "markdown",
   "metadata": {},
   "source": [
    "###Navie Bayes (Gaussian) Classifier (Using the Default Parameters)"
   ]
  },
  {
   "cell_type": "code",
   "execution_count": 53,
   "metadata": {},
   "outputs": [
    {
     "name": "stdout",
     "output_type": "stream",
     "text": [
      "Train Score is 0.61396\n",
      "Test Score is 0.61115\n"
     ]
    }
   ],
   "source": [
    "#Set up Naive_bayes Gaussian classifier\n",
    "nbclf = naive_bayes.GaussianNB()\n",
    "nbclf=nbclf.fit(tbl_train_norm, tbl_train_target)"
   ]
  },
  {
   "cell_type": "code",
   "execution_count": 66,
   "metadata": {},
   "outputs": [
    {
     "name": "stdout",
     "output_type": "stream",
     "text": [
      "Train Score is 0.614284321509\n",
      "Test Score is 0.614292369129\n"
     ]
    }
   ],
   "source": [
    "print('Train Score is',nbclf.score(tbl_train_norm, tbl_train_target))\n",
    "print('Test Score is',nbclf.score(tbl_test_norm, tbl_test_target))"
   ]
  },
  {
   "cell_type": "code",
   "execution_count": 69,
   "metadata": {},
   "outputs": [
    {
     "name": "stdout",
     "output_type": "stream",
     "text": [
      "Overall Average accuracy: 0.600732 +/- 0.025094\n"
     ]
    }
   ],
   "source": [
    "#10-fold Cross-Validation \n",
    "from sklearn import cross_validation\n",
    "cv_scores = cross_validation.cross_val_score(nbclf, tbl_dummies,tbl_target, cv=10)\n",
    "print('Overall Average accuracy: %f +/- %f'%(cv_scores.mean(),cv_scores.std()))"
   ]
  },
  {
   "cell_type": "markdown",
   "metadata": {},
   "source": [
    "###Decision Tree Classifier (Using the Default Parameters)"
   ]
  },
  {
   "cell_type": "code",
   "execution_count": 62,
   "metadata": {
    "collapsed": true
   },
   "outputs": [],
   "source": [
    "#Set up Decision Tree classifier\n",
    "treeclf = tree.DecisionTreeClassifier(criterion='entropy')\n",
    "#Plug in the train dataset with target class\n",
    "treeclf = treeclf.fit(tbl_train_norm, tbl_train_target)"
   ]
  },
  {
   "cell_type": "code",
   "execution_count": 64,
   "metadata": {},
   "outputs": [
    {
     "name": "stdout",
     "output_type": "stream",
     "text": [
      "Traing set score is 0.676782080471\n",
      "Testing set score is 0.64873245547\n"
     ]
    }
   ],
   "source": [
    "print('Traing set score is',treeclf.score(tbl_train_norm, tbl_train_target))\n",
    "print('Testing set score is',treeclf.score(tbl_test_norm, tbl_test_target))"
   ]
  },
  {
   "cell_type": "code",
   "execution_count": 70,
   "metadata": {},
   "outputs": [
    {
     "name": "stdout",
     "output_type": "stream",
     "text": [
      "Overall Average accuracy: 0.591732 +/- 0.027024\n"
     ]
    }
   ],
   "source": [
    "#10-fold Cross-Validation \n",
    "from sklearn import cross_validation\n",
    "cv_scores = cross_validation.cross_val_score(treeclf, tbl_dummies,tbl_target, cv=10)\n",
    "print('Overall Average accuracy: %f +/- %f'%(cv_scores.mean(),cv_scores.std()))"
   ]
  },
  {
   "cell_type": "markdown",
   "metadata": {},
   "source": [
    "###Linear Discriminant Analysis (LDA)"
   ]
  },
  {
   "cell_type": "code",
   "execution_count": 56,
   "metadata": {},
   "outputs": [
    {
     "name": "stderr",
     "output_type": "stream",
     "text": [
      "/Users/KevQuant/anaconda/lib/python3.6/site-packages/sklearn/discriminant_analysis.py:387: UserWarning: Variables are collinear.\n",
      "  warnings.warn(\"Variables are collinear.\")\n"
     ]
    },
    {
     "name": "stdout",
     "output_type": "stream",
     "text": [
      "Traing set score is 0.616\n",
      "Testing set score is 0.57\n"
     ]
    }
   ],
   "source": [
    "from sklearn.discriminant_analysis import LinearDiscriminantAnalysis\n",
    "ldclf = LinearDiscriminantAnalysis()\n",
    "ldclf = ldclf.fit(tbl_train_norm, tbl_train_target)"
   ]
  },
  {
   "cell_type": "code",
   "execution_count": 61,
   "metadata": {},
   "outputs": [
    {
     "name": "stdout",
     "output_type": "stream",
     "text": [
      "Traing set score is 0.621270728301\n",
      "Testing set score is 0.620957542266\n"
     ]
    }
   ],
   "source": [
    "print('Traing set score is',ldclf.score(tbl_train_norm, tbl_train_target))\n",
    "print('Testing set score is',ldclf.score(tbl_test_norm, tbl_test_target))"
   ]
  },
  {
   "cell_type": "code",
   "execution_count": 71,
   "metadata": {},
   "outputs": [
    {
     "name": "stderr",
     "output_type": "stream",
     "text": [
      "/Users/KevQuant/anaconda/lib/python3.6/site-packages/sklearn/discriminant_analysis.py:387: UserWarning: Variables are collinear.\n",
      "  warnings.warn(\"Variables are collinear.\")\n",
      "/Users/KevQuant/anaconda/lib/python3.6/site-packages/sklearn/discriminant_analysis.py:387: UserWarning: Variables are collinear.\n",
      "  warnings.warn(\"Variables are collinear.\")\n",
      "/Users/KevQuant/anaconda/lib/python3.6/site-packages/sklearn/discriminant_analysis.py:387: UserWarning: Variables are collinear.\n",
      "  warnings.warn(\"Variables are collinear.\")\n",
      "/Users/KevQuant/anaconda/lib/python3.6/site-packages/sklearn/discriminant_analysis.py:387: UserWarning: Variables are collinear.\n",
      "  warnings.warn(\"Variables are collinear.\")\n",
      "/Users/KevQuant/anaconda/lib/python3.6/site-packages/sklearn/discriminant_analysis.py:387: UserWarning: Variables are collinear.\n",
      "  warnings.warn(\"Variables are collinear.\")\n",
      "/Users/KevQuant/anaconda/lib/python3.6/site-packages/sklearn/discriminant_analysis.py:387: UserWarning: Variables are collinear.\n",
      "  warnings.warn(\"Variables are collinear.\")\n",
      "/Users/KevQuant/anaconda/lib/python3.6/site-packages/sklearn/discriminant_analysis.py:387: UserWarning: Variables are collinear.\n",
      "  warnings.warn(\"Variables are collinear.\")\n",
      "/Users/KevQuant/anaconda/lib/python3.6/site-packages/sklearn/discriminant_analysis.py:387: UserWarning: Variables are collinear.\n",
      "  warnings.warn(\"Variables are collinear.\")\n",
      "/Users/KevQuant/anaconda/lib/python3.6/site-packages/sklearn/discriminant_analysis.py:387: UserWarning: Variables are collinear.\n",
      "  warnings.warn(\"Variables are collinear.\")\n",
      "/Users/KevQuant/anaconda/lib/python3.6/site-packages/sklearn/discriminant_analysis.py:387: UserWarning: Variables are collinear.\n",
      "  warnings.warn(\"Variables are collinear.\")\n"
     ]
    },
    {
     "name": "stdout",
     "output_type": "stream",
     "text": [
      "Overall Average accuracy: 0.620694 +/- 0.039255\n"
     ]
    }
   ],
   "source": [
    "#10-fold Cross-Validation \n",
    "from sklearn import cross_validation\n",
    "cv_scores = cross_validation.cross_val_score(ldclf, tbl_dummies,tbl_target, cv=10)\n",
    "print('Overall Average accuracy: %f +/- %f'%(cv_scores.mean(),cv_scores.std()))"
   ]
  },
  {
   "cell_type": "code",
   "execution_count": null,
   "metadata": {
    "collapsed": true
   },
   "outputs": [],
   "source": []
  },
  {
   "cell_type": "markdown",
   "metadata": {},
   "source": [
    "#Regression:"
   ]
  },
  {
   "cell_type": "code",
   "execution_count": null,
   "metadata": {
    "collapsed": true
   },
   "outputs": [],
   "source": [
    "tbl_dummies\n",
    "tbl_target"
   ]
  },
  {
   "cell_type": "code",
   "execution_count": 148,
   "metadata": {
    "collapsed": true
   },
   "outputs": [],
   "source": [
    "x1=np.array(tbl_dummies)\n",
    "y1=np.array(tbl_target)\n",
    "# Should to add a column of ONEs for x0 in order to do multiple regression\n",
    "x1=np.array([np.concatenate((v,[1])) for v in x1])"
   ]
  },
  {
   "cell_type": "code",
   "execution_count": 149,
   "metadata": {
    "collapsed": true
   },
   "outputs": [],
   "source": [
    "#MLA Functions from textbook Machine Learning in Action, Chapter 8:\n",
    "def standRegres(xArr,yArr):\n",
    "    xMat = np.mat(xArr); yMat = np.mat(yArr).T\n",
    "    xTx = xMat.T*xMat\n",
    "    if np.linalg.det(xTx) == 0.0:\n",
    "        print (\"This matrix is singular, cannot do inverse\")\n",
    "        return\n",
    "    ws = xTx.I * (xMat.T*yMat)\n",
    "    return ws"
   ]
  },
  {
   "cell_type": "code",
   "execution_count": 150,
   "metadata": {},
   "outputs": [
    {
     "data": {
      "text/plain": [
       "matrix([[-0.  ],\n",
       "        [-0.06],\n",
       "        [-0.06],\n",
       "        [-0.06],\n",
       "        [-0.03],\n",
       "        [-0.07],\n",
       "        [-0.14],\n",
       "        [-0.04],\n",
       "        [-0.05],\n",
       "        [-0.03],\n",
       "        [-0.06],\n",
       "        [ 0.01],\n",
       "        [-0.11],\n",
       "        [ 0.08],\n",
       "        [-0.07],\n",
       "        [-0.08],\n",
       "        [-0.01],\n",
       "        [ 0.02],\n",
       "        [-0.04],\n",
       "        [-0.01],\n",
       "        [-0.06],\n",
       "        [-0.03],\n",
       "        [-0.13],\n",
       "        [ 0.08],\n",
       "        [-0.2 ],\n",
       "        [ 0.03],\n",
       "        [-0.11],\n",
       "        [-0.08],\n",
       "        [-0.1 ],\n",
       "        [-0.11],\n",
       "        [-0.06],\n",
       "        [ 0.1 ],\n",
       "        [-0.05],\n",
       "        [ 0.13],\n",
       "        [ 0.16],\n",
       "        [-0.09],\n",
       "        [-0.04],\n",
       "        [-0.08],\n",
       "        [-0.08],\n",
       "        [-0.08],\n",
       "        [-0.1 ],\n",
       "        [ 0.04],\n",
       "        [ 1.12],\n",
       "        [-0.88],\n",
       "        [ 1.5 ],\n",
       "        [ 2.38],\n",
       "        [ 0.5 ],\n",
       "        [ 0.12],\n",
       "        [ 1.38],\n",
       "        [ 0.06],\n",
       "        [-1.  ],\n",
       "        [-0.75],\n",
       "        [-0.12],\n",
       "        [-0.12],\n",
       "        [-1.06],\n",
       "        [-0.44],\n",
       "        [ 0.81],\n",
       "        [ 1.38],\n",
       "        [ 0.78],\n",
       "        [ 2.06],\n",
       "        [ 1.22],\n",
       "        [-0.94],\n",
       "        [ 2.16],\n",
       "        [ 1.41],\n",
       "        [-0.66],\n",
       "        [ 0.75],\n",
       "        [ 2.28],\n",
       "        [ 0.75]])"
      ]
     },
     "execution_count": 150,
     "metadata": {},
     "output_type": "execute_result"
    }
   ],
   "source": [
    "w_standRegres=standRegres(x1,y1)\n",
    "w_standRegres.max()"
   ]
  },
  {
   "cell_type": "code",
   "execution_count": 261,
   "metadata": {},
   "outputs": [
    {
     "name": "stdout",
     "output_type": "stream",
     "text": [
      "6.83479985175\n",
      "-3.33124823847\n",
      "The Training RMSE is 0.71478\n"
     ]
    }
   ],
   "source": [
    "var=10\n",
    "\n",
    "\n",
    "x1=np.mat(x1)\n",
    "predict_y=np.dot(x1,w_standRegres) #Predict the dependent variable based on the above calculated weights \n",
    "predict_y.shape\n",
    "\n",
    "predict_y=np.array(predict_y).T\n",
    "predict_y2=predict_y[0]\n",
    "predict_y2.shape\n",
    "\n",
    "print(predict_y2.max())\n",
    "print(predict_y2.min())\n",
    "cut_off=(predict_y2.max()+predict_y2.min())/2\n",
    "predict_y2[predict_y2>cut_off*var]=1\n",
    "predict_y2[predict_y2<cut_off*var]=0\n",
    "\n",
    "# Now we can constuct a vector of errors\n",
    "err = abs(predict_y2-y1.T)\n",
    "err=np.mat(err)\n",
    "\n",
    "rmse_train=np.sqrt(np.dot(err,err.T) / len(predict_y2))\n",
    "\n",
    "print('The Training RMSE is %0.5f'%(rmse_train))\n",
    "\n"
   ]
  },
  {
   "cell_type": "code",
   "execution_count": 253,
   "metadata": {},
   "outputs": [
    {
     "data": {
      "text/plain": [
       "(4218192,)"
      ]
     },
     "execution_count": 253,
     "metadata": {},
     "output_type": "execute_result"
    }
   ],
   "source": []
  },
  {
   "cell_type": "code",
   "execution_count": 254,
   "metadata": {},
   "outputs": [
    {
     "name": "stdout",
     "output_type": "stream",
     "text": [
      "6.83479985175\n",
      "-3.33124823847\n"
     ]
    }
   ],
   "source": []
  },
  {
   "cell_type": "code",
   "execution_count": 255,
   "metadata": {
    "collapsed": true
   },
   "outputs": [],
   "source": []
  },
  {
   "cell_type": "code",
   "execution_count": 256,
   "metadata": {
    "collapsed": true
   },
   "outputs": [],
   "source": []
  },
  {
   "cell_type": "code",
   "execution_count": 227,
   "metadata": {},
   "outputs": [
    {
     "name": "stdout",
     "output_type": "stream",
     "text": [
      "0.682384490967\n",
      "0.0346374511719\n",
      "1.0\n",
      "0.0\n",
      "[474220.0]\n",
      "474220.0\n",
      "0.794417142868\n",
      "0.0763161182404\n",
      "1.0\n",
      "0.0\n",
      "[619359.0]\n",
      "619359.0\n",
      "0.836610794067\n",
      "-153606.331854\n",
      "1.0\n",
      "0.0\n",
      "[818901.0]\n",
      "818901.0\n"
     ]
    }
   ],
   "source": [
    "from sklearn.linear_model import LinearRegression, Lasso, Ridge, ElasticNet, SGDRegressor\n",
    "from sklearn.cross_validation import KFold\n",
    "\n",
    "# Create linear regression object\n",
    "linreg = LinearRegression()\n",
    "n = 3\n",
    "kf = KFold(len(x1), n_folds=n)\n",
    "xval_err = 0\n",
    "for train,test in kf:\n",
    "    linreg.fit(x1[train],y1[train])\n",
    "    p = linreg.predict(x1[test])\n",
    "    print(p.max())\n",
    "    print(p.min())\n",
    "    for num in np.linspace(0.9,1.1,2):\n",
    "        e_lst=[]\n",
    "        cut_off=(p.max()+p.min())/2\n",
    "        cut_off = cut_off*num\n",
    "       \n",
    "        p[p>cut_off]=1\n",
    "        p[p<cut_off]=0\n",
    "        e=(p-y1[test])\n",
    "        e_lst.append(np.dot(e,e))\n",
    "    e=sorted(e_lst)[0]\n",
    "    print(e_lst)\n",
    "    print(e)\n",
    "    xval_err += np.sqrt(np.dot(e,e)/len(x1[test]))\n",
    "       \n",
    "rmse_10cv = xval_err/n"
   ]
  },
  {
   "cell_type": "code",
   "execution_count": 257,
   "metadata": {},
   "outputs": [
    {
     "name": "stdout",
     "output_type": "stream",
     "text": [
      "The Training RMSE is 0.71031\n",
      "The 10fold RMSE is 537.61714\n"
     ]
    }
   ],
   "source": [
    "print('The Training RMSE is %0.5f'%(rmse_train))\n",
    "print('The 10fold RMSE is %0.5f'%(rmse_10cv))"
   ]
  },
  {
   "cell_type": "code",
   "execution_count": 157,
   "metadata": {
    "collapsed": true
   },
   "outputs": [],
   "source": [
    "import matplotlib.pyplot as plt\n",
    "%matplotlib inline"
   ]
  },
  {
   "cell_type": "code",
   "execution_count": 158,
   "metadata": {},
   "outputs": [
    {
     "data": {
      "text/plain": [
       "(4218192,)"
      ]
     },
     "execution_count": 158,
     "metadata": {},
     "output_type": "execute_result"
    }
   ],
   "source": [
    "#Actual Target Value from original Data\n",
    "y1.shape"
   ]
  },
  {
   "cell_type": "code",
   "execution_count": 159,
   "metadata": {},
   "outputs": [
    {
     "data": {
      "text/plain": [
       "(4218192,)"
      ]
     },
     "execution_count": 159,
     "metadata": {},
     "output_type": "execute_result"
    }
   ],
   "source": [
    "#Predicted value from the\n",
    "predict_y2.shape"
   ]
  },
  {
   "cell_type": "code",
   "execution_count": 178,
   "metadata": {},
   "outputs": [],
   "source": [
    "y3=predict_y2.copy()"
   ]
  },
  {
   "cell_type": "code",
   "execution_count": 185,
   "metadata": {},
   "outputs": [
    {
     "data": {
      "text/plain": [
       "array([ 0.7 ,  0.85,  1.  ,  1.15,  1.3 ])"
      ]
     },
     "execution_count": 185,
     "metadata": {},
     "output_type": "execute_result"
    }
   ],
   "source": [
    "np.linspace(0.7,1.3,5)"
   ]
  },
  {
   "cell_type": "code",
   "execution_count": 214,
   "metadata": {},
   "outputs": [
    {
     "data": {
      "text/plain": [
       "[2.0999999999999996,\n",
       " 2.5499999999999998,\n",
       " 3.0,\n",
       " 3.4499999999999997,\n",
       " 3.9000000000000004]"
      ]
     },
     "execution_count": 214,
     "metadata": {},
     "output_type": "execute_result"
    }
   ],
   "source": [
    "e_lst=[]\n",
    "cutoff=0\n",
    "for num in np.linspace(0.7,1.3,5):\n",
    "\n",
    "    cut_off=3*num\n",
    "    \n",
    "\n",
    "    \n",
    "    e_lst.append(cut_off)\n",
    "sorted(e_lst)"
   ]
  },
  {
   "cell_type": "code",
   "execution_count": 174,
   "metadata": {},
   "outputs": [
    {
     "data": {
      "text/plain": [
       "array([ 0.,  0.,  0., ...,  0.,  0.,  0.])"
      ]
     },
     "execution_count": 174,
     "metadata": {},
     "output_type": "execute_result"
    }
   ],
   "source": [
    "y3[y3>2]=1\n",
    "y3[y3<2]=0\n",
    "y3"
   ]
  },
  {
   "cell_type": "code",
   "execution_count": 160,
   "metadata": {},
   "outputs": [
    {
     "data": {
      "image/png": "[encoded data removed]",
      "text/plain": [
       "<matplotlib.figure.Figure at 0x115a02860>"
      ]
     },
     "metadata": {},
     "output_type": "display_data"
    }
   ],
   "source": [
    "#Plot the Predicted Value vs Actual Value\n",
    "plt.plot(y1,predict_y2,'ro', color='blue')\n",
    "plt.plot([0,1],[0,1],'red')\n",
    "plt.xlabel('Actual Target')\n",
    "plt.ylabel('Predicted Value')\n",
    "plt.title('Predicted Value vs Actual Value')\n",
    "plt.show()\n"
   ]
  },
  {
   "cell_type": "code",
   "execution_count": null,
   "metadata": {
    "collapsed": true
   },
   "outputs": [],
   "source": []
  },
  {
   "cell_type": "markdown",
   "metadata": {},
   "source": [
    "#kMeans"
   ]
  },
  {
   "cell_type": "code",
   "execution_count": 275,
   "metadata": {},
   "outputs": [],
   "source": [
    "from sklearn.cluster import KMeans\n"
   ]
  },
  {
   "cell_type": "code",
   "execution_count": null,
   "metadata": {
    "collapsed": true
   },
   "outputs": [],
   "source": [
    "#Split the train set, test set, train class, test class\n",
    "from sklearn.cross_validation import train_test_split\n",
    "tbl_train,tbl_test,tbl_train_target,tbl_test_target=train_test_split(tbl_dummies\n",
    "                                                                     ,tbl_target\n",
    "                                                                     ,test_size=0.2\n",
    "                                                                     ,random_state=28)"
   ]
  },
  {
   "cell_type": "code",
   "execution_count": 263,
   "metadata": {},
   "outputs": [
    {
     "data": {
      "text/plain": [
       "(3374553, 67)"
      ]
     },
     "execution_count": 263,
     "metadata": {},
     "output_type": "execute_result"
    }
   ],
   "source": [
    "tbl_train.shape"
   ]
  },
  {
   "cell_type": "code",
   "execution_count": 265,
   "metadata": {},
   "outputs": [
    {
     "data": {
      "text/plain": [
       "(3374553,)"
      ]
     },
     "execution_count": 265,
     "metadata": {},
     "output_type": "execute_result"
    }
   ],
   "source": [
    "tbl_train_target.shape"
   ]
  },
  {
   "cell_type": "code",
   "execution_count": 267,
   "metadata": {},
   "outputs": [
    {
     "data": {
      "text/plain": [
       "(843639, 67)"
      ]
     },
     "execution_count": 267,
     "metadata": {},
     "output_type": "execute_result"
    }
   ],
   "source": [
    "tbl_test.shape"
   ]
  },
  {
   "cell_type": "code",
   "execution_count": 268,
   "metadata": {},
   "outputs": [
    {
     "data": {
      "text/plain": [
       "(843639,)"
      ]
     },
     "execution_count": 268,
     "metadata": {},
     "output_type": "execute_result"
    }
   ],
   "source": [
    "tbl_test_target.shape"
   ]
  },
  {
   "cell_type": "code",
   "execution_count": 269,
   "metadata": {},
   "outputs": [
    {
     "data": {
      "text/plain": [
       "(4218192, 67)"
      ]
     },
     "execution_count": 269,
     "metadata": {},
     "output_type": "execute_result"
    }
   ],
   "source": [
    "tbl_dummies"
   ]
  },
  {
   "cell_type": "code",
   "execution_count": 276,
   "metadata": {},
   "outputs": [
    {
     "name": "stdout",
     "output_type": "stream",
     "text": [
      "Initialization complete\n",
      "start iteration\n",
      "done sorting\n",
      "end inner loop\n",
      "Iteration 0, inertia 73826990.0323\n",
      "start iteration\n",
      "done sorting\n",
      "end inner loop\n",
      "Iteration 1, inertia 58630841.785\n",
      "start iteration\n",
      "done sorting\n",
      "end inner loop\n",
      "Iteration 2, inertia 57731820.2029\n",
      "start iteration\n",
      "done sorting\n",
      "end inner loop\n",
      "Iteration 3, inertia 57731820.2029\n",
      "center shift 0.000000e+00 within tolerance 5.895523e-05\n",
      "Initialization complete\n",
      "start iteration\n",
      "done sorting\n",
      "end inner loop\n",
      "Iteration 0, inertia 62514284.6653\n",
      "start iteration\n",
      "done sorting\n",
      "end inner loop\n",
      "Iteration 1, inertia 57731820.2029\n",
      "start iteration\n",
      "done sorting\n",
      "end inner loop\n",
      "Iteration 2, inertia 57731820.2029\n",
      "center shift 0.000000e+00 within tolerance 5.895523e-05\n",
      "Initialization complete\n",
      "start iteration\n",
      "done sorting\n",
      "end inner loop\n",
      "Iteration 0, inertia 57731820.2029\n",
      "start iteration\n",
      "done sorting\n",
      "end inner loop\n",
      "Iteration 1, inertia 57731820.2029\n",
      "center shift 0.000000e+00 within tolerance 5.895523e-05\n",
      "Initialization complete\n",
      "start iteration\n",
      "done sorting\n",
      "end inner loop\n",
      "Iteration 0, inertia 92000314.7553\n",
      "start iteration\n",
      "done sorting\n",
      "end inner loop\n",
      "Iteration 1, inertia 85865079.6904\n",
      "start iteration\n",
      "done sorting\n",
      "end inner loop\n",
      "Iteration 2, inertia 62514284.6653\n",
      "start iteration\n",
      "done sorting\n",
      "end inner loop\n",
      "Iteration 3, inertia 57731820.2029\n",
      "start iteration\n",
      "done sorting\n",
      "end inner loop\n",
      "Iteration 4, inertia 57731820.2029\n",
      "center shift 0.000000e+00 within tolerance 5.895523e-05\n",
      "Initialization complete\n",
      "start iteration\n",
      "done sorting\n",
      "end inner loop\n",
      "Iteration 0, inertia 57874509.7405\n",
      "start iteration\n",
      "done sorting\n",
      "end inner loop\n",
      "Iteration 1, inertia 57731820.2029\n",
      "start iteration\n",
      "done sorting\n",
      "end inner loop\n",
      "Iteration 2, inertia 57731820.2029\n",
      "center shift 0.000000e+00 within tolerance 5.895523e-05\n",
      "Initialization complete\n",
      "start iteration\n",
      "done sorting\n",
      "end inner loop\n",
      "Iteration 0, inertia 59019653.4619\n",
      "start iteration\n",
      "done sorting\n",
      "end inner loop\n"
     ]
    },
    {
     "ename": "KeyboardInterrupt",
     "evalue": "",
     "output_type": "error",
     "traceback": [
      "\u001b[0;31m---------------------------------------------------------------------------\u001b[0m",
      "\u001b[0;31mKeyboardInterrupt\u001b[0m                         Traceback (most recent call last)",
      "\u001b[0;32m<ipython-input-276-95dca5544999>\u001b[0m in \u001b[0;36m<module>\u001b[0;34m()\u001b[0m\n\u001b[1;32m      1\u001b[0m \u001b[0mkmeans\u001b[0m\u001b[0;34m=\u001b[0m\u001b[0mKMeans\u001b[0m\u001b[0;34m(\u001b[0m\u001b[0mn_clusters\u001b[0m\u001b[0;34m=\u001b[0m\u001b[0;36m2\u001b[0m\u001b[0;34m,\u001b[0m\u001b[0mmax_iter\u001b[0m\u001b[0;34m=\u001b[0m\u001b[0;36m500\u001b[0m\u001b[0;34m,\u001b[0m\u001b[0mverbose\u001b[0m\u001b[0;34m=\u001b[0m\u001b[0;36m1\u001b[0m\u001b[0;34m)\u001b[0m \u001b[0;31m#initialize clusters parameters\u001b[0m\u001b[0;34m\u001b[0m\u001b[0m\n\u001b[1;32m      2\u001b[0m \u001b[0;31m#Plug in the normalized data into the\u001b[0m\u001b[0;34m\u001b[0m\u001b[0;34m\u001b[0m\u001b[0m\n\u001b[0;32m----> 3\u001b[0;31m \u001b[0mkmeans\u001b[0m\u001b[0;34m.\u001b[0m\u001b[0mfit\u001b[0m\u001b[0;34m(\u001b[0m\u001b[0mtbl_dummies\u001b[0m\u001b[0;34m)\u001b[0m\u001b[0;34m\u001b[0m\u001b[0m\n\u001b[0m",
      "\u001b[0;32m~/anaconda/lib/python3.6/site-packages/sklearn/cluster/k_means_.py\u001b[0m in \u001b[0;36mfit\u001b[0;34m(self, X, y)\u001b[0m\n\u001b[1;32m    887\u001b[0m                 \u001b[0mtol\u001b[0m\u001b[0;34m=\u001b[0m\u001b[0mself\u001b[0m\u001b[0;34m.\u001b[0m\u001b[0mtol\u001b[0m\u001b[0;34m,\u001b[0m \u001b[0mrandom_state\u001b[0m\u001b[0;34m=\u001b[0m\u001b[0mrandom_state\u001b[0m\u001b[0;34m,\u001b[0m \u001b[0mcopy_x\u001b[0m\u001b[0;34m=\u001b[0m\u001b[0mself\u001b[0m\u001b[0;34m.\u001b[0m\u001b[0mcopy_x\u001b[0m\u001b[0;34m,\u001b[0m\u001b[0;34m\u001b[0m\u001b[0m\n\u001b[1;32m    888\u001b[0m                 \u001b[0mn_jobs\u001b[0m\u001b[0;34m=\u001b[0m\u001b[0mself\u001b[0m\u001b[0;34m.\u001b[0m\u001b[0mn_jobs\u001b[0m\u001b[0;34m,\u001b[0m \u001b[0malgorithm\u001b[0m\u001b[0;34m=\u001b[0m\u001b[0mself\u001b[0m\u001b[0;34m.\u001b[0m\u001b[0malgorithm\u001b[0m\u001b[0;34m,\u001b[0m\u001b[0;34m\u001b[0m\u001b[0m\n\u001b[0;32m--> 889\u001b[0;31m                 return_n_iter=True)\n\u001b[0m\u001b[1;32m    890\u001b[0m         \u001b[0;32mreturn\u001b[0m \u001b[0mself\u001b[0m\u001b[0;34m\u001b[0m\u001b[0m\n\u001b[1;32m    891\u001b[0m \u001b[0;34m\u001b[0m\u001b[0m\n",
      "\u001b[0;32m~/anaconda/lib/python3.6/site-packages/sklearn/cluster/k_means_.py\u001b[0m in \u001b[0;36mk_means\u001b[0;34m(X, n_clusters, init, precompute_distances, n_init, max_iter, verbose, tol, random_state, copy_x, n_jobs, algorithm, return_n_iter)\u001b[0m\n\u001b[1;32m    343\u001b[0m                 \u001b[0mX\u001b[0m\u001b[0;34m,\u001b[0m \u001b[0mn_clusters\u001b[0m\u001b[0;34m,\u001b[0m \u001b[0mmax_iter\u001b[0m\u001b[0;34m=\u001b[0m\u001b[0mmax_iter\u001b[0m\u001b[0;34m,\u001b[0m \u001b[0minit\u001b[0m\u001b[0;34m=\u001b[0m\u001b[0minit\u001b[0m\u001b[0;34m,\u001b[0m \u001b[0mverbose\u001b[0m\u001b[0;34m=\u001b[0m\u001b[0mverbose\u001b[0m\u001b[0;34m,\u001b[0m\u001b[0;34m\u001b[0m\u001b[0m\n\u001b[1;32m    344\u001b[0m                 \u001b[0mprecompute_distances\u001b[0m\u001b[0;34m=\u001b[0m\u001b[0mprecompute_distances\u001b[0m\u001b[0;34m,\u001b[0m \u001b[0mtol\u001b[0m\u001b[0;34m=\u001b[0m\u001b[0mtol\u001b[0m\u001b[0;34m,\u001b[0m\u001b[0;34m\u001b[0m\u001b[0m\n\u001b[0;32m--> 345\u001b[0;31m                 x_squared_norms=x_squared_norms, random_state=random_state)\n\u001b[0m\u001b[1;32m    346\u001b[0m             \u001b[0;31m# determine if these results are the best so far\u001b[0m\u001b[0;34m\u001b[0m\u001b[0;34m\u001b[0m\u001b[0m\n\u001b[1;32m    347\u001b[0m             \u001b[0;32mif\u001b[0m \u001b[0mbest_inertia\u001b[0m \u001b[0;32mis\u001b[0m \u001b[0;32mNone\u001b[0m \u001b[0;32mor\u001b[0m \u001b[0minertia\u001b[0m \u001b[0;34m<\u001b[0m \u001b[0mbest_inertia\u001b[0m\u001b[0;34m:\u001b[0m\u001b[0;34m\u001b[0m\u001b[0m\n",
      "\u001b[0;32m~/anaconda/lib/python3.6/site-packages/sklearn/cluster/k_means_.py\u001b[0m in \u001b[0;36m_kmeans_single_elkan\u001b[0;34m(X, n_clusters, max_iter, init, verbose, x_squared_norms, random_state, tol, precompute_distances)\u001b[0m\n\u001b[1;32m    397\u001b[0m         \u001b[0mprint\u001b[0m\u001b[0;34m(\u001b[0m\u001b[0;34m'Initialization complete'\u001b[0m\u001b[0;34m)\u001b[0m\u001b[0;34m\u001b[0m\u001b[0m\n\u001b[1;32m    398\u001b[0m     centers, labels, n_iter = k_means_elkan(X, n_clusters, centers, tol=tol,\n\u001b[0;32m--> 399\u001b[0;31m                                             max_iter=max_iter, verbose=verbose)\n\u001b[0m\u001b[1;32m    400\u001b[0m     \u001b[0minertia\u001b[0m \u001b[0;34m=\u001b[0m \u001b[0mnp\u001b[0m\u001b[0;34m.\u001b[0m\u001b[0msum\u001b[0m\u001b[0;34m(\u001b[0m\u001b[0;34m(\u001b[0m\u001b[0mX\u001b[0m \u001b[0;34m-\u001b[0m \u001b[0mcenters\u001b[0m\u001b[0;34m[\u001b[0m\u001b[0mlabels\u001b[0m\u001b[0;34m]\u001b[0m\u001b[0;34m)\u001b[0m \u001b[0;34m**\u001b[0m \u001b[0;36m2\u001b[0m\u001b[0;34m,\u001b[0m \u001b[0mdtype\u001b[0m\u001b[0;34m=\u001b[0m\u001b[0mnp\u001b[0m\u001b[0;34m.\u001b[0m\u001b[0mfloat64\u001b[0m\u001b[0;34m)\u001b[0m\u001b[0;34m\u001b[0m\u001b[0m\n\u001b[1;32m    401\u001b[0m     \u001b[0;32mreturn\u001b[0m \u001b[0mlabels\u001b[0m\u001b[0;34m,\u001b[0m \u001b[0minertia\u001b[0m\u001b[0;34m,\u001b[0m \u001b[0mcenters\u001b[0m\u001b[0;34m,\u001b[0m \u001b[0mn_iter\u001b[0m\u001b[0;34m\u001b[0m\u001b[0m\n",
      "\u001b[0;32msklearn/cluster/_k_means_elkan.pyx\u001b[0m in \u001b[0;36msklearn.cluster._k_means_elkan.k_means_elkan (sklearn/cluster/_k_means_elkan.c:7559)\u001b[0;34m()\u001b[0m\n",
      "\u001b[0;32m~/anaconda/lib/python3.6/site-packages/numpy/core/fromnumeric.py\u001b[0m in \u001b[0;36msum\u001b[0;34m(a, axis, dtype, out, keepdims)\u001b[0m\n\u001b[1;32m   1741\u001b[0m \u001b[0;34m\u001b[0m\u001b[0m\n\u001b[1;32m   1742\u001b[0m \u001b[0;34m\u001b[0m\u001b[0m\n\u001b[0;32m-> 1743\u001b[0;31m \u001b[0;32mdef\u001b[0m \u001b[0msum\u001b[0m\u001b[0;34m(\u001b[0m\u001b[0ma\u001b[0m\u001b[0;34m,\u001b[0m \u001b[0maxis\u001b[0m\u001b[0;34m=\u001b[0m\u001b[0;32mNone\u001b[0m\u001b[0;34m,\u001b[0m \u001b[0mdtype\u001b[0m\u001b[0;34m=\u001b[0m\u001b[0;32mNone\u001b[0m\u001b[0;34m,\u001b[0m \u001b[0mout\u001b[0m\u001b[0;34m=\u001b[0m\u001b[0;32mNone\u001b[0m\u001b[0;34m,\u001b[0m \u001b[0mkeepdims\u001b[0m\u001b[0;34m=\u001b[0m\u001b[0mnp\u001b[0m\u001b[0;34m.\u001b[0m\u001b[0m_NoValue\u001b[0m\u001b[0;34m)\u001b[0m\u001b[0;34m:\u001b[0m\u001b[0;34m\u001b[0m\u001b[0m\n\u001b[0m\u001b[1;32m   1744\u001b[0m     \"\"\"\n\u001b[1;32m   1745\u001b[0m     \u001b[0mSum\u001b[0m \u001b[0mof\u001b[0m \u001b[0marray\u001b[0m \u001b[0melements\u001b[0m \u001b[0mover\u001b[0m \u001b[0ma\u001b[0m \u001b[0mgiven\u001b[0m \u001b[0maxis\u001b[0m\u001b[0;34m.\u001b[0m\u001b[0;34m\u001b[0m\u001b[0m\n",
      "\u001b[0;31mKeyboardInterrupt\u001b[0m: "
     ]
    }
   ],
   "source": [
    "kmeans=KMeans(n_clusters=2,max_iter=500,verbose=1) #initialize clusters parameters\n",
    "#Plug in the normalized data into the \n",
    "kmeans.fit(tbl_dummies)"
   ]
  },
  {
   "cell_type": "code",
   "execution_count": null,
   "metadata": {
    "collapsed": true
   },
   "outputs": [],
   "source": [
    "clusters=kmeans.predict(tbl_dummies)\n"
   ]
  },
  {
   "cell_type": "code",
   "execution_count": null,
   "metadata": {
    "collapsed": true
   },
   "outputs": [],
   "source": [
    "from sklearn.metrics import completeness_score, homogeneity_score\n",
    "\n",
    "#Compute the Completness Score and Homogeneity Score\n",
    "print('Completness Score is',completeness_score(clusters,np.array(tbl_target)))\n",
    "print('Homogeneity Score is ',homogeneity_score(clusters, np.array(tbl_target)))"
   ]
  },
  {
   "cell_type": "code",
   "execution_count": 272,
   "metadata": {},
   "outputs": [
    {
     "data": {
      "text/plain": [
       "1"
      ]
     },
     "execution_count": 272,
     "metadata": {},
     "output_type": "execute_result"
    }
   ],
   "source": [
    "np.array(tbl_target)"
   ]
  },
  {
   "cell_type": "code",
   "execution_count": null,
   "metadata": {
    "collapsed": true
   },
   "outputs": [],
   "source": []
  },
  {
   "cell_type": "code",
   "execution_count": null,
   "metadata": {
    "collapsed": true
   },
   "outputs": [],
   "source": []
  },
  {
   "cell_type": "code",
   "execution_count": null,
   "metadata": {
    "collapsed": true
   },
   "outputs": [],
   "source": []
  }
 ],
 "metadata": {
  "kernelspec": {
   "display_name": "Python 3",
   "language": "python",
   "name": "python3"
  },
  "language_info": {
   "codemirror_mode": {
    "name": "ipython",
    "version": 3
   },
   "file_extension": ".py",
   "mimetype": "text/x-python",
   "name": "python",
   "nbconvert_exporter": "python",
   "pygments_lexer": "ipython3",
   "version": "3.6.0"
  }
 },
 "nbformat": 4,
 "nbformat_minor": 2
}
