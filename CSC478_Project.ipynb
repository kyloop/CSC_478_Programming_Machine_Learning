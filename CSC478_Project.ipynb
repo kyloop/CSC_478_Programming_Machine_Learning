{
 "cells": [
  {
   "cell_type": "markdown",
   "metadata": {},
   "source": [
    "####CSC 478 Project Proposal (Autumn 2017)\n",
    "\n",
    "####Name: \n",
    "Kevin Kai Chung Ying\n",
    "\n",
    "####Date:\n",
    "Oct/21/2017\n",
    "\n",
    "####Application:\n",
    "Recommendation System\n",
    "\n",
    "####Brief description of dataset:\n",
    "The Datasets were donated by KKBox through Kaggle.com. There are 5 different datasets are provided including 1 train, 1 test, 1 songs , 1 songs extra info, members dataset. The song list includes about 2.6 mil of songs track with songs’s length, gene_id, artist_name, composer, lyricist, language. KKBox is an Asia’s leading music streaming service holds about 30 million song track Asia-pop music library. The purpose of particular dataset donation aims to look for a better recommendation system for music engine for their new customers. The potential analysis target is to predict which songs would be users’ favorite and chance to repetitively listen the SAME song within a month. The provided dataset also includes a member info table which contains members’ location, gender, register channel, register date and expiration date.\n",
    "\n",
    "####Classification Target\n",
    "•\tTarget=1 means user is repetitively listening SAME event(s) triggered within a month after the very first observable listening event. \n",
    "•\tTarget=0 means otherwise.\n",
    "\n",
    "####Attributes from Training and Testing Set\n",
    "•\t6 Attributes in the Dataset\n",
    "o\tuser_id (Char), song_id (Char),  source_system_tab(char, 2 variations), source_screen_name (char, 2 variations), source_type(char, 2 variations)\n",
    "•\t7377418 rows of Records on the Training dataset\n",
    "•\tThe aggregation of tables will be necessary for the analysis.\n",
    "\n",
    "####Algorithm still not confirmed, will depends on the accuracy.\n",
    "•\tKNN (User-based / Item-based / Content Based Collaborative System)\n",
    "•\tCorrelation between users\n",
    "•\tCosine Similarity\n",
    "•\tMAE or RMSE Evaluation\n",
    "\n",
    "\n",
    "\n"
   ]
  },
  {
   "cell_type": "code",
   "execution_count": null,
   "metadata": {
    "collapsed": true
   },
   "outputs": [],
   "source": [
    "import numpy as np\n",
    "import pandas as pd\n",
    "import urllib, time, json, sqlite3"
   ]
  },
  {
   "cell_type": "code",
   "execution_count": null,
   "metadata": {
    "collapsed": true
   },
   "outputs": [],
   "source": [
    "music_train = music_train.reindex(np.random.permutation(music_train.index))\n"
   ]
  },
  {
   "cell_type": "markdown",
   "metadata": {},
   "source": [
    "#Prepare and aggregate Dataset"
   ]
  },
  {
   "cell_type": "code",
   "execution_count": null,
   "metadata": {
    "collapsed": true
   },
   "outputs": [],
   "source": [
    "import sqlite3\n",
    "from sqlite3 import OperationalError\n",
    "import urllib, time, json, sqlite3"
   ]
  },
  {
   "cell_type": "code",
   "execution_count": null,
   "metadata": {
    "collapsed": true
   },
   "outputs": [],
   "source": [
    "train='''Create Table Train(\n",
    "    customer_id VARCHAR(100),\n",
    "    song_id VARCHAR(100),\n",
    "    source_system_tab VARCHAR(20),\n",
    "    source_screen_name VARCHAR(30),\n",
    "    source_type VARCHAR(30),\n",
    "    Target integer(2),\n",
    "    \n",
    "    CONSTRAINT Train_PK Primary Key (customer_id, song_id)\n",
    "\n",
    ")\n",
    "'''\n",
    "\n",
    "mem='''Create Table Members(\n",
    "\n",
    "    customer_id VARCHAR(100),\n",
    "    city INTEGER(5),\n",
    "    age INTEGER(5),\n",
    "    gender VARCHAR(2),\n",
    "    registered_via integer(10),\n",
    "    reg_time VARCHAR(2),\n",
    "    exp_date VARCHAR(2),\n",
    " \n",
    "    CONSTRAINT Members_PK PRIMARY KEY (customer_id)\n",
    ")\n",
    "'''\n",
    "\n",
    "songs='''Create Table Songs(\n",
    "    \n",
    "    song_id VARCHAR(100),\n",
    "    song_length INTEGER(20),\n",
    "    genre_ids INTEGER(20),\n",
    "    artist_name VARCHAR(100),\n",
    "    composer VARCHAR(100),\n",
    "    lyricist VARCHAR(100),\n",
    "    language INTEGER(10),\n",
    "    \n",
    "    CONSTRAINT Songs_PK PRIMARY KEY (song_id)\n",
    ")\n",
    "'''"
   ]
  },
  {
   "cell_type": "code",
   "execution_count": null,
   "metadata": {
    "collapsed": true
   },
   "outputs": [],
   "source": [
    "conn=sqlite3.connect('project.db')\n",
    "c=conn.cursor()\n",
    "\n",
    "c.execute('Drop Table  if exists Train;')\n",
    "c.execute(train)\n",
    "\n",
    "c.execute('Drop Table  if exists Members;')\n",
    "c.execute(mem)\n",
    "\n",
    "c.execute('Drop Table  if exists Songs;')\n",
    "c.execute(songs)\n",
    "\n",
    "conn.commit()\n",
    "conn.close()\n"
   ]
  },
  {
   "cell_type": "code",
   "execution_count": null,
   "metadata": {
    "collapsed": true
   },
   "outputs": [],
   "source": [
    "start=time.time()\n",
    "count=0\n",
    "source=open ('./Data/Music/train.csv')\n",
    "train_lst=[]\n",
    "\n",
    "content=source.read()\n",
    "lines=content.strip().split('\\n')\n",
    "\n",
    "for line in lines:\n",
    "    line=line.strip().split(',')\n",
    "    train_lst.append(line)\n",
    "    count+=1\n",
    "\n",
    "train_lst=train_lst[1:] #Skip the first row(attributes)    \n",
    "end=time.time()\n",
    "end-start"
   ]
  },
  {
   "cell_type": "code",
   "execution_count": null,
   "metadata": {
    "collapsed": true
   },
   "outputs": [],
   "source": [
    "len(train_lst)"
   ]
  },
  {
   "cell_type": "code",
   "execution_count": null,
   "metadata": {
    "collapsed": true
   },
   "outputs": [],
   "source": [
    "start=time.time()\n",
    "count=0\n",
    "source=open ('./Data/Music/members.csv')\n",
    "members_lst=[]\n",
    "\n",
    "content=source.read()\n",
    "lines=content.strip().split('\\n')\n",
    "\n",
    "for line in lines:\n",
    "    line=line.strip().split(',')\n",
    "    members_lst.append(line)\n",
    "    count+=1\n",
    "\n",
    "members_lst=members_lst[1:] #Skip the first row(attributes)    \n",
    "end=time.time()\n",
    "end-start"
   ]
  },
  {
   "cell_type": "code",
   "execution_count": null,
   "metadata": {
    "collapsed": true
   },
   "outputs": [],
   "source": [
    "len(members_lst)"
   ]
  },
  {
   "cell_type": "code",
   "execution_count": null,
   "metadata": {
    "collapsed": true
   },
   "outputs": [],
   "source": [
    "start=time.time()\n",
    "count=0\n",
    "source=open ('./Data/Music/songs.csv')\n",
    "songs_lst=[]\n",
    "\n",
    "content=source.read()\n",
    "lines=content.strip().split('\\n')\n",
    "\n",
    "for line in lines:\n",
    "    line=line.strip().split(',')\n",
    "    songs_lst.append(line)\n",
    "    count+=1\n",
    "\n",
    "songs_lst=songs_lst[1:] #Skip the first row(attributes)    \n",
    "end=time.time()\n",
    "end-start"
   ]
  },
  {
   "cell_type": "code",
   "execution_count": null,
   "metadata": {
    "collapsed": true
   },
   "outputs": [],
   "source": [
    "songs_lst[0:50]"
   ]
  },
  {
   "cell_type": "code",
   "execution_count": null,
   "metadata": {
    "collapsed": true
   },
   "outputs": [],
   "source": [
    "start=time.time()\n",
    "mem_name_lst=[]\n",
    "song_name_lst=[]\n",
    "for i in range(len(members_lst)):\n",
    "    mem_name_lst.append(members_lst[i][0])\n",
    "    \n",
    "for i in range(len(songs_lst)):\n",
    "    song_name_lst.append(songs_lst[i][0])\n",
    "\n",
    "mem_name_lst=np.array(mem_name_lst)\n",
    "song_name_lst=np.array(song_name_lst)\n",
    "\n",
    "cust_songs_tbl=pd.DataFrame(0,index=mem_name_lst,columns=song_name_lst)\n",
    "cust_songs_tbl.shape\n",
    "\n",
    "end=time.time()\n",
    "end-start"
   ]
  },
  {
   "cell_type": "code",
   "execution_count": null,
   "metadata": {
    "collapsed": true
   },
   "outputs": [],
   "source": [
    "songs_lst[0:5]"
   ]
  },
  {
   "cell_type": "code",
   "execution_count": null,
   "metadata": {
    "collapsed": true,
    "scrolled": true
   },
   "outputs": [],
   "source": [
    "try:\n",
    "cust_songs_tbl.ix[train_lst[i][0]][train_lst[i][1]]=\n",
    "cust_songs_tbl\n",
    "train_lst[0][0]"
   ]
  },
  {
   "cell_type": "code",
   "execution_count": null,
   "metadata": {
    "collapsed": true
   },
   "outputs": [],
   "source": [
    "start=time.time()\n",
    "conn=sqlite3.connect('project.db')\n",
    "c=conn.cursor()\n",
    "c.executemany('INSERT OR IGNORE INTO Members VALUES (?,?,?,?,?,?,?);', members_lst)        \n",
    "conn.commit()\n",
    "end=time.time()\n",
    "end-start"
   ]
  },
  {
   "cell_type": "code",
   "execution_count": null,
   "metadata": {
    "collapsed": true
   },
   "outputs": [],
   "source": [
    "count=0\n",
    "for line in songs_lst:\n",
    "    try:\n",
    "        c.execute('INSERT OR IGNORE INTO Songs VALUES (?,?,?,?,?,?,?);', line)\n",
    "        count+=1\n",
    "    except:\n",
    "        print(count)\n",
    "conn.commit()"
   ]
  },
  {
   "cell_type": "code",
   "execution_count": null,
   "metadata": {
    "collapsed": true
   },
   "outputs": [],
   "source": [
    "c.executemany('INSERT OR IGNORE INTO Train VALUES (?,?,?,?,?,?);', train_lst)\n",
    "conn.commit()\n"
   ]
  },
  {
   "cell_type": "code",
   "execution_count": null,
   "metadata": {
    "collapsed": true
   },
   "outputs": [],
   "source": [
    "songs_lst[605199]"
   ]
  },
  {
   "cell_type": "code",
   "execution_count": 261,
   "metadata": {},
   "outputs": [
    {
     "data": {
      "text/plain": [
       "-576.3770248889923"
      ]
     },
     "execution_count": 261,
     "metadata": {},
     "output_type": "execute_result"
    }
   ],
   "source": [
    "start=time.time()\n",
    "query1='''select T.customer_id, T.Song_id, T.source_system_tab,T.source_screen_name, T.source_type,\n",
    "M.city, M.age, M.gender,M.registered_via, M.reg_time, exp_date,\n",
    "s.genre_ids,s.song_length,s.language,s.artist_name,s.composer, s.lyricist, T.target\n",
    "from Train T \n",
    "left Join Members M on T.customer_id=M.customer_id\n",
    "Left join songs s on s.song_id=t.song_id;\n",
    "'''\n",
    "\n",
    "\n",
    "query2=\"Select * from Train\"\n",
    "#query3=\"select * from songs where artist_name='俞隆華'\"\n",
    "#query4=\"Select * from Members\"\n",
    "pd.read_sql_query(query1, conn).to_csv('query1.csv', index=True)\n",
    "end=time.time()\n",
    "start-end"
   ]
  },
  {
   "cell_type": "markdown",
   "metadata": {},
   "source": [
    "###Aggregate the tables from Train, Songs, Members and Load into the 'query1.csv'"
   ]
  },
  {
   "cell_type": "code",
   "execution_count": 1,
   "metadata": {},
   "outputs": [
    {
     "name": "stdout",
     "output_type": "stream",
     "text": [
      "(7377418, 19)\n"
     ]
    },
    {
     "data": {
      "text/html": [
       "<div>\n",
       "<table border=\"1\" class=\"dataframe\">\n",
       "  <thead>\n",
       "    <tr style=\"text-align: right;\">\n",
       "      <th></th>\n",
       "      <th>Unnamed: 0</th>\n",
       "      <th>customer_id</th>\n",
       "      <th>song_id</th>\n",
       "      <th>source_system_tab</th>\n",
       "      <th>source_screen_name</th>\n",
       "      <th>source_type</th>\n",
       "      <th>city</th>\n",
       "      <th>age</th>\n",
       "      <th>gender</th>\n",
       "      <th>registered_via</th>\n",
       "      <th>reg_time</th>\n",
       "      <th>exp_date</th>\n",
       "      <th>genre_ids</th>\n",
       "      <th>song_length</th>\n",
       "      <th>language</th>\n",
       "      <th>artist_name</th>\n",
       "      <th>composer</th>\n",
       "      <th>lyricist</th>\n",
       "      <th>Target</th>\n",
       "    </tr>\n",
       "  </thead>\n",
       "  <tbody>\n",
       "    <tr>\n",
       "      <th>0</th>\n",
       "      <td>0</td>\n",
       "      <td>FGtllVqz18RPiwJj/edr2gV78zirAiY/9SmYvia+kCg=</td>\n",
       "      <td>BBzumQNXUHKdEBOB7mAJuzok+IJA1c2Ryg/yzTF6tik=</td>\n",
       "      <td>explore</td>\n",
       "      <td>Explore</td>\n",
       "      <td>online-playlist</td>\n",
       "      <td>1</td>\n",
       "      <td>0</td>\n",
       "      <td>NaN</td>\n",
       "      <td>7</td>\n",
       "      <td>20120102</td>\n",
       "      <td>20171005</td>\n",
       "      <td>359</td>\n",
       "      <td>206471.0</td>\n",
       "      <td>52.0</td>\n",
       "      <td>Bastille</td>\n",
       "      <td>Dan Smith| Mark Crew</td>\n",
       "      <td>NaN</td>\n",
       "      <td>1</td>\n",
       "    </tr>\n",
       "    <tr>\n",
       "      <th>1</th>\n",
       "      <td>1</td>\n",
       "      <td>Xumu+NIjS6QYVxDS4/t3SawvJ7viT9hPKXmf0RtLNx8=</td>\n",
       "      <td>bhp/MpSNoqoxOIB+/l8WPqu6jldth4DIpCm3ayXnJqM=</td>\n",
       "      <td>my library</td>\n",
       "      <td>Local playlist more</td>\n",
       "      <td>local-playlist</td>\n",
       "      <td>13</td>\n",
       "      <td>24</td>\n",
       "      <td>female</td>\n",
       "      <td>9</td>\n",
       "      <td>20110525</td>\n",
       "      <td>20170911</td>\n",
       "      <td>1259</td>\n",
       "      <td>284584.0</td>\n",
       "      <td>52.0</td>\n",
       "      <td>Various Artists</td>\n",
       "      <td>NaN</td>\n",
       "      <td>NaN</td>\n",
       "      <td>1</td>\n",
       "    </tr>\n",
       "    <tr>\n",
       "      <th>2</th>\n",
       "      <td>2</td>\n",
       "      <td>Xumu+NIjS6QYVxDS4/t3SawvJ7viT9hPKXmf0RtLNx8=</td>\n",
       "      <td>JNWfrrC7zNN7BdMpsISKa4Mw+xVJYNnxXh3/Epw7QgY=</td>\n",
       "      <td>my library</td>\n",
       "      <td>Local playlist more</td>\n",
       "      <td>local-playlist</td>\n",
       "      <td>13</td>\n",
       "      <td>24</td>\n",
       "      <td>female</td>\n",
       "      <td>9</td>\n",
       "      <td>20110525</td>\n",
       "      <td>20170911</td>\n",
       "      <td>1259</td>\n",
       "      <td>225396.0</td>\n",
       "      <td>52.0</td>\n",
       "      <td>Nas</td>\n",
       "      <td>N. Jones、W. Adams、J. Lordan、D. Ingle</td>\n",
       "      <td>NaN</td>\n",
       "      <td>1</td>\n",
       "    </tr>\n",
       "  </tbody>\n",
       "</table>\n",
       "</div>"
      ],
      "text/plain": [
       "   Unnamed: 0                                   customer_id  \\\n",
       "0           0  FGtllVqz18RPiwJj/edr2gV78zirAiY/9SmYvia+kCg=   \n",
       "1           1  Xumu+NIjS6QYVxDS4/t3SawvJ7viT9hPKXmf0RtLNx8=   \n",
       "2           2  Xumu+NIjS6QYVxDS4/t3SawvJ7viT9hPKXmf0RtLNx8=   \n",
       "\n",
       "                                        song_id source_system_tab  \\\n",
       "0  BBzumQNXUHKdEBOB7mAJuzok+IJA1c2Ryg/yzTF6tik=           explore   \n",
       "1  bhp/MpSNoqoxOIB+/l8WPqu6jldth4DIpCm3ayXnJqM=        my library   \n",
       "2  JNWfrrC7zNN7BdMpsISKa4Mw+xVJYNnxXh3/Epw7QgY=        my library   \n",
       "\n",
       "    source_screen_name      source_type  city  age  gender  registered_via  \\\n",
       "0              Explore  online-playlist     1    0     NaN               7   \n",
       "1  Local playlist more   local-playlist    13   24  female               9   \n",
       "2  Local playlist more   local-playlist    13   24  female               9   \n",
       "\n",
       "   reg_time  exp_date genre_ids  song_length  language      artist_name  \\\n",
       "0  20120102  20171005       359     206471.0      52.0         Bastille   \n",
       "1  20110525  20170911      1259     284584.0      52.0  Various Artists   \n",
       "2  20110525  20170911      1259     225396.0      52.0              Nas   \n",
       "\n",
       "                               composer lyricist  Target  \n",
       "0                  Dan Smith| Mark Crew      NaN       1  \n",
       "1                                   NaN      NaN       1  \n",
       "2  N. Jones、W. Adams、J. Lordan、D. Ingle      NaN       1  "
      ]
     },
     "execution_count": 1,
     "metadata": {},
     "output_type": "execute_result"
    }
   ],
   "source": [
    "import pandas as pd\n",
    "import numpy as np\n",
    "original_tbl=pd.read_csv('''query1.csv''', na_values=[\"?\"])\n",
    "print(original_tbl.shape)\n",
    "original_tbl.head(3)"
   ]
  },
  {
   "cell_type": "markdown",
   "metadata": {},
   "source": [
    "#Data Analysis"
   ]
  },
  {
   "cell_type": "code",
   "execution_count": 49,
   "metadata": {},
   "outputs": [
    {
     "name": "stdout",
     "output_type": "stream",
     "text": [
      "(7377418, 19)\n"
     ]
    },
    {
     "data": {
      "text/html": [
       "<div>\n",
       "<table border=\"1\" class=\"dataframe\">\n",
       "  <thead>\n",
       "    <tr style=\"text-align: right;\">\n",
       "      <th></th>\n",
       "      <th>Unnamed: 0</th>\n",
       "      <th>customer_id</th>\n",
       "      <th>song_id</th>\n",
       "      <th>source_system_tab</th>\n",
       "      <th>source_screen_name</th>\n",
       "      <th>source_type</th>\n",
       "      <th>city</th>\n",
       "      <th>age</th>\n",
       "      <th>gender</th>\n",
       "      <th>registered_via</th>\n",
       "      <th>reg_time</th>\n",
       "      <th>exp_date</th>\n",
       "      <th>genre_ids</th>\n",
       "      <th>song_length</th>\n",
       "      <th>language</th>\n",
       "      <th>artist_name</th>\n",
       "      <th>composer</th>\n",
       "      <th>lyricist</th>\n",
       "      <th>Target</th>\n",
       "    </tr>\n",
       "  </thead>\n",
       "  <tbody>\n",
       "    <tr>\n",
       "      <th>0</th>\n",
       "      <td>0</td>\n",
       "      <td>FGtllVqz18RPiwJj/edr2gV78zirAiY/9SmYvia+kCg=</td>\n",
       "      <td>BBzumQNXUHKdEBOB7mAJuzok+IJA1c2Ryg/yzTF6tik=</td>\n",
       "      <td>explore</td>\n",
       "      <td>Explore</td>\n",
       "      <td>online-playlist</td>\n",
       "      <td>1</td>\n",
       "      <td>0</td>\n",
       "      <td>NaN</td>\n",
       "      <td>7</td>\n",
       "      <td>20120102</td>\n",
       "      <td>20171005</td>\n",
       "      <td>359</td>\n",
       "      <td>206471.0</td>\n",
       "      <td>52.0</td>\n",
       "      <td>Bastille</td>\n",
       "      <td>Dan Smith| Mark Crew</td>\n",
       "      <td>NaN</td>\n",
       "      <td>1</td>\n",
       "    </tr>\n",
       "    <tr>\n",
       "      <th>1</th>\n",
       "      <td>1</td>\n",
       "      <td>Xumu+NIjS6QYVxDS4/t3SawvJ7viT9hPKXmf0RtLNx8=</td>\n",
       "      <td>bhp/MpSNoqoxOIB+/l8WPqu6jldth4DIpCm3ayXnJqM=</td>\n",
       "      <td>my library</td>\n",
       "      <td>Local playlist more</td>\n",
       "      <td>local-playlist</td>\n",
       "      <td>13</td>\n",
       "      <td>24</td>\n",
       "      <td>female</td>\n",
       "      <td>9</td>\n",
       "      <td>20110525</td>\n",
       "      <td>20170911</td>\n",
       "      <td>1259</td>\n",
       "      <td>284584.0</td>\n",
       "      <td>52.0</td>\n",
       "      <td>Various Artists</td>\n",
       "      <td>NaN</td>\n",
       "      <td>NaN</td>\n",
       "      <td>1</td>\n",
       "    </tr>\n",
       "    <tr>\n",
       "      <th>2</th>\n",
       "      <td>2</td>\n",
       "      <td>Xumu+NIjS6QYVxDS4/t3SawvJ7viT9hPKXmf0RtLNx8=</td>\n",
       "      <td>JNWfrrC7zNN7BdMpsISKa4Mw+xVJYNnxXh3/Epw7QgY=</td>\n",
       "      <td>my library</td>\n",
       "      <td>Local playlist more</td>\n",
       "      <td>local-playlist</td>\n",
       "      <td>13</td>\n",
       "      <td>24</td>\n",
       "      <td>female</td>\n",
       "      <td>9</td>\n",
       "      <td>20110525</td>\n",
       "      <td>20170911</td>\n",
       "      <td>1259</td>\n",
       "      <td>225396.0</td>\n",
       "      <td>52.0</td>\n",
       "      <td>Nas</td>\n",
       "      <td>N. Jones、W. Adams、J. Lordan、D. Ingle</td>\n",
       "      <td>NaN</td>\n",
       "      <td>1</td>\n",
       "    </tr>\n",
       "  </tbody>\n",
       "</table>\n",
       "</div>"
      ],
      "text/plain": [
       "   Unnamed: 0                                   customer_id  \\\n",
       "0           0  FGtllVqz18RPiwJj/edr2gV78zirAiY/9SmYvia+kCg=   \n",
       "1           1  Xumu+NIjS6QYVxDS4/t3SawvJ7viT9hPKXmf0RtLNx8=   \n",
       "2           2  Xumu+NIjS6QYVxDS4/t3SawvJ7viT9hPKXmf0RtLNx8=   \n",
       "\n",
       "                                        song_id source_system_tab  \\\n",
       "0  BBzumQNXUHKdEBOB7mAJuzok+IJA1c2Ryg/yzTF6tik=           explore   \n",
       "1  bhp/MpSNoqoxOIB+/l8WPqu6jldth4DIpCm3ayXnJqM=        my library   \n",
       "2  JNWfrrC7zNN7BdMpsISKa4Mw+xVJYNnxXh3/Epw7QgY=        my library   \n",
       "\n",
       "    source_screen_name      source_type  city  age  gender  registered_via  \\\n",
       "0              Explore  online-playlist     1    0     NaN               7   \n",
       "1  Local playlist more   local-playlist    13   24  female               9   \n",
       "2  Local playlist more   local-playlist    13   24  female               9   \n",
       "\n",
       "   reg_time  exp_date genre_ids  song_length  language      artist_name  \\\n",
       "0  20120102  20171005       359     206471.0      52.0         Bastille   \n",
       "1  20110525  20170911      1259     284584.0      52.0  Various Artists   \n",
       "2  20110525  20170911      1259     225396.0      52.0              Nas   \n",
       "\n",
       "                               composer lyricist  Target  \n",
       "0                  Dan Smith| Mark Crew      NaN       1  \n",
       "1                                   NaN      NaN       1  \n",
       "2  N. Jones、W. Adams、J. Lordan、D. Ingle      NaN       1  "
      ]
     },
     "execution_count": 49,
     "metadata": {},
     "output_type": "execute_result"
    }
   ],
   "source": [
    "#Copy the original dataset to aother variable to avoid any changes to the original dataset\n",
    "music_tbl=original_tbl.copy()\n",
    "print(music_tbl.shape)\n",
    "music_tbl.head(3)"
   ]
  },
  {
   "cell_type": "code",
   "execution_count": 50,
   "metadata": {
    "collapsed": true
   },
   "outputs": [],
   "source": [
    "music_tbl.drop('Unnamed: 0',axis=1,inplace=True)"
   ]
  },
  {
   "cell_type": "code",
   "execution_count": 51,
   "metadata": {},
   "outputs": [
    {
     "data": {
      "text/html": [
       "<div>\n",
       "<table border=\"1\" class=\"dataframe\">\n",
       "  <thead>\n",
       "    <tr style=\"text-align: right;\">\n",
       "      <th></th>\n",
       "      <th>customer_id</th>\n",
       "      <th>song_id</th>\n",
       "      <th>source_system_tab</th>\n",
       "      <th>source_screen_name</th>\n",
       "      <th>source_type</th>\n",
       "      <th>city</th>\n",
       "      <th>age</th>\n",
       "      <th>gender</th>\n",
       "      <th>registered_via</th>\n",
       "      <th>reg_time</th>\n",
       "      <th>exp_date</th>\n",
       "      <th>genre_ids</th>\n",
       "      <th>song_length</th>\n",
       "      <th>language</th>\n",
       "      <th>artist_name</th>\n",
       "      <th>composer</th>\n",
       "      <th>lyricist</th>\n",
       "      <th>Target</th>\n",
       "    </tr>\n",
       "  </thead>\n",
       "  <tbody>\n",
       "    <tr>\n",
       "      <th>count</th>\n",
       "      <td>7377418</td>\n",
       "      <td>7377418</td>\n",
       "      <td>7359047</td>\n",
       "      <td>6962614</td>\n",
       "      <td>7355879</td>\n",
       "      <td>7.377418e+06</td>\n",
       "      <td>7.377418e+06</td>\n",
       "      <td>4415939</td>\n",
       "      <td>7.377418e+06</td>\n",
       "      <td>7.377418e+06</td>\n",
       "      <td>7.377418e+06</td>\n",
       "      <td>7259039</td>\n",
       "      <td>7.377380e+06</td>\n",
       "      <td>7.377380e+06</td>\n",
       "      <td>7377380</td>\n",
       "      <td>5701740</td>\n",
       "      <td>4198611</td>\n",
       "      <td>7.377418e+06</td>\n",
       "    </tr>\n",
       "    <tr>\n",
       "      <th>unique</th>\n",
       "      <td>30755</td>\n",
       "      <td>359966</td>\n",
       "      <td>9</td>\n",
       "      <td>20</td>\n",
       "      <td>12</td>\n",
       "      <td>NaN</td>\n",
       "      <td>NaN</td>\n",
       "      <td>2</td>\n",
       "      <td>NaN</td>\n",
       "      <td>NaN</td>\n",
       "      <td>NaN</td>\n",
       "      <td>572</td>\n",
       "      <td>NaN</td>\n",
       "      <td>NaN</td>\n",
       "      <td>40586</td>\n",
       "      <td>76070</td>\n",
       "      <td>33893</td>\n",
       "      <td>NaN</td>\n",
       "    </tr>\n",
       "    <tr>\n",
       "      <th>top</th>\n",
       "      <td>MXIMDXO0j3UpaT7FvOSGW6Y5zfhlh+xYjTqGoUdMzEE=</td>\n",
       "      <td>reXuGcEWDDCnL0K3Th//3DFG4S1ACSpJMzA+CFipo1g=</td>\n",
       "      <td>my library</td>\n",
       "      <td>Local playlist more</td>\n",
       "      <td>local-library</td>\n",
       "      <td>NaN</td>\n",
       "      <td>NaN</td>\n",
       "      <td>male</td>\n",
       "      <td>NaN</td>\n",
       "      <td>NaN</td>\n",
       "      <td>NaN</td>\n",
       "      <td>465</td>\n",
       "      <td>NaN</td>\n",
       "      <td>NaN</td>\n",
       "      <td>Various Artists</td>\n",
       "      <td>周杰倫</td>\n",
       "      <td>阿信</td>\n",
       "      <td>NaN</td>\n",
       "    </tr>\n",
       "    <tr>\n",
       "      <th>freq</th>\n",
       "      <td>5819</td>\n",
       "      <td>13973</td>\n",
       "      <td>3684730</td>\n",
       "      <td>3228202</td>\n",
       "      <td>2261399</td>\n",
       "      <td>NaN</td>\n",
       "      <td>NaN</td>\n",
       "      <td>2297623</td>\n",
       "      <td>NaN</td>\n",
       "      <td>NaN</td>\n",
       "      <td>NaN</td>\n",
       "      <td>3717730</td>\n",
       "      <td>NaN</td>\n",
       "      <td>NaN</td>\n",
       "      <td>303617</td>\n",
       "      <td>201910</td>\n",
       "      <td>151301</td>\n",
       "      <td>NaN</td>\n",
       "    </tr>\n",
       "    <tr>\n",
       "      <th>mean</th>\n",
       "      <td>NaN</td>\n",
       "      <td>NaN</td>\n",
       "      <td>NaN</td>\n",
       "      <td>NaN</td>\n",
       "      <td>NaN</td>\n",
       "      <td>7.511399e+00</td>\n",
       "      <td>1.753927e+01</td>\n",
       "      <td>NaN</td>\n",
       "      <td>6.794068e+00</td>\n",
       "      <td>2.012810e+07</td>\n",
       "      <td>2.017157e+07</td>\n",
       "      <td>NaN</td>\n",
       "      <td>2.451213e+05</td>\n",
       "      <td>1.860954e+01</td>\n",
       "      <td>NaN</td>\n",
       "      <td>NaN</td>\n",
       "      <td>NaN</td>\n",
       "      <td>5.035171e-01</td>\n",
       "    </tr>\n",
       "    <tr>\n",
       "      <th>std</th>\n",
       "      <td>NaN</td>\n",
       "      <td>NaN</td>\n",
       "      <td>NaN</td>\n",
       "      <td>NaN</td>\n",
       "      <td>NaN</td>\n",
       "      <td>6.641625e+00</td>\n",
       "      <td>2.155447e+01</td>\n",
       "      <td>NaN</td>\n",
       "      <td>2.275774e+00</td>\n",
       "      <td>3.017281e+04</td>\n",
       "      <td>3.869831e+03</td>\n",
       "      <td>NaN</td>\n",
       "      <td>6.734489e+04</td>\n",
       "      <td>2.117690e+01</td>\n",
       "      <td>NaN</td>\n",
       "      <td>NaN</td>\n",
       "      <td>NaN</td>\n",
       "      <td>4.999877e-01</td>\n",
       "    </tr>\n",
       "    <tr>\n",
       "      <th>min</th>\n",
       "      <td>NaN</td>\n",
       "      <td>NaN</td>\n",
       "      <td>NaN</td>\n",
       "      <td>NaN</td>\n",
       "      <td>NaN</td>\n",
       "      <td>1.000000e+00</td>\n",
       "      <td>-4.300000e+01</td>\n",
       "      <td>NaN</td>\n",
       "      <td>3.000000e+00</td>\n",
       "      <td>2.004033e+07</td>\n",
       "      <td>1.970010e+07</td>\n",
       "      <td>NaN</td>\n",
       "      <td>1.393000e+03</td>\n",
       "      <td>-1.000000e+00</td>\n",
       "      <td>NaN</td>\n",
       "      <td>NaN</td>\n",
       "      <td>NaN</td>\n",
       "      <td>0.000000e+00</td>\n",
       "    </tr>\n",
       "    <tr>\n",
       "      <th>25%</th>\n",
       "      <td>NaN</td>\n",
       "      <td>NaN</td>\n",
       "      <td>NaN</td>\n",
       "      <td>NaN</td>\n",
       "      <td>NaN</td>\n",
       "      <td>1.000000e+00</td>\n",
       "      <td>0.000000e+00</td>\n",
       "      <td>NaN</td>\n",
       "      <td>4.000000e+00</td>\n",
       "      <td>2.011070e+07</td>\n",
       "      <td>2.017091e+07</td>\n",
       "      <td>NaN</td>\n",
       "      <td>2.147260e+05</td>\n",
       "      <td>3.000000e+00</td>\n",
       "      <td>NaN</td>\n",
       "      <td>NaN</td>\n",
       "      <td>NaN</td>\n",
       "      <td>0.000000e+00</td>\n",
       "    </tr>\n",
       "    <tr>\n",
       "      <th>50%</th>\n",
       "      <td>NaN</td>\n",
       "      <td>NaN</td>\n",
       "      <td>NaN</td>\n",
       "      <td>NaN</td>\n",
       "      <td>NaN</td>\n",
       "      <td>5.000000e+00</td>\n",
       "      <td>2.100000e+01</td>\n",
       "      <td>NaN</td>\n",
       "      <td>7.000000e+00</td>\n",
       "      <td>2.013102e+07</td>\n",
       "      <td>2.017093e+07</td>\n",
       "      <td>NaN</td>\n",
       "      <td>2.418120e+05</td>\n",
       "      <td>3.000000e+00</td>\n",
       "      <td>NaN</td>\n",
       "      <td>NaN</td>\n",
       "      <td>NaN</td>\n",
       "      <td>1.000000e+00</td>\n",
       "    </tr>\n",
       "    <tr>\n",
       "      <th>75%</th>\n",
       "      <td>NaN</td>\n",
       "      <td>NaN</td>\n",
       "      <td>NaN</td>\n",
       "      <td>NaN</td>\n",
       "      <td>NaN</td>\n",
       "      <td>1.300000e+01</td>\n",
       "      <td>2.900000e+01</td>\n",
       "      <td>NaN</td>\n",
       "      <td>9.000000e+00</td>\n",
       "      <td>2.015102e+07</td>\n",
       "      <td>2.017101e+07</td>\n",
       "      <td>NaN</td>\n",
       "      <td>2.721600e+05</td>\n",
       "      <td>5.200000e+01</td>\n",
       "      <td>NaN</td>\n",
       "      <td>NaN</td>\n",
       "      <td>NaN</td>\n",
       "      <td>1.000000e+00</td>\n",
       "    </tr>\n",
       "    <tr>\n",
       "      <th>max</th>\n",
       "      <td>NaN</td>\n",
       "      <td>NaN</td>\n",
       "      <td>NaN</td>\n",
       "      <td>NaN</td>\n",
       "      <td>NaN</td>\n",
       "      <td>2.200000e+01</td>\n",
       "      <td>1.051000e+03</td>\n",
       "      <td>NaN</td>\n",
       "      <td>1.300000e+01</td>\n",
       "      <td>2.017013e+07</td>\n",
       "      <td>2.020102e+07</td>\n",
       "      <td>NaN</td>\n",
       "      <td>1.085171e+07</td>\n",
       "      <td>5.900000e+01</td>\n",
       "      <td>NaN</td>\n",
       "      <td>NaN</td>\n",
       "      <td>NaN</td>\n",
       "      <td>1.000000e+00</td>\n",
       "    </tr>\n",
       "  </tbody>\n",
       "</table>\n",
       "</div>"
      ],
      "text/plain": [
       "                                         customer_id  \\\n",
       "count                                        7377418   \n",
       "unique                                         30755   \n",
       "top     MXIMDXO0j3UpaT7FvOSGW6Y5zfhlh+xYjTqGoUdMzEE=   \n",
       "freq                                            5819   \n",
       "mean                                             NaN   \n",
       "std                                              NaN   \n",
       "min                                              NaN   \n",
       "25%                                              NaN   \n",
       "50%                                              NaN   \n",
       "75%                                              NaN   \n",
       "max                                              NaN   \n",
       "\n",
       "                                             song_id source_system_tab  \\\n",
       "count                                        7377418           7359047   \n",
       "unique                                        359966                 9   \n",
       "top     reXuGcEWDDCnL0K3Th//3DFG4S1ACSpJMzA+CFipo1g=        my library   \n",
       "freq                                           13973           3684730   \n",
       "mean                                             NaN               NaN   \n",
       "std                                              NaN               NaN   \n",
       "min                                              NaN               NaN   \n",
       "25%                                              NaN               NaN   \n",
       "50%                                              NaN               NaN   \n",
       "75%                                              NaN               NaN   \n",
       "max                                              NaN               NaN   \n",
       "\n",
       "         source_screen_name    source_type          city           age  \\\n",
       "count               6962614        7355879  7.377418e+06  7.377418e+06   \n",
       "unique                   20             12           NaN           NaN   \n",
       "top     Local playlist more  local-library           NaN           NaN   \n",
       "freq                3228202        2261399           NaN           NaN   \n",
       "mean                    NaN            NaN  7.511399e+00  1.753927e+01   \n",
       "std                     NaN            NaN  6.641625e+00  2.155447e+01   \n",
       "min                     NaN            NaN  1.000000e+00 -4.300000e+01   \n",
       "25%                     NaN            NaN  1.000000e+00  0.000000e+00   \n",
       "50%                     NaN            NaN  5.000000e+00  2.100000e+01   \n",
       "75%                     NaN            NaN  1.300000e+01  2.900000e+01   \n",
       "max                     NaN            NaN  2.200000e+01  1.051000e+03   \n",
       "\n",
       "         gender  registered_via      reg_time      exp_date genre_ids  \\\n",
       "count   4415939    7.377418e+06  7.377418e+06  7.377418e+06   7259039   \n",
       "unique        2             NaN           NaN           NaN       572   \n",
       "top        male             NaN           NaN           NaN       465   \n",
       "freq    2297623             NaN           NaN           NaN   3717730   \n",
       "mean        NaN    6.794068e+00  2.012810e+07  2.017157e+07       NaN   \n",
       "std         NaN    2.275774e+00  3.017281e+04  3.869831e+03       NaN   \n",
       "min         NaN    3.000000e+00  2.004033e+07  1.970010e+07       NaN   \n",
       "25%         NaN    4.000000e+00  2.011070e+07  2.017091e+07       NaN   \n",
       "50%         NaN    7.000000e+00  2.013102e+07  2.017093e+07       NaN   \n",
       "75%         NaN    9.000000e+00  2.015102e+07  2.017101e+07       NaN   \n",
       "max         NaN    1.300000e+01  2.017013e+07  2.020102e+07       NaN   \n",
       "\n",
       "         song_length      language      artist_name composer lyricist  \\\n",
       "count   7.377380e+06  7.377380e+06          7377380  5701740  4198611   \n",
       "unique           NaN           NaN            40586    76070    33893   \n",
       "top              NaN           NaN  Various Artists      周杰倫       阿信   \n",
       "freq             NaN           NaN           303617   201910   151301   \n",
       "mean    2.451213e+05  1.860954e+01              NaN      NaN      NaN   \n",
       "std     6.734489e+04  2.117690e+01              NaN      NaN      NaN   \n",
       "min     1.393000e+03 -1.000000e+00              NaN      NaN      NaN   \n",
       "25%     2.147260e+05  3.000000e+00              NaN      NaN      NaN   \n",
       "50%     2.418120e+05  3.000000e+00              NaN      NaN      NaN   \n",
       "75%     2.721600e+05  5.200000e+01              NaN      NaN      NaN   \n",
       "max     1.085171e+07  5.900000e+01              NaN      NaN      NaN   \n",
       "\n",
       "              Target  \n",
       "count   7.377418e+06  \n",
       "unique           NaN  \n",
       "top              NaN  \n",
       "freq             NaN  \n",
       "mean    5.035171e-01  \n",
       "std     4.999877e-01  \n",
       "min     0.000000e+00  \n",
       "25%     0.000000e+00  \n",
       "50%     1.000000e+00  \n",
       "75%     1.000000e+00  \n",
       "max     1.000000e+00  "
      ]
     },
     "execution_count": 51,
     "metadata": {},
     "output_type": "execute_result"
    }
   ],
   "source": [
    "music_tbl.describe(include='all')"
   ]
  },
  {
   "cell_type": "code",
   "execution_count": 33,
   "metadata": {},
   "outputs": [
    {
     "data": {
      "image/png": "[encoded data removed]",
      "text/plain": [
       "<matplotlib.figure.Figure at 0x2b2a72748>"
      ]
     },
     "metadata": {},
     "output_type": "display_data"
    }
   ],
   "source": [
    "import matplotlib.pyplot as plt\n",
    "%matplotlib inline\n",
    "fig = plt.figure(figsize=(20, 180))\n",
    "# Create an Axes object.\n",
    "\n",
    "ax1 = fig.add_subplot(8,2,1) # one row, two column, first plot\n",
    "# Plot the data.\n",
    "music_tbl['source_system_tab'].value_counts().plot(kind='bar')\n",
    "ax1.set_title(\"source_system_tab Distribution Plot\", size=20)\n",
    "ax1.set_xlabel(\"source_system_tab\", size=15)\n",
    "ax1.set_ylabel(\"Count\", size=15)\n",
    "ax1.tick_params(axis='x', labelsize=14)\n",
    "ax1.tick_params(axis='y', labelsize=14)\n",
    "\n",
    "ax2 = fig.add_subplot(8,2,2)\n",
    "music_tbl['source_screen_name'].value_counts().plot(kind='bar')\n",
    "ax2.set_title(\"source_screen_name Distribution Plot\", size=20)\n",
    "ax2.set_xlabel(\"source_screen_name\", size=15)\n",
    "ax2.set_ylabel(\"Count\", size=15)\n",
    "ax2.tick_params(axis='x', labelsize=14)\n",
    "ax2.tick_params(axis='y', labelsize=14)\n",
    "\n",
    "ax3 = fig.add_subplot(8,2,3)\n",
    "music_tbl['source_type'].value_counts().plot(kind='bar')\n",
    "ax3.set_title(\"source_type Distribution Plot\", size=20)\n",
    "ax3.set_xlabel(\"source_type\", size=15)\n",
    "ax3.set_ylabel(\"Count\", size=15)\n",
    "ax3.tick_params(axis='x', labelsize=14)\n",
    "ax3.tick_params(axis='y', labelsize=14)\n",
    "\n",
    "\n",
    "ax4 = fig.add_subplot(8,2,4)\n",
    "music_tbl['city'].value_counts().plot(kind='bar')\n",
    "ax4.set_title(\"city Distribution Plot\", size=20)\n",
    "ax4.set_xlabel(\"city\", size=15)\n",
    "ax4.set_ylabel(\"Count\", size=15)\n",
    "ax4.tick_params(axis='x', labelsize=14)\n",
    "ax4.tick_params(axis='y', labelsize=14)\n",
    "\n",
    "ax5 = fig.add_subplot(8,2,5)\n",
    "music_tbl['gender'].value_counts().plot(kind='bar')\n",
    "ax5.set_title(\"gender Distribution Plot\", size=20)\n",
    "ax5.set_xlabel(\"gender\", size=15)\n",
    "ax5.set_ylabel(\"Count\", size=15)\n",
    "ax5.tick_params(axis='x', labelsize=14)\n",
    "ax5.tick_params(axis='y', labelsize=14)\n",
    "\n",
    "ax6 = fig.add_subplot(8,2,6)\n",
    "music_tbl['registered_via'].value_counts().plot(kind='bar')\n",
    "ax6.set_title(\"registered_via Distribution Plot\", size=20)\n",
    "ax6.set_xlabel(\"registered_via\", size=15)\n",
    "ax6.set_ylabel(\"Count\", size=15)\n",
    "ax6.tick_params(axis='x', labelsize=14)\n",
    "ax6.tick_params(axis='y', labelsize=14)\n",
    "\n",
    "\n",
    "\n",
    "ax8 = fig.add_subplot(8,2,8)\n",
    "music_tbl['language'].value_counts().plot(kind='bar')\n",
    "ax8.set_title(\"language Distribution Plot\", size=20)\n",
    "ax8.set_xlabel(\"language\", size=15)\n",
    "ax8.set_ylabel(\"Count\", size=15)\n",
    "ax8.tick_params(axis='x', labelsize=14)\n",
    "ax8.tick_params(axis='y', labelsize=14)"
   ]
  },
  {
   "cell_type": "code",
   "execution_count": 135,
   "metadata": {},
   "outputs": [],
   "source": [
    "i_lst=[]\n",
    "cnt_lst=[]\n",
    "val_lst=[]\n",
    "for i ,(val, cnt) in enumerate(music_tbl['genre_ids'].value_counts().iteritems()):\n",
    "    i_lst.append(i)\n",
    "    cnt_lst.append(cnt)\n",
    "    val_lst.append(val)\n",
    "i_lst=np.array(i_lst)\n",
    "cnt_lst=np.array(cnt_lst)\n",
    "val_lst=np.array(val_lst)\n",
    "\n",
    "idx=np.argsort(cnt_lst)[::-1]\n",
    "type(val_lst)\n",
    "type(cnt_lst)\n",
    "aa=pd.DataFrame({'count':cnt_lst[idx].tolist(),'genre_ids':val_lst[idx].tolist()})"
   ]
  },
  {
   "cell_type": "code",
   "execution_count": 136,
   "metadata": {},
   "outputs": [
    {
     "data": {
      "image/png": "[encoded data removed]",
      "text/plain": [
       "<matplotlib.figure.Figure at 0x37e918198>"
      ]
     },
     "metadata": {},
     "output_type": "display_data"
    }
   ],
   "source": [
    "aa[aa['count']>5000].set_index('genre_ids').plot.bar(figsize=(15,10)\n",
    "                                                     ,title='Genre_ids Count'\n",
    "                                                     , figsize=(15,10)\n",
    "                                                     , fontsize=1)\n",
    "plt.show()"
   ]
  },
  {
   "cell_type": "code",
   "execution_count": 138,
   "metadata": {},
   "outputs": [
    {
     "data": {
      "text/html": [
       "<div>\n",
       "<table border=\"1\" class=\"dataframe\">\n",
       "  <thead>\n",
       "    <tr style=\"text-align: right;\">\n",
       "      <th></th>\n",
       "      <th></th>\n",
       "      <th>age</th>\n",
       "      <th>city</th>\n",
       "      <th>exp_date</th>\n",
       "      <th>language</th>\n",
       "      <th>reg_time</th>\n",
       "      <th>registered_via</th>\n",
       "      <th>song_length</th>\n",
       "    </tr>\n",
       "    <tr>\n",
       "      <th>Target</th>\n",
       "      <th></th>\n",
       "      <th></th>\n",
       "      <th></th>\n",
       "      <th></th>\n",
       "      <th></th>\n",
       "      <th></th>\n",
       "      <th></th>\n",
       "      <th></th>\n",
       "    </tr>\n",
       "  </thead>\n",
       "  <tbody>\n",
       "    <tr>\n",
       "      <th rowspan=\"8\" valign=\"top\">0</th>\n",
       "      <th>count</th>\n",
       "      <td>3.662762e+06</td>\n",
       "      <td>3.662762e+06</td>\n",
       "      <td>3.662762e+06</td>\n",
       "      <td>3.662744e+06</td>\n",
       "      <td>3.662762e+06</td>\n",
       "      <td>3.662762e+06</td>\n",
       "      <td>3.662744e+06</td>\n",
       "    </tr>\n",
       "    <tr>\n",
       "      <th>mean</th>\n",
       "      <td>1.755013e+01</td>\n",
       "      <td>7.430372e+00</td>\n",
       "      <td>2.017139e+07</td>\n",
       "      <td>1.919697e+01</td>\n",
       "      <td>2.012817e+07</td>\n",
       "      <td>6.771395e+00</td>\n",
       "      <td>2.452441e+05</td>\n",
       "    </tr>\n",
       "    <tr>\n",
       "      <th>std</th>\n",
       "      <td>2.276344e+01</td>\n",
       "      <td>6.673605e+00</td>\n",
       "      <td>4.159684e+03</td>\n",
       "      <td>2.137405e+01</td>\n",
       "      <td>3.036962e+04</td>\n",
       "      <td>2.276317e+00</td>\n",
       "      <td>7.273728e+04</td>\n",
       "    </tr>\n",
       "    <tr>\n",
       "      <th>min</th>\n",
       "      <td>-4.300000e+01</td>\n",
       "      <td>1.000000e+00</td>\n",
       "      <td>1.970010e+07</td>\n",
       "      <td>-1.000000e+00</td>\n",
       "      <td>2.004033e+07</td>\n",
       "      <td>3.000000e+00</td>\n",
       "      <td>1.950000e+03</td>\n",
       "    </tr>\n",
       "    <tr>\n",
       "      <th>25%</th>\n",
       "      <td>0.000000e+00</td>\n",
       "      <td>1.000000e+00</td>\n",
       "      <td>2.017091e+07</td>\n",
       "      <td>3.000000e+00</td>\n",
       "      <td>2.011070e+07</td>\n",
       "      <td>4.000000e+00</td>\n",
       "      <td>2.135770e+05</td>\n",
       "    </tr>\n",
       "    <tr>\n",
       "      <th>50%</th>\n",
       "      <td>2.100000e+01</td>\n",
       "      <td>5.000000e+00</td>\n",
       "      <td>2.017092e+07</td>\n",
       "      <td>3.000000e+00</td>\n",
       "      <td>2.013102e+07</td>\n",
       "      <td>7.000000e+00</td>\n",
       "      <td>2.415800e+05</td>\n",
       "    </tr>\n",
       "    <tr>\n",
       "      <th>75%</th>\n",
       "      <td>2.900000e+01</td>\n",
       "      <td>1.300000e+01</td>\n",
       "      <td>2.017101e+07</td>\n",
       "      <td>5.200000e+01</td>\n",
       "      <td>2.015110e+07</td>\n",
       "      <td>9.000000e+00</td>\n",
       "      <td>2.723700e+05</td>\n",
       "    </tr>\n",
       "    <tr>\n",
       "      <th>max</th>\n",
       "      <td>1.051000e+03</td>\n",
       "      <td>2.200000e+01</td>\n",
       "      <td>2.020102e+07</td>\n",
       "      <td>5.900000e+01</td>\n",
       "      <td>2.017013e+07</td>\n",
       "      <td>1.300000e+01</td>\n",
       "      <td>7.621067e+06</td>\n",
       "    </tr>\n",
       "    <tr>\n",
       "      <th rowspan=\"8\" valign=\"top\">1</th>\n",
       "      <th>count</th>\n",
       "      <td>3.714656e+06</td>\n",
       "      <td>3.714656e+06</td>\n",
       "      <td>3.714656e+06</td>\n",
       "      <td>3.714636e+06</td>\n",
       "      <td>3.714656e+06</td>\n",
       "      <td>3.714656e+06</td>\n",
       "      <td>3.714636e+06</td>\n",
       "    </tr>\n",
       "    <tr>\n",
       "      <th>mean</th>\n",
       "      <td>1.752856e+01</td>\n",
       "      <td>7.591295e+00</td>\n",
       "      <td>2.017174e+07</td>\n",
       "      <td>1.803031e+01</td>\n",
       "      <td>2.012804e+07</td>\n",
       "      <td>6.816424e+00</td>\n",
       "      <td>2.450003e+05</td>\n",
       "    </tr>\n",
       "    <tr>\n",
       "      <th>std</th>\n",
       "      <td>2.029198e+01</td>\n",
       "      <td>6.608967e+00</td>\n",
       "      <td>3.552815e+03</td>\n",
       "      <td>2.096459e+01</td>\n",
       "      <td>2.997736e+04</td>\n",
       "      <td>2.275018e+00</td>\n",
       "      <td>6.156687e+04</td>\n",
       "    </tr>\n",
       "    <tr>\n",
       "      <th>min</th>\n",
       "      <td>-4.300000e+01</td>\n",
       "      <td>1.000000e+00</td>\n",
       "      <td>2.004102e+07</td>\n",
       "      <td>-1.000000e+00</td>\n",
       "      <td>2.004033e+07</td>\n",
       "      <td>3.000000e+00</td>\n",
       "      <td>1.393000e+03</td>\n",
       "    </tr>\n",
       "    <tr>\n",
       "      <th>25%</th>\n",
       "      <td>0.000000e+00</td>\n",
       "      <td>1.000000e+00</td>\n",
       "      <td>2.017091e+07</td>\n",
       "      <td>3.000000e+00</td>\n",
       "      <td>2.011071e+07</td>\n",
       "      <td>4.000000e+00</td>\n",
       "      <td>2.154570e+05</td>\n",
       "    </tr>\n",
       "    <tr>\n",
       "      <th>50%</th>\n",
       "      <td>2.100000e+01</td>\n",
       "      <td>5.000000e+00</td>\n",
       "      <td>2.017093e+07</td>\n",
       "      <td>3.000000e+00</td>\n",
       "      <td>2.013102e+07</td>\n",
       "      <td>7.000000e+00</td>\n",
       "      <td>2.420810e+05</td>\n",
       "    </tr>\n",
       "    <tr>\n",
       "      <th>75%</th>\n",
       "      <td>2.800000e+01</td>\n",
       "      <td>1.300000e+01</td>\n",
       "      <td>2.017101e+07</td>\n",
       "      <td>3.100000e+01</td>\n",
       "      <td>2.015101e+07</td>\n",
       "      <td>9.000000e+00</td>\n",
       "      <td>2.717770e+05</td>\n",
       "    </tr>\n",
       "    <tr>\n",
       "      <th>max</th>\n",
       "      <td>1.030000e+03</td>\n",
       "      <td>2.200000e+01</td>\n",
       "      <td>2.020102e+07</td>\n",
       "      <td>5.900000e+01</td>\n",
       "      <td>2.017013e+07</td>\n",
       "      <td>1.300000e+01</td>\n",
       "      <td>1.085171e+07</td>\n",
       "    </tr>\n",
       "  </tbody>\n",
       "</table>\n",
       "</div>"
      ],
      "text/plain": [
       "                       age          city      exp_date      language  \\\n",
       "Target                                                                 \n",
       "0      count  3.662762e+06  3.662762e+06  3.662762e+06  3.662744e+06   \n",
       "       mean   1.755013e+01  7.430372e+00  2.017139e+07  1.919697e+01   \n",
       "       std    2.276344e+01  6.673605e+00  4.159684e+03  2.137405e+01   \n",
       "       min   -4.300000e+01  1.000000e+00  1.970010e+07 -1.000000e+00   \n",
       "       25%    0.000000e+00  1.000000e+00  2.017091e+07  3.000000e+00   \n",
       "       50%    2.100000e+01  5.000000e+00  2.017092e+07  3.000000e+00   \n",
       "       75%    2.900000e+01  1.300000e+01  2.017101e+07  5.200000e+01   \n",
       "       max    1.051000e+03  2.200000e+01  2.020102e+07  5.900000e+01   \n",
       "1      count  3.714656e+06  3.714656e+06  3.714656e+06  3.714636e+06   \n",
       "       mean   1.752856e+01  7.591295e+00  2.017174e+07  1.803031e+01   \n",
       "       std    2.029198e+01  6.608967e+00  3.552815e+03  2.096459e+01   \n",
       "       min   -4.300000e+01  1.000000e+00  2.004102e+07 -1.000000e+00   \n",
       "       25%    0.000000e+00  1.000000e+00  2.017091e+07  3.000000e+00   \n",
       "       50%    2.100000e+01  5.000000e+00  2.017093e+07  3.000000e+00   \n",
       "       75%    2.800000e+01  1.300000e+01  2.017101e+07  3.100000e+01   \n",
       "       max    1.030000e+03  2.200000e+01  2.020102e+07  5.900000e+01   \n",
       "\n",
       "                  reg_time  registered_via   song_length  \n",
       "Target                                                    \n",
       "0      count  3.662762e+06    3.662762e+06  3.662744e+06  \n",
       "       mean   2.012817e+07    6.771395e+00  2.452441e+05  \n",
       "       std    3.036962e+04    2.276317e+00  7.273728e+04  \n",
       "       min    2.004033e+07    3.000000e+00  1.950000e+03  \n",
       "       25%    2.011070e+07    4.000000e+00  2.135770e+05  \n",
       "       50%    2.013102e+07    7.000000e+00  2.415800e+05  \n",
       "       75%    2.015110e+07    9.000000e+00  2.723700e+05  \n",
       "       max    2.017013e+07    1.300000e+01  7.621067e+06  \n",
       "1      count  3.714656e+06    3.714656e+06  3.714636e+06  \n",
       "       mean   2.012804e+07    6.816424e+00  2.450003e+05  \n",
       "       std    2.997736e+04    2.275018e+00  6.156687e+04  \n",
       "       min    2.004033e+07    3.000000e+00  1.393000e+03  \n",
       "       25%    2.011071e+07    4.000000e+00  2.154570e+05  \n",
       "       50%    2.013102e+07    7.000000e+00  2.420810e+05  \n",
       "       75%    2.015101e+07    9.000000e+00  2.717770e+05  \n",
       "       max    2.017013e+07    1.300000e+01  1.085171e+07  "
      ]
     },
     "execution_count": 138,
     "metadata": {},
     "output_type": "execute_result"
    }
   ],
   "source": [
    "np.set_printoptions(precision=2, linewidth=120, suppress=True)\n",
    "\n",
    "music_tbl.groupby('Target').describe()"
   ]
  },
  {
   "cell_type": "markdown",
   "metadata": {},
   "source": [
    "#Classification Analysis"
   ]
  },
  {
   "cell_type": "code",
   "execution_count": 2,
   "metadata": {},
   "outputs": [
    {
     "name": "stdout",
     "output_type": "stream",
     "text": [
      "(7377418, 19)\n"
     ]
    },
    {
     "data": {
      "text/html": [
       "<div>\n",
       "<table border=\"1\" class=\"dataframe\">\n",
       "  <thead>\n",
       "    <tr style=\"text-align: right;\">\n",
       "      <th></th>\n",
       "      <th>Unnamed: 0</th>\n",
       "      <th>customer_id</th>\n",
       "      <th>song_id</th>\n",
       "      <th>source_system_tab</th>\n",
       "      <th>source_screen_name</th>\n",
       "      <th>source_type</th>\n",
       "      <th>city</th>\n",
       "      <th>age</th>\n",
       "      <th>gender</th>\n",
       "      <th>registered_via</th>\n",
       "      <th>reg_time</th>\n",
       "      <th>exp_date</th>\n",
       "      <th>genre_ids</th>\n",
       "      <th>song_length</th>\n",
       "      <th>language</th>\n",
       "      <th>artist_name</th>\n",
       "      <th>composer</th>\n",
       "      <th>lyricist</th>\n",
       "      <th>Target</th>\n",
       "    </tr>\n",
       "  </thead>\n",
       "  <tbody>\n",
       "    <tr>\n",
       "      <th>0</th>\n",
       "      <td>0</td>\n",
       "      <td>FGtllVqz18RPiwJj/edr2gV78zirAiY/9SmYvia+kCg=</td>\n",
       "      <td>BBzumQNXUHKdEBOB7mAJuzok+IJA1c2Ryg/yzTF6tik=</td>\n",
       "      <td>explore</td>\n",
       "      <td>Explore</td>\n",
       "      <td>online-playlist</td>\n",
       "      <td>1</td>\n",
       "      <td>0</td>\n",
       "      <td>NaN</td>\n",
       "      <td>7</td>\n",
       "      <td>20120102</td>\n",
       "      <td>20171005</td>\n",
       "      <td>359</td>\n",
       "      <td>206471.0</td>\n",
       "      <td>52.0</td>\n",
       "      <td>Bastille</td>\n",
       "      <td>Dan Smith| Mark Crew</td>\n",
       "      <td>NaN</td>\n",
       "      <td>1</td>\n",
       "    </tr>\n",
       "    <tr>\n",
       "      <th>1</th>\n",
       "      <td>1</td>\n",
       "      <td>Xumu+NIjS6QYVxDS4/t3SawvJ7viT9hPKXmf0RtLNx8=</td>\n",
       "      <td>bhp/MpSNoqoxOIB+/l8WPqu6jldth4DIpCm3ayXnJqM=</td>\n",
       "      <td>my library</td>\n",
       "      <td>Local playlist more</td>\n",
       "      <td>local-playlist</td>\n",
       "      <td>13</td>\n",
       "      <td>24</td>\n",
       "      <td>female</td>\n",
       "      <td>9</td>\n",
       "      <td>20110525</td>\n",
       "      <td>20170911</td>\n",
       "      <td>1259</td>\n",
       "      <td>284584.0</td>\n",
       "      <td>52.0</td>\n",
       "      <td>Various Artists</td>\n",
       "      <td>NaN</td>\n",
       "      <td>NaN</td>\n",
       "      <td>1</td>\n",
       "    </tr>\n",
       "    <tr>\n",
       "      <th>2</th>\n",
       "      <td>2</td>\n",
       "      <td>Xumu+NIjS6QYVxDS4/t3SawvJ7viT9hPKXmf0RtLNx8=</td>\n",
       "      <td>JNWfrrC7zNN7BdMpsISKa4Mw+xVJYNnxXh3/Epw7QgY=</td>\n",
       "      <td>my library</td>\n",
       "      <td>Local playlist more</td>\n",
       "      <td>local-playlist</td>\n",
       "      <td>13</td>\n",
       "      <td>24</td>\n",
       "      <td>female</td>\n",
       "      <td>9</td>\n",
       "      <td>20110525</td>\n",
       "      <td>20170911</td>\n",
       "      <td>1259</td>\n",
       "      <td>225396.0</td>\n",
       "      <td>52.0</td>\n",
       "      <td>Nas</td>\n",
       "      <td>N. Jones、W. Adams、J. Lordan、D. Ingle</td>\n",
       "      <td>NaN</td>\n",
       "      <td>1</td>\n",
       "    </tr>\n",
       "  </tbody>\n",
       "</table>\n",
       "</div>"
      ],
      "text/plain": [
       "   Unnamed: 0                                   customer_id  \\\n",
       "0           0  FGtllVqz18RPiwJj/edr2gV78zirAiY/9SmYvia+kCg=   \n",
       "1           1  Xumu+NIjS6QYVxDS4/t3SawvJ7viT9hPKXmf0RtLNx8=   \n",
       "2           2  Xumu+NIjS6QYVxDS4/t3SawvJ7viT9hPKXmf0RtLNx8=   \n",
       "\n",
       "                                        song_id source_system_tab  \\\n",
       "0  BBzumQNXUHKdEBOB7mAJuzok+IJA1c2Ryg/yzTF6tik=           explore   \n",
       "1  bhp/MpSNoqoxOIB+/l8WPqu6jldth4DIpCm3ayXnJqM=        my library   \n",
       "2  JNWfrrC7zNN7BdMpsISKa4Mw+xVJYNnxXh3/Epw7QgY=        my library   \n",
       "\n",
       "    source_screen_name      source_type  city  age  gender  registered_via  \\\n",
       "0              Explore  online-playlist     1    0     NaN               7   \n",
       "1  Local playlist more   local-playlist    13   24  female               9   \n",
       "2  Local playlist more   local-playlist    13   24  female               9   \n",
       "\n",
       "   reg_time  exp_date genre_ids  song_length  language      artist_name  \\\n",
       "0  20120102  20171005       359     206471.0      52.0         Bastille   \n",
       "1  20110525  20170911      1259     284584.0      52.0  Various Artists   \n",
       "2  20110525  20170911      1259     225396.0      52.0              Nas   \n",
       "\n",
       "                               composer lyricist  Target  \n",
       "0                  Dan Smith| Mark Crew      NaN       1  \n",
       "1                                   NaN      NaN       1  \n",
       "2  N. Jones、W. Adams、J. Lordan、D. Ingle      NaN       1  "
      ]
     },
     "execution_count": 2,
     "metadata": {},
     "output_type": "execute_result"
    }
   ],
   "source": [
    "#Copy the original dataset to aother variable to avoid any changes to the original dataset\n",
    "tbl=original_tbl.copy()\n",
    "print(tbl.shape)\n",
    "tbl.head(3)"
   ]
  },
  {
   "cell_type": "code",
   "execution_count": 3,
   "metadata": {
    "collapsed": true
   },
   "outputs": [],
   "source": [
    "#Drop all the null values\n",
    "tbl.drop(tbl[tbl['genre_ids'].isnull()].index,axis=0,inplace=True)\n",
    "tbl.drop(tbl[tbl['gender'].isnull()].index,axis=0,inplace=True)\n",
    "tbl.drop(tbl[tbl['age']==0].index,axis=0,inplace=True)\n",
    "tbl.drop(tbl[tbl['age']>144].index,axis=0,inplace=True)\n",
    "#Categorized the 'Age' attributes values to 4 category\n",
    "tbl['age']=pd.qcut(tbl.age,[0, .25, .5, .75, 1.],['child','young','mid-age','old']) \n",
    "#Categorized the \"Song_Length\" attributes values to 4 category\n",
    "tbl['song_length']=pd.qcut(tbl.song_length,[0, .25, .5, .75, 1.],['short','med_short','mid_long','long'])"
   ]
  },
  {
   "cell_type": "code",
   "execution_count": 4,
   "metadata": {},
   "outputs": [
    {
     "name": "stdout",
     "output_type": "stream",
     "text": [
      "(4218192,)\n"
     ]
    },
    {
     "data": {
      "text/plain": [
       "1    1\n",
       "2    1\n",
       "3    1\n",
       "Name: Target, dtype: int64"
      ]
     },
     "execution_count": 4,
     "metadata": {},
     "output_type": "execute_result"
    }
   ],
   "source": [
    "tbl_target=tbl['Target']\n",
    "print(tbl_target.shape)\n",
    "tbl_target.head(3)"
   ]
  },
  {
   "cell_type": "code",
   "execution_count": 5,
   "metadata": {
    "collapsed": true
   },
   "outputs": [],
   "source": [
    "#drop some of the attributes for now. \n",
    "tbl.drop('Unnamed: 0',axis=1,inplace=True)\n",
    "tbl.drop('customer_id',axis=1,inplace=True)\n",
    "tbl.drop('song_id',axis=1,inplace=True)\n",
    "tbl.drop('reg_time',axis=1,inplace=True)\n",
    "tbl.drop('exp_date',axis=1,inplace=True)\n",
    "tbl.drop('genre_ids',axis=1,inplace=True)\n",
    "tbl.drop('artist_name',axis=1,inplace=True)\n",
    "tbl.drop('composer',axis=1,inplace=True)\n",
    "tbl.drop('lyricist',axis=1,inplace=True)\n",
    "tbl.drop('Target',axis=1,inplace=True)"
   ]
  },
  {
   "cell_type": "code",
   "execution_count": 6,
   "metadata": {},
   "outputs": [
    {
     "name": "stdout",
     "output_type": "stream",
     "text": [
      "(4218192, 9)\n"
     ]
    },
    {
     "data": {
      "text/html": [
       "<div>\n",
       "<table border=\"1\" class=\"dataframe\">\n",
       "  <thead>\n",
       "    <tr style=\"text-align: right;\">\n",
       "      <th></th>\n",
       "      <th>source_system_tab</th>\n",
       "      <th>source_screen_name</th>\n",
       "      <th>source_type</th>\n",
       "      <th>city</th>\n",
       "      <th>age</th>\n",
       "      <th>gender</th>\n",
       "      <th>registered_via</th>\n",
       "      <th>song_length</th>\n",
       "      <th>language</th>\n",
       "    </tr>\n",
       "  </thead>\n",
       "  <tbody>\n",
       "    <tr>\n",
       "      <th>1</th>\n",
       "      <td>my library</td>\n",
       "      <td>Local playlist more</td>\n",
       "      <td>local-playlist</td>\n",
       "      <td>13</td>\n",
       "      <td>young</td>\n",
       "      <td>female</td>\n",
       "      <td>9</td>\n",
       "      <td>long</td>\n",
       "      <td>52.0</td>\n",
       "    </tr>\n",
       "    <tr>\n",
       "      <th>2</th>\n",
       "      <td>my library</td>\n",
       "      <td>Local playlist more</td>\n",
       "      <td>local-playlist</td>\n",
       "      <td>13</td>\n",
       "      <td>young</td>\n",
       "      <td>female</td>\n",
       "      <td>9</td>\n",
       "      <td>med_short</td>\n",
       "      <td>52.0</td>\n",
       "    </tr>\n",
       "    <tr>\n",
       "      <th>3</th>\n",
       "      <td>my library</td>\n",
       "      <td>Local playlist more</td>\n",
       "      <td>local-playlist</td>\n",
       "      <td>13</td>\n",
       "      <td>young</td>\n",
       "      <td>female</td>\n",
       "      <td>9</td>\n",
       "      <td>mid_long</td>\n",
       "      <td>-1.0</td>\n",
       "    </tr>\n",
       "  </tbody>\n",
       "</table>\n",
       "</div>"
      ],
      "text/plain": [
       "  source_system_tab   source_screen_name     source_type  city    age  gender  \\\n",
       "1        my library  Local playlist more  local-playlist    13  young  female   \n",
       "2        my library  Local playlist more  local-playlist    13  young  female   \n",
       "3        my library  Local playlist more  local-playlist    13  young  female   \n",
       "\n",
       "   registered_via song_length  language  \n",
       "1               9        long      52.0  \n",
       "2               9   med_short      52.0  \n",
       "3               9    mid_long      -1.0  "
      ]
     },
     "execution_count": 6,
     "metadata": {},
     "output_type": "execute_result"
    }
   ],
   "source": [
    "print(tbl.shape)\n",
    "tbl.head(3)"
   ]
  },
  {
   "cell_type": "code",
   "execution_count": 7,
   "metadata": {
    "collapsed": true
   },
   "outputs": [],
   "source": [
    "#Turn 2 attributes into string before assigning dummy valuables\n",
    "tbl.registered_via=list(map(str, tbl.registered_via))\n",
    "tbl.language=list(map(str, tbl.language))"
   ]
  },
  {
   "cell_type": "code",
   "execution_count": 8,
   "metadata": {},
   "outputs": [
    {
     "name": "stdout",
     "output_type": "stream",
     "text": [
      "(4218192, 67)\n"
     ]
    },
    {
     "data": {
      "text/html": [
       "<div>\n",
       "<table border=\"1\" class=\"dataframe\">\n",
       "  <thead>\n",
       "    <tr style=\"text-align: right;\">\n",
       "      <th></th>\n",
       "      <th>city</th>\n",
       "      <th>source_system_tab_discover</th>\n",
       "      <th>source_system_tab_explore</th>\n",
       "      <th>source_system_tab_listen with</th>\n",
       "      <th>source_system_tab_my library</th>\n",
       "      <th>source_system_tab_notification</th>\n",
       "      <th>source_system_tab_null</th>\n",
       "      <th>source_system_tab_radio</th>\n",
       "      <th>source_system_tab_search</th>\n",
       "      <th>source_system_tab_settings</th>\n",
       "      <th>...</th>\n",
       "      <th>language_-1.0</th>\n",
       "      <th>language_10.0</th>\n",
       "      <th>language_17.0</th>\n",
       "      <th>language_24.0</th>\n",
       "      <th>language_3.0</th>\n",
       "      <th>language_31.0</th>\n",
       "      <th>language_38.0</th>\n",
       "      <th>language_45.0</th>\n",
       "      <th>language_52.0</th>\n",
       "      <th>language_59.0</th>\n",
       "    </tr>\n",
       "  </thead>\n",
       "  <tbody>\n",
       "    <tr>\n",
       "      <th>1</th>\n",
       "      <td>13</td>\n",
       "      <td>0</td>\n",
       "      <td>0</td>\n",
       "      <td>0</td>\n",
       "      <td>1</td>\n",
       "      <td>0</td>\n",
       "      <td>0</td>\n",
       "      <td>0</td>\n",
       "      <td>0</td>\n",
       "      <td>0</td>\n",
       "      <td>...</td>\n",
       "      <td>0</td>\n",
       "      <td>0</td>\n",
       "      <td>0</td>\n",
       "      <td>0</td>\n",
       "      <td>0</td>\n",
       "      <td>0</td>\n",
       "      <td>0</td>\n",
       "      <td>0</td>\n",
       "      <td>1</td>\n",
       "      <td>0</td>\n",
       "    </tr>\n",
       "    <tr>\n",
       "      <th>2</th>\n",
       "      <td>13</td>\n",
       "      <td>0</td>\n",
       "      <td>0</td>\n",
       "      <td>0</td>\n",
       "      <td>1</td>\n",
       "      <td>0</td>\n",
       "      <td>0</td>\n",
       "      <td>0</td>\n",
       "      <td>0</td>\n",
       "      <td>0</td>\n",
       "      <td>...</td>\n",
       "      <td>0</td>\n",
       "      <td>0</td>\n",
       "      <td>0</td>\n",
       "      <td>0</td>\n",
       "      <td>0</td>\n",
       "      <td>0</td>\n",
       "      <td>0</td>\n",
       "      <td>0</td>\n",
       "      <td>1</td>\n",
       "      <td>0</td>\n",
       "    </tr>\n",
       "    <tr>\n",
       "      <th>3</th>\n",
       "      <td>13</td>\n",
       "      <td>0</td>\n",
       "      <td>0</td>\n",
       "      <td>0</td>\n",
       "      <td>1</td>\n",
       "      <td>0</td>\n",
       "      <td>0</td>\n",
       "      <td>0</td>\n",
       "      <td>0</td>\n",
       "      <td>0</td>\n",
       "      <td>...</td>\n",
       "      <td>1</td>\n",
       "      <td>0</td>\n",
       "      <td>0</td>\n",
       "      <td>0</td>\n",
       "      <td>0</td>\n",
       "      <td>0</td>\n",
       "      <td>0</td>\n",
       "      <td>0</td>\n",
       "      <td>0</td>\n",
       "      <td>0</td>\n",
       "    </tr>\n",
       "    <tr>\n",
       "      <th>6</th>\n",
       "      <td>13</td>\n",
       "      <td>0</td>\n",
       "      <td>0</td>\n",
       "      <td>0</td>\n",
       "      <td>1</td>\n",
       "      <td>0</td>\n",
       "      <td>0</td>\n",
       "      <td>0</td>\n",
       "      <td>0</td>\n",
       "      <td>0</td>\n",
       "      <td>...</td>\n",
       "      <td>0</td>\n",
       "      <td>0</td>\n",
       "      <td>0</td>\n",
       "      <td>0</td>\n",
       "      <td>0</td>\n",
       "      <td>1</td>\n",
       "      <td>0</td>\n",
       "      <td>0</td>\n",
       "      <td>0</td>\n",
       "      <td>0</td>\n",
       "    </tr>\n",
       "    <tr>\n",
       "      <th>8</th>\n",
       "      <td>15</td>\n",
       "      <td>0</td>\n",
       "      <td>0</td>\n",
       "      <td>0</td>\n",
       "      <td>1</td>\n",
       "      <td>0</td>\n",
       "      <td>0</td>\n",
       "      <td>0</td>\n",
       "      <td>0</td>\n",
       "      <td>0</td>\n",
       "      <td>...</td>\n",
       "      <td>0</td>\n",
       "      <td>0</td>\n",
       "      <td>0</td>\n",
       "      <td>0</td>\n",
       "      <td>0</td>\n",
       "      <td>0</td>\n",
       "      <td>0</td>\n",
       "      <td>0</td>\n",
       "      <td>1</td>\n",
       "      <td>0</td>\n",
       "    </tr>\n",
       "  </tbody>\n",
       "</table>\n",
       "<p>5 rows × 67 columns</p>\n",
       "</div>"
      ],
      "text/plain": [
       "   city  source_system_tab_discover  source_system_tab_explore  \\\n",
       "1    13                           0                          0   \n",
       "2    13                           0                          0   \n",
       "3    13                           0                          0   \n",
       "6    13                           0                          0   \n",
       "8    15                           0                          0   \n",
       "\n",
       "   source_system_tab_listen with  source_system_tab_my library  \\\n",
       "1                              0                             1   \n",
       "2                              0                             1   \n",
       "3                              0                             1   \n",
       "6                              0                             1   \n",
       "8                              0                             1   \n",
       "\n",
       "   source_system_tab_notification  source_system_tab_null  \\\n",
       "1                               0                       0   \n",
       "2                               0                       0   \n",
       "3                               0                       0   \n",
       "6                               0                       0   \n",
       "8                               0                       0   \n",
       "\n",
       "   source_system_tab_radio  source_system_tab_search  \\\n",
       "1                        0                         0   \n",
       "2                        0                         0   \n",
       "3                        0                         0   \n",
       "6                        0                         0   \n",
       "8                        0                         0   \n",
       "\n",
       "   source_system_tab_settings      ...        language_-1.0  language_10.0  \\\n",
       "1                           0      ...                    0              0   \n",
       "2                           0      ...                    0              0   \n",
       "3                           0      ...                    1              0   \n",
       "6                           0      ...                    0              0   \n",
       "8                           0      ...                    0              0   \n",
       "\n",
       "   language_17.0  language_24.0  language_3.0  language_31.0  language_38.0  \\\n",
       "1              0              0             0              0              0   \n",
       "2              0              0             0              0              0   \n",
       "3              0              0             0              0              0   \n",
       "6              0              0             0              1              0   \n",
       "8              0              0             0              0              0   \n",
       "\n",
       "   language_45.0  language_52.0  language_59.0  \n",
       "1              0              1              0  \n",
       "2              0              1              0  \n",
       "3              0              0              0  \n",
       "6              0              0              0  \n",
       "8              0              1              0  \n",
       "\n",
       "[5 rows x 67 columns]"
      ]
     },
     "execution_count": 8,
     "metadata": {},
     "output_type": "execute_result"
    }
   ],
   "source": [
    "#turn all the categical variables into dummies valuables\n",
    "tbl_dummies=pd.get_dummies(tbl[['source_system_tab'\n",
    "                                ,'source_screen_name'\n",
    "                                ,'source_type'\n",
    "                                ,'city'\n",
    "                                ,'age'\n",
    "                                ,'gender'\n",
    "                                ,'registered_via'\n",
    "                                ,'song_length'\n",
    "                                ,'language']])\n",
    "print(tbl_dummies.shape)\n",
    "tbl_dummies.head(5)"
   ]
  },
  {
   "cell_type": "code",
   "execution_count": 9,
   "metadata": {},
   "outputs": [
    {
     "name": "stderr",
     "output_type": "stream",
     "text": [
      "/Users/KevQuant/anaconda/lib/python3.6/site-packages/sklearn/cross_validation.py:44: DeprecationWarning: This module was deprecated in version 0.18 in favor of the model_selection module into which all the refactored classes and functions are moved. Also note that the interface of the new CV iterators are different from that of this module. This module will be removed in 0.20.\n",
      "  \"This module will be removed in 0.20.\", DeprecationWarning)\n"
     ]
    }
   ],
   "source": [
    "#Split the train set, test set, train class, test class\n",
    "from sklearn.cross_validation import train_test_split\n",
    "tbl_train,tbl_test,tbl_train_target,tbl_test_target=train_test_split(tbl_dummies\n",
    "                                                                     ,tbl_target\n",
    "                                                                     ,test_size=0.2\n",
    "                                                                     ,random_state=28)"
   ]
  },
  {
   "cell_type": "code",
   "execution_count": 10,
   "metadata": {},
   "outputs": [
    {
     "name": "stdout",
     "output_type": "stream",
     "text": [
      "(3374553, 67)\n",
      "(3374553,)\n"
     ]
    }
   ],
   "source": [
    "print(tbl_train.shape)\n",
    "print(tbl_train_target.shape)"
   ]
  },
  {
   "cell_type": "code",
   "execution_count": 11,
   "metadata": {},
   "outputs": [
    {
     "name": "stdout",
     "output_type": "stream",
     "text": [
      "(843639, 67)\n",
      "(843639,)\n"
     ]
    }
   ],
   "source": [
    "print(tbl_test.shape)\n",
    "print(tbl_test_target.shape)"
   ]
  },
  {
   "cell_type": "code",
   "execution_count": 12,
   "metadata": {},
   "outputs": [
    {
     "name": "stdout",
     "output_type": "stream",
     "text": [
      "(3374553, 67)\n",
      "(843639, 67)\n"
     ]
    }
   ],
   "source": [
    "#Nornalizeing the Training and Testing dataset\n",
    "from sklearn import preprocessing\n",
    "np.set_printoptions(precision=2, linewidth=120, suppress=True)\n",
    "\n",
    "min_max_scaler = preprocessing.MinMaxScaler().fit(tbl_train)\n",
    "tbl_train_norm=min_max_scaler.transform(tbl_train)\n",
    "tbl_test_norm=min_max_scaler.transform(tbl_test)\n",
    "print(tbl_train_norm.shape)\n",
    "print(tbl_test_norm.shape)"
   ]
  },
  {
   "cell_type": "code",
   "execution_count": 13,
   "metadata": {},
   "outputs": [
    {
     "data": {
      "text/plain": [
       "array([ 0.57,  0.  ,  0.  ,  0.  ,  1.  ,  0.  ,  0.  ,  0.  ,  0.  ,  0.  ,  0.  ,  0.  ,  0.  ,  0.  ,  0.  ,  0.  ,\n",
       "        0.  ,  0.  ,  1.  ,  0.  ,  0.  ,  0.  ,  0.  ,  0.  ,  0.  ,  0.  ,  0.  ,  0.  ,  0.  ,  0.  ,  0.  ,  0.  ,\n",
       "        0.  ,  1.  ,  0.  ,  0.  ,  0.  ,  0.  ,  0.  ,  0.  ,  0.  ,  0.  ,  0.  ,  1.  ,  0.  ,  0.  ,  0.  ,  1.  ,\n",
       "        0.  ,  0.  ,  0.  ,  0.  ,  1.  ,  0.  ,  1.  ,  0.  ,  0.  ,  0.  ,  0.  ,  0.  ,  0.  ,  1.  ,  0.  ,  0.  ,\n",
       "        0.  ,  0.  ,  0.  ])"
      ]
     },
     "execution_count": 13,
     "metadata": {},
     "output_type": "execute_result"
    }
   ],
   "source": [
    "tbl_train_norm[0]"
   ]
  },
  {
   "cell_type": "code",
   "execution_count": 14,
   "metadata": {},
   "outputs": [
    {
     "data": {
      "text/plain": [
       "array([ 1.,  0.,  0.,  0.,  1.,  0.,  0.,  0.,  0.,  0.,  0.,  0.,  0.,  0.,  0.,  0.,  0.,  0.,  1.,  0.,  0.,  0.,\n",
       "        0.,  0.,  0.,  0.,  0.,  0.,  0.,  0.,  0.,  0.,  0.,  1.,  0.,  0.,  0.,  0.,  0.,  0.,  0.,  0.,  0.,  1.,\n",
       "        0.,  0.,  0.,  1.,  0.,  1.,  0.,  0.,  0.,  0.,  0.,  1.,  0.,  0.,  0.,  0.,  0.,  1.,  0.,  0.,  0.,  0.,  0.])"
      ]
     },
     "execution_count": 14,
     "metadata": {},
     "output_type": "execute_result"
    }
   ],
   "source": [
    "tbl_test_norm[0]"
   ]
  },
  {
   "cell_type": "code",
   "execution_count": 15,
   "metadata": {},
   "outputs": [
    {
     "data": {
      "text/plain": [
       "646174     1\n",
       "6937017    0\n",
       "2629608    1\n",
       "3227976    0\n",
       "5443148    1\n",
       "Name: Target, dtype: int64"
      ]
     },
     "execution_count": 15,
     "metadata": {},
     "output_type": "execute_result"
    }
   ],
   "source": [
    "tbl_train_target[0:5]"
   ]
  },
  {
   "cell_type": "code",
   "execution_count": 16,
   "metadata": {},
   "outputs": [
    {
     "data": {
      "text/plain": [
       "3549611    1\n",
       "4792767    1\n",
       "3363281    1\n",
       "4477299    0\n",
       "1466151    1\n",
       "Name: Target, dtype: int64"
      ]
     },
     "execution_count": 16,
     "metadata": {},
     "output_type": "execute_result"
    }
   ],
   "source": [
    "tbl_test_target[0:5]"
   ]
  },
  {
   "cell_type": "code",
   "execution_count": 72,
   "metadata": {
    "collapsed": true
   },
   "outputs": [],
   "source": [
    "###KNN Classifier (Using the Default Parameters)"
   ]
  },
  {
   "cell_type": "code",
   "execution_count": 17,
   "metadata": {
    "collapsed": true
   },
   "outputs": [],
   "source": [
    "#Import KNN classifier \n",
    "from sklearn import neighbors, tree, naive_bayes\n",
    "import time"
   ]
  },
  {
   "cell_type": "code",
   "execution_count": null,
   "metadata": {
    "collapsed": true
   },
   "outputs": [],
   "source": [
    "knnclf = neighbors.KNeighborsClassifier(n_neighbors=10, weights='distance')\n",
    "knnclf.fit(tbl_train_norm, tbl_train_target)"
   ]
  },
  {
   "cell_type": "code",
   "execution_count": 43,
   "metadata": {
    "collapsed": true
   },
   "outputs": [],
   "source": [
    "#This is the KNN Function for iterating the best K model\n",
    "import matplotlib.pyplot as plt\n",
    "def knn_func(K,tbl_train_norm,tbl_train_target,tbl_test_norm,tbl_test_target):\n",
    "    train_score_lst=[]\n",
    "    test_score_lst=[]\n",
    "    k_lst=[]\n",
    "    \n",
    "    for i in range(10,K+1):\n",
    "        n_neighbors=i\n",
    "        knnclf = neighbors.KNeighborsClassifier(n_neighbors, weights='distance')\n",
    "        knnclf.fit(tbl_train_norm, tbl_train_target)\n",
    "        k_lst.append(i)\n",
    "        test_score_lst.append(knnclf.score(tbl_test_norm, tbl_test_target))\n",
    "        train_score_lst.append(knnclf.score(tbl_train_norm, tbl_train_target))\n",
    "        \n",
    "        \n",
    "    score_df=pd.DataFrame({'train_score':train_score_lst,'test_score':test_score_lst,\"K\":k_lst})\n",
    "    score_df.plot(x='K',figsize=(10,5))\n",
    "    plt.title('Training and Testing Score')\n",
    "    plt.xlabel('K')\n",
    "    plt.ylabel('Score')\n",
    "    plt.xlim([0,K+1])\n",
    "    plt.show()\n",
    "    \n",
    "    print ('Max Test score is ',max(test_score_lst),'with K = ',k_lst[test_score_lst.index(max(test_score_lst))])\n",
    "    print ('Max Train score is ',max(train_score_lst))\n",
    "    return"
   ]
  },
  {
   "cell_type": "code",
   "execution_count": 44,
   "metadata": {},
   "outputs": [
    {
     "data": {
      "image/png": "[encoded data removed]",
      "text/plain": [
       "<matplotlib.figure.Figure at 0x146d2be10>"
      ]
     },
     "metadata": {},
     "output_type": "display_data"
    },
    {
     "name": "stdout",
     "output_type": "stream",
     "text": [
      "Max Test score is  0.573333333333 with K =  37\n",
      "Max Train score is  0.919714285714\n"
     ]
    }
   ],
   "source": [
    "knn_func(50,tbl_train_norm[10000:17000],tbl_train_target[10000:17000],tbl_test_norm[1500:3000],tbl_test_target[1500:3000])"
   ]
  },
  {
   "cell_type": "markdown",
   "metadata": {},
   "source": [
    "###Navie Bayes (Gaussian) Classifier (Using the Default Parameters)"
   ]
  },
  {
   "cell_type": "code",
   "execution_count": 53,
   "metadata": {},
   "outputs": [
    {
     "name": "stdout",
     "output_type": "stream",
     "text": [
      "Train Score is 0.61396\n",
      "Test Score is 0.61115\n"
     ]
    }
   ],
   "source": [
    "#Set up Naive_bayes Gaussian classifier\n",
    "nbclf = naive_bayes.GaussianNB()\n",
    "nbclf=nbclf.fit(tbl_train_norm, tbl_train_target)"
   ]
  },
  {
   "cell_type": "code",
   "execution_count": 66,
   "metadata": {},
   "outputs": [
    {
     "name": "stdout",
     "output_type": "stream",
     "text": [
      "Train Score is 0.614284321509\n",
      "Test Score is 0.614292369129\n"
     ]
    }
   ],
   "source": [
    "print('Train Score is',nbclf.score(tbl_train_norm, tbl_train_target))\n",
    "print('Test Score is',nbclf.score(tbl_test_norm, tbl_test_target))"
   ]
  },
  {
   "cell_type": "code",
   "execution_count": 69,
   "metadata": {},
   "outputs": [
    {
     "name": "stdout",
     "output_type": "stream",
     "text": [
      "Overall Average accuracy: 0.600732 +/- 0.025094\n"
     ]
    }
   ],
   "source": [
    "#10-fold Cross-Validation \n",
    "from sklearn import cross_validation\n",
    "cv_scores = cross_validation.cross_val_score(nbclf, tbl_dummies,tbl_target, cv=10)\n",
    "print('Overall Average accuracy: %f +/- %f'%(cv_scores.mean(),cv_scores.std()))"
   ]
  },
  {
   "cell_type": "markdown",
   "metadata": {},
   "source": [
    "###Decision Tree Classifier (Using the Default Parameters)"
   ]
  },
  {
   "cell_type": "code",
   "execution_count": 62,
   "metadata": {
    "collapsed": true
   },
   "outputs": [],
   "source": [
    "#Set up Decision Tree classifier\n",
    "treeclf = tree.DecisionTreeClassifier(criterion='entropy')\n",
    "#Plug in the train dataset with target class\n",
    "treeclf = treeclf.fit(tbl_train_norm, tbl_train_target)"
   ]
  },
  {
   "cell_type": "code",
   "execution_count": 64,
   "metadata": {},
   "outputs": [
    {
     "name": "stdout",
     "output_type": "stream",
     "text": [
      "Traing set score is 0.676782080471\n",
      "Testing set score is 0.64873245547\n"
     ]
    }
   ],
   "source": [
    "print('Traing set score is',treeclf.score(tbl_train_norm, tbl_train_target))\n",
    "print('Testing set score is',treeclf.score(tbl_test_norm, tbl_test_target))"
   ]
  },
  {
   "cell_type": "code",
   "execution_count": 70,
   "metadata": {},
   "outputs": [
    {
     "name": "stdout",
     "output_type": "stream",
     "text": [
      "Overall Average accuracy: 0.591732 +/- 0.027024\n"
     ]
    }
   ],
   "source": [
    "#10-fold Cross-Validation \n",
    "from sklearn import cross_validation\n",
    "cv_scores = cross_validation.cross_val_score(treeclf, tbl_dummies,tbl_target, cv=10)\n",
    "print('Overall Average accuracy: %f +/- %f'%(cv_scores.mean(),cv_scores.std()))"
   ]
  },
  {
   "cell_type": "markdown",
   "metadata": {},
   "source": [
    "###Linear Discriminant Analysis (LDA)"
   ]
  },
  {
   "cell_type": "code",
   "execution_count": 56,
   "metadata": {},
   "outputs": [
    {
     "name": "stderr",
     "output_type": "stream",
     "text": [
      "/Users/KevQuant/anaconda/lib/python3.6/site-packages/sklearn/discriminant_analysis.py:387: UserWarning: Variables are collinear.\n",
      "  warnings.warn(\"Variables are collinear.\")\n"
     ]
    },
    {
     "name": "stdout",
     "output_type": "stream",
     "text": [
      "Traing set score is 0.616\n",
      "Testing set score is 0.57\n"
     ]
    }
   ],
   "source": [
    "from sklearn.discriminant_analysis import LinearDiscriminantAnalysis\n",
    "ldclf = LinearDiscriminantAnalysis()\n",
    "ldclf = ldclf.fit(tbl_train_norm, tbl_train_target)"
   ]
  },
  {
   "cell_type": "code",
   "execution_count": 61,
   "metadata": {},
   "outputs": [
    {
     "name": "stdout",
     "output_type": "stream",
     "text": [
      "Traing set score is 0.621270728301\n",
      "Testing set score is 0.620957542266\n"
     ]
    }
   ],
   "source": [
    "print('Traing set score is',ldclf.score(tbl_train_norm, tbl_train_target))\n",
    "print('Testing set score is',ldclf.score(tbl_test_norm, tbl_test_target))"
   ]
  },
  {
   "cell_type": "code",
   "execution_count": 71,
   "metadata": {},
   "outputs": [
    {
     "name": "stderr",
     "output_type": "stream",
     "text": [
      "/Users/KevQuant/anaconda/lib/python3.6/site-packages/sklearn/discriminant_analysis.py:387: UserWarning: Variables are collinear.\n",
      "  warnings.warn(\"Variables are collinear.\")\n",
      "/Users/KevQuant/anaconda/lib/python3.6/site-packages/sklearn/discriminant_analysis.py:387: UserWarning: Variables are collinear.\n",
      "  warnings.warn(\"Variables are collinear.\")\n",
      "/Users/KevQuant/anaconda/lib/python3.6/site-packages/sklearn/discriminant_analysis.py:387: UserWarning: Variables are collinear.\n",
      "  warnings.warn(\"Variables are collinear.\")\n",
      "/Users/KevQuant/anaconda/lib/python3.6/site-packages/sklearn/discriminant_analysis.py:387: UserWarning: Variables are collinear.\n",
      "  warnings.warn(\"Variables are collinear.\")\n",
      "/Users/KevQuant/anaconda/lib/python3.6/site-packages/sklearn/discriminant_analysis.py:387: UserWarning: Variables are collinear.\n",
      "  warnings.warn(\"Variables are collinear.\")\n",
      "/Users/KevQuant/anaconda/lib/python3.6/site-packages/sklearn/discriminant_analysis.py:387: UserWarning: Variables are collinear.\n",
      "  warnings.warn(\"Variables are collinear.\")\n",
      "/Users/KevQuant/anaconda/lib/python3.6/site-packages/sklearn/discriminant_analysis.py:387: UserWarning: Variables are collinear.\n",
      "  warnings.warn(\"Variables are collinear.\")\n",
      "/Users/KevQuant/anaconda/lib/python3.6/site-packages/sklearn/discriminant_analysis.py:387: UserWarning: Variables are collinear.\n",
      "  warnings.warn(\"Variables are collinear.\")\n",
      "/Users/KevQuant/anaconda/lib/python3.6/site-packages/sklearn/discriminant_analysis.py:387: UserWarning: Variables are collinear.\n",
      "  warnings.warn(\"Variables are collinear.\")\n",
      "/Users/KevQuant/anaconda/lib/python3.6/site-packages/sklearn/discriminant_analysis.py:387: UserWarning: Variables are collinear.\n",
      "  warnings.warn(\"Variables are collinear.\")\n"
     ]
    },
    {
     "name": "stdout",
     "output_type": "stream",
     "text": [
      "Overall Average accuracy: 0.620694 +/- 0.039255\n"
     ]
    }
   ],
   "source": [
    "#10-fold Cross-Validation \n",
    "from sklearn import cross_validation\n",
    "cv_scores = cross_validation.cross_val_score(ldclf, tbl_dummies,tbl_target, cv=10)\n",
    "print('Overall Average accuracy: %f +/- %f'%(cv_scores.mean(),cv_scores.std()))"
   ]
  }
 ],
 "metadata": {
  "kernelspec": {
   "display_name": "Python 3",
   "language": "python",
   "name": "python3"
  },
  "language_info": {
   "codemirror_mode": {
    "name": "ipython",
    "version": 3
   },
   "file_extension": ".py",
   "mimetype": "text/x-python",
   "name": "python",
   "nbconvert_exporter": "python",
   "pygments_lexer": "ipython3",
   "version": "3.6.0"
  }
 },
 "nbformat": 4,
 "nbformat_minor": 2
}
